{
 "cells": [
  {
   "cell_type": "code",
   "execution_count": 1,
   "metadata": {},
   "outputs": [],
   "source": [
    "%load_ext autoreload\n",
    "%autoreload 2"
   ]
  },
  {
   "cell_type": "code",
   "execution_count": 2,
   "metadata": {},
   "outputs": [
    {
     "name": "stdout",
     "output_type": "stream",
     "text": [
      "Platform:  cpu\n",
      "28\n"
     ]
    }
   ],
   "source": [
    "from cohlib.jax.utils import jax_boilerplate\n",
    "jax_boilerplate()"
   ]
  },
  {
   "cell_type": "code",
   "execution_count": 3,
   "metadata": {},
   "outputs": [],
   "source": [
    "import jax.numpy as jnp\n",
    "import matplotlib.pyplot as plt\n",
    "\n",
    "from cohlib.utils import pickle_open\n",
    "from cohlib.confs.utils import omega\n",
    "from cohlib.confs.latent import create_lrccn_basic_rank1"
   ]
  },
  {
   "cell_type": "code",
   "execution_count": 4,
   "metadata": {},
   "outputs": [],
   "source": [
    "# L = 10 \n",
    "# ov2 = -1.0\n",
    "K = 3\n",
    "L = 50\n",
    "seed = 1\n",
    "mu = 0.0\n",
    "init = 'flat'\n",
    "res_path = f'/projectnb/stephenlab/jtauber/cohlib/experiments/data/latent-basic_single_log/window1000/K{K}/L{L}/lseed{seed}/obs-pp_log/alpha{mu}/oseed{seed}/model-simple_inherit_latent_eigh/inherit-True/m_step-low-rank-eigh/{init}-init_eigvals-oracle_eigvecs-fit/newton-10_em-20/res.pkl'\n",
    "obs_path = f'/projectnb/stephenlab/jtauber/cohlib/experiments/data/latent-basic_single_log/window1000/K{K}/L{L}/lseed{seed}/obs-pp_log/alpha{mu}/oseed{seed}/obs_sim.pkl'\n",
    "latent_path = f'/projectnb/stephenlab/jtauber/cohlib/experiments/data/latent-basic_single_log/window1000/K{K}/L{L}/lseed{seed}/latent_sim.pkl'\n",
    "\n",
    "# latent_load = pickle_open(latent_path)\n",
    "# obs_load = pickle_open(obs_path)\n",
    "res_load = pickle_open(res_path)\n",
    "obs_load = pickle_open(obs_path)\n",
    "latent_load = pickle_open(latent_path)\n"
   ]
  },
  {
   "cell_type": "code",
   "execution_count": 5,
   "metadata": {},
   "outputs": [],
   "source": [
    "import cohlib.confs.utils as conf\n",
    "from cohlib.jax.lr_model import LowRankToyModel\n",
    "obs = obs_load['obs']\n",
    "zs_nz = latent_load['zs_nz']\n",
    "cfg = omega(res_load['cfg'])\n",
    "lcfg = cfg.latent\n",
    "mcfg = cfg.model\n",
    "ocfg = cfg.obs\n",
    "\n",
    "N = lcfg.num_freqs\n",
    "freqs = jnp.arange(N)\n",
    "nz_model = jnp.array([lcfg.target_freq_ind])\n",
    "\n",
    "init_params = {'rank': mcfg.model_rank, \n",
    "            'nz_model': nz_model,\n",
    "            'scale_init': mcfg.scale_init,\n",
    "            'K': K,\n",
    "            'lcfg': lcfg,\n",
    "            'zs_nz': zs_nz,\n",
    "            'ocfg': ocfg,\n",
    "            'obs': obs}"
   ]
  },
  {
   "cell_type": "code",
   "execution_count": 6,
   "metadata": {},
   "outputs": [
    {
     "name": "stdout",
     "output_type": "stream",
     "text": [
      "EM Iter 1\n",
      "Running batch 0: trials 1 - 28\n",
      "Running batch 1: trials 29 - 50\n",
      "eigvec update:\n",
      "[[[ 0.65-0.j  ]\n",
      "  [-0.12-0.38j]\n",
      "  [-0.52+0.38j]]]\n"
     ]
    }
   ],
   "source": [
    "model = LowRankToyModel()\n",
    "lrccn = res_load['track']['lrccn'][0]\n",
    "obs_params, obs_type = conf.get_obs_params(ocfg)\n",
    "\n",
    "model.initialize_latent(lrccn)\n",
    "model.initialize_observations(obs_params, obs_type)\n",
    "\n",
    "fixed_params = conf.get_fixed_params(mcfg.eigvals_flag, mcfg.eigvecs_flag, init_params)\n",
    "# fit_params = {'num_em_iters': mcfg.num_em_iters, \n",
    "fit_params = {'num_em_iters': 1, \n",
    "            'num_newton_iters': mcfg.num_newton_iters,\n",
    "            'm_step_option': mcfg.m_step_option,\n",
    "            'fixed_params': fixed_params}\n",
    "model.fit_em(obs, fit_params)"
   ]
  },
  {
   "cell_type": "code",
   "execution_count": null,
   "metadata": {},
   "outputs": [],
   "source": []
  }
 ],
 "metadata": {
  "kernelspec": {
   "display_name": "sgc_env",
   "language": "python",
   "name": "python3"
  },
  "language_info": {
   "codemirror_mode": {
    "name": "ipython",
    "version": 3
   },
   "file_extension": ".py",
   "mimetype": "text/x-python",
   "name": "python",
   "nbconvert_exporter": "python",
   "pygments_lexer": "ipython3",
   "version": "3.10.13"
  },
  "orig_nbformat": 4
 },
 "nbformat": 4,
 "nbformat_minor": 2
}
