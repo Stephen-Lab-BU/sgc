{
 "cells": [
  {
   "cell_type": "code",
   "execution_count": 1,
   "metadata": {},
   "outputs": [],
   "source": [
    "import numpy as np"
   ]
  },
  {
   "cell_type": "code",
   "execution_count": 2,
   "metadata": {},
   "outputs": [],
   "source": [
    "from cohlib.conv import (\n",
    "    conv_z_to_v, \n",
    "    conv_v_to_z,\n",
    "    transform_cov_r2c,\n",
    "    transform_cov_c2r,\n",
    "    rearrange_mat,\n",
    "    reverse_rearrange_mat,\n",
    ")\n",
    "def quick_conv_c2r(ccov, K):\n",
    "    return reverse_rearrange_mat(transform_cov_c2r(ccov), K)\n",
    "def quick_conv_r2c(rcov, K):\n",
    "    return transform_cov_r2c(rearrange_mat(rcov, K))\n",
    "\n",
    "def reorder_ve2vri(v_vec_elementwise):\n",
    "    \"\"\"Convert [Re(z1), Im(z1), Re(z2), Im(z2)] to \n",
    "        [Re(z1), Re(z2), Im(z1), Im(z2)]\n",
    "    \"\"\"\n",
    "    v_temp = v.reshape(-1,2)\n",
    "    v_ri = np.concatenate([v_temp[:,0], v_temp[:,1]])\n",
    "    return v_ri\n",
    "\n",
    "def reorder_vri2ve(v_ri):\n",
    "    v_e = v_ri.reshape(2,-1).flatten(order='F')\n",
    "    return v_e"
   ]
  },
  {
   "attachments": {},
   "cell_type": "markdown",
   "metadata": {},
   "source": [
    "### real / complex vector conversion"
   ]
  },
  {
   "cell_type": "code",
   "execution_count": 3,
   "metadata": {},
   "outputs": [
    {
     "data": {
      "text/plain": [
       "array([ True,  True,  True])"
      ]
     },
     "execution_count": 3,
     "metadata": {},
     "output_type": "execute_result"
    }
   ],
   "source": [
    "K = 3\n",
    "# first let's look at z -> v\n",
    "z = np.random.randn(K) + 1j*np.random.rand(K)\n",
    "v = conv_z_to_v(z, axis=0, dc=False)\n",
    "z2 = conv_v_to_z(v, axis=0, dc=False)\n",
    "np.isclose(z,z2)"
   ]
  },
  {
   "cell_type": "code",
   "execution_count": 4,
   "metadata": {},
   "outputs": [
    {
     "data": {
      "text/plain": [
       "array([ True,  True,  True,  True,  True,  True])"
      ]
     },
     "execution_count": 4,
     "metadata": {},
     "output_type": "execute_result"
    }
   ],
   "source": [
    "# next, v -> z \n",
    "v = np.random.randn(K*2) \n",
    "z = conv_v_to_z(v, axis=0, dc=False)\n",
    "v2 = conv_z_to_v(z, axis=0, dc=False)\n",
    "np.isclose(v,v2)"
   ]
  },
  {
   "cell_type": "code",
   "execution_count": 5,
   "metadata": {},
   "outputs": [
    {
     "name": "stdout",
     "output_type": "stream",
     "text": [
      "[-0.46003211+0.11975686j -0.50021042+0.21888811j  0.14952563+0.20228625j]\n",
      "[-0.46003211  0.11975686 -0.50021042  0.21888811  0.14952563  0.20228625]\n"
     ]
    }
   ],
   "source": [
    "print(z)\n",
    "print(v)"
   ]
  },
  {
   "cell_type": "code",
   "execution_count": 6,
   "metadata": {},
   "outputs": [
    {
     "name": "stdout",
     "output_type": "stream",
     "text": [
      "[-0.46003211+0.11975686j -0.50021042+0.21888811j  0.14952563+0.20228625j]\n",
      "[-0.46003211 -0.50021042  0.14952563  0.11975686  0.21888811  0.20228625]\n"
     ]
    }
   ],
   "source": [
    "v_ri = reorder_ve2vri(v)\n",
    "v_ri\n",
    "print(z)\n",
    "print(v_ri)"
   ]
  },
  {
   "cell_type": "code",
   "execution_count": 7,
   "metadata": {},
   "outputs": [],
   "source": [
    "v_ri = reorder_ve2vri(v)\n",
    "v_e = reorder_vri2ve(v_ri)"
   ]
  },
  {
   "cell_type": "code",
   "execution_count": 8,
   "metadata": {},
   "outputs": [
    {
     "name": "stdout",
     "output_type": "stream",
     "text": [
      "[-0.46003211  0.11975686 -0.50021042  0.21888811  0.14952563  0.20228625]\n",
      "[-0.46003211  0.11975686 -0.50021042  0.21888811  0.14952563  0.20228625]\n"
     ]
    }
   ],
   "source": [
    "print(v)\n",
    "print(v_e)"
   ]
  },
  {
   "cell_type": "markdown",
   "metadata": {},
   "source": [
    "### z -> v outer product"
   ]
  },
  {
   "cell_type": "code",
   "execution_count": 9,
   "metadata": {},
   "outputs": [
    {
     "name": "stdout",
     "output_type": "stream",
     "text": [
      "[[ 2.854+0.j     3.519-0.161j -0.015+0.451j]\n",
      " [ 3.519+0.161j  4.348-0.j    -0.043+0.555j]\n",
      " [-0.015-0.451j -0.043-0.555j  0.071-0.j   ]]\n",
      "[[ 2.854+0.j     3.519-0.161j -0.015+0.451j]\n",
      " [ 3.519+0.161j  4.348+0.j    -0.043+0.555j]\n",
      " [-0.015-0.451j -0.043-0.555j  0.071+0.j   ]]\n",
      "[[ True  True  True]\n",
      " [ True  True  True]\n",
      " [ True  True  True]]\n"
     ]
    }
   ],
   "source": [
    "# next \n",
    "z = np.random.randn(K) + 1j*np.random.rand(K)\n",
    "zzT = np.outer(z, z.conj())\n",
    "v = conv_z_to_v(z, axis=0, dc=False)\n",
    "vvT = np.outer(v, v)\n",
    "vvT_complex = quick_conv_r2c(vvT, K)\n",
    "\n",
    "print(np.round(zzT,3))\n",
    "print(np.round(vvT_complex, 3))\n",
    "print(np.isclose(zzT, vvT_complex))"
   ]
  },
  {
   "cell_type": "code",
   "execution_count": 10,
   "metadata": {},
   "outputs": [
    {
     "name": "stdout",
     "output_type": "stream",
     "text": [
      "[-1.5774+0.6047j -1.979 +0.6565j  0.1036+0.246j ]\n",
      "[-1.5774-0.6047j -1.979 -0.6565j  0.1036-0.246j ]\n"
     ]
    }
   ],
   "source": [
    "print(np.round(z, 4))\n",
    "print(np.round(z.conj(), 4))"
   ]
  },
  {
   "cell_type": "code",
   "execution_count": 11,
   "metadata": {},
   "outputs": [
    {
     "data": {
      "text/plain": [
       "array([2.85375101+7.50930680e-18j, 4.34762622-6.85936565e-17j,\n",
       "       0.07125722-1.14523019e-18j])"
      ]
     },
     "execution_count": 11,
     "metadata": {},
     "output_type": "execute_result"
    }
   ],
   "source": [
    "z * z.conj()"
   ]
  },
  {
   "cell_type": "code",
   "execution_count": 12,
   "metadata": {},
   "outputs": [
    {
     "data": {
      "text/plain": [
       "array([[ 2.85375101+7.50930680e-18j,  3.51867538-1.61140611e-01j,\n",
       "        -0.01457236+4.50708345e-01j],\n",
       "       [ 3.51867538+1.61140611e-01j,  4.34762622-6.85936565e-17j,\n",
       "        -0.04341753+5.54900603e-01j],\n",
       "       [-0.01457236-4.50708345e-01j, -0.04341753-5.54900603e-01j,\n",
       "         0.07125722-1.14523019e-18j]])"
      ]
     },
     "execution_count": 12,
     "metadata": {},
     "output_type": "execute_result"
    }
   ],
   "source": [
    "np.outer(z,z.conj())"
   ]
  },
  {
   "attachments": {},
   "cell_type": "markdown",
   "metadata": {},
   "source": [
    "### v -> z"
   ]
  },
  {
   "cell_type": "code",
   "execution_count": 48,
   "metadata": {},
   "outputs": [
    {
     "name": "stdout",
     "output_type": "stream",
     "text": [
      "[[ 1.151 -0.936  1.221 -2.211]\n",
      " [-0.936  0.761 -0.993  1.797]\n",
      " [ 1.221 -0.993  1.295 -2.345]\n",
      " [-2.211  1.797 -2.345  4.245]]\n",
      "[[ 0.956  1.509  0.    -0.609]\n",
      " [ 1.509  2.77   0.609  0.   ]\n",
      " [-0.     0.609  0.956  1.509]\n",
      " [-0.609 -0.     1.509  2.77 ]]\n",
      "[[False False False False]\n",
      " [False False False False]\n",
      " [False False False False]\n",
      " [False False False False]]\n"
     ]
    }
   ],
   "source": [
    "K = 2\n",
    "Kv = int(2*K)\n",
    "v = np.random.randn(Kv)\n",
    "vvT = np.outer(v, v)\n",
    "z = conv_v_to_z(v, axis=0, dc=False)\n",
    "zzT = np.outer(z, z.conj())\n",
    "zzT_real = transform_cov_c2r(zzT)\n",
    "\n",
    "print(np.round(vvT, 3))\n",
    "print(np.round(zzT_real,3))\n",
    "print(np.isclose(vvT, zzT_real))"
   ]
  },
  {
   "cell_type": "code",
   "execution_count": 49,
   "metadata": {},
   "outputs": [
    {
     "name": "stdout",
     "output_type": "stream",
     "text": [
      "[[ 1.151  1.221 -0.936 -2.211]\n",
      " [ 1.221  1.295 -0.993 -2.345]\n",
      " [-0.936 -0.993  0.761  1.797]\n",
      " [-2.211 -2.345  1.797  4.245]]\n",
      "[[ 0.956  1.509  0.    -0.609]\n",
      " [ 1.509  2.77   0.609  0.   ]\n",
      " [-0.     0.609  0.956  1.509]\n",
      " [-0.609 -0.     1.509  2.77 ]]\n",
      "[[False False False False]\n",
      " [False False False False]\n",
      " [False False False False]\n",
      " [False False False False]]\n"
     ]
    }
   ],
   "source": [
    "# next \n",
    "v_ri = reorder_ve2vri(v)\n",
    "vvT = np.outer(v_ri, v_ri)\n",
    "z = conv_v_to_z(v, axis=0, dc=False)\n",
    "zzT = np.outer(z, z.conj())\n",
    "zzT_real = transform_cov_c2r(zzT)\n",
    "# zzT_real2complex = transform_cov_c2r(zzT_real, 2)\n",
    "# zzT_real2complex2real = quick_conv_c2r(zzT_real2complex, 2)\n",
    "\n",
    "print(np.round(vvT, 3))\n",
    "print(np.round(zzT_real,3))\n",
    "print(np.isclose(vvT, zzT_real))"
   ]
  },
  {
   "cell_type": "code",
   "execution_count": 50,
   "metadata": {},
   "outputs": [
    {
     "name": "stdout",
     "output_type": "stream",
     "text": [
      "[[ 0.956  1.509 -0.    -0.609]\n",
      " [ 1.509  2.77   0.609 -0.   ]\n",
      " [ 0.     0.609  0.956  1.509]\n",
      " [-0.609  0.     1.509  2.77 ]]\n",
      "[[ 0.956  1.509  0.    -0.609]\n",
      " [ 1.509  2.77   0.609  0.   ]\n",
      " [-0.     0.609  0.956  1.509]\n",
      " [-0.609 -0.     1.509  2.77 ]]\n",
      "[[ True  True  True  True]\n",
      " [ True  True  True  True]\n",
      " [ True  True  True  True]\n",
      " [ True  True  True  True]]\n"
     ]
    }
   ],
   "source": [
    "# next \n",
    "v_ri = reorder_ve2vri(v)\n",
    "vvT = np.outer(v_ri, v_ri)\n",
    "vvT_block = transform_cov_c2r(transform_cov_r2c(vvT))\n",
    "z = conv_v_to_z(v, axis=0, dc=False)\n",
    "zzT = np.outer(z, z.conj())\n",
    "zzT_real = transform_cov_c2r(zzT)\n",
    "\n",
    "print(np.round(vvT_block, 3))\n",
    "print(np.round(zzT_real,3))\n",
    "print(np.isclose(vvT_block, zzT_real))"
   ]
  },
  {
   "cell_type": "code",
   "execution_count": 45,
   "metadata": {},
   "outputs": [
    {
     "data": {
      "text/plain": [
       "2"
      ]
     },
     "execution_count": 45,
     "metadata": {},
     "output_type": "execute_result"
    }
   ],
   "source": [
    "K"
   ]
  },
  {
   "cell_type": "code",
   "execution_count": 53,
   "metadata": {},
   "outputs": [
    {
     "name": "stdout",
     "output_type": "stream",
     "text": [
      "[[ 1.151 -0.936  1.221 -2.211]\n",
      " [-0.936  0.761 -0.993  1.797]\n",
      " [ 1.221 -0.993  1.295 -2.345]\n",
      " [-2.211  1.797 -2.345  4.245]]\n",
      "[[ 0.956  0.     1.509 -0.609]\n",
      " [-0.     0.956  0.609  1.509]\n",
      " [ 1.509  0.609  2.77   0.   ]\n",
      " [-0.609  1.509 -0.     2.77 ]]\n",
      "[[False False False False]\n",
      " [False False False False]\n",
      " [False False False False]\n",
      " [False False False False]]\n"
     ]
    }
   ],
   "source": [
    "vvT = np.outer(v, v)\n",
    "z = conv_v_to_z(v, axis=0, dc=False)\n",
    "zzT = np.outer(z, z.conj())\n",
    "zzT_real = reverse_rearrange_mat(transform_cov_c2r(zzT), K)\n",
    "# zzT_real_mod = transform_cov_c2r(transform_cov_r2c(zzT_real))\n",
    "\n",
    "print(np.round(vvT, 3))\n",
    "print(np.round(zzT_real,3))\n",
    "print(np.isclose(vvT, zzT_real))\n",
    "\n",
    "# print(np.round(zzT_real_mod,3))\n",
    "# print(np.isclose(vvT, zzT_real_mod))"
   ]
  },
  {
   "cell_type": "code",
   "execution_count": null,
   "metadata": {},
   "outputs": [],
   "source": []
  },
  {
   "attachments": {},
   "cell_type": "markdown",
   "metadata": {},
   "source": [
    "### z -> v"
   ]
  },
  {
   "cell_type": "code",
   "execution_count": 16,
   "metadata": {},
   "outputs": [
    {
     "name": "stdout",
     "output_type": "stream",
     "text": [
      "[[ 0.656 -0.264 -0.37  -0.194]\n",
      " [-0.264  0.106  0.149  0.078]\n",
      " [-0.37   0.149  0.209  0.109]\n",
      " [-0.194  0.078  0.109  0.057]]\n",
      "[[ 0.381 -0.146 -0.    -0.171]\n",
      " [-0.146  0.133  0.171  0.   ]\n",
      " [ 0.     0.171  0.381 -0.146]\n",
      " [-0.171 -0.    -0.146  0.133]]\n",
      "[[False False False False]\n",
      " [False False False False]\n",
      " [False False False False]\n",
      " [False False False False]]\n"
     ]
    }
   ],
   "source": [
    "v = np.random.randn(4)\n",
    "vvT = np.outer(v, v)\n",
    "z = conv_v_to_z(v, axis=0, dc=False)\n",
    "zzT = np.outer(z, z.conj())\n",
    "zzT_real = transform_cov_c2r(zzT)\n",
    "\n",
    "print(np.round(vvT, 3))\n",
    "print(np.round(zzT_real,3))\n",
    "print(np.isclose(vvT, zzT_real)) "
   ]
  },
  {
   "attachments": {},
   "cell_type": "markdown",
   "metadata": {},
   "source": [
    "## Next let's test if\n",
    "$\\text{conv}(\\sum_i \\left[\\mathbf{A}_i^r + \\mathbf{B}_i^r \\right]) =\n",
    "\\sum_i \\text{conv}(\\mathbf{A}_i^r + \\mathbf{B}_i^r )$"
   ]
  },
  {
   "attachments": {},
   "cell_type": "markdown",
   "metadata": {},
   "source": [
    "### first we'll test \n",
    "$\\text{conv}(\\sum_i \\mathbf{A}_i^r ) =\n",
    "\\sum_i \\text{conv}(\\mathbf{A}_i^r )$"
   ]
  },
  {
   "cell_type": "code",
   "execution_count": 104,
   "metadata": {},
   "outputs": [],
   "source": [
    "K = 4\n",
    "L = 5\n",
    "zs = np.stack([np.random.randn(K) + 1j*np.random.rand(K) for l in range(L)])\n",
    "zzTs_sum = np.zeros((K,K), dtype=complex)\n",
    "for l in range(L):\n",
    "    zzT = np.outer(zs[l,:], zs[l,:].conj())\n",
    "    zzTs_sum += zzT\n",
    "\n",
    "\n",
    "vs = conv_z_to_v(zs, axis=1, dc=False)\n",
    "vvTs_sum = np.zeros((2*K,2*K))\n",
    "for l in range(L):\n",
    "    vvT = np.outer(vs[l,:], vs[l,:])\n",
    "    vvTs_sum += vvT"
   ]
  },
  {
   "cell_type": "code",
   "execution_count": 105,
   "metadata": {},
   "outputs": [
    {
     "name": "stdout",
     "output_type": "stream",
     "text": [
      "[[ 0.5631+0.j      0.4231-0.2678j  0.0773+0.37j   -0.0309+0.9285j]\n",
      " [ 0.4231+0.2678j  0.4453+0.j     -0.1179+0.3148j -0.4649+0.6829j]\n",
      " [ 0.0773-0.37j   -0.1179-0.3148j  0.2538-0.j      0.6059+0.1478j]\n",
      " [-0.0309-0.9285j -0.4649-0.6829j  0.6059-0.1478j  1.5328-0.j    ]]\n",
      "[[ 0.0418 -0.1475  0.1016 -0.091  -0.0912 -0.0477 -0.2456 -0.0608]\n",
      " [-0.1475  0.5213 -0.3588  0.3215  0.3223  0.1686  0.8677  0.2147]\n",
      " [ 0.1016 -0.3588  0.247  -0.2213 -0.2219 -0.116  -0.5973 -0.1478]\n",
      " [-0.091   0.3215 -0.2213  0.1983  0.1988  0.104   0.5351  0.1324]\n",
      " [-0.0912  0.3223 -0.2219  0.1988  0.1993  0.1042  0.5365  0.1328]\n",
      " [-0.0477  0.1686 -0.116   0.104   0.1042  0.0545  0.2806  0.0694]\n",
      " [-0.2456  0.8677 -0.5973  0.5351  0.5365  0.2806  1.4444  0.3574]\n",
      " [-0.0608  0.2147 -0.1478  0.1324  0.1328  0.0694  0.3574  0.0884]]\n",
      "[[ 0.0418  0.1016 -0.0912 -0.2456 -0.1475 -0.091  -0.0477 -0.0608]\n",
      " [ 0.1016  0.247  -0.2219 -0.5973 -0.3588 -0.2213 -0.116  -0.1478]\n",
      " [-0.0912 -0.2219  0.1993  0.5365  0.3223  0.1988  0.1042  0.1328]\n",
      " [-0.2456 -0.5973  0.5365  1.4444  0.8677  0.5351  0.2806  0.3574]\n",
      " [-0.1475 -0.3588  0.3223  0.8677  0.5213  0.3215  0.1686  0.2147]\n",
      " [-0.091  -0.2213  0.1988  0.5351  0.3215  0.1983  0.104   0.1324]\n",
      " [-0.0477 -0.116   0.1042  0.2806  0.1686  0.104   0.0545  0.0694]\n",
      " [-0.0608 -0.1478  0.1328  0.3574  0.2147  0.1324  0.0694  0.0884]]\n",
      "[[ 0.5631+0.j      0.4231-0.2678j  0.0774+0.37j   -0.0309+0.9285j]\n",
      " [ 0.4231+0.2678j  0.4453+0.j     -0.1179+0.3148j -0.4649+0.6829j]\n",
      " [ 0.0774-0.37j   -0.1179-0.3148j  0.2538+0.j      0.6059+0.1478j]\n",
      " [-0.0309-0.9285j -0.4649-0.6829j  0.6059-0.1478j  1.5328+0.j    ]]\n",
      "[[ True  True False  True]\n",
      " [ True  True  True  True]\n",
      " [False  True  True  True]\n",
      " [ True  True  True  True]]\n"
     ]
    }
   ],
   "source": [
    "zzT_l = np.round(np.outer(zs[l,:], zs[l,:].conj()),4)\n",
    "print(zzT_l)\n",
    "vvT_l = np.round(np.outer(vs[l,:], vs[l,:]),4)\n",
    "print(vvT_l)\n",
    "rearr_vvT_l = rearrange_mat(vvT_l, K)\n",
    "print(rearr_vvT_l)\n",
    "complex_rearr_vvT_l = transform_cov_r2c(rearrange_mat(vvT_l, K))\n",
    "print(complex_rearr_vvT_l)\n",
    "print(np.isclose(zzT_l, complex_rearr_vvT_l))"
   ]
  },
  {
   "cell_type": "code",
   "execution_count": 106,
   "metadata": {},
   "outputs": [],
   "source": [
    "complex_rearr_vvTs_sum = transform_cov_r2c(rearrange_mat(vvTs_sum, K))"
   ]
  },
  {
   "cell_type": "code",
   "execution_count": 107,
   "metadata": {},
   "outputs": [
    {
     "name": "stdout",
     "output_type": "stream",
     "text": [
      "[[ 7.3093+0.j      5.908 +0.309j  -2.3616+0.597j   2.3085+0.8085j]\n",
      " [ 5.908 -0.309j   9.4653-0.j     -2.8232-2.8508j  3.7932-0.933j ]\n",
      " [-2.3616-0.597j  -2.8232+2.8508j  8.4227-0.j     -1.8585+1.5771j]\n",
      " [ 2.3085-0.8085j  3.7932+0.933j  -1.8585-1.5771j  6.7152+0.j    ]]\n",
      "[[ 7.3093+0.j      5.908 +0.309j  -2.3616+0.597j   2.3085+0.8085j]\n",
      " [ 5.908 -0.309j   9.4653+0.j     -2.8232-2.8508j  3.7932-0.933j ]\n",
      " [-2.3616-0.597j  -2.8232+2.8508j  8.4227+0.j     -1.8585+1.5771j]\n",
      " [ 2.3085-0.8085j  3.7932+0.933j  -1.8585-1.5771j  6.7152+0.j    ]]\n",
      "[[ True  True  True  True]\n",
      " [ True  True  True  True]\n",
      " [ True  True  True  True]\n",
      " [ True  True  True  True]]\n"
     ]
    }
   ],
   "source": [
    "print(np.round(zzTs_sum,4))\n",
    "print(np.round(complex_rearr_vvTs_sum,4))\n",
    "print(np.isclose(zzTs_sum, complex_rearr_vvTs_sum))"
   ]
  },
  {
   "attachments": {},
   "cell_type": "markdown",
   "metadata": {},
   "source": [
    "So, we have confirmed\n",
    "$\\text{conv}(\\sum_i \\mathbf{A}_i^r ) =\n",
    "\\sum_i \\text{conv}(\\mathbf{A}_i^r )$"
   ]
  },
  {
   "attachments": {},
   "cell_type": "markdown",
   "metadata": {},
   "source": [
    "### Now for\n",
    "$\\text{conv}(\\sum_i \\left[\\mathbf{A}_i^r + \\mathbf{B}_i^r \\right]) =\n",
    "\\sum_i \\text{conv}(\\mathbf{A}_i^r + \\mathbf{B}_i^r )$"
   ]
  },
  {
   "cell_type": "code",
   "execution_count": 108,
   "metadata": {},
   "outputs": [],
   "source": [
    "L = 5\n",
    "z1s = np.stack([np.random.randn(K) + 1j*np.random.rand(K) for l in range(L)])\n",
    "z2s = np.stack([np.random.randn(K) + 1j*np.random.rand(K) for l in range(L)])\n",
    "zzTs_12sum = np.zeros((K,K), dtype=complex)\n",
    "for l in range(L):\n",
    "    zz1T = np.outer(z1s[l,:], z1s[l,:].conj())\n",
    "    zz2T = np.outer(z2s[l,:], z2s[l,:].conj())\n",
    "    zzTs_12sum += (zz1T + zz2T)\n",
    "\n",
    "\n",
    "v1s = conv_z_to_v(z1s, axis=1, dc=False)\n",
    "v2s = conv_z_to_v(z2s, axis=1, dc=False)\n",
    "vvTs_12sum = np.zeros((2*K,2*K))\n",
    "for l in range(L):\n",
    "    vv1T = np.outer(v1s[l,:], v1s[l,:])\n",
    "    vv2T = np.outer(v2s[l,:], v2s[l,:])\n",
    "    vvTs_12sum += (vv1T + vv2T)"
   ]
  },
  {
   "cell_type": "code",
   "execution_count": 119,
   "metadata": {},
   "outputs": [
    {
     "name": "stdout",
     "output_type": "stream",
     "text": [
      "[[ 3.1-0.3j -0.5+0.6j -2.6+0.8j  0.9+0.6j]\n",
      " [-0.9-0.6j  0.3-0.j   0.8+0.4j -0.1-0.4j]\n",
      " [-1.2-0.3j  0.3-0.2j  1.1+0.1j -0.3-0.4j]\n",
      " [ 0.2-1.7j  0.3+0.3j  0.2+1.5j  0.4-0.4j]]\n",
      "[[ 2.9 -0.6 -0.6 -0.4 -2.6 -0.   0.7 -0.8]\n",
      " [-0.9  0.2  0.2  0.1  0.8  0.  -0.2  0.2]\n",
      " [-0.9  0.2  0.2  0.1  0.8  0.  -0.2  0.3]\n",
      " [-0.4  0.1  0.1  0.1  0.4  0.  -0.1  0.1]\n",
      " [-1.3  0.2  0.3  0.2  1.1  0.  -0.3  0.4]\n",
      " [-0.1  0.   0.   0.   0.1  0.  -0.   0. ]\n",
      " [-0.2  0.   0.   0.   0.1  0.  -0.   0. ]\n",
      " [-1.7  0.3  0.3  0.2  1.5  0.  -0.4  0.5]]\n",
      "[[ 2.9 -0.6 -2.6  0.7 -0.6 -0.4 -0.  -0.8]\n",
      " [-0.9  0.2  0.8 -0.2  0.2  0.1  0.   0.3]\n",
      " [-1.3  0.3  1.1 -0.3  0.2  0.2  0.   0.4]\n",
      " [-0.2  0.   0.1 -0.   0.   0.   0.   0. ]\n",
      " [-0.9  0.2  0.8 -0.2  0.2  0.1  0.   0.2]\n",
      " [-0.4  0.1  0.4 -0.1  0.1  0.1  0.   0.1]\n",
      " [-0.1  0.   0.1 -0.   0.   0.   0.   0. ]\n",
      " [-1.7  0.3  1.5 -0.4  0.3  0.2  0.   0.5]]\n",
      "[[ 3.1-0.3j -0.5+0.6j -2.6+0.8j  0.9+0.6j]\n",
      " [-0.9-0.6j  0.3-0.j   0.8+0.4j -0.1-0.4j]\n",
      " [-1.2-0.3j  0.3-0.2j  1.1+0.1j -0.3-0.4j]\n",
      " [ 0.2-1.7j  0.3+0.3j  0.2+1.5j  0.4-0.4j]]\n",
      "[[ True  True  True  True]\n",
      " [ True  True  True  True]\n",
      " [ True  True  True  True]\n",
      " [ True  True  True  True]]\n"
     ]
    }
   ],
   "source": [
    "l = 4\n",
    "zz1T_l = np.outer(z1s[l,:], z2s[l,:].conj())\n",
    "zz2T_l = np.outer(z2s[l,:], z2s[l,:].conj())\n",
    "zzT_12sum_l = zz1T_l + zz2T_l\n",
    "print(np.round(zzT_12sum_l,1))\n",
    "vv1T_l = np.outer(v1s[l,:], v2s[l,:].conj())\n",
    "vv2T_l = np.outer(v2s[l,:], v2s[l,:].conj())\n",
    "vvT_12sum_l = vv1T_l + vv2T_l\n",
    "print(np.round(vvT_12sum_l,1))\n",
    "rearr_vvT_12sum_l = rearrange_mat(vvT_12sum_l, K)\n",
    "print(np.round(rearr_vvT_12sum_l, 1))\n",
    "complex_rearr_vvT_12sum_l = transform_cov_r2c(rearrange_mat(vvT_12sum_l, K))\n",
    "print(np.round(complex_rearr_vvT_12sum_l,1))\n",
    "print(np.isclose(zzT_12sum_l, complex_rearr_vvT_12sum_l))"
   ]
  },
  {
   "cell_type": "code",
   "execution_count": 110,
   "metadata": {},
   "outputs": [],
   "source": [
    "complex_rearr_vvTs_12sum = transform_cov_r2c(rearrange_mat(vvTs_12sum, K))"
   ]
  },
  {
   "cell_type": "code",
   "execution_count": 111,
   "metadata": {},
   "outputs": [
    {
     "name": "stdout",
     "output_type": "stream",
     "text": [
      "[[15.6993-0.j     -0.7628+2.2953j -3.0084+3.8642j -0.7134+3.0341j]\n",
      " [-0.7628-2.2953j 12.9385-0.j      0.728 +1.5437j  7.7904-0.9607j]\n",
      " [-3.0084-3.8642j  0.728 -1.5437j  8.1513+0.j      2.4972-0.553j ]\n",
      " [-0.7134-3.0341j  7.7904+0.9607j  2.4972+0.553j   8.9301+0.j    ]]\n",
      "[[15.6993+0.j     -0.7628+2.2953j -3.0084+3.8642j -0.7134+3.0341j]\n",
      " [-0.7628-2.2953j 12.9385+0.j      0.728 +1.5437j  7.7904-0.9607j]\n",
      " [-3.0084-3.8642j  0.728 -1.5437j  8.1513+0.j      2.4972-0.553j ]\n",
      " [-0.7134-3.0341j  7.7904+0.9607j  2.4972+0.553j   8.9301+0.j    ]]\n",
      "[[ True  True  True  True]\n",
      " [ True  True  True  True]\n",
      " [ True  True  True  True]\n",
      " [ True  True  True  True]]\n"
     ]
    }
   ],
   "source": [
    "print(np.round(zzTs_12sum,4))\n",
    "print(np.round(complex_rearr_vvTs_12sum,4))\n",
    "print(np.isclose(zzTs_12sum, complex_rearr_vvTs_12sum))"
   ]
  },
  {
   "cell_type": "markdown",
   "metadata": {},
   "source": []
  }
 ],
 "metadata": {
  "kernelspec": {
   "display_name": "sgc_env",
   "language": "python",
   "name": "python3"
  },
  "language_info": {
   "codemirror_mode": {
    "name": "ipython",
    "version": 3
   },
   "file_extension": ".py",
   "mimetype": "text/x-python",
   "name": "python",
   "nbconvert_exporter": "python",
   "pygments_lexer": "ipython3",
   "version": "3.10.13"
  },
  "orig_nbformat": 4
 },
 "nbformat": 4,
 "nbformat_minor": 2
}
