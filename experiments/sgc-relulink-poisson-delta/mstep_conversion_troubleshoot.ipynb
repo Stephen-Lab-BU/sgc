{
 "cells": [
  {
   "cell_type": "code",
   "execution_count": 2,
   "metadata": {},
   "outputs": [],
   "source": [
    "import numpy as np\n",
    "import matplotlib.pyplot as plt\n",
    "from cohlib.utils import pickle_open, logistic\n",
    "from cohlib.utils import pickle_open\n",
    "from cohlib.plot import draw_raster_single\n",
    "from cohlib.sample import sample_spikes_from_xs\n",
    "\n",
    "from numpy.fft import rfft\n",
    "from cohlib.mvcn import thr_coherence, estimate_coherence"
   ]
  },
  {
   "cell_type": "code",
   "execution_count": 22,
   "metadata": {},
   "outputs": [],
   "source": [
    "def reorder_ve2vri(ve):\n",
    "    \"\"\"Convert [Re(z1), Im(z1), Re(z2), Im(z2)] to \n",
    "        [Re(z1), Re(z2), Im(z1), Im(z2)]\n",
    "    \"\"\"\n",
    "    v_temp = ve.reshape(-1,2)\n",
    "    v_ri = np.concatenate([v_temp[:,0], v_temp[:,1]])\n",
    "    return v_ri\n",
    "\n",
    "def reorder_vri2ve(v_ri):\n",
    "    v_e = v_ri.reshape(2,-1).flatten(order='F')\n",
    "    return v_e"
   ]
  },
  {
   "cell_type": "code",
   "execution_count": 3,
   "metadata": {},
   "outputs": [],
   "source": [
    "def Gamma_est_from_zs(zs, dc=False):\n",
    "    if dc is True:\n",
    "        zs_outer = np.einsum('ijk,imk->kjmi', zs[:,:,1:], zs[:,:,1:].conj())\n",
    "    else:\n",
    "        zs_outer = np.einsum('ijk,imk->kjmi', zs, zs.conj())\n",
    "    zs_outer_mean = zs_outer.mean(3)\n",
    "    return zs_outer_mean\n",
    "def cif_alpha_relu(alphas, xs):\n",
    "    lams = alphas[None,:,None] + xs\n",
    "    lams[lams < 0] = 0\n",
    "    return lams"
   ]
  },
  {
   "cell_type": "code",
   "execution_count": 4,
   "metadata": {},
   "outputs": [],
   "source": [
    "seed = 8\n",
    "win=1000\n",
    "L=50\n",
    "C=1\n",
    "emiter=20\n",
    "K=2\n",
    "\n",
    "link = 'relu'\n",
    "init_type ='flat'\n",
    "optim_type ='BFGS'\n",
    "alpha = 400\n",
    "alpha=float(alpha)\n",
    "alphas = np.array([alpha, alpha])\n",
    "\n",
    "sample_length = win\n",
    "em_iters = emiter\n",
    "\n",
    "model_path = f'saved/fitted_models/simple_synthetic_delta{link}poisson_em{em_iters}_{K}_{L}_{sample_length}_{C}_{alpha}_{seed}_{init_type}_{optim_type}_fitted'\n",
    "data_path = f'saved/synthetic_data/simple_synthetic_delta{link}poisson_fixed_gamma_{K}_{L}_{sample_length}'\n",
    "\n",
    "\n",
    "model_load = pickle_open(model_path)\n",
    "data_load = pickle_open(data_path)"
   ]
  },
  {
   "cell_type": "code",
   "execution_count": 5,
   "metadata": {},
   "outputs": [],
   "source": [
    "r = 5\n",
    "mus = model_load['track'][0][r]['mus']\n",
    "Ups_invs = model_load['track'][0][r]['Ups_invs']"
   ]
  },
  {
   "cell_type": "code",
   "execution_count": 6,
   "metadata": {},
   "outputs": [],
   "source": [
    "from cohlib.utils import (\n",
    "    transform_cov_r2c,\n",
    "    transform_cov_c2r,\n",
    "    rearrange_mat,\n",
    "    reverse_rearrange_mat,\n",
    ")\n",
    "def quick_conv_c2r(ccov, K):\n",
    "    return reverse_rearrange_mat(transform_cov_c2r(ccov), K)\n",
    "def quick_conv_r2c(rcov, K):\n",
    "    return transform_cov_r2c(rearrange_mat(rcov, K))\n",
    "\n",
    "def get_freq_vecs_real(vec, K, num_J_vars):\n",
    "    \"\"\"\n",
    "    Un-vectorize over frequencies.\n",
    "    \"\"\"\n",
    "    j_vecs = []\n",
    "    for jv in range(0, num_J_vars, 2):\n",
    "        base_filt = np.zeros(num_J_vars)\n",
    "        base_filt[jv : jv + 2] = 1\n",
    "        j_filt = np.tile(base_filt.astype(bool), K)\n",
    "        vec_j = vec[j_filt]\n",
    "        j_vecs.append(vec_j)\n",
    "    return j_vecs"
   ]
  },
  {
   "cell_type": "code",
   "execution_count": 7,
   "metadata": {},
   "outputs": [],
   "source": [
    "delta = 1e-3\n",
    "Wv = model_load['Wv']\n",
    "num_J_vars = Wv.shape[1]\n",
    "Gamma_true = data_load['latent']['Gamma'][:int(num_J_vars/2)]\n",
    "Gamma_true.shape\n",
    "spikes = model_load['spikes']\n",
    "lams_true = model_load['lams']\n",
    "\n",
    "if spikes.shape[1] == 1:\n",
    "    spikes = spikes[:,0,:,:]\n",
    "\n",
    "# gamma_r = model_load['track'][0][r-1]['gamma']\n",
    "# gamma_r_inv = np.stack([np.linalg.inv(gamma_r[j,:,:]) for j in range(gamma_r.shape[0])])\n",
    "Gamma_true_inv = np.linalg.inv(Gamma_true)\n",
    "Gamma_true.shape\n",
    "J = int(num_J_vars/2)\n",
    "\n",
    "Gamma_real = np.stack([reverse_rearrange_mat(transform_cov_c2r(Gamma_true[j,:,:]), K) for j in range(J)])\n",
    "Gamma_real_inv = np.stack([reverse_rearrange_mat(transform_cov_c2r(Gamma_true_inv[j,:,:]), K) for j in range(J)])\n"
   ]
  },
  {
   "cell_type": "code",
   "execution_count": 8,
   "metadata": {},
   "outputs": [],
   "source": [
    "r = 1\n",
    "mus = model_load['track'][0][r]['mus']\n",
    "Ups_invs = model_load['track'][0][r]['Ups_invs']\n",
    "Sig_complex = model_load['track'][0][r]['Sig_complex']"
   ]
  },
  {
   "cell_type": "code",
   "execution_count": 9,
   "metadata": {},
   "outputs": [
    {
     "data": {
      "text/plain": [
       "(1000, 98)"
      ]
     },
     "execution_count": 9,
     "metadata": {},
     "output_type": "execute_result"
    }
   ],
   "source": [
    "Wv.shape"
   ]
  },
  {
   "cell_type": "code",
   "execution_count": 10,
   "metadata": {},
   "outputs": [],
   "source": [
    "num_J_vars = Wv.shape[1]\n",
    "vec = mus[0,:]\n",
    "j_vecs = []\n",
    "for jv in range(0, num_J_vars, 2):\n",
    "    base_filt = np.zeros(num_J_vars)\n",
    "    base_filt[jv : jv + 2] = 1\n",
    "    j_filt = np.tile(base_filt.astype(bool), K)\n",
    "    vec_j = vec[j_filt]\n",
    "    j_vecs.append(vec_j)"
   ]
  },
  {
   "cell_type": "code",
   "execution_count": 11,
   "metadata": {},
   "outputs": [],
   "source": [
    "def get_freq_vecs_real(vec, K, num_J_vars):\n",
    "    \"\"\"\n",
    "    Un-vectorize over frequencies.\n",
    "    \"\"\"\n",
    "    j_vecs = []\n",
    "    for jv in range(0, num_J_vars, 2):\n",
    "        base_filt = np.zeros(num_J_vars)\n",
    "        base_filt[jv : jv + 2] = 1\n",
    "        j_filt = np.tile(base_filt.astype(bool), K)\n",
    "        vec_j = vec[j_filt]\n",
    "        j_vecs.append(vec_j)\n",
    "    return j_vecs"
   ]
  },
  {
   "cell_type": "code",
   "execution_count": 12,
   "metadata": {},
   "outputs": [],
   "source": [
    "jv = 5\n",
    "base_filt = np.zeros(num_J_vars)\n",
    "base_filt[jv : jv + 2] = 1\n",
    "j_filt = np.tile(base_filt.astype(bool), K)\n",
    "j_filt = np.tile(base_filt.astype(bool), K)\n",
    "vec_j = vec[j_filt]\n",
    "j_vecs.append(vec_j)"
   ]
  },
  {
   "cell_type": "code",
   "execution_count": null,
   "metadata": {},
   "outputs": [],
   "source": []
  },
  {
   "cell_type": "code",
   "execution_count": 13,
   "metadata": {},
   "outputs": [
    {
     "data": {
      "text/plain": [
       "[<matplotlib.lines.Line2D at 0x14b2a6459c60>]"
      ]
     },
     "execution_count": 13,
     "metadata": {},
     "output_type": "execute_result"
    },
    {
     "data": {
      "image/png": "[encoded data removed]",
      "text/plain": [
       "<Figure size 640x480 with 1 Axes>"
      ]
     },
     "metadata": {},
     "output_type": "display_data"
    }
   ],
   "source": [
    "plt.plot(j_filt)"
   ]
  },
  {
   "cell_type": "code",
   "execution_count": 52,
   "metadata": {},
   "outputs": [],
   "source": [
    "from scipy.linalg import block_diag\n",
    "from cohlib.alg.em_sgc import get_freq_vecs_real\n",
    "L = mus.shape[0]\n",
    "\n",
    "J = int(num_J_vars / 2)\n",
    "mus_outer = np.zeros((L, J, K * 2, K * 2))\n",
    "Upss = np.zeros((L, J, K * 2, K * 2))\n",
    "\n",
    "for l in range(L):\n",
    "    Ups_inv_j_vecs = get_freq_vecs_real(np.diag(Ups_invs[l, :, :]), K, num_J_vars)\n",
    "    mu_js = get_freq_vecs_real(mus[l, :], K, num_J_vars)\n",
    "    for j in range(J):\n",
    "        mus_outer[l, j, :, :] = np.outer(mu_js[j], mu_js[j])\n",
    "        Upss[l, j, :, :] = -np.diag(1 / Ups_inv_j_vecs[j])\n",
    "\n",
    "mus_conv = np.zeros((L, J, K * 2, K * 2))\n",
    "Ups_invs_conv = np.zeros((L, J, K * 2, K * 2))\n",
    "\n",
    "for l in range(L):\n",
    "    Ups_inv_j_vecs = get_freq_vecs_real(np.diag(Ups_invs[l, :, :]), K, num_J_vars)\n",
    "    mu_js = get_freq_vecs_real(mus[l, :], K, num_J_vars)\n",
    "    for j in range(J):\n",
    "        mus_outer[l, j, :, :] = np.outer(mu_js[j], mu_js[j])\n",
    "        Upss[l, j, :, :] = -np.diag(1 / Ups_inv_j_vecs[j])\n",
    "\n",
    "# enforce circulary symmetry\n",
    "k_mask_pre = 1 - np.eye(2)\n",
    "k_mask_inv = block_diag(*[k_mask_pre for k in range(K)])\n",
    "k_mask = 1 - k_mask_inv\n",
    "\n",
    "Gamma_update_complex = np.zeros((J, K, K), dtype=complex)\n",
    "Sigmas_complex = np.zeros((L, J, K, K), dtype=complex)\n",
    "for l in range(L):\n",
    "    Sig_real = mus_outer[l, :, :, :] * k_mask + Upss[l, :, :, :]\n",
    "    Sig_complex = np.zeros((J, K, K), dtype=complex)\n",
    "    for j in range(J):\n",
    "        Sig_complex[j, :, :] = transform_cov_r2c(\n",
    "            rearrange_mat(Sig_real[j, :, :], K)\n",
    "        )\n",
    "    Gamma_update_complex += Sig_complex\n",
    "    Sigmas_complex[l,:,:,:] = Sig_complex\n",
    "\n",
    "Gamma_update_complex_old = Gamma_update_complex / L"
   ]
  },
  {
   "cell_type": "code",
   "execution_count": 15,
   "metadata": {},
   "outputs": [
    {
     "data": {
      "text/plain": [
       "array([-4.27182147e-04, -6.18201933e-04,  1.79713002e-04, -5.24736562e-05])"
      ]
     },
     "execution_count": 15,
     "metadata": {},
     "output_type": "execute_result"
    }
   ],
   "source": [
    "mu_js[j]"
   ]
  },
  {
   "cell_type": "code",
   "execution_count": 44,
   "metadata": {},
   "outputs": [],
   "source": [
    "def complex_outer_realrep(rvec, order='frequency'):\n",
    "    # if rvec is ordered [Re(z1), Im(z1), Re(z2), Im(z2), ... Re(zJ), Im(zJ)]\n",
    "    # convert to [Re(z1), Re(z2), ... Re(zJ), Im(z1), Im(z2), ..., Im(zJ)]\n",
    "    K = int(rvec.size/2)\n",
    "    if order == 'frequency':\n",
    "        rvec = reorder_ve2vri(rvec)\n",
    "    elif order == 'realimag':\n",
    "        pass\n",
    "    else:\n",
    "        raise ValueError\n",
    "\n",
    "    v_outer_ri = np.outer(rvec, rvec)\n",
    "\n",
    "    v_outer_ri_corrected = transform_cov_c2r(transform_cov_r2c(v_outer_ri))\n",
    "    v_outer = rearrange_mat(v_outer_ri_corrected, K)\n",
    "\n",
    "    return v_outer"
   ]
  },
  {
   "cell_type": "code",
   "execution_count": 53,
   "metadata": {},
   "outputs": [],
   "source": [
    "\n",
    "from scipy.linalg import block_diag\n",
    "from cohlib.alg.em_sgc import get_freq_vecs_real\n",
    "L = mus.shape[0]\n",
    "\n",
    "J = int(num_J_vars / 2)\n",
    "mus_outer = np.zeros((L, J, K * 2, K * 2))\n",
    "Upss = np.zeros((L, J, K * 2, K * 2))\n",
    "\n",
    "for l in range(L):\n",
    "    Ups_inv_j_vecs = get_freq_vecs_real(np.diag(Ups_invs[l, :, :]), K, num_J_vars)\n",
    "    mu_js = get_freq_vecs_real(mus[l, :], K, num_J_vars)\n",
    "    for j in range(J):\n",
    "        mus_outer[l, j, :, :] = np.outer(mu_js[j], mu_js[j])\n",
    "        Upss[l, j, :, :] = -np.diag(1 / Ups_inv_j_vecs[j])\n",
    "\n",
    "mus_conv = np.zeros((L, J, K * 2, K * 2))\n",
    "Ups_invs_conv = np.zeros((L, J, K * 2, K * 2))\n",
    "\n",
    "for l in range(L):\n",
    "    Ups_inv_j_vecs = get_freq_vecs_real(np.diag(Ups_invs[l, :, :]), K, num_J_vars)\n",
    "    mu_js = get_freq_vecs_real(mus[l, :], K, num_J_vars)\n",
    "    for j in range(J):\n",
    "        mus_outer[l, j, :, :] = complex_outer_realrep(mu_js[j], order='frequency')\n",
    "        Upss[l, j, :, :] = -np.diag(1 / Ups_inv_j_vecs[j])\n",
    "\n",
    "# enforce circulary symmetry\n",
    "k_mask_pre = 1 - np.eye(2)\n",
    "k_mask_inv = block_diag(*[k_mask_pre for k in range(K)])\n",
    "k_mask = 1 - k_mask_inv\n",
    "\n",
    "Gamma_update_complex = np.zeros((J, K, K), dtype=complex)\n",
    "Sigmas_complex = np.zeros((L, J, K, K), dtype=complex)\n",
    "for l in range(L):\n",
    "    Sig_real = mus_outer[l, :, :, :] * k_mask + Upss[l, :, :, :]\n",
    "    Sig_complex = np.zeros((J, K, K), dtype=complex)\n",
    "    for j in range(J):\n",
    "        Sig_complex[j, :, :] = transform_cov_r2c(\n",
    "            rearrange_mat(Sig_real[j, :, :], K)\n",
    "        )\n",
    "    Gamma_update_complex += Sig_complex\n",
    "    Sigmas_complex[l,:,:,:] = Sig_complex\n",
    "\n",
    "Gamma_update_complex_new = Gamma_update_complex / L"
   ]
  },
  {
   "cell_type": "code",
   "execution_count": 57,
   "metadata": {},
   "outputs": [
    {
     "name": "stdout",
     "output_type": "stream",
     "text": [
      "[[1.59999998e+00+0.00000000e+00j 2.42898765e-08+2.61181478e-08j]\n",
      " [2.42898765e-08-2.61181478e-08j 1.60000000e+00+0.00000000e+00j]]\n",
      "[[1.59999998e+00+0.00000000e+00j 2.42898765e-08+2.61181478e-08j]\n",
      " [2.42898765e-08-2.61181478e-08j 1.60000000e+00+0.00000000e+00j]]\n"
     ]
    }
   ],
   "source": [
    "print(Gamma_update_complex_old[5,:,:])\n",
    "print(Gamma_update_complex_new[5,:,:])"
   ]
  },
  {
   "cell_type": "code",
   "execution_count": 58,
   "metadata": {},
   "outputs": [
    {
     "data": {
      "text/plain": [
       "True"
      ]
     },
     "execution_count": 58,
     "metadata": {},
     "output_type": "execute_result"
    }
   ],
   "source": [
    "np.all(np.isclose(Gamma_update_complex_old, Gamma_update_complex_new))"
   ]
  },
  {
   "cell_type": "code",
   "execution_count": 41,
   "metadata": {},
   "outputs": [],
   "source": [
    "mu_j = mu_js[j]"
   ]
  },
  {
   "cell_type": "code",
   "execution_count": 42,
   "metadata": {},
   "outputs": [
    {
     "data": {
      "text/plain": [
       "array([-4.27182147e-04, -6.18201933e-04,  1.79713002e-04, -5.24736562e-05])"
      ]
     },
     "execution_count": 42,
     "metadata": {},
     "output_type": "execute_result"
    }
   ],
   "source": [
    "mu_j"
   ]
  },
  {
   "cell_type": "code",
   "execution_count": 45,
   "metadata": {},
   "outputs": [],
   "source": [
    "mu_j_outer = np.outer(mu_j, mu_j)\n",
    "mu_j_outer_corrected = complex_outer_realrep(mu_j, order='frequency')"
   ]
  },
  {
   "cell_type": "code",
   "execution_count": 46,
   "metadata": {},
   "outputs": [
    {
     "data": {
      "text/plain": [
       "array([[ 1.82e-07,  2.64e-07, -7.70e-08,  2.20e-08],\n",
       "       [ 2.64e-07,  3.82e-07, -1.11e-07,  3.20e-08],\n",
       "       [-7.70e-08, -1.11e-07,  3.20e-08, -9.00e-09],\n",
       "       [ 2.20e-08,  3.20e-08, -9.00e-09,  3.00e-09]])"
      ]
     },
     "execution_count": 46,
     "metadata": {},
     "output_type": "execute_result"
    }
   ],
   "source": [
    "np.round(mu_j_outer, 9)"
   ]
  },
  {
   "cell_type": "code",
   "execution_count": 47,
   "metadata": {},
   "outputs": [
    {
     "data": {
      "text/plain": [
       "array([[ 2.82e-07, -0.00e+00, -2.20e-08,  6.70e-08],\n",
       "       [ 0.00e+00,  2.82e-07, -6.70e-08, -2.20e-08],\n",
       "       [-2.20e-08, -6.70e-08,  1.80e-08, -0.00e+00],\n",
       "       [ 6.70e-08, -2.20e-08,  0.00e+00,  1.80e-08]])"
      ]
     },
     "execution_count": 47,
     "metadata": {},
     "output_type": "execute_result"
    }
   ],
   "source": [
    "np.round(mu_j_outer_corrected, 9)"
   ]
  },
  {
   "cell_type": "code",
   "execution_count": null,
   "metadata": {},
   "outputs": [],
   "source": []
  },
  {
   "cell_type": "code",
   "execution_count": 36,
   "metadata": {},
   "outputs": [],
   "source": [
    "def update_Gamma_complex(mus, Ups_invs, K, num_J_vars):\n",
    "    \"\"\"\n",
    "    M-Step\n",
    "\n",
    "    mus is (trials x num_J_vars * K)\n",
    "    Ups_inv is (trials x num_J_vars * K x num_J_vars * K)\n",
    "    \"\"\"\n",
    "    L = mus.shape[0]\n",
    "\n",
    "    J = int(num_J_vars / 2)\n",
    "    mus_outer = np.zeros((L, J, K * 2, K * 2))\n",
    "    Upss = np.zeros((L, J, K * 2, K * 2))\n",
    "\n",
    "    for l in range(L):\n",
    "        Ups_inv_j_vecs = get_freq_vecs_real(np.diag(Ups_invs[l, :, :]), K, num_J_vars)\n",
    "        mu_js = get_freq_vecs_real(mus[l, :], K, num_J_vars)\n",
    "        for j in range(J):\n",
    "            mus_outer[l, j, :, :] = np.outer(mu_js[j], mu_js[j])\n",
    "            Upss[l, j, :, :] = -np.diag(1 / Ups_inv_j_vecs[j])\n",
    "\n",
    "    # enforce circulary symmetry\n",
    "    k_mask_pre = 1 - np.eye(2)\n",
    "    k_mask_inv = block_diag(*[k_mask_pre for k in range(K)])\n",
    "    k_mask = 1 - k_mask_inv\n",
    "\n",
    "    Gamma_update_complex = np.zeros((J, K, K), dtype=complex)\n",
    "    Sigmas_complex = np.zeros((L, J, K, K), dtype=complex)\n",
    "    for l in range(L):\n",
    "        Sig_real = mus_outer[l, :, :, :] * k_mask + Upss[l, :, :, :]\n",
    "        Sig_complex = np.zeros((J, K, K), dtype=complex)\n",
    "        for j in range(J):\n",
    "            Sig_complex[j, :, :] = transform_cov_r2c(\n",
    "                rearrange_mat(Sig_real[j, :, :], K)\n",
    "            )\n",
    "        Gamma_update_complex += Sig_complex\n",
    "        Sigmas_complex[l,:,:,:] = Sig_complex\n",
    "\n",
    "    Gamma_update_complex = Gamma_update_complex / L\n",
    "\n",
    "    return Gamma_update_complex, Sigmas_complex"
   ]
  },
  {
   "cell_type": "code",
   "execution_count": 49,
   "metadata": {},
   "outputs": [
    {
     "name": "stdout",
     "output_type": "stream",
     "text": [
      "[0.0085 0.133  0.0232 0.0726]\n",
      "[0.0085 0.0232 0.133  0.0726]\n"
     ]
    }
   ],
   "source": [
    "l = 0\n",
    "j = 5\n",
    "mu_js = get_freq_vecs_real(mus[l, :], K, num_J_vars)\n",
    "mu_j = np.round(mu_js[j], 4)\n",
    "mu_j_ri = np.round(reorder_ve2vri(mu_j),4)\n",
    "print(mu_j)\n",
    "print(mu_j_ri)"
   ]
  },
  {
   "cell_type": "code",
   "execution_count": 51,
   "metadata": {},
   "outputs": [
    {
     "name": "stdout",
     "output_type": "stream",
     "text": [
      "[[7.22500e-05 1.13050e-03 1.97200e-04 6.17100e-04]\n",
      " [1.13050e-03 1.76890e-02 3.08560e-03 9.65580e-03]\n",
      " [1.97200e-04 3.08560e-03 5.38240e-04 1.68432e-03]\n",
      " [6.17100e-04 9.65580e-03 1.68432e-03 5.27076e-03]]\n",
      "[[7.22500e-05 1.97200e-04 1.13050e-03 6.17100e-04]\n",
      " [1.97200e-04 5.38240e-04 3.08560e-03 1.68432e-03]\n",
      " [1.13050e-03 3.08560e-03 1.76890e-02 9.65580e-03]\n",
      " [6.17100e-04 1.68432e-03 9.65580e-03 5.27076e-03]]\n"
     ]
    }
   ],
   "source": [
    "mu_j_outer = np.outer(mu_j, mu_j)\n",
    "mu_j_ri_outer = np.outer(mu_j_ri, mu_j_ri)\n",
    "print(mu_j_outer)\n",
    "print(mu_j_ri_outer)"
   ]
  },
  {
   "cell_type": "code",
   "execution_count": 53,
   "metadata": {},
   "outputs": [],
   "source": [
    "mu_j_outer_rearrange = rearrange_mat(mu_j_outer, K)"
   ]
  },
  {
   "cell_type": "code",
   "execution_count": 55,
   "metadata": {},
   "outputs": [
    {
     "data": {
      "text/plain": [
       "array([[ True,  True,  True,  True],\n",
       "       [ True,  True,  True,  True],\n",
       "       [ True,  True,  True,  True],\n",
       "       [ True,  True,  True,  True]])"
      ]
     },
     "execution_count": 55,
     "metadata": {},
     "output_type": "execute_result"
    }
   ],
   "source": [
    "np.isclose(mu_j_outer_rearrange, mu_j_ri_outer)"
   ]
  },
  {
   "cell_type": "code",
   "execution_count": 58,
   "metadata": {},
   "outputs": [
    {
     "data": {
      "text/plain": [
       "array([ 1.89371727, -0.0114026 , -0.07386126,  0.23647541])"
      ]
     },
     "execution_count": 58,
     "metadata": {},
     "output_type": "execute_result"
    }
   ],
   "source": [
    "mu_js"
   ]
  },
  {
   "cell_type": "code",
   "execution_count": 68,
   "metadata": {},
   "outputs": [
    {
     "name": "stdout",
     "output_type": "stream",
     "text": [
      "[ 1.364   0.2437  1.2621  0.4404 -0.9192 -0.7717]\n",
      "[ 1.364   1.2621 -0.9192  0.2437  0.4404 -0.7717]\n"
     ]
    }
   ],
   "source": [
    "# l = 0\n",
    "# j = 5\n",
    "# mu_js = get_freq_vecs_real(mus[l, :], K, num_J_vars)\n",
    "K = 3\n",
    "mu_j = np.random.randn(int(2*K))\n",
    "mu_j = np.round(mu_j, 4)\n",
    "mu_j_ri = np.round(reorder_ve2vri(mu_j),4)\n",
    "print(mu_j)\n",
    "print(mu_j_ri)"
   ]
  },
  {
   "cell_type": "code",
   "execution_count": 69,
   "metadata": {},
   "outputs": [
    {
     "name": "stdout",
     "output_type": "stream",
     "text": [
      "[[ 1.860496    0.3324068   1.7215044   0.6007056  -1.2537888  -1.0525988 ]\n",
      " [ 0.3324068   0.05938969  0.30757377  0.10732548 -0.22400904 -0.18806329]\n",
      " [ 1.7215044   0.30757377  1.59289641  0.55582884 -1.16012232 -0.97396257]\n",
      " [ 0.6007056   0.10732548  0.55582884  0.19395216 -0.40481568 -0.33985668]\n",
      " [-1.2537888  -0.22400904 -1.16012232 -0.40481568  0.84492864  0.70934664]\n",
      " [-1.0525988  -0.18806329 -0.97396257 -0.33985668  0.70934664  0.59552089]]\n",
      "[[ 1.860496    1.7215044  -1.2537888   0.3324068   0.6007056  -1.0525988 ]\n",
      " [ 1.7215044   1.59289641 -1.16012232  0.30757377  0.55582884 -0.97396257]\n",
      " [-1.2537888  -1.16012232  0.84492864 -0.22400904 -0.40481568  0.70934664]\n",
      " [ 0.3324068   0.30757377 -0.22400904  0.05938969  0.10732548 -0.18806329]\n",
      " [ 0.6007056   0.55582884 -0.40481568  0.10732548  0.19395216 -0.33985668]\n",
      " [-1.0525988  -0.97396257  0.70934664 -0.18806329 -0.33985668  0.59552089]]\n"
     ]
    }
   ],
   "source": [
    "mu_j_outer = np.outer(mu_j, mu_j)\n",
    "mu_j_ri_outer = np.outer(mu_j_ri, mu_j_ri)\n",
    "print(mu_j_outer)\n",
    "print(mu_j_ri_outer)"
   ]
  },
  {
   "cell_type": "code",
   "execution_count": 70,
   "metadata": {},
   "outputs": [],
   "source": [
    "mu_j_outer_rearrange = rearrange_mat(mu_j_outer, K)"
   ]
  },
  {
   "cell_type": "code",
   "execution_count": 71,
   "metadata": {},
   "outputs": [
    {
     "data": {
      "text/plain": [
       "array([[ True, False, False, False, False,  True],\n",
       "       [False, False, False, False, False, False],\n",
       "       [False, False, False, False, False, False],\n",
       "       [False, False, False, False, False, False],\n",
       "       [False, False, False, False, False, False],\n",
       "       [ True, False, False, False, False,  True]])"
      ]
     },
     "execution_count": 71,
     "metadata": {},
     "output_type": "execute_result"
    }
   ],
   "source": [
    "np.isclose(mu_j_ri_outer, mu_j_outer)"
   ]
  },
  {
   "cell_type": "code",
   "execution_count": 72,
   "metadata": {},
   "outputs": [
    {
     "data": {
      "text/plain": [
       "array([[ True,  True,  True,  True,  True,  True],\n",
       "       [ True,  True,  True,  True,  True,  True],\n",
       "       [ True,  True,  True,  True,  True,  True],\n",
       "       [ True,  True,  True,  True,  True,  True],\n",
       "       [ True,  True,  True,  True,  True,  True],\n",
       "       [ True,  True,  True,  True,  True,  True]])"
      ]
     },
     "execution_count": 72,
     "metadata": {},
     "output_type": "execute_result"
    }
   ],
   "source": [
    "np.isclose(mu_j_outer_rearrange, mu_j_ri_outer)"
   ]
  },
  {
   "cell_type": "code",
   "execution_count": 33,
   "metadata": {},
   "outputs": [
    {
     "data": {
      "text/plain": [
       "[<matplotlib.lines.Line2D at 0x15413bc06620>]"
      ]
     },
     "execution_count": 33,
     "metadata": {},
     "output_type": "execute_result"
    },
    {
     "data": {
      "image/png": "[encoded data removed]",
      "text/plain": [
       "<Figure size 640x480 with 1 Axes>"
      ]
     },
     "metadata": {},
     "output_type": "display_data"
    }
   ],
   "source": [
    "plt.plot(mu_js[:,3])"
   ]
  }
 ],
 "metadata": {
  "kernelspec": {
   "display_name": "dyna",
   "language": "python",
   "name": "python3"
  },
  "language_info": {
   "codemirror_mode": {
    "name": "ipython",
    "version": 3
   },
   "file_extension": ".py",
   "mimetype": "text/x-python",
   "name": "python",
   "nbconvert_exporter": "python",
   "pygments_lexer": "ipython3",
   "version": "3.10.13"
  },
  "metadata": {
   "interpreter": {
    "hash": "17516ae9827e5fd7b63d465a08befa4ac417e65387121127555a932fd0c6d39f"
   }
  },
  "orig_nbformat": 2
 },
 "nbformat": 4,
 "nbformat_minor": 2
}
