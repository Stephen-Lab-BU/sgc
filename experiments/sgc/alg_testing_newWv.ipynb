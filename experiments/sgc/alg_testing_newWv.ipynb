{
 "cells": [
  {
   "cell_type": "code",
   "execution_count": 2,
   "metadata": {},
   "outputs": [],
   "source": [
    "import numpy as np\n",
    "from cohlib.utils import pickle_open\n",
    "from cohlib.alg.laplace_sgc import SpikeTrial, TrialData"
   ]
  },
  {
   "cell_type": "code",
   "execution_count": 3,
   "metadata": {},
   "outputs": [],
   "source": [
    "mu = -3.5\n",
    "L = 25 \n",
    "C = 30\n",
    "sample_length = 1000\n",
    "seed = 8\n",
    "\n",
    "save_path = f'saved/synthetic_data/simple_synthetic_{L}_{sample_length}_{C}_{mu}_{seed}'\n",
    "\n",
    "data_load = pickle_open(save_path)\n",
    "\n",
    "data_load['meta'].keys()\n",
    "Gamma = data_load['latent']['Gamma']\n",
    "Wv = data_load['meta']['Wv']\n",
    "freqs = data_load['meta']['freqs']\n",
    "vs = data_load['latent']['vs']\n",
    "zs = data_load['latent']['zs']\n",
    "\n",
    "spikes = data_load['observed']['spikes']\n",
    "freqs = data_load['meta']['freqs']"
   ]
  },
  {
   "cell_type": "code",
   "execution_count": 4,
   "metadata": {},
   "outputs": [],
   "source": [
    "from cohlib.alg.em_sgc import transform_cov_c2r, est_cov_r2c\n",
    "transform_cov_r2c = est_cov_r2c"
   ]
  },
  {
   "cell_type": "code",
   "execution_count": 6,
   "metadata": {},
   "outputs": [],
   "source": [
    "# sample_length = data_load['meta']['sample_length']\n",
    "# fs = data_load['meta']['fs']\n",
    "# frange = [0, int(fs/2)]\n",
    "# res = fs/sample_length\n",
    "\n",
    "\n",
    "q = 1\n",
    "num_J_vars = Wv.shape[1]\n",
    "K = 2\n",
    "Gamma_inv_init = np.eye(K*num_J_vars)*q\n",
    "for k in range(K):\n",
    "    d = k*num_J_vars\n",
    "    Gamma_inv_init[d,d] = 0\n",
    "\n",
    "spikes_short = spikes[:10,:,:,:]\n",
    "spikes_use = spikes_short\n",
    "spikes_grouped = [spikes_use[:,:,k,:] for k in range(K)]"
   ]
  },
  {
   "cell_type": "code",
   "execution_count": null,
   "metadata": {},
   "outputs": [],
   "source": []
  },
  {
   "cell_type": "code",
   "execution_count": 10,
   "metadata": {},
   "outputs": [],
   "source": [
    "Wvmod = Wv.copy()\n",
    "Wvmod[:,0] = 0"
   ]
  },
  {
   "cell_type": "code",
   "execution_count": 12,
   "metadata": {},
   "outputs": [
    {
     "name": "stdout",
     "output_type": "stream",
     "text": [
      "EM iter: 0\n",
      "Laplace Approx trial 0\n",
      "Laplace Approx trial 1\n",
      "Laplace Approx trial 2\n",
      "Laplace Approx trial 3\n",
      "Laplace Approx trial 4\n",
      "Laplace Approx trial 5\n",
      "Laplace Approx trial 6\n",
      "Laplace Approx trial 7\n",
      "Laplace Approx trial 8\n",
      "Laplace Approx trial 9\n",
      "M-Step for EM iter 0\n"
     ]
    }
   ],
   "source": [
    "from cohlib.alg.em_sgc import fit_sgc_model\n",
    "# Gamma_inv_init = track[0]['inv']\n",
    "inits = {'Gamma_inv_init': Gamma_inv_init}\n",
    "num_em = 1\n",
    "\n",
    "mu = -3.5\n",
    "Gamma_est, prev_inv, track = fit_sgc_model(spikes_grouped, Wvmod, inits, mu, num_em_iters=num_em, \n",
    "            max_approx_iters=15, track=True)\n",
    "\n"
   ]
  },
  {
   "cell_type": "code",
   "execution_count": 13,
   "metadata": {},
   "outputs": [
    {
     "data": {
      "text/plain": [
       "array([[ 0.00000000e+00,  0.00000000e+00,  0.00000000e+00, ...,\n",
       "         0.00000000e+00,  0.00000000e+00,  0.00000000e+00],\n",
       "       [ 0.00000000e+00, -4.78826522e+00, -3.97802022e-02, ...,\n",
       "         0.00000000e+00,  0.00000000e+00,  0.00000000e+00],\n",
       "       [ 0.00000000e+00, -3.97802022e-02, -1.76655195e+00, ...,\n",
       "         0.00000000e+00,  0.00000000e+00,  0.00000000e+00],\n",
       "       ...,\n",
       "       [ 0.00000000e+00,  0.00000000e+00,  0.00000000e+00, ...,\n",
       "        -1.89842518e+00,  0.00000000e+00,  0.00000000e+00],\n",
       "       [ 0.00000000e+00,  0.00000000e+00,  0.00000000e+00, ...,\n",
       "         0.00000000e+00,  6.18778768e+01, -3.81911332e-13],\n",
       "       [ 0.00000000e+00,  0.00000000e+00,  0.00000000e+00, ...,\n",
       "         0.00000000e+00, -3.81911332e-13,  1.00000000e+00]])"
      ]
     },
     "execution_count": 13,
     "metadata": {},
     "output_type": "execute_result"
    }
   ],
   "source": [
    "track[0]['inv']"
   ]
  },
  {
   "cell_type": "code",
   "execution_count": 10,
   "metadata": {},
   "outputs": [],
   "source": [
    "# np.linalg.inv(track[0]['DC'])"
   ]
  },
  {
   "cell_type": "code",
   "execution_count": 15,
   "metadata": {},
   "outputs": [],
   "source": [
    "Gamma_update_real = Gamma_est\n",
    "from cohlib.alg.em_sgc import rearrange_mat\n",
    "J = int((num_J_vars-1)/2)\n",
    "# Gamma_est_complex = np.stack([transform_cov_r2c(np.linalg.inv(4*rearrange_mat(Gamma_update_real[j,:,:], K))) for j in range(J)])\n",
    "# Gamma_est_complex.shape"
   ]
  },
  {
   "cell_type": "code",
   "execution_count": 16,
   "metadata": {},
   "outputs": [],
   "source": [
    "# Gamma_est_complex = np.stack([transform_cov_r2c(np.linalg.inv(4*rearrange_mat(Gamma_update_real[j,:,:], K))) for j in range(J)])\n",
    "track_complex = []\n",
    "for i in range(num_em):\n",
    "   complex_i = np.stack([transform_cov_r2c(rearrange_mat(track[i]['real'][j,:,:], K)) for j in range(J)]) \n",
    "   track_complex.append(complex_i)"
   ]
  },
  {
   "cell_type": "code",
   "execution_count": 17,
   "metadata": {},
   "outputs": [
    {
     "data": {
      "text/plain": [
       "(500, 2, 2)"
      ]
     },
     "execution_count": 17,
     "metadata": {},
     "output_type": "execute_result"
    }
   ],
   "source": [
    "j_ind = 9\n",
    "track_complex[0].shape"
   ]
  },
  {
   "cell_type": "code",
   "execution_count": 18,
   "metadata": {},
   "outputs": [
    {
     "name": "stdout",
     "output_type": "stream",
     "text": [
      "True Gamma_j:\n",
      "[[2500.           +0.j         1290.02543329+1904.16238316j]\n",
      " [1290.02543329-1904.16238316j 2500.           +0.j        ]]\n",
      "\n",
      "Trial 0\n",
      "[[13.25974372+0.j         8.33433661-9.8290176j]\n",
      " [ 8.33433661+9.8290176j 16.42090427+0.j       ]]\n",
      "\n",
      "Trial 1\n",
      "[[6424324.13256184      +0.j         3689753.37548565-4054468.30164327j]\n",
      " [3689753.37548565+4054468.30164327j 8105880.33793943      +0.j        ]]\n",
      "\n",
      "Trial 2\n",
      "[[388.2172271   +0.j         221.48101123-260.09087858j]\n",
      " [221.48101123+260.09087858j 463.85203778  +0.j        ]]\n",
      "\n"
     ]
    }
   ],
   "source": [
    "j_ind = 9\n",
    "print(\"True Gamma_j:\")\n",
    "print(Gamma[j_ind,:,:])\n",
    "print()\n",
    "for i in range(num_em):\n",
    "\n",
    "    print(f\"Trial {i}\")\n",
    "    # print(track[i][\"complex\"][j_ind,:,:]*(J*2/(np.pi)))\n",
    "    # print(track[i][\"complex\"][j_ind,:,:])\n",
    "    print(track_complex[i][j_ind,:,:])\n",
    "    print()"
   ]
  },
  {
   "cell_type": "code",
   "execution_count": 19,
   "metadata": {},
   "outputs": [
    {
     "data": {
      "text/plain": [
       "array([[6424324.13256184, 5482061.03403983],\n",
       "       [5482061.03403983, 8105880.33793943]])"
      ]
     },
     "execution_count": 19,
     "metadata": {},
     "output_type": "execute_result"
    }
   ],
   "source": [
    "np.abs(track_complex[1])[9,:,:]"
   ]
  },
  {
   "cell_type": "code",
   "execution_count": 20,
   "metadata": {},
   "outputs": [
    {
     "data": {
      "image/png": "[encoded data removed]",
      "text/plain": [
       "<Figure size 400x400 with 1 Axes>"
      ]
     },
     "metadata": {},
     "output_type": "display_data"
    },
    {
     "data": {
      "image/png": "[encoded data removed]",
      "text/plain": [
       "<Figure size 400x400 with 1 Axes>"
      ]
     },
     "metadata": {},
     "output_type": "display_data"
    }
   ],
   "source": [
    "import matplotlib.pyplot as plt\n",
    "from cohlib.estimation import estimate_coherence, thr_coherence\n",
    "\n",
    "fig, ax = plt.subplots(figsize=(4,4))\n",
    "# est = track[0][\"complex\"]\n",
    "est = track_complex[0]\n",
    "coh = thr_coherence(est)\n",
    "ax.plot(freqs, coh, label=\"EM Iter 1 Update\")\n",
    "ax.set_xlim([0,60])\n",
    "plt.legend()\n",
    "plt.show()\n",
    "\n",
    "fig, ax = plt.subplots(figsize=(4,4))\n",
    "for n in range(num_em):\n",
    "    # est = track[n][\"complex\"]\n",
    "    est = track_complex[n]\n",
    "    coh = thr_coherence(est)\n",
    "    ax.plot(freqs, coh, label=f\"EM Iter {n} Update\")\n",
    "    plt.legend()\n",
    "    ax.set_xlim([0,60])"
   ]
  },
  {
   "cell_type": "code",
   "execution_count": 19,
   "metadata": {},
   "outputs": [
    {
     "ename": "IndexError",
     "evalue": "boolean index did not match indexed array along dimension 0; dimension is 2002 but corresponding boolean dimension is 2000",
     "output_type": "error",
     "traceback": [
      "\u001b[0;31m---------------------------------------------------------------------------\u001b[0m",
      "\u001b[0;31mIndexError\u001b[0m                                Traceback (most recent call last)",
      "Cell \u001b[0;32mIn[19], line 3\u001b[0m\n\u001b[1;32m      1\u001b[0m J \u001b[39m=\u001b[39m \u001b[39m500\u001b[39m\n\u001b[1;32m      2\u001b[0m \u001b[39mfrom\u001b[39;00m \u001b[39mcohlib\u001b[39;00m\u001b[39m.\u001b[39;00m\u001b[39malg\u001b[39;00m\u001b[39m.\u001b[39;00m\u001b[39mem_sgc\u001b[39;00m \u001b[39mimport\u001b[39;00m construct_Gamma_full_real, get_freq_mats_real, rearrange_mat, est_cov_r2c, reverse_rearrange_mat, transform_cov_c2r\n\u001b[0;32m----> 3\u001b[0m freq_mats_real \u001b[39m=\u001b[39m get_freq_mats_real(Gamma_inv_init,K,\u001b[39m1000\u001b[39;49m)\n\u001b[1;32m      4\u001b[0m r \u001b[39m=\u001b[39m freq_mats_real[\u001b[39m0\u001b[39m]\n\u001b[1;32m      5\u001b[0m c_init \u001b[39m=\u001b[39m est_cov_r2c(rearrange_mat(r, K))\n",
      "File \u001b[0;32m/projectnb/stephenlab/jtauber/cohlib/cohlib/alg/em_sgc.py:363\u001b[0m, in \u001b[0;36mget_freq_mats_real\u001b[0;34m(group_block_matrix, K, num_J_vars)\u001b[0m\n\u001b[1;32m    361\u001b[0m     base_filt[j_var:j_var\u001b[39m+\u001b[39m\u001b[39m2\u001b[39m,j_var:j_var\u001b[39m+\u001b[39m\u001b[39m2\u001b[39m] \u001b[39m=\u001b[39m \u001b[39m1\u001b[39m\n\u001b[1;32m    362\u001b[0m     j_filt \u001b[39m=\u001b[39m np\u001b[39m.\u001b[39mtile(base_filt\u001b[39m.\u001b[39mastype(\u001b[39mbool\u001b[39m), (K,K))\n\u001b[0;32m--> 363\u001b[0m     mat_j \u001b[39m=\u001b[39m group_block_matrix[j_filt]\u001b[39m.\u001b[39mreshape(\u001b[39m2\u001b[39m\u001b[39m*\u001b[39mK,\u001b[39m-\u001b[39m\u001b[39m1\u001b[39m)\n\u001b[1;32m    364\u001b[0m     j_mats\u001b[39m.\u001b[39mappend(mat_j)\n\u001b[1;32m    365\u001b[0m \u001b[39mreturn\u001b[39;00m j_mats\n",
      "\u001b[0;31mIndexError\u001b[0m: boolean index did not match indexed array along dimension 0; dimension is 2002 but corresponding boolean dimension is 2000"
     ]
    }
   ],
   "source": [
    "# J = 500\n",
    "# from cohlib.alg.em_sgc import construct_Gamma_full_real, get_freq_mats_real, rearrange_mat, est_cov_r2c, reverse_rearrange_mat, transform_cov_c2r\n",
    "# freq_mats_real = get_freq_mats_real(Gamma_inv_init,K,1000)\n",
    "# r = freq_mats_real[0]\n",
    "# c_init = est_cov_r2c(rearrange_mat(r, K))\n",
    "\n",
    "# Gamma_init = np.zeros((J,K,K), dtype=complex)\n",
    "# for j in range(J):\n",
    "#     Gamma_init[j,:,:] = np.linalg.inv(c_init)\n"
   ]
  },
  {
   "cell_type": "code",
   "execution_count": 15,
   "metadata": {},
   "outputs": [
    {
     "ename": "NameError",
     "evalue": "name 'Gamma_init' is not defined",
     "output_type": "error",
     "traceback": [
      "\u001b[0;31m---------------------------------------------------------------------------\u001b[0m",
      "\u001b[0;31mNameError\u001b[0m                                 Traceback (most recent call last)",
      "Cell \u001b[0;32mIn[15], line 2\u001b[0m\n\u001b[1;32m      1\u001b[0m fig, ax \u001b[39m=\u001b[39m plt\u001b[39m.\u001b[39msubplots(figsize\u001b[39m=\u001b[39m(\u001b[39m4\u001b[39m,\u001b[39m4\u001b[39m))\n\u001b[0;32m----> 2\u001b[0m coh \u001b[39m=\u001b[39m thr_coherence(Gamma_init)\n\u001b[1;32m      3\u001b[0m true_coh \u001b[39m=\u001b[39m thr_coherence(Gamma)\n\u001b[1;32m      4\u001b[0m ax\u001b[39m.\u001b[39mplot(freqs, coh, label\u001b[39m=\u001b[39m\u001b[39m\"\u001b[39m\u001b[39mInit\u001b[39m\u001b[39m\"\u001b[39m)\n",
      "\u001b[0;31mNameError\u001b[0m: name 'Gamma_init' is not defined"
     ]
    },
    {
     "data": {
      "image/png": "[encoded data removed]",
      "text/plain": [
       "<Figure size 400x400 with 1 Axes>"
      ]
     },
     "metadata": {},
     "output_type": "display_data"
    }
   ],
   "source": [
    "fig, ax = plt.subplots(figsize=(4,4))\n",
    "coh = thr_coherence(Gamma_init)\n",
    "true_coh = thr_coherence(Gamma)\n",
    "ax.plot(freqs, coh, label=\"Init\")\n",
    "ax.plot(freqs, true_coh, label=\"True\")\n",
    "ax.set_xlim([0,60])\n",
    "plt.legend()\n",
    "plt.show()"
   ]
  },
  {
   "cell_type": "code",
   "execution_count": null,
   "metadata": {},
   "outputs": [
    {
     "data": {
      "text/plain": [
       "array([[2.+0.j, 0.+0.j],\n",
       "       [0.+0.j, 2.+0.j]])"
      ]
     },
     "execution_count": 21,
     "metadata": {},
     "output_type": "execute_result"
    }
   ],
   "source": [
    "est_cov_r2c(rearrange_mat(inv_j_real, K))"
   ]
  },
  {
   "cell_type": "code",
   "execution_count": null,
   "metadata": {},
   "outputs": [],
   "source": [
    "j_ind = 1\n",
    "est = track[i][\"complex\"][j_ind,:,:]\n",
    "\n",
    "inv_full = track[i][\"inv\"]"
   ]
  },
  {
   "cell_type": "code",
   "execution_count": null,
   "metadata": {},
   "outputs": [],
   "source": [
    "inv_full_js = get_freq_mats_real(inv_full, K, 1000)"
   ]
  },
  {
   "cell_type": "code",
   "execution_count": null,
   "metadata": {},
   "outputs": [
    {
     "name": "stdout",
     "output_type": "stream",
     "text": [
      "[[5.20302888-3.63189004e-17j 5.59962781-6.71587198e-01j]\n",
      " [5.59962781+6.71587198e-01j 7.57899601-1.20478076e-17j]]\n",
      "[[5.20302888+3.63189004e-17j 5.59962781+6.71587198e-01j]\n",
      " [5.59962781-6.71587198e-01j 7.57899601+1.20478076e-17j]]\n"
     ]
    }
   ],
   "source": [
    "print(est_cov_r2c(rearrange_mat(inv_full_js[j_ind], K)))\n",
    "print(np.linalg.inv(est))"
   ]
  },
  {
   "cell_type": "code",
   "execution_count": null,
   "metadata": {},
   "outputs": [
    {
     "data": {
      "text/plain": [
       "(0.0, 60.0)"
      ]
     },
     "metadata": {},
     "output_type": "display_data"
    },
    {
     "data": {
      "image/png": "[encoded data removed]",
      "text/plain": [
       "<Figure size 640x480 with 1 Axes>"
      ]
     },
     "metadata": {},
     "output_type": "display_data"
    }
   ],
   "source": [
    "plt.plot(freqs, temp)\n",
    "plt.xlim([0,60])"
   ]
  },
  {
   "cell_type": "code",
   "execution_count": null,
   "metadata": {},
   "outputs": [],
   "source": [
    "def transform_cov_c2r(complex_cov):\n",
    "    dim = complex_cov.shape[0]\n",
    "    A = np.real(complex_cov)\n",
    "    B = np.imag(complex_cov)\n",
    "    rcov = np.zeros((2*dim, 2*dim))\n",
    "    \n",
    "    rcov = np.block([[A, -B],\n",
    "                     [B, A]])\n",
    "\n",
    "    return rcov/2\n",
    "def rearrange_mat(mat, K):\n",
    "    temp = np.tile(np.array([1,0]), K)\n",
    "    f1 = np.outer(temp, temp)\n",
    "    f2 = np.roll(f1,1,axis=1)\n",
    "    f3 = np.roll(f1,1,axis=0)\n",
    "    f4 = np.roll(f1,1,axis=(0,1))\n",
    "\n",
    "    A = mat[f1.astype(bool)].reshape(K,-1)\n",
    "    B = mat[f2.astype(bool)].reshape(K,-1)\n",
    "    C = mat[f3.astype(bool)].reshape(K,-1)\n",
    "    D = mat[f4.astype(bool)].reshape(K,-1)\n",
    "    \n",
    "    new_mat = np.block([[A, B],\n",
    "                       [C, D]])\n",
    "    return new_mat\n",
    "\n",
    "def reverse_rearrange_mat(mat, K):\n",
    "    temp = np.tile(np.array([1,0]), K)\n",
    "    f1 = np.outer(temp, temp)\n",
    "    f2 = np.roll(f1,1,axis=1)\n",
    "    f3 = np.roll(f1,1,axis=0)\n",
    "    f4 = np.roll(f1,1,axis=(0,1))\n",
    "\n",
    "    dimC = K\n",
    "\n",
    "    A = mat[:dimC,:dimC]\n",
    "    B = mat[:dimC,dimC:]\n",
    "    C = mat[dimC:,:dimC]\n",
    "    D = mat[dimC:,dimC:]\n",
    "\n",
    "    new_mat = np.zeros_like(mat)\n",
    "\n",
    "    new_mat[f1.astype(bool)] = A.flatten()\n",
    "    new_mat[f2.astype(bool)] = B.flatten()\n",
    "    new_mat[f3.astype(bool)] = C.flatten()\n",
    "    new_mat[f4.astype(bool)] = D.flatten()\n",
    "    \n",
    "    return new_mat\n",
    "\n",
    "def est_cov_r2c(real_cov):\n",
    "    dimR = real_cov.shape[0]\n",
    "    dimC = int(dimR/2)\n",
    "    ccov = np.zeros((dimC, dimC), dtype=complex)\n",
    "\n",
    "    A = real_cov[:dimC,:dimC]\n",
    "    B = real_cov[:dimC,dimC:]\n",
    "    C = real_cov[dimC:,:dimC]\n",
    "    D = real_cov[dimC:,dimC:]\n",
    "\n",
    "    ccov = (A + D) + 1j*(B - C)\n",
    "\n",
    "    return ccov"
   ]
  },
  {
   "cell_type": "code",
   "execution_count": null,
   "metadata": {},
   "outputs": [],
   "source": [
    "def transform_cov_c2r(complex_cov):\n",
    "    dim = complex_cov.shape[0]\n",
    "    A = np.real(complex_cov)\n",
    "    B = np.imag(complex_cov)\n",
    "    rcov = np.zeros((2*dim, 2*dim))\n",
    "    \n",
    "    rcov = np.block([[A, -B],\n",
    "                     [B, A]])\n",
    "\n",
    "    return rcov/2\n",
    "\n",
    "def transform_cov_r2c(real_cov):\n",
    "    dimR = real_cov.shape[0]\n",
    "    dimC = int(dimR/2)\n",
    "    ccov = np.zeros((dimC, dimC), dtype=complex)\n",
    "\n",
    "    A = real_cov[:dimC,:dimC]\n",
    "\n",
    "    Re = real_cov[:dimC,:dimC]\n",
    "    Im = real_cov[dimC:,:dimC]\n",
    "\n",
    "    ccov = 2*Re + 2*1j*Im\n",
    "\n",
    "    return ccov\n",
    "\n",
    "def est_cov_r2c(real_cov):\n",
    "    dimR = real_cov.shape[0]\n",
    "    dimC = int(dimR/2)\n",
    "    ccov = np.zeros((dimC, dimC), dtype=complex)\n",
    "\n",
    "    A = real_cov[:dimC,:dimC]\n",
    "    B = real_cov[:dimC,dimC:]\n",
    "    C = real_cov[dimC:,:dimC]\n",
    "    D = real_cov[dimC:,dimC:]\n",
    "\n",
    "    ccov = (A + D) + 1j*(C - B)\n",
    "\n",
    "    return ccov\n",
    "\n",
    "def rearrange_mat(mat, K):\n",
    "    temp = np.tile(np.array([1,0]), K)\n",
    "    f1 = np.outer(temp, temp)\n",
    "    f2 = np.roll(f1,1,axis=1)\n",
    "    f3 = np.roll(f1,1,axis=0)\n",
    "    f4 = np.roll(f1,1,axis=(0,1))\n",
    "\n",
    "    A = mat[f1.astype(bool)].reshape(K,-1)\n",
    "    B = mat[f2.astype(bool)].reshape(K,-1)\n",
    "    C = mat[f3.astype(bool)].reshape(K,-1)\n",
    "    D = mat[f4.astype(bool)].reshape(K,-1)\n",
    "    \n",
    "    new_mat = np.block([[A, B],\n",
    "                       [C, D]])\n",
    "    return new_mat"
   ]
  },
  {
   "cell_type": "code",
   "execution_count": null,
   "metadata": {},
   "outputs": [
    {
     "data": {
      "text/plain": [
       "array([[6.18281618+0.j        , 0.04186525+0.04881323j],\n",
       "       [0.04186525-0.04881323j, 4.91309291+0.j        ]])"
      ]
     },
     "execution_count": 13,
     "metadata": {},
     "output_type": "execute_result"
    }
   ],
   "source": [
    "Gamma[1,:,:]"
   ]
  },
  {
   "cell_type": "code",
   "execution_count": null,
   "metadata": {},
   "outputs": [
    {
     "data": {
      "text/plain": [
       "array([[ 0.14586624,  0.03520405,  0.        ,  0.0859818 ],\n",
       "       [ 0.03520405,  0.1434296 , -0.03390447,  0.        ],\n",
       "       [ 0.        , -0.03390447,  0.20930612, -0.06254142],\n",
       "       [ 0.0859818 ,  0.        , -0.06254142,  0.15575019]])"
      ]
     },
     "execution_count": 14,
     "metadata": {},
     "output_type": "execute_result"
    }
   ],
   "source": [
    "test = rearrange_mat(Gamma_est[0,:,:], 2)\n",
    "test"
   ]
  },
  {
   "cell_type": "code",
   "execution_count": null,
   "metadata": {},
   "outputs": [
    {
     "data": {
      "text/plain": [
       "array([[ 0.35517236+0.j        , -0.02733737-0.11988627j],\n",
       "       [-0.02733737+0.11988627j,  0.29917979+0.j        ]])"
      ]
     },
     "execution_count": 15,
     "metadata": {},
     "output_type": "execute_result"
    }
   ],
   "source": [
    "testc = est_cov_r2c(test)\n",
    "testc"
   ]
  },
  {
   "cell_type": "code",
   "execution_count": null,
   "metadata": {},
   "outputs": [
    {
     "data": {
      "text/plain": [
       "array([[ 0.33696733,  0.        , -0.02906884,  0.0398108 ],\n",
       "       [ 0.        ,  0.13454757,  0.01020141,  0.01929684],\n",
       "       [-0.02927337,  0.00984895,  0.18943214,  0.        ],\n",
       "       [ 0.03958192,  0.01892003,  0.        ,  0.11107027]])"
      ]
     },
     "execution_count": 95,
     "metadata": {},
     "output_type": "execute_result"
    }
   ],
   "source": [
    "Gamma_est[2,:,:]"
   ]
  },
  {
   "cell_type": "code",
   "execution_count": null,
   "metadata": {},
   "outputs": [],
   "source": [
    "testc = est_cov_r2c(test)"
   ]
  },
  {
   "cell_type": "code",
   "execution_count": null,
   "metadata": {},
   "outputs": [
    {
     "data": {
      "text/plain": [
       "array([[0.14586624+0.j        , 0.06118311-0.00033612j],\n",
       "       [0.18099676+0.00036897j, 0.1434296 +0.j        ]])"
      ]
     },
     "execution_count": 92,
     "metadata": {},
     "output_type": "execute_result"
    }
   ],
   "source": [
    "testc"
   ]
  },
  {
   "cell_type": "code",
   "execution_count": null,
   "metadata": {},
   "outputs": [],
   "source": [
    "from cohlib.mvcn import "
   ]
  },
  {
   "cell_type": "code",
   "execution_count": null,
   "metadata": {},
   "outputs": [
    {
     "name": "stdout",
     "output_type": "stream",
     "text": [
      "J is 0\n",
      "[[ 0.14586624  0.          0.06514581  0.11622337]\n",
      " [ 0.          0.20930612 -0.00396271 -0.03229985]\n",
      " [ 0.0651095  -0.00433168  0.1434296   0.        ]\n",
      " [ 0.11588726 -0.03296863  0.          0.15575019]]\n",
      "J is 1\n",
      "[[ 0.25383408  0.         -0.14616757  0.04521198]\n",
      " [ 0.          0.26742687  0.07816615  0.02656144]\n",
      " [-0.14642107  0.07793534  0.33217515  0.        ]\n",
      " [ 0.04485958  0.02623173  0.          0.22249237]]\n",
      "J is 2\n",
      "[[ 0.33696733  0.         -0.02906884  0.0398108 ]\n",
      " [ 0.          0.13454757  0.01020141  0.01929684]\n",
      " [-0.02927337  0.00984895  0.18943214  0.        ]\n",
      " [ 0.03958192  0.01892003  0.          0.11107027]]\n",
      "J is 3\n",
      "[[ 0.1743814   0.          0.13157966  0.06276247]\n",
      " [ 0.          0.19576297  0.15001127 -0.07530767]\n",
      " [ 0.13138201  0.14965773  0.34268204  0.        ]\n",
      " [ 0.0624175  -0.07580853  0.          0.28928975]]\n",
      "J is 4\n",
      "[[ 0.40186933 -0.          0.20277703 -0.00189851]\n",
      " [-0.          0.32999398  0.07008722  0.22025213]\n",
      " [ 0.20247406  0.06987547  0.1723028   0.        ]\n",
      " [-0.00206859  0.22017327  0.          0.26501195]]\n",
      "J is 5\n",
      "[[ 0.35865533  0.         -0.18793892  0.20063149]\n",
      " [ 0.          0.58135917 -0.08642367 -0.07355693]\n",
      " [-0.18794706 -0.08670853  0.54222356 -0.        ]\n",
      " [ 0.20031257 -0.07415258 -0.          0.26602505]]\n",
      "J is 6\n",
      "[[ 0.19022681  0.          0.0653781  -0.01670607]\n",
      " [ 0.          0.16801736  0.07489364  0.03819656]\n",
      " [ 0.06513966  0.07465439  0.09673854  0.        ]\n",
      " [-0.0170016   0.03790022  0.          0.05058377]]\n",
      "J is 7\n",
      "[[ 0.12423298 -0.          0.09620571 -0.00932922]\n",
      " [-0.          0.11257868 -0.10194007  0.03409234]\n",
      " [ 0.09649104 -0.10167194  0.413696    0.        ]\n",
      " [-0.0096793   0.03372505  0.          0.24892497]]\n",
      "J is 8\n",
      "[[ 0.22429694  0.          0.04822807  0.06054894]\n",
      " [ 0.          0.26329145 -0.01851604  0.10612106]\n",
      " [ 0.04772395 -0.01867633  0.07310431  0.        ]\n",
      " [ 0.0601725   0.10608844  0.          0.15245551]]\n",
      "J is 9\n",
      "[[37.25879633  0.         -5.45931715 28.05997627]\n",
      " [ 0.          9.77368048 -6.82251332 -4.92394359]\n",
      " [-5.45968982 -6.8228917   8.92701333  0.        ]\n",
      " [28.05954838 -4.92437719  0.         25.08472001]]\n",
      "J is 10\n",
      "[[ 0.19223063 -0.          0.11228101  0.11962118]\n",
      " [-0.          0.46721329 -0.03480821  0.05240266]\n",
      " [ 0.1123405  -0.03472193  0.12274212  0.        ]\n",
      " [ 0.11986091  0.05266918  0.          0.16970409]]\n",
      "J is 11\n",
      "[[ 0.06761634  0.         -0.03743813  0.03276567]\n",
      " [ 0.          0.14768828  0.07004908 -0.00460744]\n",
      " [-0.03743213  0.06986354  0.32146805  0.        ]\n",
      " [ 0.03219761 -0.00536704  0.          0.42947891]]\n",
      "J is 12\n",
      "[[ 1.42663732e-01  0.00000000e+00  4.93673717e-02 -3.35301915e-02]\n",
      " [ 0.00000000e+00  2.13510290e-01  3.98280230e-05  1.35603943e-02]\n",
      " [ 4.90773637e-02 -3.22214622e-04  1.11557053e-01  0.00000000e+00]\n",
      " [-3.38811791e-02  1.31373721e-02  0.00000000e+00  2.17186442e-01]]\n",
      "J is 13\n",
      "[[ 0.25466783  0.         -0.07062275 -0.08539933]\n",
      " [ 0.          0.34304994  0.0302083  -0.01614674]\n",
      " [-0.07079422  0.03006898  0.17559674 -0.        ]\n",
      " [-0.08567669 -0.01639195 -0.          0.26995774]]\n",
      "J is 14\n",
      "[[ 0.07575917  0.         -0.04053497  0.03452416]\n",
      " [ 0.          0.17758076 -0.14232025  0.0013259 ]\n",
      " [-0.04118859 -0.14280092  0.42528048  0.        ]\n",
      " [ 0.0340671   0.00104177  0.          0.12505768]]\n",
      "J is 15\n",
      "[[ 0.31631102  0.         -0.15348597  0.09202773]\n",
      " [ 0.          0.41728134  0.24010343  0.08768486]\n",
      " [-0.15389656  0.23954446  0.33875743 -0.        ]\n",
      " [ 0.09169271  0.08720145 -0.          0.17048018]]\n",
      "J is 16\n",
      "[[ 0.43529808 -0.          0.08447372  0.22919978]\n",
      " [-0.          0.16377287  0.00853664 -0.02111017]\n",
      " [ 0.08384591  0.00841197  0.06866802  0.        ]\n",
      " [ 0.2287629  -0.0210439   0.          0.22714653]]\n",
      "J is 17\n",
      "[[ 0.57990888  0.         -0.23294751  0.1156448 ]\n",
      " [ 0.          0.12643855 -0.10947846  0.12462435]\n",
      " [-0.23380855 -0.10971833  0.29456758 -0.        ]\n",
      " [ 0.1152822   0.12488291 -0.          0.28966311]]\n",
      "J is 18\n",
      "[[ 0.11600488  0.         -0.0435851  -0.00753038]\n",
      " [ 0.          0.44088959  0.26185885  0.20831549]\n",
      " [-0.04443359  0.2611617   0.24108819  0.        ]\n",
      " [-0.00801781  0.20797939  0.          0.20019148]]\n",
      "J is 19\n",
      "[[ 0.73601959 -0.         -0.36443481  0.06270889]\n",
      " [-0.          0.86554612  0.52586633  0.22872472]\n",
      " [-0.36502492  0.52528314  0.40245316  0.        ]\n",
      " [ 0.06237115  0.2283939   0.          0.31628611]]\n"
     ]
    }
   ],
   "source": [
    "for j in range(20):\n",
    "    print(f'J is {j}')\n",
    "    print(Gamma_est[j,:,:])"
   ]
  },
  {
   "cell_type": "code",
   "execution_count": null,
   "metadata": {},
   "outputs": [
    {
     "data": {
      "text/plain": [
       "(0.0, 60.0)"
      ]
     },
     "execution_count": 7,
     "metadata": {},
     "output_type": "execute_result"
    },
    {
     "data": {
      "image/png": "[encoded data removed]",
      "text/plain": [
       "<Figure size 640x480 with 1 Axes>"
      ]
     },
     "metadata": {},
     "output_type": "display_data"
    }
   ],
   "source": [
    "import matplotlib.pyplot as plt\n",
    "plt.plot(freqs, ((Gamma_est[:,0,0] + Gamma_est[:,1,1])/2)**2 \n",
    "            + ((Gamma_est[:,2,2] + Gamma_est[:,3,3])/2)**2)\n",
    "plt.xlim([0,60])"
   ]
  },
  {
   "cell_type": "code",
   "execution_count": null,
   "metadata": {},
   "outputs": [],
   "source": [
    "from cohlib.alg.em_sgc import construct_Gamma_full_real\n",
    "full_test = construct_Gamma_full_real(Gamma_est, K, num_J_vars, invert=True)"
   ]
  },
  {
   "cell_type": "code",
   "execution_count": null,
   "metadata": {},
   "outputs": [],
   "source": []
  },
  {
   "cell_type": "code",
   "execution_count": null,
   "metadata": {},
   "outputs": [],
   "source": [
    "Gamma_true_real = np.zeros((num_freqs, K*2, K*2))\n",
    "inv_Gamma_true_real = np.zeros((num_freqs, K*2, K*2))\n",
    "for j in range(int(num_freqs/2)):\n",
    "    Gamma_true_real_j = conv_ccov_to_real(Gamma[j,:,:]) \n",
    "    Gamma_true_real[j,:,:] = Gamma_true_real_j\n",
    "    inv_Gamma_true_real[j,:,:] = np.linalg.inv(Gamma_true_real_j)"
   ]
  },
  {
   "cell_type": "code",
   "execution_count": null,
   "metadata": {},
   "outputs": [
    {
     "data": {
      "text/plain": [
       "array([[ 8.95218871+0.j        , -0.02690103-0.01121946j],\n",
       "       [-0.02690103+0.01121946j,  2.09177574+0.j        ]])"
      ]
     },
     "execution_count": 36,
     "metadata": {},
     "output_type": "execute_result"
    }
   ],
   "source": [
    "Gamma[499,:,:]"
   ]
  },
  {
   "cell_type": "code",
   "execution_count": null,
   "metadata": {},
   "outputs": [
    {
     "data": {
      "text/plain": [
       "500.0"
      ]
     },
     "execution_count": 34,
     "metadata": {},
     "output_type": "execute_result"
    }
   ],
   "source": [
    "num_freqs/2"
   ]
  },
  {
   "cell_type": "code",
   "execution_count": null,
   "metadata": {},
   "outputs": [],
   "source": []
  },
  {
   "cell_type": "code",
   "execution_count": null,
   "metadata": {},
   "outputs": [
    {
     "data": {
      "text/plain": [
       "array([[ 0.52026, -0.00451, -0.     , -0.00152],\n",
       "       [-0.00451,  0.69487,  0.00152,  0.     ],\n",
       "       [-0.     ,  0.00152,  0.52026, -0.00451],\n",
       "       [-0.00152,  0.     , -0.00451,  0.69487]])"
      ]
     },
     "execution_count": 24,
     "metadata": {},
     "output_type": "execute_result"
    }
   ],
   "source": [
    "j = 5\n",
    "np.round(inv_Gamma_true_real[j,:,:],5)"
   ]
  },
  {
   "cell_type": "code",
   "execution_count": null,
   "metadata": {},
   "outputs": [
    {
     "name": "stdout",
     "output_type": "stream",
     "text": [
      "EM iter: 0\n",
      "Laplace Approx trial 0\n",
      "Laplace Approx trial 1\n",
      "Laplace Approx trial 2\n",
      "Laplace Approx trial 3\n",
      "Laplace Approx trial 4\n",
      "M-Step for EM iter 0\n"
     ]
    }
   ],
   "source": [
    "from cohlib.alg.em_sgc import fit_sgc_model\n",
    "inits = {'Gamma': full_inv_Gamma_real}\n",
    "\n",
    "Gamma_update = fit_sgc_model(spikes_short, W, inits, num_em_iters=1, max_approx_iters=10, track=False)"
   ]
  },
  {
   "cell_type": "code",
   "execution_count": null,
   "metadata": {},
   "outputs": [
    {
     "data": {
      "text/plain": [
       "<matplotlib.image.AxesImage at 0x1503460fd720>"
      ]
     },
     "execution_count": 116,
     "metadata": {},
     "output_type": "execute_result"
    },
    {
     "data": {
      "image/png": "[encoded data removed]",
      "text/plain": [
       "<Figure size 480x480 with 1 Axes>"
      ]
     },
     "metadata": {},
     "output_type": "display_data"
    }
   ],
   "source": [
    "test = construct_Gamma_full_real(gammaupdate, K, J)\n",
    "import matplotlib.pyplot as plt\n",
    "plt.matshow(~(test==0)[J+0:J+8,0:8])"
   ]
  },
  {
   "cell_type": "code",
   "execution_count": null,
   "metadata": {},
   "outputs": [],
   "source": []
  },
  {
   "cell_type": "code",
   "execution_count": null,
   "metadata": {},
   "outputs": [],
   "source": []
  },
  {
   "cell_type": "code",
   "execution_count": null,
   "metadata": {},
   "outputs": [],
   "source": [
    "from cohlib.alg.em_sgc import construct_Gamma_full_real\n",
    "# test = construct_Gamma_full_real(gammaupdate, K, J, invert=True)"
   ]
  },
  {
   "cell_type": "code",
   "execution_count": null,
   "metadata": {},
   "outputs": [],
   "source": [
    "def conv_ccov_to_real(ccov):\n",
    "    dim = ccov.shape[0]\n",
    "    A = np.real(ccov)\n",
    "    B = np.imag(ccov)\n",
    "    rcov = np.zeros((2*dim, 2*dim))\n",
    "\n",
    "    # real components\n",
    "    rcov[:dim,:dim] = A\n",
    "    rcov[dim:,dim:] = A\n",
    "\n",
    "    # imag components\n",
    "    rcov[:dim,dim:] = B\n",
    "    rcov[dim:,:dim] = -B\n",
    "    return 0.5*rcov"
   ]
  },
  {
   "cell_type": "code",
   "execution_count": null,
   "metadata": {},
   "outputs": [],
   "source": []
  },
  {
   "cell_type": "code",
   "execution_count": null,
   "metadata": {},
   "outputs": [],
   "source": []
  },
  {
   "cell_type": "code",
   "execution_count": null,
   "metadata": {},
   "outputs": [
    {
     "data": {
      "text/plain": [
       "array([[11.+1.j, 11.+0.j, 11.+0.j, 12.+1.j, 12.+0.j, 12.+0.j, 13.+1.j,\n",
       "        13.+0.j, 13.+0.j],\n",
       "       [11.+0.j, 11.+2.j, 11.+0.j, 12.+0.j, 12.+2.j, 12.+0.j, 13.+0.j,\n",
       "        13.+2.j, 13.+0.j],\n",
       "       [11.+0.j, 11.+0.j, 11.+3.j, 12.+0.j, 12.+0.j, 12.+3.j, 13.+0.j,\n",
       "        13.+0.j, 13.+3.j],\n",
       "       [21.+1.j, 21.+0.j, 21.+0.j, 22.+1.j, 22.+0.j, 22.+0.j, 23.+1.j,\n",
       "        23.+0.j, 23.+0.j],\n",
       "       [21.+0.j, 21.+2.j, 21.+0.j, 22.+0.j, 22.+2.j, 22.+0.j, 23.+0.j,\n",
       "        23.+2.j, 23.+0.j],\n",
       "       [21.+0.j, 21.+0.j, 21.+3.j, 22.+0.j, 22.+0.j, 22.+3.j, 23.+0.j,\n",
       "        23.+0.j, 23.+3.j],\n",
       "       [31.+1.j, 31.+0.j, 31.+0.j, 32.+1.j, 32.+0.j, 32.+0.j, 33.+1.j,\n",
       "        33.+0.j, 33.+0.j],\n",
       "       [31.+0.j, 31.+2.j, 31.+0.j, 32.+0.j, 32.+2.j, 32.+0.j, 33.+0.j,\n",
       "        33.+2.j, 33.+0.j],\n",
       "       [31.+0.j, 31.+0.j, 31.+3.j, 32.+0.j, 32.+0.j, 32.+3.j, 33.+0.j,\n",
       "        33.+0.j, 33.+3.j]])"
      ]
     },
     "execution_count": 87,
     "metadata": {},
     "output_type": "execute_result"
    }
   ],
   "source": [
    "A1 = np.ones((3,3))*11 + 0j\n",
    "A2 = np.ones((3,3))*12 + 0j\n",
    "A3 = np.ones((3,3))*13 + 0j\n",
    "B1 = np.ones((3,3))*21 + 0j\n",
    "B2 = np.ones((3,3))*22 + 0j\n",
    "B3 = np.ones((3,3))*23 + 0j\n",
    "C1 = np.ones((3,3))*31 + 0j\n",
    "C2 = np.ones((3,3))*32 + 0j\n",
    "C3 = np.ones((3,3))*33 + 0j\n",
    "zeros = np.zeros((3,3))\n",
    "r1 = np.hstack([A1, A2, A3])\n",
    "r2 = np.hstack([B1, B2, B3])\n",
    "r3 = np.hstack([C1, C2, C3])\n",
    "\n",
    "G = np.vstack([r1, r2, r3])\n",
    "GJ = G + Jma\n",
    "GJ"
   ]
  },
  {
   "cell_type": "code",
   "execution_count": null,
   "metadata": {},
   "outputs": [
    {
     "data": {
      "text/plain": [
       "array([[11., 12., 13.],\n",
       "       [21., 22., 23.],\n",
       "       [31., 32., 33.]])"
      ]
     },
     "execution_count": 69,
     "metadata": {},
     "output_type": "execute_result"
    }
   ],
   "source": [
    "G[j_filt].reshape(K,-1)"
   ]
  },
  {
   "cell_type": "code",
   "execution_count": null,
   "metadata": {},
   "outputs": [],
   "source": [
    "from cohlib.utils import conv_complex_to_real\n",
    "\n",
    "def conv_zs_to_vs(zs, dc=False):\n",
    "    L = zs.shape[0]\n",
    "    J = zs.shape[1]\n",
    "    if dc:\n",
    "        vs = np.zeros((L, int(J*2))+1)\n",
    "        vs[:,0] = zs[:,zs[0].real]\n",
    "        dcshift = 1\n",
    "    else:\n",
    "        vs = np.zeros((L, int(J*2)))\n",
    "        dcshift = 0\n",
    "\n",
    "    # temp = []\n",
    "    for l in range(L):\n",
    "        for j in range(int(J)):\n",
    "            ind = j + dcshift\n",
    "            z = zs[l,ind]\n",
    "            v1,v2 = conv_complex_to_real(z)\n",
    "\n",
    "            vi = j*2 + dcshift\n",
    "            vs[l,vi] = v1\n",
    "            vs[l,vi+1] = v2\n",
    "            # temp.append(v1)\n",
    "            # temp.append(v2)\n",
    "\n",
    "    # return vs, temp\n",
    "    return vs\n",
    "\n",
    "\n"
   ]
  }
 ],
 "metadata": {
  "kernelspec": {
   "display_name": "test_env2",
   "language": "python",
   "name": "python3"
  },
  "language_info": {
   "codemirror_mode": {
    "name": "ipython",
    "version": 3
   },
   "file_extension": ".py",
   "mimetype": "text/x-python",
   "name": "python",
   "nbconvert_exporter": "python",
   "pygments_lexer": "ipython3",
   "version": "3.10.13"
  },
  "orig_nbformat": 4
 },
 "nbformat": 4,
 "nbformat_minor": 2
}
