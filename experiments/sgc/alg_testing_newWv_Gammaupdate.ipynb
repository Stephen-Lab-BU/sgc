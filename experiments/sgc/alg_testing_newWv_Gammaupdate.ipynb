{
 "cells": [
  {
   "cell_type": "code",
   "execution_count": 1,
   "metadata": {},
   "outputs": [],
   "source": [
    "import numpy as np\n",
    "from cohlib.utils import pickle_open\n",
    "from cohlib.alg.laplace_sgc import SpikeTrial, TrialData"
   ]
  },
  {
   "cell_type": "code",
   "execution_count": 4,
   "metadata": {},
   "outputs": [],
   "source": [
    "mu = -4.5\n",
    "L = 25 \n",
    "C = 30\n",
    "sample_length = 1000\n",
    "seed = 8\n",
    "\n",
    "save_path = f'saved/synthetic_data/simple_synthetic_{L}_{sample_length}_{C}_{mu}_{seed}'\n",
    "\n",
    "data_load = pickle_open(save_path)\n",
    "\n",
    "data_load['meta'].keys()\n",
    "Gamma = data_load['latent']['Gamma']\n",
    "Wv = data_load['meta']['Wv']\n",
    "freqs = data_load['meta']['freqs']\n",
    "vs = data_load['latent']['vs']\n",
    "zs = data_load['latent']['zs']\n",
    "xs = data_load['latent']['xs']\n",
    "\n",
    "spikes = data_load['observed']['spikes']\n",
    "freqs = data_load['meta']['freqs']"
   ]
  },
  {
   "cell_type": "code",
   "execution_count": null,
   "metadata": {},
   "outputs": [],
   "source": [
    "# sanity test on inverses... \n",
    "X_complex = Gamma[5,:,:]\n",
    "X_complex_inv = np.linalg.inv(X_complex)\n",
    "\n",
    "\n",
    "X_real = transform_cov_c2r(X_complex)\n",
    "X_real_to_complex = transform_cov_r2c(X_real)\n",
    "X_real_to_complex_inv = np.linalg.inv(X_real_to_complex)\n",
    "# X_real\n",
    "\n"
   ]
  },
  {
   "cell_type": "code",
   "execution_count": null,
   "metadata": {},
   "outputs": [
    {
     "data": {
      "text/plain": [
       "array([[ True,  True],\n",
       "       [ True,  True]])"
      ]
     },
     "metadata": {},
     "output_type": "display_data"
    }
   ],
   "source": [
    "np.isclose(X_complex_inv, X_real_to_complex_inv)"
   ]
  },
  {
   "cell_type": "code",
   "execution_count": null,
   "metadata": {},
   "outputs": [
    {
     "data": {
      "text/plain": [
       "array([[1.69349577-1.74767187e-19j, 0.14217476+4.78660442e-02j],\n",
       "       [0.14217476-4.78660442e-02j, 2.71947932-3.93205500e-19j]])"
      ]
     },
     "metadata": {},
     "output_type": "display_data"
    }
   ],
   "source": [
    "X_real_to_complex_inv"
   ]
  },
  {
   "cell_type": "code",
   "execution_count": null,
   "metadata": {},
   "outputs": [
    {
     "data": {
      "text/plain": [
       "array([[1.69349577-1.74767187e-19j, 0.14217476+4.78660442e-02j],\n",
       "       [0.14217476-4.78660442e-02j, 2.71947932-3.93205500e-19j]])"
      ]
     },
     "metadata": {},
     "output_type": "display_data"
    }
   ],
   "source": [
    "X_complex_inv"
   ]
  },
  {
   "cell_type": "code",
   "execution_count": null,
   "metadata": {},
   "outputs": [],
   "source": []
  },
  {
   "cell_type": "code",
   "execution_count": 5,
   "metadata": {},
   "outputs": [
    {
     "data": {
      "text/plain": [
       "-4.5"
      ]
     },
     "execution_count": 5,
     "metadata": {},
     "output_type": "execute_result"
    }
   ],
   "source": [
    "v[0] * (2*np.pi)/(sample_length/2)"
   ]
  },
  {
   "cell_type": "code",
   "execution_count": 5,
   "metadata": {},
   "outputs": [],
   "source": [
    "# sample_length = data_load['meta']['sample_length']\n",
    "# fs = data_load['meta']['fs']\n",
    "# frange = [0, int(fs/2)]\n",
    "# res = fs/sample_length\n",
    "\n",
    "\n",
    "num_J_vars = Wv.shape[1]\n",
    "K = 2\n",
    "Gamma_inv_init = np.eye(K*num_J_vars)\n",
    "\n",
    "spikes_short = spikes[:10,:,:,:]\n",
    "spikes_use = spikes_short\n",
    "spikes_grouped = [spikes_use[:,:,k,:] for k in range(K)]"
   ]
  },
  {
   "cell_type": "code",
   "execution_count": 6,
   "metadata": {},
   "outputs": [],
   "source": [
    "import numpy as np\n",
    "import itertools\n",
    "from cohlib.alg.laplace_sgc import TrialData, SpikeTrial\n",
    "from scipy.linalg import block_diag\n",
    "from cohlib.alg.em_sgc import get_trial_obj\n",
    "from cohlib.alg.em_sgc import update_Gamma_complex_dc, construct_Gamma_full_real_dc\n",
    "# Let's test out laplace approximation with Wv first\n",
    "# trial = get_trial_obj(spikes_grouped, 0, Wv, Gamma_inv_init)"
   ]
  },
  {
   "cell_type": "code",
   "execution_count": 7,
   "metadata": {},
   "outputs": [],
   "source": [
    "# mu, Ups_inv = trial.laplace_approx()\n",
    "# mu = trial.laplace_approx()"
   ]
  },
  {
   "cell_type": "code",
   "execution_count": 7,
   "metadata": {},
   "outputs": [],
   "source": [
    "# Gamma_est, prev_inv, track = fit_sgc_model(spikes_grouped, Wv, inits, num_em_iters=num_em, \n",
    "#             max_approx_iters=15, track=True)\n",
    "\n",
    "inits = {'Gamma_inv_init': Gamma_inv_init}\n",
    "num_em = 1\n",
    "\n",
    "data = spikes_grouped\n",
    "W = Wv\n",
    "num_em_iters = num_em\n",
    "max_approx_iters = 15\n",
    "track = True"
   ]
  },
  {
   "cell_type": "code",
   "execution_count": 8,
   "metadata": {},
   "outputs": [
    {
     "name": "stdout",
     "output_type": "stream",
     "text": [
      "EM iter: 0\n",
      "Laplace Approx trial 0\n",
      "Laplace Approx trial 1\n",
      "Laplace Approx trial 2\n",
      "Laplace Approx trial 3\n",
      "Laplace Approx trial 4\n",
      "Laplace Approx trial 5\n",
      "Laplace Approx trial 6\n",
      "Laplace Approx trial 7\n",
      "Laplace Approx trial 8\n",
      "Laplace Approx trial 9\n",
      "M-Step for EM iter 0\n"
     ]
    }
   ],
   "source": [
    "num_em_iters = 1\n",
    "# safety / params\n",
    "assert type(data) is list\n",
    "K = len(data)\n",
    "\n",
    "Ls = [data[i].shape[0] for i in range(K)]\n",
    "L = Ls[0]\n",
    "# assert all_equal(Ls)\n",
    "\n",
    "num_timepts = W.shape[0]\n",
    "num_J_vars = W.shape[1]\n",
    "\n",
    "# inits\n",
    "Gamma_inv_init = inits['Gamma_inv_init']\n",
    "\n",
    "# alg\n",
    "# TODO make classes NOT mutable\n",
    "track_gamma = []\n",
    "for r in range(num_em_iters):\n",
    "    print(f'EM iter: {r}')\n",
    "    if r == 0:\n",
    "        Gamma_prev_inv = Gamma_inv_init\n",
    "\n",
    "    mus = np.zeros((L,K*num_J_vars))\n",
    "    Ups_invs = np.zeros((L,K*num_J_vars,K*num_J_vars))\n",
    "\n",
    "    for l in range(L):\n",
    "        print(f'Laplace Approx trial {l}')\n",
    "        trial = get_trial_obj(data, l, W, Gamma_prev_inv)\n",
    "        mu, Ups_inv = trial.laplace_approx()\n",
    "        # real reprsentation\n",
    "        mus[l,:] = mu\n",
    "        Ups_invs[l,:,:] = Ups_inv\n",
    "\n",
    "\n",
    "    # M-Step\n",
    "    print(f'M-Step for EM iter {r}')\n",
    "    DC_update, Gamma_update_complex = update_Gamma_complex_dc(mus, Ups_invs, K, num_J_vars) \n",
    "    DC_update = np.array([[1,0], [0,1]])\n",
    "    Gamma_prev_inv = construct_Gamma_full_real_dc(DC_update, Gamma_update_complex, K, num_J_vars, invert=True)"
   ]
  },
  {
   "cell_type": "code",
   "execution_count": null,
   "metadata": {},
   "outputs": [],
   "source": []
  },
  {
   "cell_type": "code",
   "execution_count": 17,
   "metadata": {},
   "outputs": [
    {
     "data": {
      "text/plain": [
       "(array([   0,  999, 1001, 2000]),)"
      ]
     },
     "execution_count": 17,
     "metadata": {},
     "output_type": "execute_result"
    }
   ],
   "source": [
    "np.where(np.diag(Ups_invs[3,:,:]) > 0)"
   ]
  },
  {
   "cell_type": "code",
   "execution_count": 22,
   "metadata": {},
   "outputs": [],
   "source": [
    "from cohlib.alg.em_sgc import transform_cov_c2r, est_cov_r2c, rearrange_mat\n",
    "from cohlib.alg.em_sgc import get_freq_vecs_real_dc\n",
    "K = 2\n",
    "dc = True\n",
    "L = mus.shape[0]\n",
    "if dc is True:\n",
    "    J_nodc = int((num_J_vars-1)/2)\n",
    "    J = J_nodc \n",
    "else:\n",
    "    # J = int(num_J_vars/2)\n",
    "    raise NotImplementedError\n",
    "\n",
    "DC_mus_outer = np.zeros((L,K,K))\n",
    "DC_Upss = np.zeros((L,K,K))\n",
    "mus_outer = np.zeros((L,J,K*2,K*2))\n",
    "Upss = np.zeros((L,J,K*2,K*2))\n",
    "\n",
    "for l in range(L):\n",
    "    Ups_inv_j_vecs = get_freq_vecs_real_dc(np.diag(Ups_invs[l,:,:]), K, num_J_vars)\n",
    "    mu_js = get_freq_vecs_real_dc(mus[l,:], K,num_J_vars)\n",
    "\n",
    "    DC_mus_outer[l,:,:] = np.outer(mu_js[0], mu_js[0])\n",
    "    DC_Upss[l,:,:] = np.diag(1/Ups_inv_j_vecs[0])\n",
    "    for j in range(J):\n",
    "        mus_outer[l,j,:,:] = np.outer(mu_js[j+1], mu_js[j+1])\n",
    "        Upss[l,j,:,:] = -np.diag(1/Ups_inv_j_vecs[j+1])\n",
    "\n",
    "# enforce circulary symmetry\n",
    "k_mask_pre = 1 - np.eye(2)\n",
    "k_mask_inv = block_diag(*[k_mask_pre for k in range(K)])\n",
    "k_mask =  1 - k_mask_inv\n",
    "\n",
    "Gamma_update_real = (mus_outer*k_mask[None,None,:,:]).sum(0) + Upss.sum(0)\n",
    "Gamma_update_real = Gamma_update_real / L\n",
    "\n",
    "\n",
    "\n",
    "DC_update = np.zeros((K,K))\n",
    "Gamma_update_complex = np.zeros((J,K,K), dtype=complex)\n",
    "for l in range(L):\n",
    "    DC = DC_mus_outer[l,:,:] + DC_Upss[l,:,:]\n",
    "    Sig_real = mus_outer[l,:,:,:]*k_mask + Upss[l,:,:,:]\n",
    "    Sig_complex = np.zeros((J,K,K), dtype=complex)\n",
    "\n",
    "    for j in range(J):\n",
    "        Sig_complex[j,:,:] = est_cov_r2c(rearrange_mat(Sig_real[j,:,:],K))\n",
    "\n",
    "    DC_update += DC\n",
    "    Gamma_update_complex += Sig_complex\n",
    "DC_update = DC_update / L\n",
    "Gamma_update_complex = Gamma_update_complex / L"
   ]
  },
  {
   "cell_type": "code",
   "execution_count": 106,
   "metadata": {},
   "outputs": [
    {
     "data": {
      "text/plain": [
       "(10, 500, 4, 4)"
      ]
     },
     "execution_count": 106,
     "metadata": {},
     "output_type": "execute_result"
    }
   ],
   "source": [
    "Upss.shape"
   ]
  },
  {
   "cell_type": "code",
   "execution_count": 105,
   "metadata": {},
   "outputs": [],
   "source": [
    "def construct_Gamma_full_real_dc(DC_update, Gamma_update_real, K, num_J_vars, invert=False):\n",
    "    J = int((num_J_vars-1)/2)\n",
    "\n",
    "\n",
    "    Gamma_full = np.zeros((K*num_J_vars, K*num_J_vars))\n",
    "    if invert == True:\n",
    "        DC_update = np.linalg.inv(DC_update)\n",
    "    base_filt = np.zeros(num_J_vars)\n",
    "    base_filt[0] = 1\n",
    "    j_filt = np.tile(base_filt.astype(bool), K)\n",
    "\n",
    "    for k in range(K):\n",
    "        Gamma_full[j_filt,k*num_J_vars] = DC_update[:,k]\n",
    "\n",
    "\n",
    "    # Gamma_update_real_inv = np.stack([np.linalg.inv(Gamma_update_real[j]) for j in range(J)])\n",
    "\n",
    "    for j in range(J):\n",
    "        Gamma_j = Gamma_update_real[j,:,:]\n",
    "        if invert == True:\n",
    "            Gamma_j = np.linalg.inv(Gamma_j)\n",
    "        # Gamma_n_real = reverse_rearrange_mat(transform_cov_c2r(Gamma_n),K)\n",
    "        base_filt = np.zeros(num_J_vars)\n",
    "        j_var = int(j*2 + 1)\n",
    "        base_filt[j_var:j_var+2] = 1\n",
    "        j_filt = np.tile(base_filt.astype(bool), K)\n",
    "        # print(j_filt)\n",
    "        for k in range(K):\n",
    "            kj = int(k*2)\n",
    "            Gamma_full[j_filt,k*num_J_vars+j_var:k*num_J_vars+j_var+2] = Gamma_j[:,kj:kj+2]\n",
    "\n",
    "    return Gamma_full"
   ]
  },
  {
   "cell_type": "code",
   "execution_count": 76,
   "metadata": {},
   "outputs": [
    {
     "data": {
      "text/plain": [
       "True"
      ]
     },
     "execution_count": 76,
     "metadata": {},
     "output_type": "execute_result"
    }
   ],
   "source": [
    "from cohlib.alg.em_sgc import transform_cov_c2r, est_cov_r2c, reverse_rearrange_mat\n",
    "transform_cov_r2c = est_cov_r2c\n",
    "Gamma_update_complex_test = np.stack([transform_cov_r2c(rearrange_mat(Gamma_update_real[j,:,:], K)) for j in range(J)])\n",
    "# Gamma_update_complex_test = np.stack([transform_cov_r2c(Gamma_update_real[j,:,:]) for j in range(J)])\n",
    "np.all(np.isclose(Gamma_update_complex, Gamma_update_complex_test))"
   ]
  },
  {
   "cell_type": "code",
   "execution_count": 77,
   "metadata": {},
   "outputs": [
    {
     "data": {
      "text/plain": [
       "0.02"
      ]
     },
     "execution_count": 77,
     "metadata": {},
     "output_type": "execute_result"
    }
   ],
   "source": [
    "2*(10**-2)"
   ]
  },
  {
   "cell_type": "code",
   "execution_count": 78,
   "metadata": {},
   "outputs": [
    {
     "name": "stdout",
     "output_type": "stream",
     "text": [
      "[[ 0.0838-0.j -0.0001-0.j]\n",
      " [-0.0001+0.j  0.0826+0.j]]\n",
      "[[ 0.0838+0.j -0.0001-0.j]\n",
      " [-0.0001+0.j  0.0826+0.j]]\n"
     ]
    }
   ],
   "source": [
    "import matplotlib.pyplot as plt\n",
    "a = np.stack([transform_cov_r2c(np.linalg.inv(4*rearrange_mat(Gamma_update_real[j,:,:], K))) for j in range(J)])\n",
    "# a = np.stack([np.linalg.inv(transform_cov_r2c(rearrange_mat(Gamma_update_real[j,:,:], K))) for j in range(J)])\n",
    "b = np.stack([np.linalg.inv(Gamma_update_complex[j,:,:]) for j in range(J)])\n",
    "j_ind = 20\n",
    "print(np.round(a[j_ind], 4))\n",
    "print(np.round(b[j_ind], 4))"
   ]
  },
  {
   "cell_type": "code",
   "execution_count": 102,
   "metadata": {},
   "outputs": [],
   "source": [
    "Gamma_update_real_inv = np.stack([np.linalg.inv(Gamma_update_real[j]) for j in range(J)])\n",
    "a = Gamma_update_real_inv\n",
    "b = np.stack([reverse_rearrange_mat(transform_cov_c2r(np.linalg.inv(0.25*Gamma_update_complex[j,:,:])), K) for j in range(J)])"
   ]
  },
  {
   "cell_type": "code",
   "execution_count": 103,
   "metadata": {},
   "outputs": [
    {
     "data": {
      "text/plain": [
       "array([[ 1.6731e-01,  0.0000e+00,  7.0000e-05, -1.2000e-04],\n",
       "       [ 0.0000e+00,  1.6820e-01,  1.0000e-04, -1.6000e-04],\n",
       "       [ 7.0000e-05,  1.0000e-04,  1.6541e-01, -0.0000e+00],\n",
       "       [-1.2000e-04, -1.6000e-04, -0.0000e+00,  1.6522e-01]])"
      ]
     },
     "execution_count": 103,
     "metadata": {},
     "output_type": "execute_result"
    }
   ],
   "source": [
    "j_ind = 2\n",
    "np.round(a[j_ind,:,:], 5)"
   ]
  },
  {
   "cell_type": "code",
   "execution_count": 104,
   "metadata": {},
   "outputs": [
    {
     "data": {
      "text/plain": [
       "array([[ 1.6775e-01,  0.0000e+00, -5.0000e-05, -1.1000e-04],\n",
       "       [-0.0000e+00,  1.6775e-01,  1.1000e-04, -5.0000e-05],\n",
       "       [-5.0000e-05,  1.1000e-04,  1.6531e-01,  0.0000e+00],\n",
       "       [-1.1000e-04, -5.0000e-05, -0.0000e+00,  1.6531e-01]])"
      ]
     },
     "execution_count": 104,
     "metadata": {},
     "output_type": "execute_result"
    }
   ],
   "source": [
    "np.round(b[j_ind,:,:], 5)"
   ]
  },
  {
   "cell_type": "code",
   "execution_count": 122,
   "metadata": {},
   "outputs": [],
   "source": [
    "s2 = mus_outer.sum(0) + Upss.sum(0)"
   ]
  },
  {
   "cell_type": "code",
   "execution_count": 120,
   "metadata": {},
   "outputs": [],
   "source": [
    "s = np.zeros((J, K*2, K*2))\n",
    "for l in range(L):\n",
    "   s += mus_outer[l,:,:,:] + Upss[l,:,:,:]"
   ]
  },
  {
   "cell_type": "code",
   "execution_count": 102,
   "metadata": {},
   "outputs": [
    {
     "data": {
      "text/plain": [
       "array([[-5.67544657e+00,  0.00000000e+00,  6.50443706e-04,\n",
       "        -1.25343308e-03],\n",
       "       [ 0.00000000e+00, -5.64244188e+00, -3.01138207e-03,\n",
       "         5.80306316e-03],\n",
       "       [ 6.50443706e-04, -3.01138207e-03, -5.61728299e+00,\n",
       "         0.00000000e+00],\n",
       "       [-1.25343308e-03,  5.80306316e-03,  0.00000000e+00,\n",
       "        -5.59357254e+00]])"
      ]
     },
     "execution_count": 102,
     "metadata": {},
     "output_type": "execute_result"
    }
   ],
   "source": [
    "Sig_real[0,:,:]"
   ]
  },
  {
   "cell_type": "code",
   "execution_count": 116,
   "metadata": {},
   "outputs": [
    {
     "data": {
      "text/plain": [
       "array([[0.78875217+0.j        , 1.954894  -2.30163536j],\n",
       "       [1.954894  +2.30163536j, 1.53876173+0.j        ]])"
      ]
     },
     "execution_count": 116,
     "metadata": {},
     "output_type": "execute_result"
    }
   ],
   "source": [
    "Gamma_update_complex[9,:,:]"
   ]
  },
  {
   "cell_type": "code",
   "execution_count": 202,
   "metadata": {},
   "outputs": [],
   "source": [
    "from cohlib.alg.em_sgc import reverse_rearrange_mat, transform_cov_c2r\n",
    "old = construct_Gamma_full_real(Gamma_update_complex, K, num_J_vars-1)\n",
    "new = construct_Gamma_full_real_dc(DC_update, Gamma_update_complex, K, num_J_vars)"
   ]
  },
  {
   "cell_type": "code",
   "execution_count": 206,
   "metadata": {},
   "outputs": [
    {
     "data": {
      "text/plain": [
       "array([6928.57217625, 6912.43608406])"
      ]
     },
     "execution_count": 206,
     "metadata": {},
     "output_type": "execute_result"
    }
   ],
   "source": [
    "k = 1\n",
    "new[j_filt,k*num_J_vars]"
   ]
  },
  {
   "cell_type": "code",
   "execution_count": 195,
   "metadata": {},
   "outputs": [],
   "source": [
    "Gamma_full = np.zeros((K*num_J_vars, K*num_J_vars))\n",
    "# if invert == True:\n",
    "#     DC_update = np.linalg.inv(DC_update)\n",
    "base_filt = np.zeros(num_J_vars)\n",
    "base_filt[0] = 1\n",
    "j_filt = np.tile(base_filt.astype(bool), K)"
   ]
  },
  {
   "cell_type": "code",
   "execution_count": 200,
   "metadata": {},
   "outputs": [
    {
     "data": {
      "text/plain": [
       "array([0., 0.])"
      ]
     },
     "execution_count": 200,
     "metadata": {},
     "output_type": "execute_result"
    }
   ],
   "source": [
    "k = 0\n",
    "Gamma_full[j_filt,k*num_J_vars]"
   ]
  },
  {
   "cell_type": "code",
   "execution_count": 182,
   "metadata": {},
   "outputs": [
    {
     "data": {
      "text/plain": [
       "array([[ 0.26007574, -0.26068285],\n",
       "       [-0.26068285,  0.26143604]])"
      ]
     },
     "execution_count": 182,
     "metadata": {},
     "output_type": "execute_result"
    }
   ],
   "source": [
    "np.linalg.inv(DC_update)"
   ]
  },
  {
   "cell_type": "code",
   "execution_count": 201,
   "metadata": {},
   "outputs": [],
   "source": [
    "# NOTE - should we 'convert DC to complex'? i.e. divide by 2? \n",
    "def construct_Gamma_full_real_dc(DC_update, Gamma_update_complex, K, num_J_vars, invert=False):\n",
    "    J = int((num_J_vars-1)/2)\n",
    "\n",
    "\n",
    "    Gamma_full = np.zeros((K*num_J_vars, K*num_J_vars))\n",
    "    if invert == True:\n",
    "        DC_update = np.linalg.inv(DC_update)\n",
    "    base_filt = np.zeros(num_J_vars)\n",
    "    base_filt[0] = 1\n",
    "    j_filt = np.tile(base_filt.astype(bool), K)\n",
    "\n",
    "    for k in range(K):\n",
    "        Gamma_full[j_filt,k*num_J_vars] = DC_update[:,k]\n",
    "\n",
    "\n",
    "\n",
    "    for j in range(J):\n",
    "        Gamma_n = Gamma_update_complex[j,:,:]\n",
    "        if invert == True:\n",
    "            Gamma_n = np.linalg.inv(Gamma_n)\n",
    "        Gamma_n_real = reverse_rearrange_mat(transform_cov_c2r(Gamma_n),K)\n",
    "        base_filt = np.zeros(num_J_vars)\n",
    "        j_var = int(j*2 + 1)\n",
    "        base_filt[j_var:j_var+2] = 1\n",
    "        j_filt = np.tile(base_filt.astype(bool), K)\n",
    "        # print(j_filt)\n",
    "        for k in range(K):\n",
    "            kj = int(k*2)\n",
    "            Gamma_full[j_filt,k*num_J_vars+j_var:k*num_J_vars+j_var+2] = Gamma_n_real[:,kj:kj+2]\n",
    "\n",
    "    return Gamma_full\n"
   ]
  },
  {
   "cell_type": "code",
   "execution_count": 166,
   "metadata": {},
   "outputs": [],
   "source": [
    "def construct_Gamma_full_real(Gamma_update_complex, K, num_J_vars, invert=False):\n",
    "    J = int(num_J_vars/2)\n",
    "    Gamma_full = np.zeros((K*num_J_vars, K*num_J_vars))\n",
    "    for j in range(J):\n",
    "        Gamma_n = Gamma_update_complex[j,:,:]\n",
    "        if invert == True:\n",
    "            Gamma_n = np.linalg.inv(Gamma_n)\n",
    "        Gamma_n_real = reverse_rearrange_mat(transform_cov_c2r(Gamma_n),K)\n",
    "        base_filt = np.zeros(num_J_vars)\n",
    "        j_var = int(j*2)\n",
    "        base_filt[j_var:j_var+2] = 1\n",
    "        j_filt = np.tile(base_filt.astype(bool), K)\n",
    "        # print(j_filt)\n",
    "        for k in range(K):\n",
    "            kj = int(k*2)\n",
    "            Gamma_full[j_filt,k*num_J_vars+j_var:k*num_J_vars+j_var+2] = Gamma_n_real[:,kj:kj+2]\n",
    "\n",
    "    return Gamma_full\n"
   ]
  },
  {
   "cell_type": "code",
   "execution_count": 51,
   "metadata": {},
   "outputs": [],
   "source": [
    "base_filt_dc = np.zeros(num_J_vars)\n",
    "base_filt_dc[0] = 1\n",
    "dc_filt = np.tile(base_filt_dc.astype(bool), K)\n",
    "vec_dc = mus[l,:][dc_filt]"
   ]
  },
  {
   "cell_type": "code",
   "execution_count": 94,
   "metadata": {},
   "outputs": [],
   "source": [
    "test = get_freq_vecs_real(mus[l,:], K, num_J_vars)"
   ]
  },
  {
   "cell_type": "code",
   "execution_count": 100,
   "metadata": {},
   "outputs": [
    {
     "data": {
      "text/plain": [
       "array([ 0.07191544,  0.11991725, -0.03485094, -0.20432273])"
      ]
     },
     "execution_count": 100,
     "metadata": {},
     "output_type": "execute_result"
    }
   ],
   "source": [
    "test[1]\n",
    "# mus[l,:]"
   ]
  },
  {
   "cell_type": "code",
   "execution_count": 64,
   "metadata": {},
   "outputs": [
    {
     "name": "stdout",
     "output_type": "stream",
     "text": [
      "2\n",
      "4\n",
      "6\n"
     ]
    }
   ],
   "source": [
    "for jv in range(2, 5+2, 2):\n",
    "    print(jv)"
   ]
  },
  {
   "cell_type": "code",
   "execution_count": 142,
   "metadata": {},
   "outputs": [],
   "source": [
    "def get_freq_vecs_real_dc(vec, K, num_J_vars, dc=True):\n",
    "    if dc is True:\n",
    "        j_vecs = []\n",
    "        base_filt = np.zeros(num_J_vars)\n",
    "        base_filt_dc[0] = 1\n",
    "        dc_filt = np.tile(base_filt_dc.astype(bool), K)\n",
    "        vec_dc = vec[dc_filt]\n",
    "        # vec_dc_expand = np.concatenate([np.array([vec_dc[k], 0]) for k in range(K)])\n",
    "        j_vecs.append(vec_dc)\n",
    "        for jv in range(1,num_J_vars,2):\n",
    "            base_filt = np.zeros(num_J_vars)\n",
    "            base_filt[jv:jv+2] = 1\n",
    "            j_filt = np.tile(base_filt.astype(bool), K)\n",
    "            vec_j = vec[j_filt]\n",
    "            j_vecs.append(vec_j)\n",
    "        return j_vecs\n",
    "    else: \n",
    "        raise NotImplementedError"
   ]
  },
  {
   "cell_type": "code",
   "execution_count": null,
   "metadata": {},
   "outputs": [],
   "source": []
  },
  {
   "cell_type": "code",
   "execution_count": null,
   "metadata": {},
   "outputs": [],
   "source": [
    "def update_Gamma_complex(mus, Ups_invs, K, num_J_vars):\n",
    "    '''\n",
    "    mus is (trials x num_J_vars * K)\n",
    "    Ups_inv is (trials x num_J_vars * K x num_J_vars * K)\n",
    "    '''\n",
    "    L = mus.shape[0]\n",
    "\n",
    "    J = int(num_J_vars/2)\n",
    "    mus_outer = np.zeros((L,J,K*2,K*2))\n",
    "    Upss = np.zeros((L,J,K*2,K*2))\n",
    "    \n",
    "    for l in range(L):\n",
    "        Ups_inv_j_vecs = get_freq_vecs_real(np.diag(Ups_invs[l,:,:]), K, num_J_vars)\n",
    "        mu_js = get_freq_vecs_real(mus[l,:], K,num_J_vars)\n",
    "        for j in range(J):\n",
    "            mus_outer[l,j,:,:] = np.outer(mu_js[j], mu_js[j])\n",
    "            Upss[l,j,:,:] = np.diag(1/Ups_inv_j_vecs[j])\n",
    "\n",
    "    # enforce circulary symmetry\n",
    "    k_mask_pre = 1 - np.eye(2)\n",
    "    k_mask_inv = block_diag(*[k_mask_pre for k in range(K)])\n",
    "    k_mask =  1 - k_mask_inv\n",
    "\n",
    "    Gamma_update_complex = np.zeros((J,K,K), dtype=complex)\n",
    "    for l in range(L):\n",
    "        Sig_real = mus_outer[l,:,:,:]*k_mask + Upss[l,:,:,:]\n",
    "        Sig_complex = np.zeros((J,K,K), dtype=complex)\n",
    "        for j in range(J):\n",
    "            Sig_complex[j,:,:] = est_cov_r2c(rearrange_mat(Sig_real[j,:,:],K))\n",
    "        Gamma_update_complex += Sig_complex\n",
    "    Gamma_update_complex = Gamma_update_complex / L\n",
    "\n",
    "    return Gamma_update_complex"
   ]
  }
 ],
 "metadata": {
  "kernelspec": {
   "display_name": "test_env2",
   "language": "python",
   "name": "python3"
  },
  "language_info": {
   "codemirror_mode": {
    "name": "ipython",
    "version": 3
   },
   "file_extension": ".py",
   "mimetype": "text/x-python",
   "name": "python",
   "nbconvert_exporter": "python",
   "pygments_lexer": "ipython3",
   "version": "3.10.13"
  },
  "orig_nbformat": 4
 },
 "nbformat": 4,
 "nbformat_minor": 2
}
