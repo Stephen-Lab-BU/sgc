{
 "cells": [
  {
   "cell_type": "code",
   "execution_count": 4,
   "metadata": {},
   "outputs": [],
   "source": [
    "import numpy as np\n",
    "from cohlib.alg.laplace_sgc import SpikeTrial\n",
    "from cohlib.utils import pickle_open\n",
    "\n",
    "L = 25\n",
    "sample_length = 1000\n",
    "C = 30\n",
    "seed = 8\n",
    "mu = -3.5\n",
    "\n",
    "save_path = f'saved/synthetic_data/simple_synthetic_{L}_{sample_length}_{C}_{mu}_{seed}'\n",
    "\n",
    "data_load = pickle_open(save_path)\n",
    "\n",
    "pp_params = data_load['observed']['pp_params']\n",
    "spikes1 = data_load['observed']['spikes'][0]\n",
    "spikes2 = data_load['observed']['spikes'][1]\n",
    "\n",
    "xns = data_load['latent']['xns']\n",
    "xys = data_load['latent']['xys']\n",
    "\n",
    "xnfs = data_load['latent']['xnfs']\n",
    "xyfs = data_load['latent']['xyfs']\n",
    "Gamma = data_load['latent']['Gamma']\n",
    "true_coh = data_load['meta']['coh_true']\n",
    "coh1 = data_load['meta']['coh_direct_est']\n",
    "\n",
    "freqs = data_load['meta']['freqs']"
   ]
  },
  {
   "cell_type": "code",
   "execution_count": 7,
   "metadata": {},
   "outputs": [],
   "source": [
    "spikes1.shape\n",
    "spikes1.shape\n",
    "\n",
    "spikes = [spikes1, spikes2]"
   ]
  },
  {
   "cell_type": "code",
   "execution_count": null,
   "metadata": {},
   "outputs": [],
   "source": [
    "def conv_zns(zns):\n",
    "    L = zns.shape[0]\n",
    "    J = zns.shape[1]\n",
    "    znsc = np.zeros((L, int(J/2)), dtype=complex)\n",
    "\n",
    "    for l in range(L):\n",
    "        for j in range(int(J/2)):\n",
    "            ri = j*2\n",
    "            a = zns[l,ri]\n",
    "            b = zns[l,ri+1]\n",
    "            c = conv_real_to_complex(a,b)\n",
    "            znsc[l,j] = c\n",
    "    return znsc.squeeze()"
   ]
  },
  {
   "cell_type": "code",
   "execution_count": 1,
   "metadata": {},
   "outputs": [
    {
     "ename": "SyntaxError",
     "evalue": "invalid decimal literal (53944656.py, line 6)",
     "output_type": "error",
     "traceback": [
      "\u001b[0;36m  Cell \u001b[0;32mIn[1], line 6\u001b[0;36m\u001b[0m\n\u001b[0;31m    vs[:,0] = zs[:,0.real]\u001b[0m\n\u001b[0m                    ^\u001b[0m\n\u001b[0;31mSyntaxError\u001b[0m\u001b[0;31m:\u001b[0m invalid decimal literal\n"
     ]
    }
   ],
   "source": [
    "\n",
    "def conv_zs_to_vs(zs, dc=False):\n",
    "    L = zns.shape[0]\n",
    "    J = zns.shape[1]\n",
    "    if dc:\n",
    "        vs = np.zeros((L, int(J*2))+1)\n",
    "        vs[:,0] = zs[:,0.real]\n",
    "        dcshift = 1\n",
    "    else:\n",
    "        vs = np.zeros((L, int(J*2)))\n",
    "        dcshift = 0\n",
    "\n",
    "    for l in range(L):\n",
    "        for j in range(int(J)):\n",
    "            ind = j + dcshift\n",
    "            z = zs[l,ind]\n",
    "            v1,v2 = conv_complex_to_real(z)\n",
    "\n",
    "            vi = j*2 + dcshift\n",
    "            vs[l,vi] = v1\n",
    "            vs[l,vi+1] = v2\n",
    "    return vs\n",
    "\n",
    "\n"
   ]
  },
  {
   "cell_type": "code",
   "execution_count": 12,
   "metadata": {},
   "outputs": [
    {
     "data": {
      "text/plain": [
       "'spiking'"
      ]
     },
     "execution_count": 12,
     "metadata": {},
     "output_type": "execute_result"
    }
   ],
   "source": []
  },
  {
   "cell_type": "code",
   "execution_count": null,
   "metadata": {},
   "outputs": [],
   "source": []
  }
 ],
 "metadata": {
  "kernelspec": {
   "display_name": "test_env2",
   "language": "python",
   "name": "python3"
  },
  "language_info": {
   "codemirror_mode": {
    "name": "ipython",
    "version": 3
   },
   "file_extension": ".py",
   "mimetype": "text/x-python",
   "name": "python",
   "nbconvert_exporter": "python",
   "pygments_lexer": "ipython3",
   "version": "3.10.13"
  },
  "orig_nbformat": 4
 },
 "nbformat": 4,
 "nbformat_minor": 2
}
