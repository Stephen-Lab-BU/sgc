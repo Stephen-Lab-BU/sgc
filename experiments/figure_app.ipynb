{
 "cells": [
  {
   "cell_type": "code",
   "execution_count": 1,
   "metadata": {},
   "outputs": [],
   "source": [
    "%load_ext autoreload\n",
    "%autoreload 2"
   ]
  },
  {
   "cell_type": "code",
   "execution_count": 2,
   "metadata": {},
   "outputs": [],
   "source": [
    "import os\n",
    "import pathlib\n",
    "import glob as glob\n",
    "\n",
    "import hydra\n",
    "from omegaconf import OmegaConf\n",
    "import jax.numpy as jnp\n",
    "import jax.random as jr\n",
    "import matplotlib.pyplot as plt\n",
    "\n",
    "from cohlib.observations import sample_obs\n",
    "from cohlib.utils import add0, jax_boilerplate, pickle_save, pickle_open\n",
    "\n",
    "import cohlib.confs.utils as conf\n",
    "from cohlib.confs.latent import create_lrccn_basic_rank1\n",
    "from cohlib.confs.config import get_sim_config"
   ]
  },
  {
   "cell_type": "code",
   "execution_count": 3,
   "metadata": {},
   "outputs": [],
   "source": [
    "# Get plots for previously saved data with large oscillations / high rate\n",
    "app_res_path = '/projectnb/stephenlab/jtauber/cohlib/experiments/data/app/app_rat15/topK/latent-app_single_fullrank/window10000/K25/L50/obs-app_pp_log/mu-empirical/model-simple_inherit_latent_fullrank_pinv/inherit-True/m_step-full-rank-standard/empirical-init/newton-10_em-20/res.pkl'\n",
    "app_res_path_lr = '/projectnb/stephenlab/jtauber/cohlib/experiments/data/app/app_rat15/topK/latent-app_single_fullrank/window10000/K25/L50/obs-app_pp_log/mu-empirical/model-simple_inherit_latent_fullrank_pinv/inherit-True/m_step-testing-factor-igprior/empirical-init/newton-10_em-20/res.pkl'\n",
    "res = pickle_open(app_res_path)\n",
    "res_lr = pickle_open(app_res_path_lr)"
   ]
  },
  {
   "cell_type": "code",
   "execution_count": 4,
   "metadata": {},
   "outputs": [
    {
     "name": "stdout",
     "output_type": "stream",
     "text": [
      "Hermitian matrix:\n",
      " [[1.+0.j 2.+3.j 4.-1.j]\n",
      " [2.-3.j 5.+0.j 6.+2.j]\n",
      " [4.+1.j 6.-2.j 3.+0.j]]\n",
      "Is Hermitian? True\n"
     ]
    }
   ],
   "source": [
    "import jax.numpy as jnp\n",
    "from typing import Any\n",
    "\n",
    "def hermitize_from_upper(A: jnp.ndarray) -> jnp.ndarray:\n",
    "    \"\"\"\n",
    "    Construct a Hermitian matrix by copying the conjugate-transpose of the\n",
    "    upper-triangular part of `A` (excluding the diagonal) into the strictly\n",
    "    lower-triangular part.\n",
    "\n",
    "    Parameters\n",
    "    ----------\n",
    "    A : jnp.ndarray\n",
    "        Square complex (or real) array of shape (N, N).\n",
    "\n",
    "    Returns\n",
    "    -------\n",
    "    H : jnp.ndarray\n",
    "        Hermitian array with H == H.conj().T.\n",
    "\n",
    "    Raises\n",
    "    ------\n",
    "    ValueError\n",
    "        If `A` is not a square matrix.\n",
    "\n",
    "    Notes\n",
    "    -----\n",
    "    * Works with any JAX dtype that implements `.conj()`.\n",
    "    * Does **not** modify `A` in-place; a new array is returned.\n",
    "    * You can `jax.jit`-compile the function externally if desired.\n",
    "    \"\"\"\n",
    "    if A.ndim != 2 or A.shape[0] != A.shape[1]:\n",
    "        raise ValueError(\"Input must be a square matrix.\")\n",
    "\n",
    "    # Strict upper-triangle (k=1 excludes the diagonal)\n",
    "    strict_upper = jnp.triu(A, k=1)\n",
    "\n",
    "    # Diagonal preserved as-is\n",
    "    diag = jnp.diag(jnp.diag(A))\n",
    "\n",
    "    # Assemble Hermitian matrix:   H = diag + U + Uᴴ\n",
    "    H = diag + strict_upper + strict_upper.conj().T\n",
    "    return H\n",
    "\n",
    "\n",
    "# --- Example --------------------------------------------------------------\n",
    "if __name__ == \"__main__\":\n",
    "    import jax\n",
    "\n",
    "    A = jnp.array([[1+0j, 2+3j, 4-1j],\n",
    "                   [7+5j, 5+0j, 6+2j],\n",
    "                   [8-4j, 9+1j, 3+0j]])\n",
    "\n",
    "    H = hermitize_from_upper(A)\n",
    "    print(\"Hermitian matrix:\\n\", H)\n",
    "    print(\"Is Hermitian?\", jnp.allclose(H, H.conj().T))\n",
    "\n",
    "    # Optional: JIT-compile for speed on repeated calls\n",
    "    hermitize_jit = jax.jit(hermitize_from_upper)\n"
   ]
  },
  {
   "cell_type": "code",
   "execution_count": 5,
   "metadata": {},
   "outputs": [],
   "source": [
    "from cohlib.utils import naive_estimator\n",
    "from cohlib.latent import CCN\n",
    "mseed = 42\n",
    "mcM = 100\n",
    "def get_pushforward_model_est_mc(res, mus, nz_model, freqs, num_mc_samples=mcM, mc_seed=mseed):\n",
    "    cov = res['ccn_est'].gamma[0,:,:]\n",
    "    K = cov.shape[0]\n",
    "    cov_mod = hermitize_from_upper(cov)\n",
    "    cov_mod = cov_mod.at[jnp.eye(K).astype(bool)].set(jnp.diag(cov_mod).real)\n",
    "    dist = CCN(cov_mod[None,:,:], freqs, nz_model)\n",
    "\n",
    "    rk = jr.key(mc_seed)\n",
    "    zs_mc = dist.sample(rk, num_mc_samples)\n",
    "    zs_0dc_mc = jnp.apply_along_axis(add0, 0, zs_mc)\n",
    "    xs_mc = jnp.fft.irfft(zs_0dc_mc, axis=0)\n",
    "\n",
    "    lams = jnp.exp(mus[None,:,None] + xs_mc)\n",
    "    gamma_est_pushforward_mc = naive_estimator(lams, nz_model)\n",
    "\n",
    "    return gamma_est_pushforward_mc"
   ]
  },
  {
   "cell_type": "code",
   "execution_count": 6,
   "metadata": {},
   "outputs": [],
   "source": [
    "def omega(cfg):\n",
    "    return OmegaConf.create(cfg)\n",
    "cfg = omega(res['cfg'])\n",
    "cfg.latent\n",
    "cfg_lr = omega(res_lr['cfg'])"
   ]
  },
  {
   "cell_type": "code",
   "execution_count": 7,
   "metadata": {},
   "outputs": [
    {
     "name": "stdout",
     "output_type": "stream",
     "text": [
      "Loading App Data\n",
      "Experiment Type: topK\n"
     ]
    }
   ],
   "source": [
    "from cohlib.utils import rotate_eigvecs\n",
    "eigrank = 1\n",
    "load_app_obs = conf.load_app_data(cfg)\n",
    "obs = load_app_obs['obs']\n",
    "lcfg = cfg.latent\n",
    "nz_model = jnp.array([lcfg.target_freq_ind])\n",
    "N = lcfg.num_freqs\n",
    "freqs = jnp.arange(N)\n",
    "ocfg = omega(res['cfg']['obs'])\n",
    "obs_params, obs_type = conf.get_app_obs_params(ocfg, obs)\n",
    "mus = obs_params['mu']\n",
    "gamma_model_pushforward_mc = get_pushforward_model_est_mc(res, mus, nz_model, freqs)\n",
    "\n",
    "eigvals_model = jnp.linalg.eigh(gamma_model_pushforward_mc)[0][::-1]\n",
    "eigval_model = eigvals_model[eigrank-1]\n",
    "eigvecs_model = jnp.linalg.eigh(gamma_model_pushforward_mc.squeeze())[1][:,::-1]\n",
    "eigvec_model = rotate_eigvecs(eigvecs_model[None,:,:])[0,:,eigrank-1]\n"
   ]
  },
  {
   "cell_type": "code",
   "execution_count": 8,
   "metadata": {},
   "outputs": [],
   "source": [
    "gamma_model_lr_pushforward_mc = get_pushforward_model_est_mc(res_lr, mus, nz_model, freqs)\n",
    "\n",
    "eigvals_model_lr = jnp.linalg.eigh(gamma_model_lr_pushforward_mc)[0][::-1]\n",
    "eigval_model_lr = eigvals_model_lr[eigrank-1]\n",
    "eigvecs_model_lr = jnp.linalg.eigh(gamma_model_lr_pushforward_mc.squeeze())[1][:,::-1]\n",
    "eigvec_model_lr = rotate_eigvecs(eigvecs_model_lr[None,:,:])[0,:,eigrank-1]\n"
   ]
  },
  {
   "cell_type": "code",
   "execution_count": 9,
   "metadata": {},
   "outputs": [
    {
     "data": {
      "text/plain": [
       "Array([1.1544805e+06, 1.3435556e+06, 1.4711409e+06, 1.7338855e+06,\n",
       "       2.0318562e+06, 2.2199370e+06, 2.5206095e+06, 2.8796528e+06,\n",
       "       3.1253902e+06, 3.6678065e+06, 4.0958775e+06, 4.4738730e+06,\n",
       "       4.6532860e+06, 5.0244495e+06, 5.6140625e+06, 7.1214660e+06,\n",
       "       7.7226040e+06, 8.7656450e+06, 9.4476720e+06, 1.1828041e+07,\n",
       "       1.3400794e+07, 1.5690132e+07, 4.1461916e+07, 8.1814032e+07,\n",
       "       7.1954908e+09], dtype=float32)"
      ]
     },
     "execution_count": 9,
     "metadata": {},
     "output_type": "execute_result"
    }
   ],
   "source": [
    "eigvals_model.squeeze()"
   ]
  },
  {
   "cell_type": "code",
   "execution_count": 10,
   "metadata": {},
   "outputs": [
    {
     "data": {
      "text/plain": [
       "(0.0, 10000000.0)"
      ]
     },
     "execution_count": 10,
     "metadata": {},
     "output_type": "execute_result"
    },
    {
     "data": {
      "image/png": "[encoded data removed]",
      "text/plain": [
       "<Figure size 640x480 with 1 Axes>"
      ]
     },
     "metadata": {},
     "output_type": "display_data"
    }
   ],
   "source": [
    "plt.plot(eigvals_model.squeeze(), color='tab:blue')\n",
    "plt.plot(eigvals_model_lr.squeeze(), color='tab:purple')\n",
    "plt.ylim([0,1e7])"
   ]
  },
  {
   "cell_type": "code",
   "execution_count": 11,
   "metadata": {},
   "outputs": [
    {
     "data": {
      "text/plain": [
       "Array([2.0694377e+05, 2.4628944e+05, 2.9759006e+05, 3.3690816e+05,\n",
       "       3.6971462e+05, 4.0935144e+05, 4.8448806e+05, 5.2845188e+05,\n",
       "       6.1129481e+05, 6.7131756e+05, 7.5591338e+05, 9.6100012e+05,\n",
       "       1.2626632e+06, 1.4230550e+06, 1.7108926e+06, 2.5916628e+06,\n",
       "       3.3127635e+06, 3.9144795e+06, 5.2022455e+06, 7.2170850e+06,\n",
       "       1.0605013e+07, 1.5625925e+07, 3.9396116e+07, 1.1072648e+08,\n",
       "       6.3413386e+09], dtype=float32)"
      ]
     },
     "execution_count": 11,
     "metadata": {},
     "output_type": "execute_result"
    }
   ],
   "source": [
    "eigvals_model_lr.squeeze()"
   ]
  },
  {
   "cell_type": "code",
   "execution_count": null,
   "metadata": {},
   "outputs": [],
   "source": []
  },
  {
   "cell_type": "code",
   "execution_count": 12,
   "metadata": {},
   "outputs": [
    {
     "data": {
      "text/plain": [
       "Array([0.40569517+0.j        , 0.49173808+0.03470468j,\n",
       "       0.27034524+0.05138475j, 0.34751573+0.02325227j,\n",
       "       0.2590352 +0.03047185j, 0.22104608+0.02057099j,\n",
       "       0.22178274+0.03651165j, 0.18959515-0.00280883j,\n",
       "       0.15223198+0.0292901j , 0.11582609+0.02857673j,\n",
       "       0.1362599 +0.0324421j , 0.09944905+0.01082818j,\n",
       "       0.12051319-0.00695112j, 0.12041472-0.01247701j,\n",
       "       0.11457777-0.02954662j, 0.08553387-0.0463089j ,\n",
       "       0.10223516+0.01029044j, 0.08075359+0.00574398j,\n",
       "       0.0834939 -0.00350072j, 0.08882406-0.00082937j,\n",
       "       0.08011738-0.01234022j, 0.09805179-0.01331264j,\n",
       "       0.09139982-0.05175215j, 0.07041492+0.01166056j,\n",
       "       0.07881945-0.01765418j], dtype=complex64)"
      ]
     },
     "execution_count": 12,
     "metadata": {},
     "output_type": "execute_result"
    }
   ],
   "source": [
    "eigvec_model_lr"
   ]
  },
  {
   "cell_type": "code",
   "execution_count": 169,
   "metadata": {},
   "outputs": [
    {
     "data": {
      "text/plain": [
       "Array([2.8727734, 2.8666482, 2.6078615, 2.5556757, 2.504546 , 2.2451677,\n",
       "       2.1582527, 2.0417397, 1.8794651, 1.8566104, 1.7640456, 1.679337 ,\n",
       "       1.6759745, 1.6417115, 1.5505369, 1.5445793, 1.5138078, 1.4445633,\n",
       "       1.3947585, 1.3584092, 1.3402504, 1.2853684, 1.2686363, 1.2635616,\n",
       "       1.2053719], dtype=float32)"
      ]
     },
     "execution_count": 169,
     "metadata": {},
     "output_type": "execute_result"
    }
   ],
   "source": [
    "ocfg = omega(res['cfg']['obs'])\n",
    "obs_params, obs_type = conf.get_app_obs_params(ocfg, obs)\n",
    "obs_params['mu']"
   ]
  },
  {
   "cell_type": "code",
   "execution_count": null,
   "metadata": {},
   "outputs": [],
   "source": []
  },
  {
   "cell_type": "code",
   "execution_count": 14,
   "metadata": {},
   "outputs": [],
   "source": [
    "eigrank = 1\n",
    "jind_nz = 0\n",
    "\n",
    "nz_model = cfg.latent.target_freq_ind\n",
    "\n",
    "naive_est = naive_estimator(obs, nz_model)*1e6"
   ]
  },
  {
   "cell_type": "code",
   "execution_count": 20,
   "metadata": {},
   "outputs": [],
   "source": [
    "thetas_naive = jnp.angle(evecs_naive[0,:])\n",
    "rotations_naive = jnp.exp(-1j*thetas_naive)\n",
    "rotated_naive = evecs_naive * rotations_naive[None,:]"
   ]
  },
  {
   "cell_type": "code",
   "execution_count": 40,
   "metadata": {},
   "outputs": [],
   "source": [
    "save_path = '/projectnb/stephenlab/jtauber/cohlib/experiments/lr_figures/4'"
   ]
  },
  {
   "cell_type": "code",
   "execution_count": 26,
   "metadata": {},
   "outputs": [
    {
     "data": {
      "image/png": "[encoded data removed]",
      "text/plain": [
       "<Figure size 200x200 with 1 Axes>"
      ]
     },
     "metadata": {},
     "output_type": "display_data"
    }
   ],
   "source": [
    "lim = 0.7\n",
    "fig, ax = plt.subplots(figsize=(2,2))\n",
    "ax.plot(rotated_naive[:,-1].real, rotated_naive[:,-1].imag, '.', markersize=10,  color='tab:red', alpha=0.5, label='naive')\n",
    "# ax.plot(rotated_model[:,-1].real, rotated_model[:,-1].imag, '.', markersize=10,  color='tab:blue', alpha=0.5, label='model')\n",
    "ax.plot(eigvec_model.real, eigvec_model.imag, '.', markersize=10,  color='tab:blue', alpha=0.5, label='model')\n",
    "ax.plot(eigvec_model_lr.real, eigvec_model_lr.imag, '.', markersize=10,  color='tab:purple', alpha=0.5, label='model-lr')\n",
    "ax.axhline(0, color='k', linestyle='--', linewidth=0.5)\n",
    "ax.axvline(0, color='k', linestyle='--', linewidth=0.5)\n",
    "ax.set_xlim([-lim,lim])\n",
    "ax.set_ylim([-lim,lim])\n",
    "plt.legend(fontsize=8, loc='upper left')\n",
    "\n",
    "save_name = os.path.join(save_path, '4evec_high.png')\n",
    "plt.savefig(save_name, dpi=600, bbox_inches=\"tight\")\n",
    "\n",
    "\n"
   ]
  },
  {
   "cell_type": "code",
   "execution_count": 27,
   "metadata": {},
   "outputs": [
    {
     "data": {
      "text/plain": [
       "(1, 25)"
      ]
     },
     "execution_count": 27,
     "metadata": {},
     "output_type": "execute_result"
    }
   ],
   "source": [
    "eigvals_model.shape"
   ]
  },
  {
   "cell_type": "code",
   "execution_count": 42,
   "metadata": {},
   "outputs": [
    {
     "data": {
      "image/png": "[encoded data removed]",
      "text/plain": [
       "<Figure size 200x100 with 1 Axes>"
      ]
     },
     "metadata": {},
     "output_type": "display_data"
    }
   ],
   "source": [
    "K = 25\n",
    "x = jnp.arange(K) + 1\n",
    "fig, ax = plt.subplots(figsize=(2,1))\n",
    "mw = 3\n",
    "evs_model, _ = jnp.linalg.eigh(res['ccn_est'].gamma)\n",
    "evs_naive, _ = jnp.linalg.eigh(naive_est)\n",
    "ax.plot(x, evs_naive.squeeze()[::-1], color='tab:red', linewidth=mw, label = 'naive')\n",
    "ax.plot(x, eigvals_model.squeeze()[::-1], color='tab:blue', linewidth=mw, label='model')\n",
    "ax.plot(x, eigvals_model_lr.squeeze()[::-1], color='tab:purple', linewidth=mw, label='model-lr')\n",
    "# ax.plot(x, func(true_dummy)/K, color='k', linewidth=mw, label='true') ax.plot(x, func(jnp.stack(plot_dict['naive'])).mean(0)/K, linewidth=mw, color='tab:red', label='naive')\n",
    "# ax.fill_between(x, naive_low, naive_high, color='tab:red', alpha=0.3)\n",
    "# ax.plot(x, func(jnp.stack(plot_dict['model'])).mean(0)/K, linewidth=mw, color='tab:blue', label='model')\n",
    "# ax.fill_between(x, model_low, model_high, color='tab:blue', alpha=0.3)\n",
    "# ax.plot(x, func(jnp.stack(plot_dict['oracle'])).mean(0)/K,  linewidth=mw, color='tab:green', linestyle='--', label='oracle')\n",
    "# ax.fill_between(x, oracle_low, oracle_high, color='tab:green', alpha=0.3)\n",
    "# ax.set_ylabel(r'$\\hat{\\lambda}/K$')\n",
    "# ax.set_xlabel('Eigenvalue Index')\n",
    "# ax.set_ylim([0,80000])\n",
    "plt.ticklabel_format(axis='y', style='sci', scilimits=(0, 0))\n",
    "\n",
    "# ax.set_title(r'$\\mu_{e}$=2.5' + ' spikes/sec; L = 25')\n",
    "# ax.set_title(r'$\\mu$=2.5' + ' spikes/sec; L = 25$')\n",
    "# plt.legend(fontsize=8)\n",
    "plt.ylim(0,1.8e8)\n",
    "# ax.set_xlim(0,5)\n",
    "\n",
    "# save_name = os.path.join(save_path, '4evals_high.png')\n",
    "save_name = os.path.join(save_path, '4evals_high_sub.png')\n",
    "plt.savefig(save_name, dpi=600, bbox_inches=\"tight\")\n"
   ]
  },
  {
   "cell_type": "code",
   "execution_count": null,
   "metadata": {},
   "outputs": [],
   "source": []
  },
  {
   "cell_type": "code",
   "execution_count": null,
   "metadata": {},
   "outputs": [],
   "source": []
  },
  {
   "cell_type": "code",
   "execution_count": 31,
   "metadata": {},
   "outputs": [
    {
     "data": {
      "text/plain": [
       "<matplotlib.legend.Legend at 0x14c561e83700>"
      ]
     },
     "execution_count": 31,
     "metadata": {},
     "output_type": "execute_result"
    },
    {
     "data": {
      "image/png": "[encoded data removed]",
      "text/plain": [
       "<Figure size 200x100 with 1 Axes>"
      ]
     },
     "metadata": {},
     "output_type": "display_data"
    }
   ],
   "source": [
    "K = 25\n",
    "x = jnp.arange(K) + 1\n",
    "fig, ax = plt.subplots(figsize=(2,1))\n",
    "mw = 3\n",
    "evs_model, _ = jnp.linalg.eigh(res['ccn_est'].gamma)\n",
    "evs_naive, _ = jnp.linalg.eigh(naive_est)\n",
    "ax.plot(x[1:], evs_naive.squeeze()[::-1][1:], color='tab:red', linewidth=mw, label = 'naive')\n",
    "ax.plot(x[1:], eigvals_model.squeeze()[::-1][1:], color='tab:blue', linewidth=mw, label='model')\n",
    "ax.plot(x[1:], eigvals_model_lr.squeeze()[::-1][1:], color='tab:purple', linewidth=mw, label='model-lr')\n",
    "# ax.plot(x, func(true_dummy)/K, color='k', linewidth=mw, label='true') ax.plot(x, func(jnp.stack(plot_dict['naive'])).mean(0)/K, linewidth=mw, color='tab:red', label='naive')\n",
    "# ax.fill_between(x, naive_low, naive_high, color='tab:red', alpha=0.3)\n",
    "# ax.plot(x, func(jnp.stack(plot_dict['model'])).mean(0)/K, linewidth=mw, color='tab:blue', label='model')\n",
    "# ax.fill_between(x, model_low, model_high, color='tab:blue', alpha=0.3)\n",
    "# ax.plot(x, func(jnp.stack(plot_dict['oracle'])).mean(0)/K,  linewidth=mw, color='tab:green', linestyle='--', label='oracle')\n",
    "# ax.fill_between(x, oracle_low, oracle_high, color='tab:green', alpha=0.3)\n",
    "# ax.set_ylabel(r'$\\hat{\\lambda}/K$')\n",
    "# ax.set_xlabel('Eigenvalue Index')\n",
    "# ax.set_ylim([0,80000])\n",
    "plt.ticklabel_format(axis='y', style='sci', scilimits=(0, 0))\n",
    "\n",
    "# ax.set_title(r'$\\mu_{e}$=2.5' + ' spikes/sec; L = 25')\n",
    "# ax.set_title(r'$\\mu$=2.5' + ' spikes/sec; L = 25$')\n",
    "plt.legend(fontsize=8)\n",
    "save_name = os.path.join(save_path, '4evals_high.png')\n",
    "plt.savefig(save_name, dpi=600, bbox_inches=\"tight\")\n",
    "\n",
    "# ax.set_xlim(0,5)\n"
   ]
  },
  {
   "cell_type": "code",
   "execution_count": 32,
   "metadata": {},
   "outputs": [
    {
     "name": "stdout",
     "output_type": "stream",
     "text": [
      "0.96811277\n",
      "0.96729803\n",
      "0.9141535\n"
     ]
    }
   ],
   "source": [
    "print(eigvals_model_lr.squeeze()[-1] / eigvals_model_lr.squeeze().sum())\n",
    "print(eigvals_model.squeeze()[-1] / eigvals_model.squeeze().sum())\n",
    "print(evs_naive.squeeze()[-1] / evs_naive.squeeze().sum())"
   ]
  },
  {
   "cell_type": "code",
   "execution_count": 34,
   "metadata": {},
   "outputs": [],
   "source": [
    "top_model_lr = 0.96811277\n",
    "top_model = 0.96729803\n",
    "top_naive = 0.9141535\n",
    "\n",
    "bottom_model_lr = 0.45695028\n",
    "bottom_model = 0.33838928\n",
    "bottom_naive = 0.16161384\n"
   ]
  },
  {
   "cell_type": "code",
   "execution_count": 38,
   "metadata": {},
   "outputs": [
    {
     "data": {
      "image/png": "[encoded data removed]",
      "text/plain": [
       "<Figure size 300x200 with 1 Axes>"
      ]
     },
     "metadata": {},
     "output_type": "display_data"
    }
   ],
   "source": [
    "import matplotlib.pyplot as plt\n",
    "barWidth = 0.2\n",
    "bars1 = [jnp.round(top_naive, 2), jnp.round(bottom_naive, 2)]\n",
    "bars2 = [jnp.round(top_model, 2), jnp.round(bottom_model, 2)]\n",
    "bars3 = [jnp.round(top_model_lr, 2), jnp.round(bottom_model_lr, 2)]\n",
    "\n",
    "# Bar positions\n",
    "r = jnp.arange(len(bars1))\n",
    "r2 = r + barWidth\n",
    "r3 = r2 + barWidth\n",
    "\n",
    "# Plotting\n",
    "fig, ax = plt.subplots(figsize=(3,2))\n",
    "ax.bar(r, bars1, color='tab:red', alpha=1.0, width=barWidth, edgecolor='white', label='naive')\n",
    "ax.bar(r2, bars2, color='tab:blue', alpha=1.0, width=barWidth, edgecolor='white', label='model')\n",
    "ax.bar(r3, bars3, color='tab:purple', alpha=1.0, width=barWidth, edgecolor='white', label='model-lr')\n",
    "\n",
    "# Xticks\n",
    "# ax.set_xlabel('group', fontweight='bold')\n",
    "ax.tick_params(axis='both', which='major', labelsize=12)\n",
    "ax.set_xticks(r + barWidth )\n",
    "# ax.set_xticklabels(['Top25', 'Bottom25'])\n",
    "ax.set_xticklabels([])\n",
    "\n",
    "# Legend and show\n",
    "ax.legend()\n",
    "\n",
    "save_name = os.path.join(save_path, '4gcoh.png')\n",
    "plt.savefig(save_name, dpi=600, bbox_inches=\"tight\")\n"
   ]
  },
  {
   "cell_type": "code",
   "execution_count": null,
   "metadata": {},
   "outputs": [],
   "source": []
  },
  {
   "cell_type": "code",
   "execution_count": null,
   "metadata": {},
   "outputs": [],
   "source": []
  },
  {
   "cell_type": "code",
   "execution_count": 58,
   "metadata": {},
   "outputs": [
    {
     "data": {
      "text/plain": [
       "<matplotlib.legend.Legend at 0x14dd12a748e0>"
      ]
     },
     "execution_count": 58,
     "metadata": {},
     "output_type": "execute_result"
    },
    {
     "data": {
      "image/png": "[encoded data removed]",
      "text/plain": [
       "<Figure size 200x100 with 1 Axes>"
      ]
     },
     "metadata": {},
     "output_type": "display_data"
    }
   ],
   "source": [
    "K = 20\n",
    "x = jnp.arange(K) + 1\n",
    "fig, ax = plt.subplots(figsize=(2,1))\n",
    "mw = 3\n",
    "evs_model, _ = jnp.linalg.eigh(res['ccn_est'].gamma)\n",
    "evs_naive, _ = jnp.linalg.eigh(naive_est)\n",
    "ax.plot(evs_naive.squeeze()[::-1], color='tab:red', linewidth=mw, label = 'naive')\n",
    "# ax.plot(evs_model.squeeze()[::-1], color='tab:blue', linewidth=mw, label='model')\n",
    "# ax.plot(x, func(true_dummy)/K, color='k', linewidth=mw, label='true') ax.plot(x, func(jnp.stack(plot_dict['naive'])).mean(0)/K, linewidth=mw, color='tab:red', label='naive')\n",
    "# ax.fill_between(x, naive_low, naive_high, color='tab:red', alpha=0.3)\n",
    "# ax.plot(x, func(jnp.stack(plot_dict['model'])).mean(0)/K, linewidth=mw, color='tab:blue', label='model')\n",
    "# ax.fill_between(x, model_low, model_high, color='tab:blue', alpha=0.3)\n",
    "# ax.plot(x, func(jnp.stack(plot_dict['oracle'])).mean(0)/K,  linewidth=mw, color='tab:green', linestyle='--', label='oracle')\n",
    "# ax.fill_between(x, oracle_low, oracle_high, color='tab:green', alpha=0.3)\n",
    "# ax.set_ylabel(r'$\\hat{\\lambda}/K$')\n",
    "# ax.set_xlabel('Eigenvalue Index')\n",
    "# ax.set_ylim([0,80000])\n",
    "plt.ticklabel_format(axis='y', style='sci', scilimits=(0, 0))\n",
    "\n",
    "# ax.set_title(r'$\\mu_{e}$=2.5' + ' spikes/sec; L = 25')\n",
    "# ax.set_title(r'$\\mu$=2.5' + ' spikes/sec; L = 25$')\n",
    "plt.legend(fontsize=8)\n",
    "# ax.set_xlim(0,5)\n"
   ]
  },
  {
   "cell_type": "code",
   "execution_count": null,
   "metadata": {},
   "outputs": [],
   "source": [
    "fig\n",
    "evs_model, _ = jnp.linalg.eigh(res['ccn_est'].gamma)\n",
    "evs_naive, _ = jnp.linalg.eigh(naive_est)\n",
    "ax.plot(evs_model.squeeze()[::-1])\n",
    "ax.plot(evs_naive.squeeze()[::-1])"
   ]
  },
  {
   "cell_type": "code",
   "execution_count": 21,
   "metadata": {},
   "outputs": [],
   "source": [
    "def plot_eigval_var_L_subplot(ax, plot_dict, drop_emp):\n",
    "    naive_color = 'tab:red'\n",
    "    naive_style = 'dashed'\n",
    "    naive_width = 2\n",
    "\n",
    "    true_color = 'k'\n",
    "    true_style = 'solid'\n",
    "    true_width = 2\n",
    "\n",
    "    oracle_color = 'tab:green'\n",
    "    oracle_style = 'dotted'\n",
    "    oracle_width = 2.5\n",
    "\n",
    "    est_color = 'tab:blue'\n",
    "    est_style = 'solid'\n",
    "    est_width = 2\n",
    "\n",
    "    ev_true = plot_dict['eigval_true']\n",
    "    ev_oracle = plot_dict['eigval_oracle']\n",
    "    ev_naive = plot_dict['eigval_naive']\n",
    "    evs_em = plot_dict['eigvals_em']\n",
    "\n",
    "    ax.axhline(ev_true, linestyle=true_style, color=true_color, linewidth=true_width)\n",
    "    ax.axhline(ev_oracle, linestyle=oracle_style, color=oracle_color, linewidth=oracle_width)\n",
    "    if drop_emp is False:\n",
    "        ax.axhline(ev_naive, linestyle=naive_style, color=naive_color, linewidth=naive_width)\n",
    "    ax.plot(evs_em, color=est_color, linestyle=est_style, linewidth=est_width)\n",
    "\n",
    "def get_theta_label(ocfg, theta):\n",
    "    if ocfg.obs_type == 'gaussian':\n",
    "        label = f'{ocfg.ov1}e{theta}'\n",
    "    elif ocfg.obs_type in ['pp_relu', 'pp_log']:\n",
    "        label = f'mu = {theta}'\n",
    "    else:\n",
    "        return ValueError\n",
    "    return label\n",
    "\n",
    "def get_ccn_fullrank_eigvals(ccn):\n",
    "    \"\"\"\n",
    "    ccn.gamma shape (J x K x K)\n",
    "    \"\"\"\n",
    "    gamma = ccn.gamma\n",
    "    eigvals_raw, _ = jnp.linalg.eigh(gamma)\n",
    "    eigvals = eigvals_raw[:,::-1]\n",
    "    return eigvals"
   ]
  },
  {
   "cell_type": "code",
   "execution_count": 59,
   "metadata": {},
   "outputs": [],
   "source": [
    "from cohlib.utils import rotate_eigvecs, naive_estimator\n",
    "from cohlib.plot import get_eigval\n",
    "eigrank = 1\n",
    "eigvals_em = jnp.stack([get_ccn_fullrank_eigvals(x)[0,eigrank-1] for x in res['track']['ccn']])\n",
    "\n",
    "# load zs data and compute oracle est\n",
    "jind_nz = 0\n",
    "\n",
    "# TODO fix for \n",
    "nz_model = cfg.latent.target_freq_ind\n",
    "\n",
    "naive_est = naive_estimator(obs, nz_model)*1e6\n",
    "naive_eigval = get_eigval(naive_est[:,:], eigrank)"
   ]
  },
  {
   "cell_type": "code",
   "execution_count": 44,
   "metadata": {},
   "outputs": [
    {
     "data": {
      "text/plain": [
       "<cohlib.latent.CCN at 0x150158567d60>"
      ]
     },
     "execution_count": 44,
     "metadata": {},
     "output_type": "execute_result"
    }
   ],
   "source": [
    "res['ccn_est']"
   ]
  },
  {
   "cell_type": "code",
   "execution_count": 22,
   "metadata": {},
   "outputs": [
    {
     "data": {
      "text/plain": [
       "[<matplotlib.lines.Line2D at 0x147854d6cdc0>]"
      ]
     },
     "execution_count": 22,
     "metadata": {},
     "output_type": "execute_result"
    },
    {
     "data": {
      "image/png": "[encoded data removed]",
      "text/plain": [
       "<Figure size 640x480 with 1 Axes>"
      ]
     },
     "metadata": {},
     "output_type": "display_data"
    }
   ],
   "source": [
    "evs_model, _ = jnp.linalg.eigh(res['ccn_est'].gamma)\n",
    "evs_naive, _ = jnp.linalg.eigh(naive_est)\n",
    "plt.plot(evs_model.squeeze()[::-1])\n",
    "plt.plot(evs_naive.squeeze()[::-1])"
   ]
  },
  {
   "cell_type": "code",
   "execution_count": null,
   "metadata": {},
   "outputs": [],
   "source": [
    "from cohlib.utils import rotate_eigvecs, naive_estimator\n",
    "from cohlib.plot import get_eigval\n",
    "eigrank = 1\n",
    "eigvals_em = jnp.stack([get_ccn_fullrank_eigvals(x)[0,eigrank-1] for x in res['track']['ccn']])\n",
    "\n",
    "# load zs data and compute oracle est\n",
    "jind_nz = 0\n",
    "\n",
    "# TODO fix for \n",
    "nz_model = cfg.latent.target_freq_ind\n",
    "\n",
    "naive_est = naive_estimator(obs, nz_model)*1e6\n",
    "naive_eigval = get_eigval(naive_est[:,:], eigrank)"
   ]
  },
  {
   "cell_type": "code",
   "execution_count": 62,
   "metadata": {},
   "outputs": [
    {
     "data": {
      "text/plain": [
       "Array(0.98464453, dtype=float32)"
      ]
     },
     "execution_count": 62,
     "metadata": {},
     "output_type": "execute_result"
    }
   ],
   "source": [
    "evs_model.squeeze()[-1] / evs_model.sum()\n",
    "# evs_naive.squeeze()[-1] / evs_naive.sum()"
   ]
  },
  {
   "cell_type": "code",
   "execution_count": 63,
   "metadata": {},
   "outputs": [
    {
     "data": {
      "text/plain": [
       "[<matplotlib.lines.Line2D at 0x1482276bfa90>]"
      ]
     },
     "execution_count": 63,
     "metadata": {},
     "output_type": "execute_result"
    },
    {
     "data": {
      "image/png": "[encoded data removed]",
      "text/plain": [
       "<Figure size 600x300 with 1 Axes>"
      ]
     },
     "metadata": {},
     "output_type": "display_data"
    }
   ],
   "source": [
    "drop_emp = False\n",
    "naive_color = 'tab:red'\n",
    "naive_style = 'dashed'\n",
    "naive_width = 2\n",
    "\n",
    "est_color = 'tab:blue'\n",
    "est_style = 'solid'\n",
    "est_width = 2\n",
    "\n",
    "# ev_true = plot_dict['eigval_true']\n",
    "# ev_oracle = plot_dict['eigval_oracle']\n",
    "# ev_naive = plot_dict['eigval_naive']\n",
    "# evs_em = plot_dict['eigvals_em']\n",
    "\n",
    "fig, ax = plt.subplots(figsize=(6,3))\n",
    "if drop_emp is False:\n",
    "    ax.axhline(naive_eigval, linestyle=naive_style, color=naive_color, linewidth=naive_width)\n",
    "ax.plot(eigvals_em, color=est_color, linestyle=est_style, linewidth=est_width)"
   ]
  },
  {
   "cell_type": "code",
   "execution_count": 64,
   "metadata": {},
   "outputs": [
    {
     "data": {
      "text/plain": [
       "<module 'jax.numpy' from '/projectnb/stephenlab/jtauber/.conda/envs/sgc_env/lib/python3.10/site-packages/jax/numpy/__init__.py'>"
      ]
     },
     "execution_count": 64,
     "metadata": {},
     "output_type": "execute_result"
    }
   ],
   "source": [
    "jnp"
   ]
  },
  {
   "cell_type": "code",
   "execution_count": null,
   "metadata": {},
   "outputs": [],
   "source": [
    "def get_ccn_fullrank_eigvecs(ccn):\n",
    "    \"\"\"\n",
    "    ccn.gamma shape (J x K x K)\n",
    "    \"\"\"\n",
    "    gamma = ccn.gamma\n",
    "    _, eigvecs_raw = jnp.linalg.eigh(gamma)\n",
    "    eigvecs = eigvecs_raw[:,:,::-1]\n",
    "    return eigvecs"
   ]
  },
  {
   "cell_type": "code",
   "execution_count": 72,
   "metadata": {},
   "outputs": [],
   "source": [
    "def get_ccn_fullrank_eigvecs(ccn):\n",
    "    \"\"\"\n",
    "    ccn.gamma shape (J x K x K)\n",
    "    \"\"\"\n",
    "    gamma = ccn.gamma\n",
    "    _, eigvecs_raw = jnp.linalg.eigh(gamma)\n",
    "    eigvecs = eigvecs_raw[:,:,::-1]\n",
    "    return eigvecs"
   ]
  },
  {
   "cell_type": "code",
   "execution_count": 73,
   "metadata": {},
   "outputs": [],
   "source": [
    "eigvecs_em = jnp.stack([rotate_eigvecs(get_ccn_fullrank_eigvecs(x))[0,:,eigrank-1] for x in res['track']['ccn']])"
   ]
  },
  {
   "cell_type": "code",
   "execution_count": 75,
   "metadata": {},
   "outputs": [
    {
     "data": {
      "text/plain": [
       "(21, 10)"
      ]
     },
     "execution_count": 75,
     "metadata": {},
     "output_type": "execute_result"
    }
   ],
   "source": []
  },
  {
   "cell_type": "code",
   "execution_count": 65,
   "metadata": {},
   "outputs": [],
   "source": [
    "evs_model, _  = jnp.linalg.eigh(res['ccn_est'].gamma)\n",
    "evs_naive, _ = jnp.linalg.eigh(naive_est)"
   ]
  },
  {
   "cell_type": "code",
   "execution_count": 66,
   "metadata": {},
   "outputs": [],
   "source": [
    "evs_model, evecs_model = jnp.linalg.eigh(res['ccn_est'].gamma)\n",
    "evs_naive, evecs_naive = jnp.linalg.eigh(naive_est)"
   ]
  },
  {
   "cell_type": "code",
   "execution_count": 78,
   "metadata": {},
   "outputs": [],
   "source": [
    "x = res['ccn_est']\n",
    "evecs_model2 = rotate_eigvecs(get_ccn_fullrank_eigvecs(x))[0,:,eigrank-1]"
   ]
  },
  {
   "cell_type": "code",
   "execution_count": 70,
   "metadata": {},
   "outputs": [
    {
     "data": {
      "text/plain": [
       "Array([[ 0.08226892+0.03559953j,  0.05420819+0.00459078j,\n",
       "         0.01740329+0.14748599j,  0.01824215-0.17548418j,\n",
       "         0.04005831-0.01652051j, -0.24272335-0.3017471j ,\n",
       "        -0.26468632-0.14176641j, -0.09276522+0.2921133j ,\n",
       "         0.6803575 +0.26561007j,  0.25166693+0.05581713j]],      dtype=complex64)"
      ]
     },
     "execution_count": 70,
     "metadata": {},
     "output_type": "execute_result"
    }
   ],
   "source": [
    "evecs_model[:,-1]"
   ]
  },
  {
   "cell_type": "code",
   "execution_count": 82,
   "metadata": {},
   "outputs": [],
   "source": [
    "from cohlib.plot import get_eigvec\n",
    "naive_eigvec = get_eigvec(naive_est, eigrank)\n",
    "naive_eigvec = naive_eigvec*jnp.exp(-1j*jnp.angle(naive_eigvec[0]))"
   ]
  },
  {
   "cell_type": "code",
   "execution_count": 83,
   "metadata": {},
   "outputs": [
    {
     "data": {
      "text/plain": [
       "Array([0.55281043+0.j        , 0.42898875-0.029037j  ,\n",
       "       0.28245026+0.04205109j, 0.37714002+0.00741504j,\n",
       "       0.2786646 +0.02137076j, 0.2514924 +0.00962131j,\n",
       "       0.23314461+0.02575278j, 0.20338036-0.01104157j,\n",
       "       0.17168188+0.02786134j, 0.12917876+0.02819744j], dtype=complex64)"
      ]
     },
     "execution_count": 83,
     "metadata": {},
     "output_type": "execute_result"
    }
   ],
   "source": [
    "naive_eigvec"
   ]
  },
  {
   "cell_type": "code",
   "execution_count": 84,
   "metadata": {},
   "outputs": [
    {
     "data": {
      "text/plain": [
       "(-1.0, 1.0)"
      ]
     },
     "execution_count": 84,
     "metadata": {},
     "output_type": "execute_result"
    },
    {
     "data": {
      "image/png": "[encoded data removed]",
      "text/plain": [
       "<Figure size 500x500 with 1 Axes>"
      ]
     },
     "metadata": {},
     "output_type": "display_data"
    }
   ],
   "source": [
    "\n",
    "fig, ax = plt.subplots(figsize=(5,5))\n",
    "ax.scatter(evecs_model2.real, evecs_model2.imag, color='tab:blue')\n",
    "ax.scatter(naive_eigvec.real, naive_eigvec.imag, color='tab:red')\n",
    "ax.axhline(0)\n",
    "ax.axvline(0)\n",
    "ax.set_xlim([-1,1])\n",
    "ax.set_ylim([-1,1])"
   ]
  },
  {
   "cell_type": "code",
   "execution_count": null,
   "metadata": {},
   "outputs": [],
   "source": [
    "# plot ev eigvecs"
   ]
  },
  {
   "cell_type": "code",
   "execution_count": 26,
   "metadata": {},
   "outputs": [
    {
     "data": {
      "text/plain": [
       "Array([8.3148247e+09, 5.0653648e+07, 4.9775892e+07, 4.9831884e+07,\n",
       "       4.9869508e+07, 4.9890004e+07, 4.9902384e+07, 4.9910452e+07,\n",
       "       4.9916024e+07, 4.9920044e+07, 4.9923040e+07, 4.9925316e+07,\n",
       "       4.9927116e+07, 4.9928556e+07, 4.9929712e+07, 4.9930680e+07,\n",
       "       4.9931480e+07, 4.9932124e+07, 4.9932672e+07, 4.9933184e+07,\n",
       "       4.9933576e+07], dtype=float32)"
      ]
     },
     "execution_count": 26,
     "metadata": {},
     "output_type": "execute_result"
    }
   ],
   "source": [
    "plt.plot(eigvals_em)"
   ]
  },
  {
   "cell_type": "code",
   "execution_count": 23,
   "metadata": {},
   "outputs": [
    {
     "data": {
      "text/plain": [
       "(10, 10)"
      ]
     },
     "execution_count": 23,
     "metadata": {},
     "output_type": "execute_result"
    }
   ],
   "source": [
    "naive_est.shape"
   ]
  },
  {
   "cell_type": "code",
   "execution_count": null,
   "metadata": {},
   "outputs": [],
   "source": []
  }
 ],
 "metadata": {
  "kernelspec": {
   "display_name": "Python 3 (ipykernel)",
   "language": "python",
   "name": "python3"
  },
  "language_info": {
   "codemirror_mode": {
    "name": "ipython",
    "version": 3
   },
   "file_extension": ".py",
   "mimetype": "text/x-python",
   "name": "python",
   "nbconvert_exporter": "python",
   "pygments_lexer": "ipython3",
   "version": "3.10.13"
  }
 },
 "nbformat": 4,
 "nbformat_minor": 4
}
