{
 "cells": [
  {
   "cell_type": "code",
   "execution_count": 59,
   "metadata": {},
   "outputs": [
    {
     "name": "stdout",
     "output_type": "stream",
     "text": [
      "The autoreload extension is already loaded. To reload it, use:\n",
      "  %reload_ext autoreload\n"
     ]
    }
   ],
   "source": [
    "%load_ext autoreload\n",
    "%autoreload 2"
   ]
  },
  {
   "cell_type": "code",
   "execution_count": 60,
   "metadata": {},
   "outputs": [],
   "source": [
    "import os\n",
    "import pathlib\n",
    "import glob as glob\n",
    "\n",
    "import hydra\n",
    "from omegaconf import OmegaConf\n",
    "import jax.numpy as jnp\n",
    "import jax.random as jr\n",
    "import matplotlib.pyplot as plt\n",
    "\n",
    "from cohlib.observations import sample_obs\n",
    "from cohlib.utils import add0, jax_boilerplate, pickle_save, pickle_open\n",
    "\n",
    "import cohlib.confs.utils as conf\n",
    "from cohlib.confs.latent import create_lrccn_basic_rank1\n",
    "from cohlib.confs.config import get_sim_config"
   ]
  },
  {
   "cell_type": "code",
   "execution_count": 61,
   "metadata": {},
   "outputs": [],
   "source": [
    "# Get plots for previously saved data with large oscillations / high rate\n",
    "app_res_path = '/projectnb/stephenlab/jtauber/cohlib/experiments/data/app/app_rat15/bottomK/latent-app_single_fullrank/window10000/K25/L50/obs-app_pp_log/mu-empirical/model-simple_inherit_latent_fullrank_pinv/inherit-True/m_step-full-rank-standard/empirical-init/newton-10_em-20/res.pkl'\n",
    "app_res_path_lr = '/projectnb/stephenlab/jtauber/cohlib/experiments/data/app/app_rat15/bottomK/latent-app_single_fullrank/window10000/K25/L50/obs-app_pp_log/mu-empirical/model-simple_inherit_latent_fullrank_pinv/inherit-True/m_step-testing-factor-igprior/empirical-init/newton-10_em-20/res.pkl'\n",
    "res = pickle_open(app_res_path)\n",
    "res_lr = pickle_open(app_res_path_lr)"
   ]
  },
  {
   "cell_type": "code",
   "execution_count": 62,
   "metadata": {},
   "outputs": [
    {
     "name": "stdout",
     "output_type": "stream",
     "text": [
      "Hermitian matrix:\n",
      " [[1.+0.j 2.+3.j 4.-1.j]\n",
      " [2.-3.j 5.+0.j 6.+2.j]\n",
      " [4.+1.j 6.-2.j 3.+0.j]]\n",
      "Is Hermitian? True\n"
     ]
    }
   ],
   "source": [
    "import jax.numpy as jnp\n",
    "from typing import Any\n",
    "\n",
    "def hermitize_from_upper(A: jnp.ndarray) -> jnp.ndarray:\n",
    "    \"\"\"\n",
    "    Construct a Hermitian matrix by copying the conjugate-transpose of the\n",
    "    upper-triangular part of `A` (excluding the diagonal) into the strictly\n",
    "    lower-triangular part.\n",
    "\n",
    "    Parameters\n",
    "    ----------\n",
    "    A : jnp.ndarray\n",
    "        Square complex (or real) array of shape (N, N).\n",
    "\n",
    "    Returns\n",
    "    -------\n",
    "    H : jnp.ndarray\n",
    "        Hermitian array with H == H.conj().T.\n",
    "\n",
    "    Raises\n",
    "    ------\n",
    "    ValueError\n",
    "        If `A` is not a square matrix.\n",
    "\n",
    "    Notes\n",
    "    -----\n",
    "    * Works with any JAX dtype that implements `.conj()`.\n",
    "    * Does **not** modify `A` in-place; a new array is returned.\n",
    "    * You can `jax.jit`-compile the function externally if desired.\n",
    "    \"\"\"\n",
    "    if A.ndim != 2 or A.shape[0] != A.shape[1]:\n",
    "        raise ValueError(\"Input must be a square matrix.\")\n",
    "\n",
    "    # Strict upper-triangle (k=1 excludes the diagonal)\n",
    "    strict_upper = jnp.triu(A, k=1)\n",
    "\n",
    "    # Diagonal preserved as-is\n",
    "    diag = jnp.diag(jnp.diag(A))\n",
    "\n",
    "    # Assemble Hermitian matrix:   H = diag + U + Uᴴ\n",
    "    H = diag + strict_upper + strict_upper.conj().T\n",
    "    return H\n",
    "\n",
    "\n",
    "# --- Example --------------------------------------------------------------\n",
    "if __name__ == \"__main__\":\n",
    "    import jax\n",
    "\n",
    "    A = jnp.array([[1+0j, 2+3j, 4-1j],\n",
    "                   [7+5j, 5+0j, 6+2j],\n",
    "                   [8-4j, 9+1j, 3+0j]])\n",
    "\n",
    "    H = hermitize_from_upper(A)\n",
    "    print(\"Hermitian matrix:\\n\", H)\n",
    "    print(\"Is Hermitian?\", jnp.allclose(H, H.conj().T))\n",
    "\n",
    "    # Optional: JIT-compile for speed on repeated calls\n",
    "    hermitize_jit = jax.jit(hermitize_from_upper)\n"
   ]
  },
  {
   "cell_type": "code",
   "execution_count": 63,
   "metadata": {},
   "outputs": [],
   "source": [
    "from cohlib.utils import naive_estimator\n",
    "from cohlib.latent import CCN\n",
    "mseed = 42\n",
    "mcM = 200\n",
    "def get_pushforward_model_est_mc(res, mus, nz_model, freqs, num_mc_samples=mcM, mc_seed=mseed):\n",
    "    cov = res['ccn_est'].gamma[0,:,:]\n",
    "    K = cov.shape[0]\n",
    "    cov_mod = hermitize_from_upper(cov)\n",
    "    cov_mod = cov_mod.at[jnp.eye(K).astype(bool)].set(jnp.diag(cov_mod).real)\n",
    "    dist = CCN(cov_mod[None,:,:], freqs, nz_model)\n",
    "\n",
    "    rk = jr.key(mc_seed)\n",
    "    zs_mc = dist.sample(rk, num_mc_samples)\n",
    "    zs_0dc_mc = jnp.apply_along_axis(add0, 0, zs_mc)\n",
    "    xs_mc = jnp.fft.irfft(zs_0dc_mc, axis=0)\n",
    "\n",
    "    lams = jnp.exp(mus[None,:,None] + xs_mc)\n",
    "    gamma_est_pushforward_mc = naive_estimator(lams, nz_model)\n",
    "\n",
    "    return gamma_est_pushforward_mc"
   ]
  },
  {
   "cell_type": "code",
   "execution_count": 64,
   "metadata": {},
   "outputs": [
    {
     "data": {
      "text/plain": [
       "{'latent_type': 'app_single_fullrank', 'num_freqs': 5000, 'target_freq_ind': 14, 'K': 25, 'L': 50}"
      ]
     },
     "execution_count": 64,
     "metadata": {},
     "output_type": "execute_result"
    }
   ],
   "source": [
    "def omega(cfg):\n",
    "    return OmegaConf.create(cfg)\n",
    "cfg = omega(res['cfg'])\n",
    "cfg.latent"
   ]
  },
  {
   "cell_type": "code",
   "execution_count": 65,
   "metadata": {},
   "outputs": [
    {
     "name": "stdout",
     "output_type": "stream",
     "text": [
      "Loading App Data\n",
      "Experiment Type: bottomK\n"
     ]
    }
   ],
   "source": [
    "from cohlib.utils import rotate_eigvecs\n",
    "eigrank = 1\n",
    "load_app_obs = conf.load_app_data(cfg)\n",
    "obs = load_app_obs['obs']\n",
    "lcfg = cfg.latent\n",
    "nz_model = jnp.array([lcfg.target_freq_ind])\n",
    "N = lcfg.num_freqs\n",
    "freqs = jnp.arange(N)\n",
    "ocfg = omega(res['cfg']['obs'])\n",
    "obs_params, obs_type = conf.get_app_obs_params(ocfg, obs)\n",
    "mus = obs_params['mu']\n",
    "gamma_model_pushforward_mc = get_pushforward_model_est_mc(res, mus, nz_model, freqs)\n",
    "\n",
    "eigvals_model = jnp.linalg.eigh(gamma_model_pushforward_mc)[0][::-1]\n",
    "eigval_model = eigvals_model[eigrank-1]\n",
    "eigvecs_model = jnp.linalg.eigh(gamma_model_pushforward_mc.squeeze())[1][:,::-1]\n",
    "eigvec_model = rotate_eigvecs(eigvecs_model[None,:,:])[0,:,eigrank-1]"
   ]
  },
  {
   "cell_type": "code",
   "execution_count": 66,
   "metadata": {},
   "outputs": [],
   "source": [
    "gamma_model_lr_pushforward_mc = get_pushforward_model_est_mc(res_lr, mus, nz_model, freqs)\n",
    "\n",
    "eigvals_model_lr = jnp.linalg.eigh(gamma_model_lr_pushforward_mc)[0][::-1]\n",
    "eigval_model_lr = eigvals_model_lr[eigrank-1]\n",
    "eigvecs_model_lr = jnp.linalg.eigh(gamma_model_lr_pushforward_mc.squeeze())[1][:,::-1]\n",
    "eigvec_model_lr = rotate_eigvecs(eigvecs_model_lr[None,:,:])[0,:,eigrank-1]\n"
   ]
  },
  {
   "cell_type": "code",
   "execution_count": 67,
   "metadata": {},
   "outputs": [
    {
     "data": {
      "text/plain": [
       "Array([8.2909778e+02, 1.0926852e+03, 1.6041869e+03, 1.8861866e+03,\n",
       "       2.5901506e+03, 2.7895317e+03, 3.4821531e+03, 5.5513545e+03,\n",
       "       6.4933628e+03, 6.7822246e+03, 8.2563916e+03, 9.5748779e+03,\n",
       "       1.2155118e+04, 1.3373146e+04, 1.7777131e+04, 2.0688949e+04,\n",
       "       2.3424902e+04, 3.0741297e+04, 3.3880469e+04, 4.5057438e+04,\n",
       "       4.0774422e+05, 9.6614869e+05, 1.6742579e+06, 6.8725080e+06,\n",
       "       8.5564650e+06], dtype=float32)"
      ]
     },
     "execution_count": 67,
     "metadata": {},
     "output_type": "execute_result"
    }
   ],
   "source": [
    "eigvals_model_lr.squeeze()"
   ]
  },
  {
   "cell_type": "code",
   "execution_count": 68,
   "metadata": {},
   "outputs": [
    {
     "data": {
      "text/plain": [
       "[<matplotlib.lines.Line2D at 0x14bb28670c40>]"
      ]
     },
     "execution_count": 68,
     "metadata": {},
     "output_type": "execute_result"
    },
    {
     "data": {
      "image/png": "[encoded data removed]",
      "text/plain": [
       "<Figure size 640x480 with 1 Axes>"
      ]
     },
     "metadata": {},
     "output_type": "display_data"
    }
   ],
   "source": [
    "plt.plot(eigvals_model.squeeze(), color='tab:blue')\n",
    "plt.plot(eigvals_model_lr.squeeze(), color='tab:purple')\n",
    "# plt.ylim([0,1e8])"
   ]
  },
  {
   "cell_type": "code",
   "execution_count": 69,
   "metadata": {},
   "outputs": [
    {
     "data": {
      "text/plain": [
       "(25, 25)"
      ]
     },
     "execution_count": 69,
     "metadata": {},
     "output_type": "execute_result"
    }
   ],
   "source": [
    "eigvecs_model.shape"
   ]
  },
  {
   "cell_type": "code",
   "execution_count": null,
   "metadata": {},
   "outputs": [],
   "source": []
  },
  {
   "cell_type": "code",
   "execution_count": 70,
   "metadata": {},
   "outputs": [
    {
     "name": "stdout",
     "output_type": "stream",
     "text": [
      "Loading App Data\n",
      "Experiment Type: bottomK\n"
     ]
    }
   ],
   "source": [
    "load_app_obs = conf.load_app_data(cfg)\n",
    "obs = load_app_obs['obs']"
   ]
  },
  {
   "cell_type": "code",
   "execution_count": 46,
   "metadata": {},
   "outputs": [
    {
     "data": {
      "text/plain": [
       "Array([-0.78965807, -0.8439701 , -0.90140206, -0.9571127 , -0.99425226,\n",
       "       -1.0272224 , -1.0906441 , -1.1270118 , -1.1776555 , -1.2378744 ,\n",
       "       -1.3019532 , -1.3783262 , -1.4105871 , -1.4610178 , -1.5994877 ,\n",
       "       -1.609438  , -1.6928196 , -1.7372713 , -1.9951004 , -2.0557249 ,\n",
       "       -2.0557249 , -2.244316  , -2.3025851 , -2.453408  , -2.6036901 ],      dtype=float32)"
      ]
     },
     "execution_count": 46,
     "metadata": {},
     "output_type": "execute_result"
    }
   ],
   "source": [
    "ocfg = omega(res['cfg']['obs'])\n",
    "obs_params, obs_type = conf.get_app_obs_params(ocfg, obs)\n",
    "obs_params['mu']"
   ]
  },
  {
   "cell_type": "code",
   "execution_count": null,
   "metadata": {},
   "outputs": [],
   "source": []
  },
  {
   "cell_type": "code",
   "execution_count": 47,
   "metadata": {},
   "outputs": [],
   "source": [
    "eigrank = 1\n",
    "jind_nz = 0\n",
    "\n",
    "# TODO fix for \n",
    "nz_model = cfg.latent.target_freq_ind\n",
    "\n",
    "naive_est = naive_estimator(obs, nz_model)*1e6"
   ]
  },
  {
   "cell_type": "code",
   "execution_count": 48,
   "metadata": {},
   "outputs": [],
   "source": [
    "evals_model, evecs_model = jnp.linalg.eigh(res['ccn_est'].gamma.squeeze())\n",
    "evals_naive, evecs_naive = jnp.linalg.eigh(naive_est)"
   ]
  },
  {
   "cell_type": "code",
   "execution_count": 49,
   "metadata": {},
   "outputs": [
    {
     "data": {
      "text/plain": [
       "(25, 25)"
      ]
     },
     "execution_count": 49,
     "metadata": {},
     "output_type": "execute_result"
    }
   ],
   "source": [
    "evecs_model.shape"
   ]
  },
  {
   "cell_type": "code",
   "execution_count": 50,
   "metadata": {},
   "outputs": [],
   "source": [
    "thetas_model = jnp.angle(evecs_model[0,:])\n",
    "rotations_model = jnp.exp(-1j*thetas_model)\n",
    "rotated_model = evecs_model * rotations_model[None,:]"
   ]
  },
  {
   "cell_type": "code",
   "execution_count": null,
   "metadata": {},
   "outputs": [],
   "source": []
  },
  {
   "cell_type": "code",
   "execution_count": 51,
   "metadata": {},
   "outputs": [],
   "source": [
    "thetas_model = jnp.angle(eigvecs_model[0,:])\n",
    "rotations_model = jnp.exp(-1j*thetas_model)\n",
    "rotated_model = eigvecs_model * rotations_model[None,:]"
   ]
  },
  {
   "cell_type": "code",
   "execution_count": 52,
   "metadata": {},
   "outputs": [],
   "source": [
    "thetas_naive = jnp.angle(evecs_naive[0,:])\n",
    "rotations_naive = jnp.exp(-1j*thetas_naive)\n",
    "rotated_naive = evecs_naive * rotations_naive[None,:]"
   ]
  },
  {
   "cell_type": "code",
   "execution_count": 53,
   "metadata": {},
   "outputs": [],
   "source": [
    "save_path = '/projectnb/stephenlab/jtauber/cohlib/experiments/lr_figures/temp'"
   ]
  },
  {
   "cell_type": "code",
   "execution_count": 56,
   "metadata": {},
   "outputs": [
    {
     "data": {
      "text/plain": [
       "Array([ 0.5508482 +4.8156679e-08j,  0.03842293+9.9360682e-02j,\n",
       "       -0.5219376 -1.1832644e-01j, -0.21645492-1.3722951e-02j,\n",
       "        0.14021038+1.0818241e-01j,  0.22160037+2.0562407e-01j,\n",
       "        0.03811511+3.9865084e-02j,  0.00814964-8.3556054e-03j,\n",
       "        0.09439594+4.8307430e-02j,  0.13663925+5.5350170e-02j,\n",
       "        0.15039346+2.6080224e-01j,  0.11852376+1.2272032e-01j,\n",
       "        0.09072683-8.7335967e-02j, -0.0024455 +1.1401019e-01j,\n",
       "       -0.02537654+4.0301025e-02j,  0.07551329+1.3961488e-01j,\n",
       "        0.00902267+6.2968671e-02j, -0.0504507 +2.4694590e-02j,\n",
       "       -0.03494316+7.3934026e-02j, -0.01158209+8.6801359e-03j,\n",
       "       -0.03313761+5.8928863e-03j, -0.00870398-2.4638684e-02j,\n",
       "       -0.00127349+2.0930765e-02j,  0.00185666+2.0065654e-02j,\n",
       "       -0.00439639-1.1125187e-05j], dtype=complex64)"
      ]
     },
     "execution_count": 56,
     "metadata": {},
     "output_type": "execute_result"
    }
   ],
   "source": [
    "eigvec_model_lr"
   ]
  },
  {
   "cell_type": "code",
   "execution_count": 71,
   "metadata": {},
   "outputs": [
    {
     "data": {
      "image/png": "[encoded data removed]",
      "text/plain": [
       "<Figure size 200x200 with 1 Axes>"
      ]
     },
     "metadata": {},
     "output_type": "display_data"
    }
   ],
   "source": [
    "lim = 0.7\n",
    "fig, ax = plt.subplots(figsize=(2,2))\n",
    "ax.plot(rotated_naive[:,-1].real, rotated_naive[:,-1].imag, '.', markersize=10,  color='tab:red', alpha=0.5, label='naive')\n",
    "# ax.plot(rotated_model[:,-1].real, rotated_model[:,-1].imag, '.', markersize=10,  color='tab:blue', alpha=0.8, label='model')\n",
    "ax.plot(eigvec_model.real, eigvec_model.imag, '.', markersize=10,  color='tab:blue', alpha=0.8, label='model')\n",
    "ax.plot(eigvec_model_lr.real, eigvec_model_lr.imag, '.', markersize=10,  color='tab:purple', alpha=0.8, label='model-lr')\n",
    "ax.axhline(0, color='k', linestyle='--', linewidth=0.5)\n",
    "ax.axvline(0, color='k', linestyle='--', linewidth=0.5)\n",
    "ax.set_xlim([-lim,lim])\n",
    "ax.set_ylim([-lim,lim])\n",
    "# plt.legend()\n",
    "\n",
    "save_name = os.path.join(save_path, '4evec_low.png')\n",
    "plt.savefig(save_name, dpi=600, bbox_inches=\"tight\")\n"
   ]
  },
  {
   "cell_type": "code",
   "execution_count": 26,
   "metadata": {},
   "outputs": [
    {
     "data": {
      "text/plain": [
       "(1, 25)"
      ]
     },
     "execution_count": 26,
     "metadata": {},
     "output_type": "execute_result"
    }
   ],
   "source": [
    "eigvals_model.shape"
   ]
  },
  {
   "cell_type": "code",
   "execution_count": 72,
   "metadata": {},
   "outputs": [
    {
     "data": {
      "image/png": "[encoded data removed]",
      "text/plain": [
       "<Figure size 200x100 with 1 Axes>"
      ]
     },
     "metadata": {},
     "output_type": "display_data"
    }
   ],
   "source": [
    "K = 25\n",
    "x = jnp.arange(K) + 1\n",
    "fig, ax = plt.subplots(figsize=(2,1))\n",
    "mw = 3\n",
    "evs_model, _ = jnp.linalg.eigh(res['ccn_est'].gamma)\n",
    "evs_naive, _ = jnp.linalg.eigh(naive_est)\n",
    "ax.plot(x, evs_naive.squeeze()[::-1], color='tab:red', linewidth=mw, label = 'naive')\n",
    "ax.plot(x, eigvals_model.squeeze()[::-1], color='tab:blue', linewidth=mw, label='model')\n",
    "ax.plot(x, eigvals_model_lr.squeeze()[::-1], color='tab:purple', linewidth=mw, label='model-lr')\n",
    "# ax.plot(x, func(true_dummy)/K, color='k', linewidth=mw, label='true') ax.plot(x, func(jnp.stack(plot_dict['naive'])).mean(0)/K, linewidth=mw, color='tab:red', label='naive')\n",
    "# ax.fill_between(x, naive_low, naive_high, color='tab:red', alpha=0.3)\n",
    "# ax.plot(x, func(jnp.stack(plot_dict['model'])).mean(0)/K, linewidth=mw, color='tab:blue', label='model')\n",
    "# ax.fill_between(x, model_low, model_high, color='tab:blue', alpha=0.3)\n",
    "# ax.plot(x, func(jnp.stack(plot_dict['oracle'])).mean(0)/K,  linewidth=mw, color='tab:green', linestyle='--', label='oracle')\n",
    "# ax.fill_between(x, oracle_low, oracle_high, color='tab:green', alpha=0.3)\n",
    "# ax.set_ylabel(r'$\\hat{\\lambda}/K$')\n",
    "# ax.set_xlabel('Eigenvalue Index')\n",
    "# ax.set_ylim([0,80000])\n",
    "plt.ticklabel_format(axis='y', style='sci', scilimits=(0, 0))\n",
    "\n",
    "# ax.set_title(r'$\\mu_{e}$=2.5' + ' spikes/sec; L = 25')\n",
    "# ax.set_title(r'$\\mu$=2.5' + ' spikes/sec; L = 25$')\n",
    "# plt.legend(fontsize=8)\n",
    "# ax.set_xlim(0,5)\n",
    "\n",
    "save_name = os.path.join(save_path, '4evals_low.png')\n",
    "plt.savefig(save_name, dpi=600, bbox_inches=\"tight\")\n",
    "\n"
   ]
  },
  {
   "cell_type": "code",
   "execution_count": 73,
   "metadata": {},
   "outputs": [
    {
     "name": "stdout",
     "output_type": "stream",
     "text": [
      "0.45695028\n",
      "0.33838928\n",
      "0.16161384\n"
     ]
    }
   ],
   "source": [
    "print(eigvals_model_lr.squeeze()[-1] / eigvals_model_lr.squeeze().sum())\n",
    "print(eigvals_model.squeeze()[-1] / eigvals_model.squeeze().sum())\n",
    "print(evs_naive.squeeze()[-1] / evs_naive.squeeze().sum())"
   ]
  },
  {
   "cell_type": "code",
   "execution_count": null,
   "metadata": {},
   "outputs": [],
   "source": []
  },
  {
   "cell_type": "code",
   "execution_count": null,
   "metadata": {},
   "outputs": [],
   "source": []
  },
  {
   "cell_type": "code",
   "execution_count": null,
   "metadata": {},
   "outputs": [],
   "source": []
  },
  {
   "cell_type": "code",
   "execution_count": null,
   "metadata": {},
   "outputs": [],
   "source": []
  },
  {
   "cell_type": "code",
   "execution_count": null,
   "metadata": {},
   "outputs": [],
   "source": []
  },
  {
   "cell_type": "code",
   "execution_count": null,
   "metadata": {},
   "outputs": [],
   "source": []
  },
  {
   "cell_type": "code",
   "execution_count": 58,
   "metadata": {},
   "outputs": [
    {
     "data": {
      "text/plain": [
       "<matplotlib.legend.Legend at 0x14dd12a748e0>"
      ]
     },
     "execution_count": 58,
     "metadata": {},
     "output_type": "execute_result"
    },
    {
     "data": {
      "image/png": "[encoded data removed]",
      "text/plain": [
       "<Figure size 200x100 with 1 Axes>"
      ]
     },
     "metadata": {},
     "output_type": "display_data"
    }
   ],
   "source": [
    "K = 20\n",
    "x = jnp.arange(K) + 1\n",
    "fig, ax = plt.subplots(figsize=(2,1))\n",
    "mw = 3\n",
    "evs_model, _ = jnp.linalg.eigh(res['ccn_est'].gamma)\n",
    "evs_naive, _ = jnp.linalg.eigh(naive_est)\n",
    "ax.plot(evs_naive.squeeze()[::-1], color='tab:red', linewidth=mw, label = 'naive')\n",
    "# ax.plot(evs_model.squeeze()[::-1], color='tab:blue', linewidth=mw, label='model')\n",
    "# ax.plot(x, func(true_dummy)/K, color='k', linewidth=mw, label='true') ax.plot(x, func(jnp.stack(plot_dict['naive'])).mean(0)/K, linewidth=mw, color='tab:red', label='naive')\n",
    "# ax.fill_between(x, naive_low, naive_high, color='tab:red', alpha=0.3)\n",
    "# ax.plot(x, func(jnp.stack(plot_dict['model'])).mean(0)/K, linewidth=mw, color='tab:blue', label='model')\n",
    "# ax.fill_between(x, model_low, model_high, color='tab:blue', alpha=0.3)\n",
    "# ax.plot(x, func(jnp.stack(plot_dict['oracle'])).mean(0)/K,  linewidth=mw, color='tab:green', linestyle='--', label='oracle')\n",
    "# ax.fill_between(x, oracle_low, oracle_high, color='tab:green', alpha=0.3)\n",
    "# ax.set_ylabel(r'$\\hat{\\lambda}/K$')\n",
    "# ax.set_xlabel('Eigenvalue Index')\n",
    "# ax.set_ylim([0,80000])\n",
    "plt.ticklabel_format(axis='y', style='sci', scilimits=(0, 0))\n",
    "\n",
    "# ax.set_title(r'$\\mu_{e}$=2.5' + ' spikes/sec; L = 25')\n",
    "# ax.set_title(r'$\\mu$=2.5' + ' spikes/sec; L = 25$')\n",
    "plt.legend(fontsize=8)\n",
    "# ax.set_xlim(0,5)\n"
   ]
  },
  {
   "cell_type": "code",
   "execution_count": null,
   "metadata": {},
   "outputs": [],
   "source": [
    "fig\n",
    "evs_model, _ = jnp.linalg.eigh(res['ccn_est'].gamma)\n",
    "evs_naive, _ = jnp.linalg.eigh(naive_est)\n",
    "ax.plot(evs_model.squeeze()[::-1])\n",
    "ax.plot(evs_naive.squeeze()[::-1])"
   ]
  },
  {
   "cell_type": "code",
   "execution_count": 21,
   "metadata": {},
   "outputs": [],
   "source": [
    "def plot_eigval_var_L_subplot(ax, plot_dict, drop_emp):\n",
    "    naive_color = 'tab:red'\n",
    "    naive_style = 'dashed'\n",
    "    naive_width = 2\n",
    "\n",
    "    true_color = 'k'\n",
    "    true_style = 'solid'\n",
    "    true_width = 2\n",
    "\n",
    "    oracle_color = 'tab:green'\n",
    "    oracle_style = 'dotted'\n",
    "    oracle_width = 2.5\n",
    "\n",
    "    est_color = 'tab:blue'\n",
    "    est_style = 'solid'\n",
    "    est_width = 2\n",
    "\n",
    "    ev_true = plot_dict['eigval_true']\n",
    "    ev_oracle = plot_dict['eigval_oracle']\n",
    "    ev_naive = plot_dict['eigval_naive']\n",
    "    evs_em = plot_dict['eigvals_em']\n",
    "\n",
    "    ax.axhline(ev_true, linestyle=true_style, color=true_color, linewidth=true_width)\n",
    "    ax.axhline(ev_oracle, linestyle=oracle_style, color=oracle_color, linewidth=oracle_width)\n",
    "    if drop_emp is False:\n",
    "        ax.axhline(ev_naive, linestyle=naive_style, color=naive_color, linewidth=naive_width)\n",
    "    ax.plot(evs_em, color=est_color, linestyle=est_style, linewidth=est_width)\n",
    "\n",
    "def get_theta_label(ocfg, theta):\n",
    "    if ocfg.obs_type == 'gaussian':\n",
    "        label = f'{ocfg.ov1}e{theta}'\n",
    "    elif ocfg.obs_type in ['pp_relu', 'pp_log']:\n",
    "        label = f'mu = {theta}'\n",
    "    else:\n",
    "        return ValueError\n",
    "    return label\n",
    "\n",
    "def get_ccn_fullrank_eigvals(ccn):\n",
    "    \"\"\"\n",
    "    ccn.gamma shape (J x K x K)\n",
    "    \"\"\"\n",
    "    gamma = ccn.gamma\n",
    "    eigvals_raw, _ = jnp.linalg.eigh(gamma)\n",
    "    eigvals = eigvals_raw[:,::-1]\n",
    "    return eigvals"
   ]
  },
  {
   "cell_type": "code",
   "execution_count": 59,
   "metadata": {},
   "outputs": [],
   "source": [
    "from cohlib.utils import rotate_eigvecs, naive_estimator\n",
    "from cohlib.plot import get_eigval\n",
    "eigrank = 1\n",
    "eigvals_em = jnp.stack([get_ccn_fullrank_eigvals(x)[0,eigrank-1] for x in res['track']['ccn']])\n",
    "\n",
    "# load zs data and compute oracle est\n",
    "jind_nz = 0\n",
    "\n",
    "# TODO fix for \n",
    "nz_model = cfg.latent.target_freq_ind\n",
    "\n",
    "naive_est = naive_estimator(obs, nz_model)*1e6\n",
    "naive_eigval = get_eigval(naive_est[:,:], eigrank)"
   ]
  },
  {
   "cell_type": "code",
   "execution_count": 60,
   "metadata": {},
   "outputs": [
    {
     "data": {
      "text/plain": [
       "<cohlib.latent.CCN at 0x1482254fa350>"
      ]
     },
     "execution_count": 60,
     "metadata": {},
     "output_type": "execute_result"
    }
   ],
   "source": [
    "res['ccn_est']"
   ]
  },
  {
   "cell_type": "code",
   "execution_count": 22,
   "metadata": {},
   "outputs": [
    {
     "data": {
      "text/plain": [
       "[<matplotlib.lines.Line2D at 0x147854d6cdc0>]"
      ]
     },
     "execution_count": 22,
     "metadata": {},
     "output_type": "execute_result"
    },
    {
     "data": {
      "image/png": "[encoded data removed]",
      "text/plain": [
       "<Figure size 640x480 with 1 Axes>"
      ]
     },
     "metadata": {},
     "output_type": "display_data"
    }
   ],
   "source": [
    "evs_model, _ = jnp.linalg.eigh(res['ccn_est'].gamma)\n",
    "evs_naive, _ = jnp.linalg.eigh(naive_est)\n",
    "plt.plot(evs_model.squeeze()[::-1])\n",
    "plt.plot(evs_naive.squeeze()[::-1])"
   ]
  },
  {
   "cell_type": "code",
   "execution_count": null,
   "metadata": {},
   "outputs": [],
   "source": [
    "from cohlib.utils import rotate_eigvecs, naive_estimator\n",
    "from cohlib.plot import get_eigval\n",
    "eigrank = 1\n",
    "eigvals_em = jnp.stack([get_ccn_fullrank_eigvals(x)[0,eigrank-1] for x in res['track']['ccn']])\n",
    "\n",
    "# load zs data and compute oracle est\n",
    "jind_nz = 0\n",
    "\n",
    "# TODO fix for \n",
    "nz_model = cfg.latent.target_freq_ind\n",
    "\n",
    "naive_est = naive_estimator(obs, nz_model)*1e6\n",
    "naive_eigval = get_eigval(naive_est[:,:], eigrank)"
   ]
  },
  {
   "cell_type": "code",
   "execution_count": 62,
   "metadata": {},
   "outputs": [
    {
     "data": {
      "text/plain": [
       "Array(0.98464453, dtype=float32)"
      ]
     },
     "execution_count": 62,
     "metadata": {},
     "output_type": "execute_result"
    }
   ],
   "source": [
    "evs_model.squeeze()[-1] / evs_model.sum()\n",
    "# evs_naive.squeeze()[-1] / evs_naive.sum()"
   ]
  },
  {
   "cell_type": "code",
   "execution_count": 63,
   "metadata": {},
   "outputs": [
    {
     "data": {
      "text/plain": [
       "[<matplotlib.lines.Line2D at 0x1482276bfa90>]"
      ]
     },
     "execution_count": 63,
     "metadata": {},
     "output_type": "execute_result"
    },
    {
     "data": {
      "image/png": "[encoded data removed]",
      "text/plain": [
       "<Figure size 600x300 with 1 Axes>"
      ]
     },
     "metadata": {},
     "output_type": "display_data"
    }
   ],
   "source": [
    "drop_emp = False\n",
    "naive_color = 'tab:red'\n",
    "naive_style = 'dashed'\n",
    "naive_width = 2\n",
    "\n",
    "est_color = 'tab:blue'\n",
    "est_style = 'solid'\n",
    "est_width = 2\n",
    "\n",
    "# ev_true = plot_dict['eigval_true']\n",
    "# ev_oracle = plot_dict['eigval_oracle']\n",
    "# ev_naive = plot_dict['eigval_naive']\n",
    "# evs_em = plot_dict['eigvals_em']\n",
    "\n",
    "fig, ax = plt.subplots(figsize=(6,3))\n",
    "if drop_emp is False:\n",
    "    ax.axhline(naive_eigval, linestyle=naive_style, color=naive_color, linewidth=naive_width)\n",
    "ax.plot(eigvals_em, color=est_color, linestyle=est_style, linewidth=est_width)"
   ]
  },
  {
   "cell_type": "code",
   "execution_count": 64,
   "metadata": {},
   "outputs": [
    {
     "data": {
      "text/plain": [
       "<module 'jax.numpy' from '/projectnb/stephenlab/jtauber/.conda/envs/sgc_env/lib/python3.10/site-packages/jax/numpy/__init__.py'>"
      ]
     },
     "execution_count": 64,
     "metadata": {},
     "output_type": "execute_result"
    }
   ],
   "source": [
    "jnp"
   ]
  },
  {
   "cell_type": "code",
   "execution_count": null,
   "metadata": {},
   "outputs": [],
   "source": [
    "def get_ccn_fullrank_eigvecs(ccn):\n",
    "    \"\"\"\n",
    "    ccn.gamma shape (J x K x K)\n",
    "    \"\"\"\n",
    "    gamma = ccn.gamma\n",
    "    _, eigvecs_raw = jnp.linalg.eigh(gamma)\n",
    "    eigvecs = eigvecs_raw[:,:,::-1]\n",
    "    return eigvecs"
   ]
  },
  {
   "cell_type": "code",
   "execution_count": 72,
   "metadata": {},
   "outputs": [],
   "source": [
    "def get_ccn_fullrank_eigvecs(ccn):\n",
    "    \"\"\"\n",
    "    ccn.gamma shape (J x K x K)\n",
    "    \"\"\"\n",
    "    gamma = ccn.gamma\n",
    "    _, eigvecs_raw = jnp.linalg.eigh(gamma)\n",
    "    eigvecs = eigvecs_raw[:,:,::-1]\n",
    "    return eigvecs"
   ]
  },
  {
   "cell_type": "code",
   "execution_count": 73,
   "metadata": {},
   "outputs": [],
   "source": [
    "eigvecs_em = jnp.stack([rotate_eigvecs(get_ccn_fullrank_eigvecs(x))[0,:,eigrank-1] for x in res['track']['ccn']])"
   ]
  },
  {
   "cell_type": "code",
   "execution_count": 75,
   "metadata": {},
   "outputs": [
    {
     "data": {
      "text/plain": [
       "(21, 10)"
      ]
     },
     "execution_count": 75,
     "metadata": {},
     "output_type": "execute_result"
    }
   ],
   "source": []
  },
  {
   "cell_type": "code",
   "execution_count": 65,
   "metadata": {},
   "outputs": [],
   "source": [
    "evs_model, _  = jnp.linalg.eigh(res['ccn_est'].gamma)\n",
    "evs_naive, _ = jnp.linalg.eigh(naive_est)"
   ]
  },
  {
   "cell_type": "code",
   "execution_count": 66,
   "metadata": {},
   "outputs": [],
   "source": [
    "evs_model, evecs_model = jnp.linalg.eigh(res['ccn_est'].gamma)\n",
    "evs_naive, evecs_naive = jnp.linalg.eigh(naive_est)"
   ]
  },
  {
   "cell_type": "code",
   "execution_count": 78,
   "metadata": {},
   "outputs": [],
   "source": [
    "x = res['ccn_est']\n",
    "evecs_model2 = rotate_eigvecs(get_ccn_fullrank_eigvecs(x))[0,:,eigrank-1]"
   ]
  },
  {
   "cell_type": "code",
   "execution_count": 70,
   "metadata": {},
   "outputs": [
    {
     "data": {
      "text/plain": [
       "Array([[ 0.08226892+0.03559953j,  0.05420819+0.00459078j,\n",
       "         0.01740329+0.14748599j,  0.01824215-0.17548418j,\n",
       "         0.04005831-0.01652051j, -0.24272335-0.3017471j ,\n",
       "        -0.26468632-0.14176641j, -0.09276522+0.2921133j ,\n",
       "         0.6803575 +0.26561007j,  0.25166693+0.05581713j]],      dtype=complex64)"
      ]
     },
     "execution_count": 70,
     "metadata": {},
     "output_type": "execute_result"
    }
   ],
   "source": [
    "evecs_model[:,-1]"
   ]
  },
  {
   "cell_type": "code",
   "execution_count": 82,
   "metadata": {},
   "outputs": [],
   "source": [
    "from cohlib.plot import get_eigvec\n",
    "naive_eigvec = get_eigvec(naive_est, eigrank)\n",
    "naive_eigvec = naive_eigvec*jnp.exp(-1j*jnp.angle(naive_eigvec[0]))"
   ]
  },
  {
   "cell_type": "code",
   "execution_count": 83,
   "metadata": {},
   "outputs": [
    {
     "data": {
      "text/plain": [
       "Array([0.55281043+0.j        , 0.42898875-0.029037j  ,\n",
       "       0.28245026+0.04205109j, 0.37714002+0.00741504j,\n",
       "       0.2786646 +0.02137076j, 0.2514924 +0.00962131j,\n",
       "       0.23314461+0.02575278j, 0.20338036-0.01104157j,\n",
       "       0.17168188+0.02786134j, 0.12917876+0.02819744j], dtype=complex64)"
      ]
     },
     "execution_count": 83,
     "metadata": {},
     "output_type": "execute_result"
    }
   ],
   "source": [
    "naive_eigvec"
   ]
  },
  {
   "cell_type": "code",
   "execution_count": 84,
   "metadata": {},
   "outputs": [
    {
     "data": {
      "text/plain": [
       "(-1.0, 1.0)"
      ]
     },
     "execution_count": 84,
     "metadata": {},
     "output_type": "execute_result"
    },
    {
     "data": {
      "image/png": "[encoded data removed]",
      "text/plain": [
       "<Figure size 500x500 with 1 Axes>"
      ]
     },
     "metadata": {},
     "output_type": "display_data"
    }
   ],
   "source": [
    "\n",
    "fig, ax = plt.subplots(figsize=(5,5))\n",
    "ax.scatter(evecs_model2.real, evecs_model2.imag, color='tab:blue')\n",
    "ax.scatter(naive_eigvec.real, naive_eigvec.imag, color='tab:red')\n",
    "ax.axhline(0)\n",
    "ax.axvline(0)\n",
    "ax.set_xlim([-1,1])\n",
    "ax.set_ylim([-1,1])"
   ]
  },
  {
   "cell_type": "code",
   "execution_count": null,
   "metadata": {},
   "outputs": [],
   "source": [
    "# plot ev eigvecs"
   ]
  },
  {
   "cell_type": "code",
   "execution_count": 26,
   "metadata": {},
   "outputs": [
    {
     "data": {
      "text/plain": [
       "Array([8.3148247e+09, 5.0653648e+07, 4.9775892e+07, 4.9831884e+07,\n",
       "       4.9869508e+07, 4.9890004e+07, 4.9902384e+07, 4.9910452e+07,\n",
       "       4.9916024e+07, 4.9920044e+07, 4.9923040e+07, 4.9925316e+07,\n",
       "       4.9927116e+07, 4.9928556e+07, 4.9929712e+07, 4.9930680e+07,\n",
       "       4.9931480e+07, 4.9932124e+07, 4.9932672e+07, 4.9933184e+07,\n",
       "       4.9933576e+07], dtype=float32)"
      ]
     },
     "execution_count": 26,
     "metadata": {},
     "output_type": "execute_result"
    }
   ],
   "source": [
    "plt.plot(eigvals_em)"
   ]
  },
  {
   "cell_type": "code",
   "execution_count": 23,
   "metadata": {},
   "outputs": [
    {
     "data": {
      "text/plain": [
       "(10, 10)"
      ]
     },
     "execution_count": 23,
     "metadata": {},
     "output_type": "execute_result"
    }
   ],
   "source": [
    "naive_est.shape"
   ]
  },
  {
   "cell_type": "code",
   "execution_count": null,
   "metadata": {},
   "outputs": [],
   "source": []
  }
 ],
 "metadata": {
  "kernelspec": {
   "display_name": "Python 3 (ipykernel)",
   "language": "python",
   "name": "python3"
  },
  "language_info": {
   "codemirror_mode": {
    "name": "ipython",
    "version": 3
   },
   "file_extension": ".py",
   "mimetype": "text/x-python",
   "name": "python",
   "nbconvert_exporter": "python",
   "pygments_lexer": "ipython3",
   "version": "3.10.13"
  }
 },
 "nbformat": 4,
 "nbformat_minor": 4
}
