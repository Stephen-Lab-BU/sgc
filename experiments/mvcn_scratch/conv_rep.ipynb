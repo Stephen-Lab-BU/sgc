{
 "cells": [
  {
   "cell_type": "code",
   "execution_count": 12,
   "metadata": {},
   "outputs": [],
   "source": [
    "from cohlib.mvcn import gen_mvcn_params, sample_zs_from_Gamma\n",
    "import numpy as np\n",
    "\n",
    "test, freqs = gen_mvcn_params(0.01, 3)\n"
   ]
  },
  {
   "cell_type": "code",
   "execution_count": 15,
   "metadata": {},
   "outputs": [],
   "source": [
    "np.round(test[0,:,:],3)\n",
    "ccov = test[0,:,:]"
   ]
  },
  {
   "cell_type": "code",
   "execution_count": 26,
   "metadata": {},
   "outputs": [],
   "source": [
    "def transform_cov_c2r(complex_cov):\n",
    "    dim = complex_cov.shape[0]\n",
    "    A = np.real(complex_cov)\n",
    "    B = np.imag(complex_cov)\n",
    "    rcov = np.zeros((2*dim, 2*dim))\n",
    "    \n",
    "    rcov = np.block([[A, -B],\n",
    "                     [B, A]])\n",
    "\n",
    "    return rcov/2\n",
    "\n",
    "def transform_cov_r2c(real_cov):\n",
    "    dimR = real_cov.shape[0]\n",
    "    dimC = int(dimR/2)\n",
    "    ccov = np.zeros((dimC, dimC), dtype=complex)\n",
    "\n",
    "    Re = real_cov[:dimC,:dimC]\n",
    "    Im = real_cov[dimC:,:dimC]\n",
    "\n",
    "    ccov = 2*Re + 2*1j*Im\n",
    "\n",
    "    return ccov\n",
    "\n",
    "rcov = transform_cov_c2r(ccov)"
   ]
  },
  {
   "cell_type": "code",
   "execution_count": 27,
   "metadata": {},
   "outputs": [
    {
     "data": {
      "text/plain": [
       "array([[ 6.926+0.j   , -0.521+2.047j, -3.867+1.859j],\n",
       "       [-0.521-2.047j,  2.963+0.j   , -0.621+0.314j],\n",
       "       [-3.867-1.859j, -0.621-0.314j,  5.306+0.j   ]])"
      ]
     },
     "execution_count": 27,
     "metadata": {},
     "output_type": "execute_result"
    }
   ],
   "source": [
    "np.round(ccov, 3)"
   ]
  },
  {
   "cell_type": "code",
   "execution_count": 40,
   "metadata": {},
   "outputs": [
    {
     "data": {
      "text/plain": [
       "array([[ 3.463, -0.261, -1.934, -0.   , -1.023, -0.93 ],\n",
       "       [-0.261,  1.482, -0.311,  1.023, -0.   , -0.157],\n",
       "       [-1.934, -0.311,  2.653,  0.93 ,  0.157, -0.   ],\n",
       "       [ 0.   ,  1.023,  0.93 ,  3.463, -0.261, -1.934],\n",
       "       [-1.023,  0.   ,  0.157, -0.261,  1.482, -0.311],\n",
       "       [-0.93 , -0.157,  0.   , -1.934, -0.311,  2.653]])"
      ]
     },
     "execution_count": 40,
     "metadata": {},
     "output_type": "execute_result"
    }
   ],
   "source": [
    "np.round(rcov, 3)"
   ]
  },
  {
   "cell_type": "code",
   "execution_count": 41,
   "metadata": {},
   "outputs": [
    {
     "data": {
      "text/plain": [
       "array([[ 6.926+0.j   , -0.521+2.047j, -3.867+1.859j],\n",
       "       [-0.521-2.047j,  2.963+0.j   , -0.621+0.314j],\n",
       "       [-3.867-1.859j, -0.621-0.314j,  5.306+0.j   ]])"
      ]
     },
     "execution_count": 41,
     "metadata": {},
     "output_type": "execute_result"
    }
   ],
   "source": [
    "ccov_new = transform_cov_r2c(rcov)\n",
    "np.round(ccov_new, 3)"
   ]
  },
  {
   "cell_type": "code",
   "execution_count": 42,
   "metadata": {},
   "outputs": [],
   "source": [
    "def get_conv_order_I(K, J):\n",
    "    \"\"\"\n",
    "    Assume we have z = (z_1^1, ... z_1^K, z_2^1, ... z_2^K, ... z_J^1, ... z_J^K)\n",
    "    Create matrix I that converts ordering of z to \n",
    "    z_new = (z_1^1, ..., z_J^1, z_1^2, ... z_J^2, ... z_1^K, ..., z_J^K)\n",
    "    \"\"\"\n",
    "    # make sure we actually need this first (computationally)\n",
    "    pass\n",
    "\n"
   ]
  },
  {
   "cell_type": "code",
   "execution_count": null,
   "metadata": {},
   "outputs": [],
   "source": [
    "J = 100\n",
    "K = 3\n",
    "\n",
    "P_z = np.zeros((K*J, K*J))"
   ]
  }
 ],
 "metadata": {
  "kernelspec": {
   "display_name": "test_env2",
   "language": "python",
   "name": "python3"
  },
  "language_info": {
   "codemirror_mode": {
    "name": "ipython",
    "version": 3
   },
   "file_extension": ".py",
   "mimetype": "text/x-python",
   "name": "python",
   "nbconvert_exporter": "python",
   "pygments_lexer": "ipython3",
   "version": "3.10.13"
  },
  "orig_nbformat": 4
 },
 "nbformat": 4,
 "nbformat_minor": 2
}
