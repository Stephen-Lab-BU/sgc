{
 "cells": [
  {
   "cell_type": "code",
   "execution_count": 1,
   "metadata": {},
   "outputs": [],
   "source": [
    "import numpyro\n",
    "import numpyro.distributions as dist\n",
    "import jax.numpy as jnp\n",
    "from numpyro.infer import MCMC, NUTS\n",
    "\n",
    "def complex_mvn_logpdf(z, Gamma):\n",
    "    \"\"\"Log-pdf for z ~ CN(0, Gamma), z: (L, K), Gamma: (K, K) Hermitian\"\"\"\n",
    "    L, K = z.shape\n",
    "    Gamma_inv = jnp.linalg.inv(Gamma)\n",
    "    sign, logdet = jnp.linalg.slogdet(Gamma)\n",
    "\n",
    "    # z: (L, K), Gamma_inv: (K, K)\n",
    "    # Compute quadratic form for each row: zᵢᴴ Γ⁻¹ zᵢ\n",
    "    quad = jnp.real(jnp.einsum(\"bi,ij,bj->b\", jnp.conj(z), Gamma_inv, z))  # shape (L,)\n",
    "\n",
    "    return -K * jnp.log(jnp.pi) - logdet - quad"
   ]
  },
  {
   "cell_type": "code",
   "execution_count": 2,
   "metadata": {},
   "outputs": [],
   "source": [
    "import numpy as np\n",
    "\n",
    "def simulate_cscn_data(K=3, n_samples=500, seed=0):\n",
    "    rng = np.random.default_rng(seed)\n",
    "\n",
    "    # Random low-rank complex A\n",
    "    r = K\n",
    "    A = rng.normal(0, 1, size=(K, r)) + 1j * rng.normal(0, 1, size=(K, r))\n",
    "\n",
    "    # Hermitian PSD\n",
    "    Gamma = A @ A.conj().T + 0.5 * np.eye(K)\n",
    "\n",
    "    from scipy.linalg import cholesky\n",
    "    L = cholesky(Gamma, lower=True)\n",
    "\n",
    "    # Standard complex normals\n",
    "    z_std_normal = rng.normal(size=(n_samples, K)) + 1j * rng.normal(size=(n_samples, K))\n",
    "\n",
    "    # Correct sampling\n",
    "    z_samples = (L @ z_std_normal.T) / np.sqrt(2)  # shape (K, n_samples)\n",
    "    z_samples = z_samples.T  # shape (n_samples, K)\n",
    "\n",
    "    return z_samples, Gamma\n",
    "\n",
    "z_obs, Gamma_true = simulate_cscn_data(K=5, n_samples=100)\n"
   ]
  },
  {
   "cell_type": "code",
   "execution_count": 3,
   "metadata": {},
   "outputs": [],
   "source": [
    "# Empirical covariance\n",
    "Gamma_emp = np.einsum(\"li,lj->ij\", z_obs, np.conj(z_obs)) / z_obs.shape[0]\n",
    "\n",
    "# Eigendecomposition (since Gamma_emp is Hermitian)\n",
    "eigvals, U = np.linalg.eigh(Gamma_emp)  # U ∈ ℂ^{K×K}\n"
   ]
  },
  {
   "cell_type": "code",
   "execution_count": 4,
   "metadata": {},
   "outputs": [
    {
     "data": {
      "text/plain": [
       "(100, 5)"
      ]
     },
     "execution_count": 4,
     "metadata": {},
     "output_type": "execute_result"
    }
   ],
   "source": [
    "z_obs.shape"
   ]
  },
  {
   "cell_type": "code",
   "execution_count": 5,
   "metadata": {},
   "outputs": [],
   "source": [
    "import jax\n",
    "import jax.numpy as jnp\n",
    "from jax import grad, jit\n",
    "from jax.scipy.linalg import cho_solve, cholesky\n",
    "import optax\n",
    "\n",
    "def empirical_covariance(Z):\n",
    "    \"\"\"Estimate empirical covariance for complex data.\"\"\"\n",
    "    return Z.conj().T @ Z / Z.shape[0]\n",
    "\n",
    "def loss_fn(L_flat, d, S, beta):\n",
    "    \"\"\"Penalized negative log-likelihood for complex Hermitian covariance.\"\"\"\n",
    "    # Reconstruct lower-triangular complex matrix L\n",
    "    L = L_flat.reshape(d, d)\n",
    "    \n",
    "    # Gamma = L @ L.H\n",
    "    Gamma = L @ L.conj().T\n",
    "\n",
    "    # logdet(Gamma) = 2 * sum(log(real(diag(L))))\n",
    "    diag_L = jnp.real(jnp.diag(L))\n",
    "    logdet = 2.0 * jnp.sum(jnp.log(diag_L + 1e-8))  # stability\n",
    "\n",
    "    # trace(Gamma^{-1} @ S)\n",
    "    # Solve using cholesky-based solver\n",
    "    inv_Gamma_S = cho_solve((L, True), S)\n",
    "\n",
    "    trace_term = jnp.real(jnp.trace(inv_Gamma_S))\n",
    "\n",
    "    # Total loss\n",
    "    return (beta + S.shape[0]) * logdet + S.shape[0] * trace_term\n",
    "\n",
    "@jit\n",
    "def optimize_map_estimator(Z, beta=1.0, num_steps=50, lr=1e-2):\n",
    "    \"\"\"MAP estimator for complex Gaussian covariance using -logdet penalty.\"\"\"\n",
    "    N, d = Z.shape\n",
    "    S = empirical_covariance(Z)\n",
    "\n",
    "    # Initialize with Cholesky of S\n",
    "    L_init = cholesky(S + 1e-6 * jnp.eye(d), lower=True)\n",
    "\n",
    "    # Flatten for optimization\n",
    "    L_flat = L_init.reshape(-1)\n",
    "\n",
    "    # Optimizer\n",
    "    opt = optax.adam(lr)\n",
    "    opt_state = opt.init(L_flat)\n",
    "\n",
    "    def step(step_i, state):\n",
    "        L_flat, opt_state = state\n",
    "        loss, grads = jax.value_and_grad(loss_fn)(L_flat, d, S, beta)\n",
    "        updates, opt_state = opt.update(grads, opt_state)\n",
    "        L_flat = optax.apply_updates(L_flat, updates)\n",
    "        return (L_flat, opt_state), loss\n",
    "\n",
    "    state = (L_flat, opt_state)\n",
    "    for i in range(num_steps):\n",
    "        state, loss = step(i, state)\n",
    "        if i % 50 == 0:\n",
    "            print(i)\n",
    "            print(loss)\n",
    "            # print(f\"Step {i}, Loss: {loss:.4f}\")\n",
    "\n",
    "    print('DONE')\n",
    "    # Reconstruct final Gamma\n",
    "    L_opt = state[0].reshape(d, d)\n",
    "    print('A')\n",
    "    Gamma_opt = L_opt @ L_opt.conj().T\n",
    "    print('B')\n",
    "    return Gamma_opt\n"
   ]
  },
  {
   "cell_type": "code",
   "execution_count": 6,
   "metadata": {},
   "outputs": [
    {
     "name": "stdout",
     "output_type": "stream",
     "text": [
      "0\n",
      "Traced<ShapedArray(float32[])>with<DynamicJaxprTrace(level=1/0)>\n",
      "DONE\n",
      "A\n",
      "B\n"
     ]
    }
   ],
   "source": [
    "# Simulate complex Gaussian data\n",
    "key = jax.random.PRNGKey(0)\n",
    "# N, d = 100, 5\n",
    "# true_cov = jnp.diag(jnp.array([3.0, 2.0, 1.0, 0.1, 0.05]))\n",
    "# Z = jax.random.multivariate_normal(key, jnp.zeros(d), true_cov, shape=(N,)) + \\\n",
    "#     1j * jax.random.multivariate_normal(key, jnp.zeros(d), true_cov, shape=(N,))\n",
    "true_cov = jnp.array([\n",
    "    [2.0, 0.8 + 0.5j, 0.0],\n",
    "    [0.8 - 0.5j, 1.5, -0.3 + 0.4j],\n",
    "    [0.0, -0.3 - 0.4j, 1.0]\n",
    "])\n",
    "N, d = 100, true_cov.shape[0]\n",
    "L = jnp.linalg.cholesky(true_cov)\n",
    "real_part = jax.random.normal(key, (N, d))\n",
    "imag_part = jax.random.normal(key + 1, (N, d))\n",
    "Z = (real_part + 1j * imag_part) @ L.T\n",
    "\n",
    "# Estimate with SVS-style MAP\n",
    "Gamma_hat = optimize_map_estimator(Z, beta=500.0)\n"
   ]
  },
  {
   "cell_type": "code",
   "execution_count": 7,
   "metadata": {},
   "outputs": [
    {
     "data": {
      "text/plain": [
       "Array([[ 1.9442099e+00+0.j        ,  1.3106389e+00-1.5334909j ,\n",
       "        -5.3014743e-01-0.75065994j],\n",
       "       [ 1.3106389e+00+1.5334909j ,  2.8784201e+00+0.j        ,\n",
       "         1.1179149e-03-2.0042584j ],\n",
       "       [-5.3014743e-01+0.75065994j,  1.1179447e-03+2.0042584j ,\n",
       "         2.5548391e+00+0.j        ]], dtype=complex64)"
      ]
     },
     "execution_count": 7,
     "metadata": {},
     "output_type": "execute_result"
    }
   ],
   "source": [
    "Gamma_hat"
   ]
  },
  {
   "cell_type": "code",
   "execution_count": 8,
   "metadata": {},
   "outputs": [
    {
     "data": {
      "image/png": "[encoded data removed]",
      "text/plain": [
       "<Figure size 640x480 with 1 Axes>"
      ]
     },
     "metadata": {},
     "output_type": "display_data"
    }
   ],
   "source": [
    "# MLE\n",
    "Gamma_mle = Z.conj().T @ Z / N\n",
    "\n",
    "# MAP estimate\n",
    "Gamma_map = optimize_map_estimator(Z, beta=5e10)\n",
    "\n",
    "# Compare eigenvalues\n",
    "eig_mle = jnp.linalg.eigvalsh(Gamma_mle)\n",
    "eig_map = jnp.linalg.eigvalsh(Gamma_map)\n",
    "eig_true = jnp.linalg.eigvalsh(true_cov)\n",
    "\n",
    "import matplotlib.pyplot as plt\n",
    "plt.plot(eig_true, 'o-', label='True')\n",
    "plt.plot(eig_mle, 'x--', label='MLE')\n",
    "plt.plot(eig_map, 's-', label='MAP')\n",
    "plt.ylabel(\"Eigenvalue\")\n",
    "plt.xlabel(\"Index\")\n",
    "plt.legend()\n",
    "plt.title(\"Eigenvalue Shrinkage\")\n",
    "plt.grid(True)\n",
    "plt.show()\n"
   ]
  },
  {
   "cell_type": "code",
   "execution_count": 9,
   "metadata": {},
   "outputs": [],
   "source": [
    "# Next - let's pull up some 'alphas' from saved models and see how estimate behaves in those cases\n",
    "# Really though, we need to understand how having a prior interacts with the full M-Step in our algorithm, which should be next focus pom "
   ]
  },
  {
   "cell_type": "code",
   "execution_count": null,
   "metadata": {},
   "outputs": [],
   "source": []
  },
  {
   "cell_type": "code",
   "execution_count": 10,
   "metadata": {},
   "outputs": [],
   "source": [
    "from cohlib.utils import pickle_open\n",
    "import cohlib.confs.utils as conf\n",
    "gseed_use = 0\n",
    "seed_use = 0\n",
    "# temp = \"/projectnb/stephenlab/jtauber/cohlib/experiments/data/latent-basic_single_log_rank1/window1000/gseed0/K3/L5/lseed0/obs-pp_log/mu0.8/oseed0/model-simple_inherit_latent_fullrank/inherit-True/m_step-full-rank-standard/empirical-init/newton-10_em-20/res.pkl\"\n",
    "# temp = \"/projectnb/stephenlab/jtauber/cohlib/experiments/data/latent-basic_single_log_rank1/scale1000000/window1000/gseed0/K3/L5/lseed0/obs-pp_log/mu0.8/oseed0/model-simple_inherit_latent_fullrank_pinv/inherit-True/m_step-full-rank-standard/empirical-init/newton-10_em-20/res.pkl\"\n",
    "scale_power = int(5e4)\n",
    "mu = 2.3\n",
    "temp = f\"/projectnb/stephenlab/jtauber/cohlib/experiments/data/latent-basic_single_log_rank1/scale{scale_power}/window1000/gseed0/K5/L25/lseed0/obs-pp_log/mu{mu}/oseed0/model-simple_inherit_latent_fullrank_pinv/inherit-True/m_step-full-rank-standard/empirical-init/newton-10_em-20/res.pkl\"\n",
    "res = pickle_open(temp)\n",
    "cfg = conf.omega(res['cfg'])\n",
    "\n",
    "cfg.latent.gamma_seed = gseed_use\n",
    "cfg.latent.seed = seed_use\n",
    "cfg.obs.seed = seed_use\n",
    "nz_model = jnp.array([cfg.latent.target_freq_ind])"
   ]
  },
  {
   "cell_type": "code",
   "execution_count": 11,
   "metadata": {},
   "outputs": [
    {
     "data": {
      "text/plain": [
       "dict_keys(['ccn', 'alphas', 'Upss'])"
      ]
     },
     "execution_count": 11,
     "metadata": {},
     "output_type": "execute_result"
    }
   ],
   "source": [
    "res['track'].keys()"
   ]
  },
  {
   "cell_type": "code",
   "execution_count": 169,
   "metadata": {},
   "outputs": [],
   "source": [
    "r = 1\n",
    "alphas = res['track']['alphas'][r]\n",
    "Upss = res['track']['Upss'][r]"
   ]
  },
  {
   "cell_type": "code",
   "execution_count": 170,
   "metadata": {},
   "outputs": [],
   "source": [
    "def m_step_loss(L_flat, d, Sigma_sum, beta, L_count):\n",
    "    \"\"\"Penalized loss for a single Gamma_j in the EM M-step.\"\"\"\n",
    "    L = L_flat.reshape(d, d)\n",
    "    Gamma = L @ L.conj().T\n",
    "    diag_L = jnp.real(jnp.diag(L))\n",
    "    logdet = 2.0 * jnp.sum(jnp.log(diag_L + 1e-8))\n",
    "\n",
    "    trace_term = jnp.real(jnp.trace(jnp.linalg.solve(Gamma, Sigma_sum)))\n",
    "\n",
    "    return (L_count + beta) * logdet + trace_term\n"
   ]
  },
  {
   "cell_type": "code",
   "execution_count": 171,
   "metadata": {},
   "outputs": [],
   "source": [
    "@jit\n",
    "def m_step_optimizer(init, alphas, Upss, beta=1.0, num_steps=500, lr=1e-2):\n",
    "    \"\"\"MAP estimator for complex Gaussian covariance using -logdet penalty.\"\"\"\n",
    "    N, d = Z.shape\n",
    "    S = empirical_covariance(Z)\n",
    "\n",
    "    # Initialize with Cholesky of S\n",
    "    L_init = cholesky(S + 1e-6 * jnp.eye(d), lower=True)\n",
    "\n",
    "    # Flatten for optimization\n",
    "    L_flat = L_init.reshape(-1)\n",
    "\n",
    "    # Optimizer\n",
    "    opt = optax.adam(lr)\n",
    "    opt_state = opt.init(L_flat)\n",
    "\n",
    "    def step(step_i, state):\n",
    "        L_flat, opt_state = state\n",
    "        loss, grads = jax.value_and_grad(loss_fn)(L_flat, d, S, beta)\n",
    "        updates, opt_state = opt.update(grads, opt_state)\n",
    "        L_flat = optax.apply_updates(L_flat, updates)\n",
    "        return (L_flat, opt_state), loss\n",
    "\n",
    "    state = (L_flat, opt_state)\n",
    "    for i in range(num_steps):\n",
    "        state, loss = step(i, state)\n",
    "        if i % 50 == 0:\n",
    "            print(f\"Step {i}, Loss: {loss:.4f}\")\n",
    "\n",
    "    # Reconstruct final Gamma\n",
    "    L_opt = state[0].reshape(d, d)\n",
    "    Gamma_opt = L_opt @ L_opt.conj().T\n",
    "    return Gamma_opt"
   ]
  },
  {
   "cell_type": "code",
   "execution_count": 172,
   "metadata": {},
   "outputs": [],
   "source": [
    "def optimize_map_m_step(Sigma_sum, L_count, L_prev=None, beta=1.0, num_steps=500, lr=1e-2):\n",
    "    \"\"\"\n",
    "    Perform MAP optimization for a complex Hermitian covariance matrix Gamma,\n",
    "    using a Cholesky-factor parameterization and a log-det prior (SVS).\n",
    "\n",
    "    Args:\n",
    "        Sigma_sum: array (d, d), sum of expected outer products: sum_ell E[z z^H]\n",
    "        L_prev: optional (d, d) complex Cholesky factor of previous Gamma (for warm start)\n",
    "        beta: scalar, strength of log-det penalty (prior)\n",
    "        num_steps: int, number of optimization steps\n",
    "        lr: learning rate for optimizer\n",
    "\n",
    "    Returns:\n",
    "        Gamma_opt: (d, d) optimized Hermitian PSD covariance matrix\n",
    "    \"\"\"\n",
    "    import optax\n",
    "    import jax\n",
    "    import jax.numpy as jnp\n",
    "    from jax import jit, value_and_grad\n",
    "    from jax.scipy.linalg import cho_solve, cholesky\n",
    "\n",
    "    d = Sigma_sum.shape[0]\n",
    "\n",
    "    # Initialize L\n",
    "    if L_prev is None:\n",
    "        # Identity init\n",
    "        L_init = jnp.eye(d, dtype=jnp.complex64)\n",
    "    else:\n",
    "        L_init = L_prev\n",
    "\n",
    "    L_flat = L_init.reshape(-1)\n",
    "\n",
    "    # Loss function\n",
    "    def loss_fn(L_flat):\n",
    "        L = L_flat.reshape(d, d)\n",
    "        Gamma = L @ L.conj().T\n",
    "        diag_L = jnp.real(jnp.diag(L))\n",
    "        logdet = 2.0 * jnp.sum(jnp.log(diag_L + 1e-8))  # ensure numerical stability\n",
    "        trace_term = jnp.real(jnp.trace(jnp.linalg.solve(Gamma, Sigma_sum)))\n",
    "        return (L_count + beta) * logdet + trace_term\n",
    "\n",
    "    # Optimizer setup\n",
    "    opt = optax.adam(lr)\n",
    "    opt_state = opt.init(L_flat)\n",
    "\n",
    "    @jit\n",
    "    def step(state):\n",
    "        L_flat, opt_state = state\n",
    "        loss, grads = value_and_grad(loss_fn)(L_flat)\n",
    "        updates, opt_state = opt.update(grads, opt_state)\n",
    "        L_flat = optax.apply_updates(L_flat, updates)\n",
    "        return (L_flat, opt_state), loss\n",
    "\n",
    "    state = (L_flat, opt_state)\n",
    "\n",
    "    for i in range(num_steps):\n",
    "        state, loss = step(state)\n",
    "        if i % 50 == 0:\n",
    "            print(f\"Step {i}, Loss: {loss:.4f}\")\n",
    "\n",
    "    L_opt = state[0].reshape(d, d)\n",
    "    Gamma_opt = L_opt @ L_opt.conj().T\n",
    "    return Gamma_opt\n",
    "\n",
    "# NEXT: try using Newton's method hard-coded as we previously developed"
   ]
  },
  {
   "cell_type": "code",
   "execution_count": 173,
   "metadata": {},
   "outputs": [],
   "source": [
    "def optimize_map_m_step_alt(Sigma_sum, L_count, L_prev=None, beta=1.0, num_iters=10, lr=1e-2):\n",
    "    \"\"\"\n",
    "    Perform MAP optimization for a complex Hermitian covariance matrix Gamma,\n",
    "    using a Cholesky-factor parameterization and a log-det prior (SVS).\n",
    "\n",
    "    Args:\n",
    "        Sigma_sum: array (d, d), sum of expected outer products: sum_ell E[z z^H]\n",
    "        L_prev: optional (d, d) complex Cholesky factor of previous Gamma (for warm start)\n",
    "        beta: scalar, strength of log-det penalty (prior)\n",
    "        num_steps: int, number of optimization steps\n",
    "        lr: learning rate for optimizer\n",
    "\n",
    "    Returns:\n",
    "        Gamma_opt: (d, d) optimized Hermitian PSD covariance matrix\n",
    "    \"\"\"\n",
    "    import optax\n",
    "    import jax\n",
    "    import jax.numpy as jnp\n",
    "    from jax import jit, value_and_grad\n",
    "    \n",
    "    from jax.scipy.linalg import cho_solve, cholesky\n",
    "\n",
    "    d = Sigma_sum.shape[0]\n",
    "\n",
    "    # Initialize L\n",
    "    if L_prev is None:\n",
    "        # Identity init\n",
    "        L_init = jnp.eye(d, dtype=jnp.complex64)\n",
    "    else:\n",
    "        L_init = L_prev\n",
    "\n",
    "    L_flat = L_init.reshape(-1)\n",
    "\n",
    "    # Loss function\n",
    "    def loss_fn(L_flat):\n",
    "        L = L_flat.reshape(d, d)\n",
    "        Gamma = L @ L.conj().T\n",
    "        diag_L = jnp.real(jnp.diag(L))\n",
    "        logdet = 2.0 * jnp.sum(jnp.log(diag_L + 1e-8))  # ensure numerical stability\n",
    "        trace_term = (jnp.trace(jnp.linalg.solve(Gamma, Sigma_sum)))\n",
    "        return (L_count + beta) * logdet + trace_term\n",
    "\n",
    "\n",
    "    cost_grad = jax.jit(jax.grad(loss_fn, holomorphic=True))\n",
    "    cost_hess = jax.jit(jax.hessian(loss_fn, holomorphic=True))\n",
    "\n",
    "\n",
    "    L_flat_est = L_flat\n",
    "    for _ in range(num_iters):\n",
    "        L_flat_hess = cost_hess(L_flat_est)\n",
    "        print(L_flat_hess.shape)\n",
    "        L_flat_grad = cost_grad(L_flat_est).conj()\n",
    "        # hess_sel = jnp.stack([L_flat_hess[n,:,n,:] for n in range(Nnz)]).conj()\n",
    "        L_flat_est, L_flat_hess_inv = newton_step(L_flat_est, L_flat_grad, L_flat_hess)\n",
    "\n",
    "    L_opt = L_flat_est.reshape(d, d)\n",
    "    Gamma_opt = L_opt @ L_opt.conj().T\n",
    "    return Gamma_opt\n",
    "\n",
    "# NEXT: try using Newton's method hard-coded as we previously developed\n",
    "@jax.jit\n",
    "def newton_step(vec_est, vec_grad, hess):\n",
    "    # TODO finish note\n",
    "    # NOTE Jax gives us a gradient and Hessian - we need to take the\n",
    "    # conjugate of both when using Newton's method\n",
    "    hess_inv = jnp.linalg.inv(hess)\n",
    "\n",
    "    vec_est = vec_est - jnp.einsum('ki,i->k', hess_inv, vec_grad)\n",
    "\n",
    "    return vec_est, hess_inv "
   ]
  },
  {
   "cell_type": "code",
   "execution_count": null,
   "metadata": {},
   "outputs": [],
   "source": []
  },
  {
   "cell_type": "code",
   "execution_count": 176,
   "metadata": {},
   "outputs": [
    {
     "name": "stdout",
     "output_type": "stream",
     "text": [
      "(25, 25)\n",
      "(25, 25)\n"
     ]
    }
   ],
   "source": [
    "test = optimize_map_m_step_alt(Sigmas_sum, L_count, L_prev=L_prev_test, beta=1, num_iters=2)"
   ]
  },
  {
   "cell_type": "code",
   "execution_count": 177,
   "metadata": {},
   "outputs": [
    {
     "data": {
      "text/plain": [
       "[<matplotlib.lines.Line2D at 0x146625a76b90>]"
      ]
     },
     "execution_count": 177,
     "metadata": {},
     "output_type": "execute_result"
    },
    {
     "data": {
      "image/png": "[encoded data removed]",
      "text/plain": [
       "<Figure size 640x480 with 1 Axes>"
      ]
     },
     "metadata": {},
     "output_type": "display_data"
    }
   ],
   "source": [
    "plt.plot(jnp.linalg.eigh(gamma_update)[0].squeeze(), color='k')\n",
    "plt.plot(jnp.linalg.eigh(test)[0].squeeze(), color='tab:blue')"
   ]
  },
  {
   "cell_type": "code",
   "execution_count": 158,
   "metadata": {},
   "outputs": [],
   "source": [
    "def m_step_fullrank(alphas_outer, Upss, options=None):\n",
    "    return (alphas_outer + Upss).mean(-1)\n",
    "\n",
    "alphas_outer = jnp.einsum('nkl,nil->nkil', alphas, alphas.conj())\n",
    "gamma_update = m_step_fullrank(alphas_outer, 2*Upss)"
   ]
  },
  {
   "cell_type": "code",
   "execution_count": 159,
   "metadata": {},
   "outputs": [
    {
     "data": {
      "text/plain": [
       "Array([[[215748.47  +4.3300565e+02j, -30763.305 +5.2150936e+01j,\n",
       "           7549.356 +3.2306354e+04j, -20020.01  -5.0202277e+04j,\n",
       "          25287.445 -2.4005010e+03j],\n",
       "        [-30762.78  -5.2844063e+01j, 194838.92  +1.5772354e+02j,\n",
       "         -20542.598 -5.2113320e+04j,  19477.39  +3.9606750e+04j,\n",
       "         -34939.96  -3.6731475e+03j],\n",
       "        [  7550.416 -3.2306930e+04j, -20543.637 +5.2112699e+04j,\n",
       "         203053.3   +7.9275742e+01j, -44108.203 -1.4011739e+04j,\n",
       "          -6101.773 -5.4776625e+04j],\n",
       "        [-20017.422 +5.0203582e+04j,  19475.79  -3.9608684e+04j,\n",
       "         -44105.625 +1.4013407e+04j, 219793.16  -8.6573938e+02j,\n",
       "           3873.3037+2.7408250e+04j],\n",
       "        [ 25287.992 +2.4016560e+03j, -34945.02  +3.6699756e+03j,\n",
       "          -6110.2935+5.4773141e+04j,   3873.1758-2.7408295e+04j,\n",
       "         186301.08  +7.8044061e+02j]]], dtype=complex64)"
      ]
     },
     "execution_count": 159,
     "metadata": {},
     "output_type": "execute_result"
    }
   ],
   "source": [
    "gamma_update"
   ]
  },
  {
   "cell_type": "code",
   "execution_count": 85,
   "metadata": {},
   "outputs": [
    {
     "data": {
      "text/plain": [
       "Array([[[215748.47  +4.3300565e+02j, -30763.305 +5.2150936e+01j,\n",
       "           7549.356 +3.2306354e+04j, -20020.01  -5.0202277e+04j,\n",
       "          25287.445 -2.4005010e+03j],\n",
       "        [-30762.78  -5.2844063e+01j, 194838.92  +1.5772354e+02j,\n",
       "         -20542.598 -5.2113320e+04j,  19477.39  +3.9606750e+04j,\n",
       "         -34939.96  -3.6731475e+03j],\n",
       "        [  7550.416 -3.2306930e+04j, -20543.637 +5.2112699e+04j,\n",
       "         203053.3   +7.9275742e+01j, -44108.203 -1.4011739e+04j,\n",
       "          -6101.773 -5.4776625e+04j],\n",
       "        [-20017.422 +5.0203582e+04j,  19475.79  -3.9608684e+04j,\n",
       "         -44105.625 +1.4013407e+04j, 219793.16  -8.6573938e+02j,\n",
       "           3873.3037+2.7408250e+04j],\n",
       "        [ 25287.992 +2.4016560e+03j, -34945.02  +3.6699756e+03j,\n",
       "          -6110.2935+5.4773141e+04j,   3873.1758-2.7408295e+04j,\n",
       "         186301.08  +7.8044061e+02j]]], dtype=complex64)"
      ]
     },
     "execution_count": 85,
     "metadata": {},
     "output_type": "execute_result"
    }
   ],
   "source": [
    "gamma_update"
   ]
  },
  {
   "cell_type": "code",
   "execution_count": 73,
   "metadata": {},
   "outputs": [],
   "source": [
    "L_prev_test = jnp.linalg.cholesky(gamma_update.squeeze())"
   ]
  },
  {
   "cell_type": "code",
   "execution_count": 74,
   "metadata": {},
   "outputs": [],
   "source": [
    "Sigmas = (alphas_outer + Upss).squeeze()\n",
    "Sigmas_sum = Sigmas.sum(2)\n",
    "L_count = Sigmas.shape[2]"
   ]
  },
  {
   "cell_type": "code",
   "execution_count": 75,
   "metadata": {},
   "outputs": [
    {
     "data": {
      "text/plain": [
       "(5, 5)"
      ]
     },
     "execution_count": 75,
     "metadata": {},
     "output_type": "execute_result"
    }
   ],
   "source": [
    "L_prev_test.shape"
   ]
  },
  {
   "cell_type": "code",
   "execution_count": 76,
   "metadata": {},
   "outputs": [
    {
     "data": {
      "text/plain": [
       "Array([464.4873 +0.j, 436.40863+0.j, 429.08157+0.j, 440.64722+0.j,\n",
       "       407.98236+0.j], dtype=complex64)"
      ]
     },
     "execution_count": 76,
     "metadata": {},
     "output_type": "execute_result"
    }
   ],
   "source": [
    "jnp.diag(L_prev_test)"
   ]
  },
  {
   "cell_type": "code",
   "execution_count": 106,
   "metadata": {},
   "outputs": [
    {
     "name": "stdout",
     "output_type": "stream",
     "text": [
      "Step 0, Loss: 2220.3416\n",
      "Step 50, Loss: 2220.1670\n",
      "Step 100, Loss: 2219.9919\n",
      "Step 150, Loss: 2219.8162\n",
      "Step 200, Loss: 2219.6404\n",
      "Step 250, Loss: 2219.4644\n",
      "Step 300, Loss: 2219.2883\n",
      "Step 350, Loss: 2219.1130\n",
      "Step 400, Loss: 2218.9377\n",
      "Step 450, Loss: 2218.7625\n",
      "Step 500, Loss: 2218.5876\n",
      "Step 550, Loss: 2218.4128\n",
      "Step 600, Loss: 2218.2385\n",
      "Step 650, Loss: 2218.0637\n",
      "Step 700, Loss: 2217.8896\n",
      "Step 750, Loss: 2217.7156\n",
      "Step 800, Loss: 2217.5415\n",
      "Step 850, Loss: 2217.3679\n",
      "Step 900, Loss: 2217.1943\n",
      "Step 950, Loss: 2217.0212\n"
     ]
    }
   ],
   "source": [
    "test = optimize_map_m_step(Sigmas_sum, L_count, L_prev=L_prev_test, beta=10, num_steps=1000, lr=1e-2)"
   ]
  },
  {
   "cell_type": "code",
   "execution_count": 100,
   "metadata": {},
   "outputs": [
    {
     "data": {
      "text/plain": [
       "Array([[[ 8813.594    +433.00565j,   208.72852  +780.6589j ,\n",
       "           541.4487  +2286.3613j ,  -633.5215   -850.23047j,\n",
       "          -585.6738  +1511.167j  ],\n",
       "        [  209.2539   -781.352j  ,  6735.5312   +157.72354j,\n",
       "           443.0664   -822.4961j , -1033.543   -2476.6484j ,\n",
       "          1738.8086  -1344.3818j ],\n",
       "        [  542.5088  -2286.9375j ,   442.02734  +821.875j  ,\n",
       "         10663.5       +79.27574j, -2452.289   -2110.8057j ,\n",
       "           235.8125   +340.60156j],\n",
       "        [ -630.9336   +851.53516j, -1035.1445  +2474.7148j ,\n",
       "         -2449.711   +2112.4736j ,  8806.297    -865.7394j ,\n",
       "           641.2859 -12400.875j  ],\n",
       "        [ -585.125   -1510.012j  ,  1733.7461  +1341.21j   ,\n",
       "           227.2915   -344.08594j,   641.15796+12400.83j   ,\n",
       "          5575.5156   +780.4406j ]]], dtype=complex64)"
      ]
     },
     "execution_count": 100,
     "metadata": {},
     "output_type": "execute_result"
    }
   ],
   "source": [
    "gamma_update - test"
   ]
  },
  {
   "cell_type": "code",
   "execution_count": 96,
   "metadata": {},
   "outputs": [
    {
     "data": {
      "text/plain": [
       "[<matplotlib.lines.Line2D at 0x14662d83fb50>]"
      ]
     },
     "execution_count": 96,
     "metadata": {},
     "output_type": "execute_result"
    },
    {
     "data": {
      "image/png": "[encoded data removed]",
      "text/plain": [
       "<Figure size 640x480 with 1 Axes>"
      ]
     },
     "metadata": {},
     "output_type": "display_data"
    }
   ],
   "source": [
    "plt.plot(jnp.linalg.eigh(gamma_update)[0].squeeze(), color='k')\n",
    "plt.plot(jnp.linalg.eigh(test)[0].squeeze(), color='tab:blue')"
   ]
  },
  {
   "cell_type": "code",
   "execution_count": 86,
   "metadata": {},
   "outputs": [
    {
     "data": {
      "text/plain": [
       "Array([[207230.77      +0.j    , -30996.238   -741.759j ,\n",
       "          7007.8022+30040.098j , -19395.834 -49388.93j  ,\n",
       "         25892.219  -3903.9873j],\n",
       "       [-30996.238   +741.759j , 188301.17      +0.j    ,\n",
       "        -20990.39  -51319.664j ,  20518.1   +42102.902j ,\n",
       "        -36695.02   -2337.7554j],\n",
       "       [  7007.8022-30040.098j , -20990.39  +51319.664j ,\n",
       "        192732.2       +0.j    , -41678.996 -11927.6j   ,\n",
       "         -6338.8516-55154.953j ],\n",
       "       [-19395.834 +49388.93j  ,  20518.1   -42102.902j ,\n",
       "        -41678.996 +11927.6j   , 211359.73      +0.j    ,\n",
       "          3232.0605+39823.457j ],\n",
       "       [ 25892.219  +3903.987j , -36695.02   +2337.7554j,\n",
       "         -6338.852 +55154.953j ,   3232.06  -39823.457j ,\n",
       "        180979.7       +0.j    ]], dtype=complex64)"
      ]
     },
     "execution_count": 86,
     "metadata": {},
     "output_type": "execute_result"
    }
   ],
   "source": [
    "test"
   ]
  },
  {
   "cell_type": "code",
   "execution_count": 7,
   "metadata": {},
   "outputs": [
    {
     "data": {
      "text/plain": [
       "Array([ 7,  4,  1, -2, -5], dtype=int32)"
      ]
     },
     "execution_count": 7,
     "metadata": {},
     "output_type": "execute_result"
    }
   ],
   "source": [
    "K = 5\n",
    "-5 + (3*jnp.arange(K)[::-1])"
   ]
  },
  {
   "cell_type": "code",
   "execution_count": 8,
   "metadata": {},
   "outputs": [],
   "source": [
    "import jax\n",
    "import jax.numpy as jnp\n",
    "import numpyro\n",
    "import numpyro.distributions as dist\n",
    "\n",
    "def model_qr(z_obs):\n",
    "    L, K = z_obs.shape\n",
    "    # key = numpyro.sample(\"qr_key\", dist.PRNGIdentity())  # for reproducibility\n",
    "\n",
    "    # Sample unconstrained complex matrix B0\n",
    "    B0_real = numpyro.sample(\"B0_real\", dist.Normal(0, 1).expand([K, K]))\n",
    "    B0_imag = numpyro.sample(\"B0_imag\", dist.Normal(0, 1).expand([K, K]))\n",
    "    B0 = B0_real + 1j * B0_imag\n",
    "\n",
    "    # QR decomposition to get orthonormal Q\n",
    "    Q, _ = jnp.linalg.qr(B0)  # Q has orthonormal columns\n",
    "\n",
    "    # Sparse prior on eigenvalues (log-normal form)\n",
    "    log_lambda = numpyro.sample(\"log_lambda\", dist.Normal(-5.0 - 2.0 * jnp.arange(K), 0.5))\n",
    "    lambdas = jnp.exp(log_lambda)\n",
    "    D = jnp.diag(lambdas)\n",
    "\n",
    "    # Construct complex Hermitian covariance matrix\n",
    "    Gamma = Q @ D @ Q.conj().T\n",
    "\n",
    "    # Log-likelihood using custom complex MVN\n",
    "    logp = complex_mvn_logpdf(z_obs, Gamma)  # <-- your own implementation\n",
    "    numpyro.factor(\"likelihood\", jnp.sum(logp))"
   ]
  },
  {
   "cell_type": "code",
   "execution_count": 9,
   "metadata": {},
   "outputs": [],
   "source": [
    "import jax.numpy as jnp\n",
    "\n",
    "def model_with_orthogonality_penalty(z_obs, alpha=10.0):\n",
    "    L, K = z_obs.shape\n",
    "\n",
    "    # Sample complex matrix B = B_real + i B_imag\n",
    "    B_real = numpyro.sample(\"B_real\", dist.Normal(0, 1).expand([K, K]))\n",
    "    B_imag = numpyro.sample(\"B_imag\", dist.Normal(0, 1).expand([K, K]))\n",
    "    B = B_real + 1j * B_imag\n",
    "\n",
    "    # Penalty: encourage B†B ≈ I (soft unitary constraint)\n",
    "    identity = jnp.eye(K)\n",
    "    gram_matrix = B.conj().T @ B\n",
    "    deviation = gram_matrix - identity\n",
    "    penalty = jnp.sum(jnp.abs(deviation) ** 2)\n",
    "    numpyro.factor(\"orthogonality_penalty\", -alpha * penalty)\n",
    "\n",
    "    # Sparse prior on diagonal of D\n",
    "    log_lambda = numpyro.sample(\"log_lambda\", dist.Normal(-5.0 - 2.0 * jnp.arange(K), 0.5))\n",
    "    lambdas = jnp.exp(log_lambda)\n",
    "    D = jnp.diag(lambdas)\n",
    "\n",
    "    # Construct covariance\n",
    "    # Sample noise variance\n",
    "    sigma2 = numpyro.sample(\"sigma2\", dist.HalfNormal(1.0))  # or tighter prior if needed\n",
    "\n",
    "    # Total covariance\n",
    "    Gamma = B @ D @ B.conj().T + sigma2 * jnp.eye(K)\n",
    "\n",
    "    # Log-likelihood (assumes circular complex normal)\n",
    "    logp = complex_mvn_logpdf(z_obs, Gamma)  # Your custom function\n",
    "    numpyro.factor(\"likelihood\", jnp.sum(logp))\n"
   ]
  },
  {
   "cell_type": "code",
   "execution_count": 10,
   "metadata": {},
   "outputs": [
    {
     "name": "stderr",
     "output_type": "stream",
     "text": [
      "/projectnb/stephenlab/jtauber/.conda/envs/sgc_env/lib/python3.10/site-packages/jax/_src/lax/lax.py:2785: ComplexWarning: Casting complex values to real discards the imaginary part\n",
      "  x_bar = _convert_element_type(x_bar, x.aval.dtype, x.aval.weak_type)\n",
      "sample: 100%|██████████| 1500/1500 [00:05<00:00, 289.67it/s, 63 steps of size 5.10e-02. acc. prob=0.91] \n"
     ]
    }
   ],
   "source": [
    "from jax.random import PRNGKey\n",
    "\n",
    "nuts_kernel = NUTS(model_with_orthogonality_penalty)\n",
    "mcmc = MCMC(nuts_kernel, num_warmup=500, num_samples=1000)\n",
    "mcmc.run(PRNGKey(0), z_obs=jnp.array(z_obs))\n",
    "posterior = mcmc.get_samples()"
   ]
  },
  {
   "cell_type": "code",
   "execution_count": 64,
   "metadata": {},
   "outputs": [],
   "source": [
    "Gamma_samples = []\n",
    "\n",
    "for i in range(posterior[\"log_lambda\"].shape[0]):\n",
    "    B_i = posterior[\"B_real\"][i] + 1j * posterior[\"B_imag\"][i]\n",
    "    D_i = jnp.diag(jnp.exp(posterior[\"log_lambda\"][i]))\n",
    "    sigma2_i = posterior[\"sigma2\"][i]\n",
    "    Gamma_i = B_i @ D_i @ B_i.conj().T + sigma2_i * jnp.eye(B_i.shape[0])\n",
    "    Gamma_samples.append(Gamma_i)\n",
    "\n",
    "Gamma_samples = jnp.stack(Gamma_samples)  # shape: (n_samples, K, K)\n",
    "Gamma_mean = jnp.mean(Gamma_samples, axis=0)"
   ]
  },
  {
   "cell_type": "code",
   "execution_count": 65,
   "metadata": {},
   "outputs": [
    {
     "name": "stdout",
     "output_type": "stream",
     "text": [
      "[[ 4.892907  +2.75904327e-10j  0.2804867 +7.28051439e-02j\n",
      "  -0.26770303+1.28204477e+00j -1.3745285 -7.42148310e-02j\n",
      "  -2.0038228 +2.37395056e-02j]\n",
      " [ 0.2804867 -7.28051439e-02j  4.3517356 -7.66594913e-11j\n",
      "   0.0324778 +5.65942287e-01j -0.57905424+1.19048625e-01j\n",
      "  -0.82351327+2.31106281e-01j]\n",
      " [-0.26770303-1.28204477e+00j  0.0324778 -5.65942287e-01j\n",
      "   6.775006  -1.89337879e-09j  0.40235153+2.64586973e+00j\n",
      "   0.84785944+3.80276227e+00j]\n",
      " [-1.3745285 +7.42148384e-02j -0.57905424-1.19048633e-01j\n",
      "   0.40235153-2.64586973e+00j  7.0344    +8.64733063e-10j\n",
      "   4.083863  -2.70863533e-01j]\n",
      " [-2.0038228 -2.37395037e-02j -0.82351327-2.31106281e-01j\n",
      "   0.84785944-3.80276227e+00j  4.083863  +2.70863533e-01j\n",
      "  10.179597  +1.72323733e-09j]]\n",
      "[[ 2.91055261+0.j          1.09083139-1.50546981j -0.31938201+2.54922033j\n",
      "  -3.52188798+0.22456962j -4.52521585-0.88472062j]\n",
      " [ 1.09083139+1.50546981j  6.75169262+0.j         -0.09970215+3.89342636j\n",
      "  -1.66341838-0.55912102j  0.67130013-0.37832839j]\n",
      " [-0.31938201-2.54922033j -0.09970215-3.89342636j 11.31164631+0.j\n",
      "  -0.82387381+4.79857784j  2.53815306+7.10638503j]\n",
      " [-3.52188798-0.22456962j -1.66341838+0.55912102j -0.82387381-4.79857784j\n",
      "   9.05772908+0.j          7.64365444+0.91992679j]\n",
      " [-4.52521585+0.88472062j  0.67130013+0.37832839j  2.53815306-7.10638503j\n",
      "   7.64365444-0.91992679j 14.80841586+0.j        ]]\n"
     ]
    }
   ],
   "source": [
    "print(Gamma_mean)\n",
    "print(Gamma_true)"
   ]
  },
  {
   "cell_type": "code",
   "execution_count": null,
   "metadata": {},
   "outputs": [],
   "source": []
  },
  {
   "cell_type": "code",
   "execution_count": 66,
   "metadata": {},
   "outputs": [],
   "source": [
    "import matplotlib.pyplot as plt\n",
    "import numpy as np\n",
    "\n",
    "def plot_complex_matrix_comparison(true, estimate, title_prefix=\"\"):\n",
    "    \"\"\"\n",
    "    Plot real and imaginary parts of two complex matrices side-by-side.\n",
    "\n",
    "    Args:\n",
    "        true (np.ndarray): True complex matrix (K, K)\n",
    "        estimate (np.ndarray): Estimated complex matrix (K, K)\n",
    "        title_prefix (str): Optional title prefix for the plots\n",
    "    \"\"\"\n",
    "    fig, axs = plt.subplots(2, 2, figsize=(10, 8))\n",
    "\n",
    "    im0 = axs[0, 0].imshow(np.real(true), cmap=\"viridis\")\n",
    "    axs[0, 0].set_title(\"Re[Γ_true]\")\n",
    "    plt.colorbar(im0, ax=axs[0, 0])\n",
    "\n",
    "    im1 = axs[0, 1].imshow(np.imag(true), cmap=\"viridis\")\n",
    "    axs[0, 1].set_title(\"Im[Γ_true]\")\n",
    "    plt.colorbar(im1, ax=axs[0, 1])\n",
    "\n",
    "    im2 = axs[1, 0].imshow(np.real(estimate), cmap=\"viridis\")\n",
    "    axs[1, 0].set_title(\"Re[Γ_estimated]\")\n",
    "    plt.colorbar(im2, ax=axs[1, 0])\n",
    "\n",
    "    im3 = axs[1, 1].imshow(np.imag(estimate), cmap=\"viridis\")\n",
    "    axs[1, 1].set_title(\"Im[Γ_estimated]\")\n",
    "    plt.colorbar(im3, ax=axs[1, 1])\n",
    "\n",
    "    plt.suptitle(title_prefix + \"True vs Estimated Covariance Γ\", fontsize=14)\n",
    "    plt.tight_layout()\n",
    "    plt.show()\n"
   ]
  },
  {
   "cell_type": "code",
   "execution_count": null,
   "metadata": {},
   "outputs": [],
   "source": []
  },
  {
   "cell_type": "code",
   "execution_count": 67,
   "metadata": {},
   "outputs": [
    {
     "data": {
      "image/png": "[encoded data removed]",
      "text/plain": [
       "<Figure size 1000x800 with 8 Axes>"
      ]
     },
     "metadata": {},
     "output_type": "display_data"
    }
   ],
   "source": [
    "plot_complex_matrix_comparison(Gamma_true, Gamma_mean)"
   ]
  },
  {
   "cell_type": "code",
   "execution_count": 68,
   "metadata": {},
   "outputs": [],
   "source": [
    "true_lambdas, _ = jnp.linalg.eigh(Gamma_true)\n",
    "mean_lambdas, _ = jnp.linalg.eigh(Gamma_mean)"
   ]
  },
  {
   "cell_type": "code",
   "execution_count": 69,
   "metadata": {},
   "outputs": [],
   "source": [
    "import matplotlib.pyplot as plt\n",
    "import numpy as np\n",
    "\n",
    "def plot_eigenvalue_mean(posterior_log_lambda, true_lambdas):\n",
    "    \"\"\"\n",
    "    Plot the posterior mean of the eigenvalues on a log scale.\n",
    "    \"\"\"\n",
    "    lambdas_mean = np.exp(posterior_log_lambda).mean(axis=0)\n",
    "\n",
    "    plt.figure(figsize=(6, 4))\n",
    "    plt.plot(np.sort(true_lambdas)[::-1], \"o-\", color='k')\n",
    "    plt.plot(np.sort(lambdas_mean)[::-1], \"o-\")\n",
    "    # plt.yscale(\"log\")\n",
    "    plt.xlabel(\"Index (sorted)\")\n",
    "    plt.ylabel(\"Posterior Mean Eigenvalue\")\n",
    "    plt.title(\"Posterior Mean of Eigenvalues (log scale)\")\n",
    "    plt.grid(True, which=\"both\")\n",
    "    plt.tight_layout()\n",
    "    plt.show()\n"
   ]
  },
  {
   "cell_type": "code",
   "execution_count": 71,
   "metadata": {},
   "outputs": [
    {
     "data": {
      "image/png": "[encoded data removed]",
      "text/plain": [
       "<Figure size 600x400 with 1 Axes>"
      ]
     },
     "metadata": {},
     "output_type": "display_data"
    }
   ],
   "source": [
    "plot_eigenvalue_mean(posterior['log_lambda'], mean_lambdas)"
   ]
  },
  {
   "cell_type": "code",
   "execution_count": null,
   "metadata": {},
   "outputs": [],
   "source": []
  },
  {
   "cell_type": "code",
   "execution_count": null,
   "metadata": {},
   "outputs": [],
   "source": []
  },
  {
   "cell_type": "code",
   "execution_count": null,
   "metadata": {},
   "outputs": [
    {
     "data": {
      "text/plain": [
       "Array([[0.2924258 , 1.2099845 , 4.4601693 ],\n",
       "       [0.3135339 , 1.5144963 , 4.136565  ],\n",
       "       [0.30246902, 1.6524634 , 4.21007   ],\n",
       "       ...,\n",
       "       [0.23286161, 1.5021538 , 4.1317396 ],\n",
       "       [0.24552497, 1.2090564 , 3.7658548 ],\n",
       "       [0.28857914, 1.1765733 , 3.9158733 ]], dtype=float32)"
      ]
     },
     "metadata": {},
     "output_type": "display_data"
    }
   ],
   "source": [
    "func(posterior[param_name])"
   ]
  }
 ],
 "metadata": {
  "kernelspec": {
   "display_name": "pymc_env",
   "language": "python",
   "name": "python3"
  },
  "language_info": {
   "codemirror_mode": {
    "name": "ipython",
    "version": 3
   },
   "file_extension": ".py",
   "mimetype": "text/x-python",
   "name": "python",
   "nbconvert_exporter": "python",
   "pygments_lexer": "ipython3",
   "version": "3.10.13"
  },
  "orig_nbformat": 4
 },
 "nbformat": 4,
 "nbformat_minor": 2
}
