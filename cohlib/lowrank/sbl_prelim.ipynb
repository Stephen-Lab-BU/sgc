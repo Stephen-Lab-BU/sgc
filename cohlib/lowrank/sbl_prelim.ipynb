{
 "cells": [
  {
   "attachments": {},
   "cell_type": "markdown",
   "metadata": {},
   "source": [
    "# Purpose\n",
    "\n",
    "- Test out math and basic implementations for SBL"
   ]
  },
  {
   "attachments": {},
   "cell_type": "markdown",
   "metadata": {},
   "source": [
    "# Data\n",
    "\n",
    "Regardless of which approach we are testing, we will want synthetic data to test it on. Nameley we want \n",
    "\n",
    "$\\mathbf{z}_{j}^{\\ell} = (z_{j}^{1,\\ell}, \\ldots, z_{j}^{K,\\ell})^{\\top}$ \\\n",
    "\\\n",
    "$\\mathbf{z}_{j}^{\\ell} \\sim \\mathcal{CN}(0, \\boldsymbol{\\Gamma}_{j})$\n",
    "\n",
    "for cases where $\\boldsymbol{\\Gamma}_{j}$ is low-rank and full-rank\n",
    "\n",
    "For now we'll just load data previously generated with `experiments/simulate/simulate_simply.py`. If we need to customize the generated data later we can build off the code found there. "
   ]
  },
  {
   "cell_type": "code",
   "execution_count": 1,
   "metadata": {},
   "outputs": [],
   "source": [
    "%load_ext autoreload\n",
    "%autoreload 2"
   ]
  },
  {
   "cell_type": "code",
   "execution_count": 2,
   "metadata": {},
   "outputs": [],
   "source": [
    "import jax.random as jr\n",
    "import jax.numpy as jnp\n",
    "\n",
    "from cohlib.utils import pickle_open\n",
    "import cohlib.confs.utils as conf"
   ]
  },
  {
   "cell_type": "code",
   "execution_count": 70,
   "metadata": {},
   "outputs": [],
   "source": [
    "import matplotlib.pyplot as plt"
   ]
  },
  {
   "cell_type": "code",
   "execution_count": 3,
   "metadata": {},
   "outputs": [
    {
     "data": {
      "text/plain": [
       "dict_keys(['lcfg', 'zs_nz', 'nz', 'freqs'])"
      ]
     },
     "execution_count": 3,
     "metadata": {},
     "output_type": "execute_result"
    }
   ],
   "source": [
    "data_path = \"/projectnb/stephenlab/jtauber/cohlib/experiments/data/latent-basic_single_rank1/window1000/gseed0/K3/L25/lseed0/latent_sim.pkl\"\n",
    "data_load = pickle_open(data_path)\n",
    "data_load.keys()"
   ]
  },
  {
   "cell_type": "code",
   "execution_count": 4,
   "metadata": {},
   "outputs": [],
   "source": [
    "lcfg = conf.omega(data_load['lcfg'])\n",
    "lrccn_true = conf.create_lrccn_basic_rank1(lcfg)"
   ]
  },
  {
   "cell_type": "code",
   "execution_count": 5,
   "metadata": {},
   "outputs": [
    {
     "data": {
      "text/plain": [
       "Array([[[ 999.99994  +0.j     , -584.52826-811.3733j ,\n",
       "         -494.32022+869.27985j],\n",
       "        [-584.52826+811.37335j, 1000.       +0.j     ,\n",
       "         -416.3664 -909.1969j ],\n",
       "        [-494.32022-869.2799j , -416.3664 +909.1969j ,\n",
       "         1000.       +0.j     ]]], dtype=complex64)"
      ]
     },
     "execution_count": 5,
     "metadata": {},
     "output_type": "execute_result"
    }
   ],
   "source": [
    "lrccn_true.get_gamma()"
   ]
  },
  {
   "attachments": {},
   "cell_type": "markdown",
   "metadata": {},
   "source": [
    "We can either used the saved zs or sample from the ccn object"
   ]
  },
  {
   "cell_type": "code",
   "execution_count": 6,
   "metadata": {},
   "outputs": [
    {
     "data": {
      "text/plain": [
       "Array([[[ 24.663574  -23.353806j ,  -8.790439  +24.903954j ,\n",
       "          22.38969    -5.7245426j, -21.87929   +13.264801j ,\n",
       "          20.046848  -19.144785j ,  19.00042   -20.42281j  ,\n",
       "          13.458469   +4.917706j ,   0.8040265 +26.533617j ,\n",
       "          -9.540282  -45.654533j ,   0.57908654 +1.0375762j,\n",
       "          -2.8637877  -7.1300316j,  14.736345  -10.20982j  ,\n",
       "          53.646378  +24.527653j ,   2.0831683 -18.137947j ,\n",
       "          15.809136   -4.5414224j,   8.386047  -31.615107j ,\n",
       "           0.81120723 -5.9142723j,  21.538671   -5.1345263j,\n",
       "          45.124634  +13.239729j ,  28.76789   +15.464066j ,\n",
       "          -5.098655   +0.3173582j, -14.28832   -24.856436j ,\n",
       "           4.9900517 -24.736385j ,  16.36705   -10.786745j ,\n",
       "          -8.868884  +38.479794j ],\n",
       "        [  4.532099  +33.662327j , -15.068144  -21.689392j ,\n",
       "          -8.442667  +21.512554j ,   2.0263586 -25.505922j ,\n",
       "           3.8156185 +27.456146j ,   5.464241  +27.354145j ,\n",
       "         -11.856952   +8.045304j , -21.998646  -14.857285j ,\n",
       "          42.619434  +18.945635j ,  -1.1803541  -0.1366373j,\n",
       "           7.4590826  +1.8441045j,  -0.32983494+17.924606j ,\n",
       "         -51.25891   +29.190134j ,  13.498977  +12.292371j ,\n",
       "          -5.556099  +15.481701j ,  20.749771  +25.28414j  ,\n",
       "           4.324509   +4.1152515j,  -8.423944  +20.477179j ,\n",
       "         -37.118988  +28.873926j , -29.362778  +14.302315j ,\n",
       "           2.7228124  -4.3224177j,  28.519775   +2.9361286j,\n",
       "          17.153616  +18.507912j ,  -0.8149271 +19.584946j ,\n",
       "         -26.037363  -29.688503j ],\n",
       "        [-32.4927     -9.895291j ,  25.993797   -4.6691756j,\n",
       "         -16.043907  -16.63315j  ,  22.346199  +12.462169j ,\n",
       "         -26.551739   -7.9626684j, -27.145432   -6.421275j ,\n",
       "          -2.3779306 -14.130098j ,  22.667696  -13.815028j ,\n",
       "         -34.970615  +30.861134j ,   0.61569    -1.0162833j,\n",
       "          -4.782365   +6.0139523j, -16.159664   -7.7630887j,\n",
       "          -5.197094  -58.758236j , -16.796705   +7.1550984j,\n",
       "         -11.762543  -11.497648j , -31.62777    +8.338165j ,\n",
       "          -5.5421543  +2.2183783j, -15.110341  -16.185032j ,\n",
       "         -10.7969885 -45.770603j ,  -0.7779484 -32.65155j  ,\n",
       "           2.7962415  +4.275282j , -14.544195  +24.707588j ,\n",
       "         -23.969524   +7.889944j , -17.467264   -8.895441j ,\n",
       "          37.83378   -11.311796j ]]], dtype=complex64)"
      ]
     },
     "execution_count": 6,
     "metadata": {},
     "output_type": "execute_result"
    }
   ],
   "source": [
    "# load previous\n",
    "zs_nz = data_load['zs_nz']\n",
    "zs_nz"
   ]
  },
  {
   "cell_type": "code",
   "execution_count": 7,
   "metadata": {},
   "outputs": [
    {
     "data": {
      "text/plain": [
       "(1, 3, 1000)"
      ]
     },
     "execution_count": 7,
     "metadata": {},
     "output_type": "execute_result"
    }
   ],
   "source": [
    "# new sample\n",
    "rk = jr.key(7)\n",
    "sample = lrccn_true.sample_nz(rk, 1000)\n",
    "sample.shape\n"
   ]
  },
  {
   "cell_type": "code",
   "execution_count": 8,
   "metadata": {},
   "outputs": [
    {
     "name": "stdout",
     "output_type": "stream",
     "text": [
      "[[1001.0352 -1.4062957e-07j -585.1334 -8.1221332e+02j\n",
      "  -494.832  +8.7017981e+02j]\n",
      " [-585.1334 +8.1221332e+02j 1001.0352 +2.3366314e-07j\n",
      "  -416.79742-9.1013818e+02j]\n",
      " [-494.832  -8.7017987e+02j -416.79742+9.1013818e+02j\n",
      "  1001.0353 +3.1689677e-07j]]\n",
      "[[[ 999.99994  +0.j      -584.52826-811.3733j  -494.32022+869.27985j]\n",
      "  [-584.52826+811.37335j 1000.       +0.j      -416.3664 -909.1969j ]\n",
      "  [-494.32022-869.2799j  -416.3664 +909.1969j  1000.       +0.j     ]]]\n"
     ]
    }
   ],
   "source": [
    "est = jnp.einsum('jkl,jil->jkil', sample, sample.conj()).mean(-1).squeeze()\n",
    "print(est)\n",
    "print(lrccn_true.get_gamma())"
   ]
  },
  {
   "attachments": {},
   "cell_type": "markdown",
   "metadata": {},
   "source": [
    "So, task now is to come up with and test some methods for doing the low-rank estimation\n",
    "- full Bayesian\n",
    "- ARD\n",
    "- brute force with Jax\n",
    "\n",
    "The faster we can get something working the better off we are. "
   ]
  },
  {
   "cell_type": "code",
   "execution_count": 11,
   "metadata": {},
   "outputs": [
    {
     "data": {
      "text/plain": [
       "(3, 25)"
      ]
     },
     "execution_count": 11,
     "metadata": {},
     "output_type": "execute_result"
    }
   ],
   "source": [
    "Z = zs_nz.squeeze()\n",
    "Z.shape"
   ]
  },
  {
   "cell_type": "code",
   "execution_count": 51,
   "metadata": {},
   "outputs": [],
   "source": [
    "import jax, jax.numpy as jnp\n",
    "from jax.scipy.linalg import cholesky, solve_triangular\n",
    "\n",
    "def run_sbl(Z, R_max, max_iter=200, tol=1e-6,\n",
    "            a0=1e-6, b0=1e-6, c0=1e-6, d0=1e-6, alpha_max=1e8):\n",
    "    K, N = Z.shape\n",
    "    # 1 Initialise\n",
    "    C = (Z @ Z.conj().T) / N\n",
    "    eigvals, eigvecs = jnp.linalg.eigh(C)\n",
    "    idx = jnp.argsort(eigvals)[::-1][:R_max]\n",
    "    L = eigvecs[:, idx] * jnp.sqrt(eigvals[idx])\n",
    "    sig2 = jnp.mean(eigvals[R_max:])\n",
    "    alpha = jnp.ones(R_max)\n",
    "\n",
    "    for it in range(max_iter):\n",
    "        if it % 10 == 0:\n",
    "            print(it)\n",
    "        # E-step\n",
    "        A = L.conj().T @ L / sig2 + jnp.eye(R_max)\n",
    "        Sigma_x = jnp.linalg.inv(A)\n",
    "        M = Sigma_x @ (L.conj().T @ Z) / sig2         # R×N\n",
    "        Sxz = M @ Z.conj().T                          # R×K\n",
    "        Sxx = M @ M.conj().T + N * Sigma_x            # R×R\n",
    "        # M-step\n",
    "        L_new = (Sxz.conj().T) @ jnp.linalg.inv(Sxx + jnp.diag(alpha))\n",
    "        alpha_new = (K + 2*a0) / (jnp.sum(jnp.abs(L_new)**2,0) + 2*b0)\n",
    "        resid = Z - L_new @ M\n",
    "        sig2_new = (jnp.sum(jnp.abs(resid)**2) + 2*d0) / (K*N + 2*c0)\n",
    "        # Convergence test\n",
    "        if jnp.max(jnp.abs(L_new-L)) < tol: break\n",
    "        L, alpha, sig2 = L_new, jnp.minimum(alpha_new, alpha_max), sig2_new\n",
    "        # Prune\n",
    "        keep = alpha < alpha_max\n",
    "        L, alpha = L[:, keep], alpha[keep]\n",
    "    Gamma_hat = L @ L.conj().T + sig2 * jnp.eye(K)\n",
    "    return Gamma_hat, L, alpha, sig2\n"
   ]
  },
  {
   "cell_type": "code",
   "execution_count": 52,
   "metadata": {},
   "outputs": [],
   "source": [
    "R_max = 2\n",
    "\n",
    "K, N = Z.shape\n",
    "# 1 Initialise\n",
    "C = (Z @ Z.conj().T) / N\n",
    "eigvals, eigvecs = jnp.linalg.eigh(C)\n",
    "idx = jnp.argsort(eigvals)[::-1][:R_max]\n",
    "L = eigvecs[:, idx] * jnp.sqrt(eigvals[idx])\n",
    "sig2 = jnp.mean(eigvals[R_max:])\n",
    "alpha = jnp.ones(R_max)"
   ]
  },
  {
   "cell_type": "code",
   "execution_count": 53,
   "metadata": {},
   "outputs": [
    {
     "data": {
      "text/plain": [
       "Array([2, 1], dtype=int32)"
      ]
     },
     "execution_count": 53,
     "metadata": {},
     "output_type": "execute_result"
    }
   ],
   "source": [
    "idx"
   ]
  },
  {
   "cell_type": "code",
   "execution_count": 54,
   "metadata": {},
   "outputs": [
    {
     "name": "stdout",
     "output_type": "stream",
     "text": [
      "0\n"
     ]
    }
   ],
   "source": [
    "G, Lest, alpha, sig2 = run_sbl(Z, 2, max_iter=3)"
   ]
  },
  {
   "cell_type": "code",
   "execution_count": 34,
   "metadata": {},
   "outputs": [
    {
     "data": {
      "text/plain": [
       "EighResult(eigenvalues=Array([-4.1571358e-05,  1.9415922e-04,  1.3046693e+03], dtype=float32), eigenvectors=Array([[ 0.1768078 -0.j        ,  0.7971232 +0.j        ,\n",
       "         0.57735026+0.j        ],\n",
       "       [-0.29803276+0.5234681j ,  0.3105383 -0.45540133j,\n",
       "        -0.33747762+0.46844664j],\n",
       "       [ 0.4392443 +0.6426204j ,  0.10928239+0.22096907j,\n",
       "        -0.28539595-0.501879j  ]], dtype=complex64))"
      ]
     },
     "execution_count": 34,
     "metadata": {},
     "output_type": "execute_result"
    }
   ],
   "source": [
    "jnp.linalg.eigh(Lest @ Lest.conj().T)"
   ]
  },
  {
   "attachments": {},
   "cell_type": "markdown",
   "metadata": {},
   "source": [
    "Let's start with pymc and build the following model:\n",
    "\n",
    "$\\mathbf{z}_{j}^{\\ell} = \\mathbf{B} {\\mathbf{z}_{j}^*}^{\\ell}$ \\\n",
    "${\\mathbf{z}_{j}^*}^{\\ell} \\sim \\mathcal{CN}(0, \\mathbf{D}_{j})$ \\\n",
    "$\\mathbf{D}_{j} = \\text{diag}(d^{1}_{j}, \\ldots, d^{K}_{j})$ \\\n",
    "$d_{j}^{k} \\sim  \\text{Gamma}(a,b)$\n"
   ]
  },
  {
   "cell_type": "code",
   "execution_count": 81,
   "metadata": {},
   "outputs": [],
   "source": [
    "import numpy as np\n",
    "\n",
    "def simulate_cscn_data(K=3, n_samples=500, seed=0):\n",
    "    rng = np.random.default_rng(seed)\n",
    "\n",
    "    # Random low-rank complex A\n",
    "    r = K\n",
    "    A = rng.normal(0, 1, size=(K, r)) + 1j * rng.normal(0, 1, size=(K, r))\n",
    "\n",
    "    # Hermitian PSD\n",
    "    Gamma = A @ A.conj().T + 0.5 * np.eye(K)\n",
    "\n",
    "    from scipy.linalg import cholesky\n",
    "    L = cholesky(Gamma, lower=True)\n",
    "\n",
    "    # Standard complex normals\n",
    "    z_std_normal = rng.normal(size=(n_samples, K)) + 1j * rng.normal(size=(n_samples, K))\n",
    "\n",
    "    # Correct sampling\n",
    "    z_samples = (L @ z_std_normal.T) / np.sqrt(2)  # shape (K, n_samples)\n",
    "    z_samples = z_samples.T  # shape (n_samples, K)\n",
    "\n",
    "    return z_samples, Gamma\n",
    "\n",
    "z_obs, Gamma_true = simulate_cscn_data(K=20, n_samples=100)\n"
   ]
  },
  {
   "cell_type": "code",
   "execution_count": 82,
   "metadata": {},
   "outputs": [
    {
     "data": {
      "text/plain": [
       "EighResult(eigenvalues=Array([  0.62651384,   0.96259266,   1.8898621 ,   3.525062  ,\n",
       "         4.048359  ,   6.221047  ,  10.093374  ,  12.442522  ,\n",
       "        19.665043  ,  23.02493   ,  28.067673  ,  35.868702  ,\n",
       "        47.232346  ,  51.388912  ,  58.887005  ,  66.93713   ,\n",
       "        79.51224   ,  91.24917   , 128.44246   , 140.9509    ],      dtype=float32), eigenvectors=Array([[-2.66921073e-02+0.j        ,  2.26137459e-01+0.j        ,\n",
       "         1.29458919e-01+0.j        , -8.87223557e-02+0.j        ,\n",
       "        -1.26783758e-01+0.j        ,  3.43096256e-01+0.j        ,\n",
       "        -3.03163052e-01+0.j        ,  1.08887769e-01+0.j        ,\n",
       "        -1.88241005e-01+0.j        ,  3.42450440e-01+0.j        ,\n",
       "        -1.52449757e-01+0.j        ,  2.53528357e-01+0.j        ,\n",
       "        -3.96540940e-01+0.j        ,  2.02594295e-01+0.j        ,\n",
       "        -8.10941383e-02+0.j        ,  1.86664641e-01+0.j        ,\n",
       "        -2.51200736e-01+0.j        ,  3.10505748e-01+0.j        ,\n",
       "         1.57228574e-01+0.j        , -1.47628561e-01-0.j        ],\n",
       "       [ 2.88903803e-01-0.05456323j, -1.37189925e-01-0.10202859j,\n",
       "         3.01839292e-01+0.06091128j, -7.46753588e-02+0.0193339j ,\n",
       "         2.15170145e-01+0.14635909j,  1.05712116e-01+0.12811176j,\n",
       "         5.95165342e-02-0.35499933j,  1.24878712e-01+0.02275313j,\n",
       "        -1.64405450e-01+0.00781227j, -1.30825758e-01-0.18112701j,\n",
       "         1.50246359e-02-0.09797076j,  3.39425117e-01+0.1890572j ,\n",
       "         3.66301090e-02+0.04783678j,  8.75053108e-02-0.06040029j,\n",
       "        -1.21469893e-01+0.04072483j, -2.85470963e-01+0.0796297j ,\n",
       "        -1.21160015e-01+0.12814358j, -2.15930313e-01-0.2788903j ,\n",
       "         5.43225110e-02+0.13760717j,  8.88342559e-02+0.01779367j],\n",
       "       [ 1.09893918e-01-0.09328572j, -2.88026575e-02+0.11800054j,\n",
       "        -1.06088601e-01+0.03449886j, -7.40417987e-02-0.28999615j,\n",
       "         1.66132003e-02-0.08481298j, -8.93808827e-02+0.23323996j,\n",
       "         9.72458124e-02+0.25613332j,  2.15593472e-01+0.18271232j,\n",
       "         1.98016331e-01-0.01723529j, -1.59971267e-01-0.10381997j,\n",
       "         3.94099541e-02-0.11879711j,  1.79732554e-02-0.22487819j,\n",
       "        -1.07024156e-01+0.29787594j,  4.35676098e-01-0.03386237j,\n",
       "        -1.30952790e-01-0.12417176j, -1.17536429e-02-0.08766155j,\n",
       "        -2.01058313e-01-0.06834391j, -1.91474050e-01+0.24931262j,\n",
       "         8.10046569e-02+0.10718445j, -4.05026600e-02+0.00907336j],\n",
       "       [ 1.26809496e-02-0.11159586j, -1.50306836e-01-0.09518915j,\n",
       "        -4.89517814e-03-0.13596466j, -2.50654593e-02-0.09822568j,\n",
       "         1.91468045e-01+0.03337064j,  2.03629106e-01+0.10495605j,\n",
       "         1.03847884e-01+0.1718443j ,  1.97255462e-02-0.23082681j,\n",
       "        -8.86560306e-02+0.04597522j,  7.37492144e-02+0.0404381j ,\n",
       "         1.62222460e-01+0.10098241j, -1.05495729e-01-0.04213378j,\n",
       "        -1.54447556e-01-0.17801863j, -3.11339665e-02+0.3008999j ,\n",
       "        -1.64248288e-01+0.1593471j , -3.20325911e-01-0.2685375j ,\n",
       "        -1.17778853e-01-0.07880991j,  2.05512084e-02+0.11606587j,\n",
       "         1.13705575e-01-0.38940772j,  2.45830819e-01-0.20765145j],\n",
       "       [-1.75970763e-01-0.2760151j , -1.22987606e-01-0.12556514j,\n",
       "         8.57314502e-04+0.18239972j,  8.08839649e-02+0.07862388j,\n",
       "         2.75139064e-02+0.17467256j,  3.53186339e-01+0.07246254j,\n",
       "        -3.68457735e-02-0.2197653j , -1.97275698e-01-0.01197386j,\n",
       "         5.45691103e-02+0.08778551j, -3.28830034e-01+0.1713517j ,\n",
       "         5.49481891e-04+0.02376497j, -7.23869279e-02-0.07636271j,\n",
       "         7.80905858e-02+0.15562594j,  1.06937706e-01+0.24224685j,\n",
       "         1.58801511e-01-0.23173861j,  2.75530219e-01-0.21494529j,\n",
       "        -2.23543137e-01-0.00947459j,  1.59927271e-02-0.07712536j,\n",
       "        -1.74420148e-01-0.06204597j, -7.92146195e-03+0.11874991j],\n",
       "       [ 3.33976634e-02+0.11477405j,  2.26186484e-01-0.00112587j,\n",
       "         2.31609821e-01+0.00116378j, -4.14628297e-01-0.06255248j,\n",
       "         1.88663304e-01-0.06931998j, -7.64601305e-02+0.03849613j,\n",
       "        -1.51132699e-02+0.12975945j, -3.88792247e-01+0.09461682j,\n",
       "         1.67371571e-01+0.09294653j, -1.57242581e-01-0.04499075j,\n",
       "         2.01551020e-02-0.0352674j , -4.26550545e-02-0.10080529j,\n",
       "        -4.05827239e-02-0.31625643j,  6.31106496e-02-0.16034877j,\n",
       "         8.40189755e-02+0.1767844j ,  1.92755863e-01+0.02607983j,\n",
       "        -2.51972020e-01-0.05709963j,  2.45938785e-02-0.11402436j,\n",
       "        -6.65116459e-02+0.02106476j,  3.27867270e-01+0.05394905j],\n",
       "       [-1.30383447e-01+0.14673503j, -1.00726336e-01+0.02958083j,\n",
       "        -2.07443491e-01-0.06567746j, -1.72733977e-01-0.13295802j,\n",
       "         3.65894176e-02+0.4507881j ,  1.11249521e-01+0.0527918j ,\n",
       "        -2.36600071e-01-0.0067607j ,  1.05726555e-01-0.08226024j,\n",
       "         2.12253913e-01-0.33529794j,  7.71872103e-02-0.06511246j,\n",
       "        -7.58989900e-02+0.12812379j,  5.41865118e-02-0.01725689j,\n",
       "        -9.43339318e-02+0.11891001j, -1.90757811e-01-0.15313219j,\n",
       "         5.16454428e-02-0.1557515j , -8.37626960e-03+0.22664541j,\n",
       "        -1.00778326e-01-0.09118362j, -1.38047144e-01-0.01320449j,\n",
       "        -2.50502765e-01-0.04176846j,  2.28979066e-01-0.23010871j],\n",
       "       [ 2.13042274e-01-0.16798761j,  1.92449186e-02-0.02623444j,\n",
       "        -9.04085264e-02-0.03671054j, -2.64863551e-01-0.10012002j,\n",
       "        -1.11219481e-01+0.06466553j,  2.26459615e-02+0.26729614j,\n",
       "        -1.43451527e-01+0.09161334j, -1.62554994e-01-0.16069777j,\n",
       "        -8.63815472e-02+0.2821716j ,  3.96828294e-01+0.29882962j,\n",
       "         3.41544330e-01-0.04185749j, -3.29748988e-02+0.05061818j,\n",
       "         1.31732628e-01+0.12614259j, -5.51164337e-02-0.16438471j,\n",
       "         1.71230897e-01-0.06242278j, -3.55521999e-02-0.11880337j,\n",
       "         5.00545911e-02+0.06233085j, -1.89175740e-01-0.07926075j,\n",
       "        -7.79438093e-02+0.16764294j, -1.19547412e-01-0.0338458j ],\n",
       "       [-8.17163959e-02+0.41685572j,  3.40048783e-02+0.03520951j,\n",
       "         1.78288013e-01+0.0952662j ,  1.18354755e-02-0.11117253j,\n",
       "        -3.82401615e-01+0.06062626j,  2.33367413e-01+0.12722613j,\n",
       "         1.19977348e-01+0.1007389j , -1.05263971e-01-0.14536215j,\n",
       "         1.06233403e-01+0.31676114j, -2.37175137e-01-0.07005094j,\n",
       "        -2.95191165e-02+0.17656331j,  8.95651132e-02+0.00912549j,\n",
       "        -3.74807306e-02-0.1090183j , -8.09597820e-02+0.09227917j,\n",
       "        -6.49563894e-02-0.13057734j, -5.47869988e-02+0.043649j  ,\n",
       "         5.48580661e-02+0.30638456j, -1.43018320e-01+0.14166495j,\n",
       "         6.86136410e-02+0.11325757j, -1.03588194e-01-0.23097551j],\n",
       "       [-1.41772358e-02+0.01885598j, -1.48874596e-01+0.1009119j ,\n",
       "         2.62674838e-01+0.12578507j, -1.12602815e-01+0.35728583j,\n",
       "        -5.23583554e-02+0.15389094j, -2.82049656e-01+0.07895927j,\n",
       "        -1.22285783e-01+0.3052545j ,  4.19618450e-02+0.08661058j,\n",
       "         7.50588179e-02+0.16640207j, -5.27341366e-02+0.22338551j,\n",
       "        -1.46521688e-01+0.01315013j,  2.73007184e-01+0.27591664j,\n",
       "         1.39797613e-01+0.2183486j , -1.13520818e-02+0.05133127j,\n",
       "        -4.09875251e-02+0.11142033j, -2.08549593e-02+0.01344228j,\n",
       "        -1.06233910e-01-0.12139443j,  6.01824000e-02+0.16201879j,\n",
       "        -1.05788283e-01-0.31208307j, -5.40688932e-02-0.04392454j],\n",
       "       [-1.32411376e-01-0.1002386j ,  2.63149023e-01-0.23161633j,\n",
       "        -5.01204655e-02-0.3295728j , -2.11729631e-02-0.04924371j,\n",
       "         6.41285554e-02-0.11632212j, -1.80982336e-01+0.04207836j,\n",
       "        -1.13302410e-01-0.0378816j , -1.05899692e-01-0.10224856j,\n",
       "         1.86433956e-01+0.04972753j, -1.54587775e-01-0.00262211j,\n",
       "         1.14282332e-01-0.01400312j,  1.17132939e-01+0.13604824j,\n",
       "         2.26080805e-01+0.16339448j, -8.21143482e-03+0.10906812j,\n",
       "        -2.10729346e-01-0.32106885j, -1.20003350e-01+0.11331142j,\n",
       "        -8.34095627e-02-0.05801586j,  3.56491029e-01-0.13887879j,\n",
       "         1.82245150e-01+0.0966052j , -7.17885233e-03-0.2774743j ],\n",
       "       [ 7.66126662e-02+0.01522043j,  1.89890489e-01-0.15442598j,\n",
       "        -7.53221214e-02-0.09739621j,  2.61898674e-02+0.06217464j,\n",
       "         1.86284557e-01+0.1199372j , -2.66928133e-02+0.1779326j ,\n",
       "        -2.91585833e-01-0.11100639j,  1.23035058e-01+0.18152465j,\n",
       "        -6.36638552e-02+0.24344544j, -1.18108608e-01-0.19802651j,\n",
       "        -1.00703746e-01+0.13203244j, -2.86388308e-01+0.01478455j,\n",
       "         3.16504724e-02-0.27120388j,  4.35450748e-02-0.19244249j,\n",
       "        -1.34545937e-01-0.06541454j, -1.60193056e-01-0.08102645j,\n",
       "        -2.84235217e-02-0.00071275j, -6.16013957e-03+0.16507433j,\n",
       "        -3.18518937e-01-0.14853334j, -3.75605285e-01+0.01764474j],\n",
       "       [ 1.10837109e-01-0.08785579j,  2.36782238e-01+0.03693683j,\n",
       "        -3.52409706e-02+0.272557j  ,  8.82807076e-02-0.06577522j,\n",
       "        -2.09691435e-01-0.11242887j, -7.73668464e-04-0.1464926j ,\n",
       "        -1.45097494e-01-0.03030073j,  7.67215267e-02+0.20623344j,\n",
       "        -2.43722182e-03-0.13917209j, -8.56957883e-02-0.04415283j,\n",
       "         5.24461806e-01-0.06791745j,  2.78910249e-01-0.12667757j,\n",
       "         6.27531633e-02-0.08577628j, -2.17866495e-01-0.03542355j,\n",
       "        -3.21083218e-02-0.10657996j, -8.20401236e-02+0.00515638j,\n",
       "        -1.12738669e-01+0.2015404j ,  4.77877185e-02+0.11211385j,\n",
       "        -1.53595567e-01-0.3140794j ,  1.08380646e-01+0.05429032j],\n",
       "       [-2.65157402e-01-0.10851844j, -2.77228504e-02+0.10911129j,\n",
       "         7.10145086e-02+0.07000387j, -2.15319216e-01-0.00522915j,\n",
       "         1.83389679e-01+0.13588835j, -3.06872316e-02-0.02795175j,\n",
       "         2.30492875e-01+0.16298975j,  2.99414545e-01+0.16858403j,\n",
       "        -1.53078988e-01+0.14069435j, -5.47582991e-02+0.12521751j,\n",
       "         2.02514336e-01+0.20137647j, -3.38797048e-02-0.04498105j,\n",
       "        -1.08940311e-01-0.19787204j,  6.60388991e-02-0.04359534j,\n",
       "         1.87280953e-01-0.33788586j, -4.91464103e-04+0.28800452j,\n",
       "         1.20319039e-01-0.00798453j,  2.83629578e-02-0.25735697j,\n",
       "         2.06549630e-01-0.13972878j, -1.28632531e-01+0.03003673j],\n",
       "       [ 1.51172385e-01-0.26861307j,  2.47046217e-01+0.04710022j,\n",
       "        -2.99025066e-02+0.04392315j, -4.58373986e-02-0.12912188j,\n",
       "        -1.12890087e-01-0.14731005j,  2.08839372e-01-0.18620282j,\n",
       "         2.38540649e-01+0.14189112j, -9.02817771e-02+0.14013705j,\n",
       "        -9.77955759e-02+0.06143827j, -4.53980500e-03+0.15533477j,\n",
       "        -3.39175045e-01+0.18386598j,  1.08948186e-01+0.00823038j,\n",
       "         5.39354281e-03+0.03632291j, -1.39891014e-01-0.03124728j,\n",
       "        -3.38389784e-01-0.12251902j, -6.53238297e-02+0.02998325j,\n",
       "         1.10005945e-01-0.28755927j, -1.85809687e-01-0.17408776j,\n",
       "        -2.83333421e-01-0.01045764j,  4.68650013e-02-0.07439718j],\n",
       "       [ 2.18128532e-01-0.07251137j, -2.29227781e-01-0.10650595j,\n",
       "        -2.33991638e-01-0.2285826j , -1.98064685e-01-0.04647298j,\n",
       "        -1.15498126e-01+0.01121164j, -4.46276478e-02-0.22633268j,\n",
       "         1.33618444e-01+0.010801j  ,  1.74042359e-01-0.0695717j ,\n",
       "        -8.70988593e-02+0.11920067j,  4.86324765e-02-0.09956316j,\n",
       "        -7.60619566e-02+0.01663656j,  1.38205215e-01+0.25798172j,\n",
       "         1.84039980e-01-0.269892j  ,  2.27637768e-01+0.06587192j,\n",
       "        -1.67186353e-02-0.19269408j,  3.37227017e-01+0.00220787j,\n",
       "        -2.93644443e-02+0.23337162j,  8.06674957e-02+0.20059523j,\n",
       "        -1.63287282e-01-0.03057492j,  2.11839557e-01+0.02746482j],\n",
       "       [-1.35677963e-01+0.05346934j,  4.52401131e-01+0.12054453j,\n",
       "        -2.63298452e-01-0.11166291j,  6.26893062e-03+0.00661819j,\n",
       "         6.07666709e-02+0.19417381j,  1.43170297e-01-0.1581676j ,\n",
       "         1.83857661e-02+0.10234752j,  2.50920504e-01-0.07244898j,\n",
       "         2.95640174e-02+0.03434612j, -2.26675212e-01+0.07349785j,\n",
       "         2.95736622e-02-0.257379j  ,  1.68751925e-01+0.25881824j,\n",
       "         8.51698071e-02-0.07974612j,  7.16970041e-02+0.07312281j,\n",
       "         2.27303356e-01+0.28298485j,  3.94061999e-03-0.24342115j,\n",
       "         1.72572397e-02-0.069093j  , -2.15605497e-01-0.09493145j,\n",
       "         5.24073131e-02+0.04830368j, -7.08075985e-02-0.0672529j ],\n",
       "       [ 7.82616884e-02+0.03717618j,  1.66605905e-01+0.30464736j,\n",
       "        -3.23227048e-01-0.0582992j , -1.29249796e-01+0.13202551j,\n",
       "        -4.97947680e-03+0.1343937j , -1.75666764e-01+0.05241809j,\n",
       "        -1.89839583e-02-0.10283992j, -4.15894650e-02+0.04030007j,\n",
       "        -3.14459614e-02+0.13394116j,  1.93826258e-02+0.16396739j,\n",
       "        -2.12542996e-01-0.00493738j, -1.04471020e-01-0.12324813j,\n",
       "        -1.08822569e-01+0.06281433j, -1.32837787e-01+0.34314683j,\n",
       "        -1.34988517e-01-0.04578333j, -2.20969692e-01+0.11785255j,\n",
       "        -2.21640795e-01+0.3521041j ,  4.29060450e-03-0.07619572j,\n",
       "         7.14213252e-02+0.03247948j,  1.31734535e-01+0.33133626j],\n",
       "       [ 5.09303547e-02+0.21090126j, -1.20054269e-02-0.05174124j,\n",
       "        -1.40595749e-01-0.09517352j,  3.79826874e-02+0.4642849j ,\n",
       "        -2.43709713e-01+0.05820825j,  1.58863336e-01-0.01299098j,\n",
       "        -6.63754642e-02+0.0917193j , -3.59877869e-02-0.01054404j,\n",
       "        -2.96266705e-01+0.02292998j, -1.46131009e-01+0.03373043j,\n",
       "         2.03366354e-01-0.00207421j, -3.01755015e-02-0.18820505j,\n",
       "         6.42690286e-02-0.02930041j,  2.83008277e-01-0.0868679j ,\n",
       "        -2.74380986e-02-0.08453933j, -2.13479891e-01+0.13526689j,\n",
       "         1.48027670e-02-0.36046234j,  3.00864298e-02+0.0559266j ,\n",
       "        -2.06817780e-02+0.18901752j,  2.68469959e-01+0.0810065j ],\n",
       "       [ 1.40420854e-01+0.29273242j, -1.47310898e-01+0.00418819j,\n",
       "        -1.35105506e-01+0.17224066j, -1.92454517e-01-0.05372243j,\n",
       "         1.17175050e-01-0.20621137j,  1.78372517e-01-0.03196251j,\n",
       "        -6.40087724e-02-0.17833716j,  3.38336468e-01+0.20260794j,\n",
       "         1.70042723e-01+0.33862862j,  7.63293952e-02+0.02194962j,\n",
       "        -7.72447586e-02-0.04061042j,  3.87042835e-02-0.25259364j,\n",
       "         2.20752478e-01+0.09347083j, -1.57474235e-01+0.1293575j ,\n",
       "         1.17193520e-01+0.08486185j, -9.10091866e-03-0.09209336j,\n",
       "         6.92549795e-02-0.18386038j,  2.62648821e-01-0.11615989j,\n",
       "        -1.07720178e-02+0.02930778j,  8.56957659e-02-0.15429112j]],      dtype=complex64))"
      ]
     },
     "execution_count": 82,
     "metadata": {},
     "output_type": "execute_result"
    }
   ],
   "source": [
    "jnp.linalg.eigh(Gamma_true)"
   ]
  },
  {
   "cell_type": "code",
   "execution_count": 74,
   "metadata": {},
   "outputs": [
    {
     "name": "stdout",
     "output_type": "stream",
     "text": [
      "0\n",
      "10\n",
      "20\n",
      "30\n",
      "40\n",
      "50\n",
      "60\n",
      "70\n",
      "80\n",
      "90\n",
      "100\n",
      "110\n",
      "120\n",
      "130\n",
      "140\n",
      "150\n",
      "160\n",
      "170\n",
      "180\n",
      "190\n",
      "200\n",
      "210\n",
      "220\n",
      "230\n",
      "240\n",
      "250\n",
      "260\n",
      "270\n"
     ]
    }
   ],
   "source": [
    "G, Lest, alpha, sig2 = run_sbl(z_obs.T, 3, max_iter=500)"
   ]
  },
  {
   "cell_type": "code",
   "execution_count": 75,
   "metadata": {},
   "outputs": [
    {
     "data": {
      "text/plain": [
       "(5, 3)"
      ]
     },
     "execution_count": 75,
     "metadata": {},
     "output_type": "execute_result"
    }
   ],
   "source": [
    "Lest.shape"
   ]
  },
  {
   "cell_type": "code",
   "execution_count": 76,
   "metadata": {},
   "outputs": [
    {
     "data": {
      "text/plain": [
       "[<matplotlib.lines.Line2D at 0x1507bf07d420>]"
      ]
     },
     "execution_count": 76,
     "metadata": {},
     "output_type": "execute_result"
    },
    {
     "data": {
      "image/png": "[encoded data removed]",
      "text/plain": [
       "<Figure size 640x480 with 1 Axes>"
      ]
     },
     "metadata": {},
     "output_type": "display_data"
    }
   ],
   "source": [
    "eigvals, eigvecs = jnp.linalg.eigh(Lest @ Lest.conj().T)\n",
    "plt.plot(eigvals)"
   ]
  },
  {
   "cell_type": "code",
   "execution_count": 77,
   "metadata": {},
   "outputs": [
    {
     "data": {
      "text/plain": [
       "EighResult(eigenvalues=Array([ 0.38396686,  0.3839689 ,  3.9471214 ,  8.981218  , 23.079084  ],      dtype=float32), eigenvectors=Array([[-0.93073726+0.j        , -0.16350627+0.j        ,\n",
       "         0.1547695 +0.j        ,  0.16619436+0.j        ,\n",
       "        -0.2354137 -0.j        ],\n",
       "       [ 0.06022283+0.1947903j ,  0.3588519 -0.30901393j,\n",
       "         0.55879956+0.2488017j ,  0.03113401+0.5906017j ,\n",
       "        -0.0979839 +0.02501414j],\n",
       "       [-0.11312798-0.11549934j,  0.496231  +0.19599399j,\n",
       "        -0.4489226 -0.13134459j,  0.40654862+0.3059244j ,\n",
       "         0.09448092+0.45013556j],\n",
       "       [-0.20841122-0.11147641j,  0.42215884+0.00278415j,\n",
       "         0.31809717-0.51524174j, -0.36689094-0.18065798j,\n",
       "         0.48088548-0.02747505j],\n",
       "       [-0.08385134+0.05591674j, -0.4792946 +0.23747341j,\n",
       "         0.02606874+0.12555657j,  0.02686497+0.44244787j,\n",
       "         0.70051444+0.00888861j]], dtype=complex64))"
      ]
     },
     "execution_count": 77,
     "metadata": {},
     "output_type": "execute_result"
    }
   ],
   "source": [
    "jnp.linalg.eigh(G)"
   ]
  },
  {
   "cell_type": "code",
   "execution_count": 78,
   "metadata": {},
   "outputs": [
    {
     "data": {
      "text/plain": [
       "EighResult(eigenvalues=Array([ 0.6142048,  1.4245344,  4.862659 , 10.52285  , 27.415787 ],      dtype=float32), eigenvectors=Array([[ 0.8202613 +0.j        , -0.44908533+0.j        ,\n",
       "        -0.17566153+0.j        ,  0.17789178+0.j        ,\n",
       "        -0.25098053+0.j        ],\n",
       "       [-0.21356365-0.31786498j, -0.15527584-0.25715175j,\n",
       "        -0.54287803-0.13481124j, -0.11944247+0.6478737j ,\n",
       "        -0.124834  -0.02516796j],\n",
       "       [ 0.15382296-0.16787662j,  0.2326188 -0.38961703j,\n",
       "         0.4134227 -0.20632097j,  0.42951807+0.29109025j,\n",
       "         0.10157977+0.49921748j],\n",
       "       [ 0.21444629-0.11835641j,  0.06707137-0.47586873j,\n",
       "        -0.08227276+0.65037256j, -0.24479258-0.05035871j,\n",
       "         0.46492365-0.02622258j],\n",
       "       [ 0.21186538+0.15426369j,  0.0058415 +0.52075696j,\n",
       "        -0.00342249-0.11401812j, -0.02591354+0.4494409j ,\n",
       "         0.66599995-0.02927486j]], dtype=complex64))"
      ]
     },
     "execution_count": 78,
     "metadata": {},
     "output_type": "execute_result"
    }
   ],
   "source": [
    "jnp.linalg.eigh(Gamma_true)"
   ]
  },
  {
   "cell_type": "code",
   "execution_count": 80,
   "metadata": {},
   "outputs": [
    {
     "data": {
      "text/plain": [
       "Array([0.2203118, 0.5815813, 1.4032508], dtype=float32)"
      ]
     },
     "execution_count": 80,
     "metadata": {},
     "output_type": "execute_result"
    }
   ],
   "source": [
    "alpha"
   ]
  },
  {
   "cell_type": "code",
   "execution_count": null,
   "metadata": {},
   "outputs": [],
   "source": [
    "# try without noise\n",
    "# add noise to observations"
   ]
  },
  {
   "cell_type": "code",
   "execution_count": 17,
   "metadata": {},
   "outputs": [],
   "source": [
    "# First, let's get up and running with a complex-valued distribution"
   ]
  },
  {
   "attachments": {},
   "cell_type": "markdown",
   "metadata": {},
   "source": []
  },
  {
   "cell_type": "code",
   "execution_count": 18,
   "metadata": {},
   "outputs": [
    {
     "ename": "AttributeError",
     "evalue": "module 'numpy.__config__' has no attribute 'get_info'",
     "output_type": "error",
     "traceback": [
      "\u001b[0;31m---------------------------------------------------------------------------\u001b[0m",
      "\u001b[0;31mNoSectionError\u001b[0m                            Traceback (most recent call last)",
      "File \u001b[0;32m/projectnb/stephenlab/jtauber/.conda/envs/sgc_env/lib/python3.10/site-packages/pytensor/configparser.py:201\u001b[0m, in \u001b[0;36mPyTensorConfigParser.fetch_val_for_key\u001b[0;34m(self, key, delete_key)\u001b[0m\n\u001b[1;32m    200\u001b[0m \u001b[39mtry\u001b[39;00m:\n\u001b[0;32m--> 201\u001b[0m     \u001b[39mreturn\u001b[39;00m \u001b[39mself\u001b[39;49m\u001b[39m.\u001b[39;49m_pytensor_cfg\u001b[39m.\u001b[39;49mget(section, option)\n\u001b[1;32m    202\u001b[0m \u001b[39mexcept\u001b[39;00m InterpolationError:\n",
      "File \u001b[0;32m/projectnb/stephenlab/jtauber/.conda/envs/sgc_env/lib/python3.10/configparser.py:783\u001b[0m, in \u001b[0;36mRawConfigParser.get\u001b[0;34m(self, section, option, raw, vars, fallback)\u001b[0m\n\u001b[1;32m    782\u001b[0m \u001b[39mtry\u001b[39;00m:\n\u001b[0;32m--> 783\u001b[0m     d \u001b[39m=\u001b[39m \u001b[39mself\u001b[39;49m\u001b[39m.\u001b[39;49m_unify_values(section, \u001b[39mvars\u001b[39;49m)\n\u001b[1;32m    784\u001b[0m \u001b[39mexcept\u001b[39;00m NoSectionError:\n",
      "File \u001b[0;32m/projectnb/stephenlab/jtauber/.conda/envs/sgc_env/lib/python3.10/configparser.py:1154\u001b[0m, in \u001b[0;36mRawConfigParser._unify_values\u001b[0;34m(self, section, vars)\u001b[0m\n\u001b[1;32m   1153\u001b[0m     \u001b[39mif\u001b[39;00m section \u001b[39m!=\u001b[39m \u001b[39mself\u001b[39m\u001b[39m.\u001b[39mdefault_section:\n\u001b[0;32m-> 1154\u001b[0m         \u001b[39mraise\u001b[39;00m NoSectionError(section) \u001b[39mfrom\u001b[39;00m \u001b[39mNone\u001b[39;00m\n\u001b[1;32m   1155\u001b[0m \u001b[39m# Update with the entry specific variables\u001b[39;00m\n",
      "\u001b[0;31mNoSectionError\u001b[0m: No section: 'blas'",
      "\nDuring handling of the above exception, another exception occurred:\n",
      "\u001b[0;31mKeyError\u001b[0m                                  Traceback (most recent call last)",
      "File \u001b[0;32m/projectnb/stephenlab/jtauber/.conda/envs/sgc_env/lib/python3.10/site-packages/pytensor/configparser.py:317\u001b[0m, in \u001b[0;36mConfigParam.__get__\u001b[0;34m(self, cls, type_, delete_key)\u001b[0m\n\u001b[1;32m    316\u001b[0m \u001b[39mtry\u001b[39;00m:\n\u001b[0;32m--> 317\u001b[0m     val_str \u001b[39m=\u001b[39m \u001b[39mcls\u001b[39;49m\u001b[39m.\u001b[39;49mfetch_val_for_key(\u001b[39mself\u001b[39;49m\u001b[39m.\u001b[39;49mname, delete_key\u001b[39m=\u001b[39;49mdelete_key)\n\u001b[1;32m    318\u001b[0m     \u001b[39mself\u001b[39m\u001b[39m.\u001b[39mis_default \u001b[39m=\u001b[39m \u001b[39mFalse\u001b[39;00m\n",
      "File \u001b[0;32m/projectnb/stephenlab/jtauber/.conda/envs/sgc_env/lib/python3.10/site-packages/pytensor/configparser.py:205\u001b[0m, in \u001b[0;36mPyTensorConfigParser.fetch_val_for_key\u001b[0;34m(self, key, delete_key)\u001b[0m\n\u001b[1;32m    204\u001b[0m \u001b[39mexcept\u001b[39;00m (NoOptionError, NoSectionError):\n\u001b[0;32m--> 205\u001b[0m     \u001b[39mraise\u001b[39;00m \u001b[39mKeyError\u001b[39;00m(key)\n",
      "\u001b[0;31mKeyError\u001b[0m: 'blas__ldflags'",
      "\nDuring handling of the above exception, another exception occurred:\n",
      "\u001b[0;31mAttributeError\u001b[0m                            Traceback (most recent call last)",
      "Cell \u001b[0;32mIn[18], line 1\u001b[0m\n\u001b[0;32m----> 1\u001b[0m \u001b[39mimport\u001b[39;00m \u001b[39mpymc\u001b[39;00m \u001b[39mas\u001b[39;00m \u001b[39mpm\u001b[39;00m\n\u001b[1;32m      2\u001b[0m \u001b[39mimport\u001b[39;00m \u001b[39maesara\u001b[39;00m\u001b[39m.\u001b[39;00m\u001b[39mtensor\u001b[39;00m \u001b[39mas\u001b[39;00m \u001b[39mat\u001b[39;00m\n\u001b[1;32m      3\u001b[0m \u001b[39mimport\u001b[39;00m \u001b[39mnumpy\u001b[39;00m \u001b[39mas\u001b[39;00m \u001b[39mnp\u001b[39;00m\n",
      "File \u001b[0;32m/projectnb/stephenlab/jtauber/.conda/envs/sgc_env/lib/python3.10/site-packages/pymc/__init__.py:47\u001b[0m\n\u001b[1;32m     42\u001b[0m     augmented \u001b[39m=\u001b[39m \u001b[39mf\u001b[39m\u001b[39m\"\u001b[39m\u001b[39m{\u001b[39;00maugmented\u001b[39m}\u001b[39;00m\u001b[39m -fno-unwind-tables -fno-asynchronous-unwind-tables\u001b[39m\u001b[39m\"\u001b[39m\n\u001b[1;32m     44\u001b[0m     pytensor\u001b[39m.\u001b[39mconfig\u001b[39m.\u001b[39mgcc__cxxflags \u001b[39m=\u001b[39m augmented\n\u001b[0;32m---> 47\u001b[0m __set_compiler_flags()\n\u001b[1;32m     49\u001b[0m \u001b[39mfrom\u001b[39;00m \u001b[39mpymc\u001b[39;00m \u001b[39mimport\u001b[39;00m _version, gp, ode, sampling\n\u001b[1;32m     50\u001b[0m \u001b[39mfrom\u001b[39;00m \u001b[39mpymc\u001b[39;00m\u001b[39m.\u001b[39;00m\u001b[39mbackends\u001b[39;00m \u001b[39mimport\u001b[39;00m \u001b[39m*\u001b[39m\n",
      "File \u001b[0;32m/projectnb/stephenlab/jtauber/.conda/envs/sgc_env/lib/python3.10/site-packages/pymc/__init__.py:30\u001b[0m, in \u001b[0;36m__set_compiler_flags\u001b[0;34m()\u001b[0m\n\u001b[1;32m     28\u001b[0m \u001b[39mdef\u001b[39;00m \u001b[39m__set_compiler_flags\u001b[39m():\n\u001b[1;32m     29\u001b[0m     \u001b[39m# Workarounds for PyTensor compiler problems on various platforms\u001b[39;00m\n\u001b[0;32m---> 30\u001b[0m     \u001b[39mimport\u001b[39;00m \u001b[39mpytensor\u001b[39;00m\n\u001b[1;32m     32\u001b[0m     current \u001b[39m=\u001b[39m pytensor\u001b[39m.\u001b[39mconfig\u001b[39m.\u001b[39mgcc__cxxflags\n\u001b[1;32m     33\u001b[0m     augmented \u001b[39m=\u001b[39m \u001b[39mf\u001b[39m\u001b[39m\"\u001b[39m\u001b[39m{\u001b[39;00mcurrent\u001b[39m}\u001b[39;00m\u001b[39m -Wno-c++11-narrowing\u001b[39m\u001b[39m\"\u001b[39m\n",
      "File \u001b[0;32m/projectnb/stephenlab/jtauber/.conda/envs/sgc_env/lib/python3.10/site-packages/pytensor/__init__.py:119\u001b[0m\n\u001b[1;32m    115\u001b[0m     \u001b[39mreturn\u001b[39;00m as_tensor_variable(x, \u001b[39m*\u001b[39m\u001b[39m*\u001b[39mkwargs)\n\u001b[1;32m    118\u001b[0m \u001b[39m# isort: off\u001b[39;00m\n\u001b[0;32m--> 119\u001b[0m \u001b[39mfrom\u001b[39;00m \u001b[39mpytensor\u001b[39;00m \u001b[39mimport\u001b[39;00m scalar, tensor\n\u001b[1;32m    120\u001b[0m \u001b[39mfrom\u001b[39;00m \u001b[39mpytensor\u001b[39;00m\u001b[39m.\u001b[39;00m\u001b[39mcompile\u001b[39;00m \u001b[39mimport\u001b[39;00m (\n\u001b[1;32m    121\u001b[0m     In,\n\u001b[1;32m    122\u001b[0m     Mode,\n\u001b[0;32m   (...)\u001b[0m\n\u001b[1;32m    128\u001b[0m     shared,\n\u001b[1;32m    129\u001b[0m )\n\u001b[1;32m    130\u001b[0m \u001b[39mfrom\u001b[39;00m \u001b[39mpytensor\u001b[39;00m\u001b[39m.\u001b[39;00m\u001b[39mcompile\u001b[39;00m\u001b[39m.\u001b[39;00m\u001b[39mfunction\u001b[39;00m \u001b[39mimport\u001b[39;00m function, function_dump\n",
      "File \u001b[0;32m/projectnb/stephenlab/jtauber/.conda/envs/sgc_env/lib/python3.10/site-packages/pytensor/tensor/__init__.py:106\u001b[0m\n\u001b[1;32m    104\u001b[0m \u001b[39m# adds shared-variable constructors\u001b[39;00m\n\u001b[1;32m    105\u001b[0m \u001b[39mfrom\u001b[39;00m \u001b[39mpytensor\u001b[39;00m\u001b[39m.\u001b[39;00m\u001b[39mtensor\u001b[39;00m \u001b[39mimport\u001b[39;00m sharedvar  \u001b[39m# noqa\u001b[39;00m\n\u001b[0;32m--> 106\u001b[0m \u001b[39mfrom\u001b[39;00m \u001b[39mpytensor\u001b[39;00m\u001b[39m.\u001b[39;00m\u001b[39mtensor\u001b[39;00m \u001b[39mimport\u001b[39;00m (  \u001b[39m# noqa\u001b[39;00m\n\u001b[1;32m    107\u001b[0m     blas,\n\u001b[1;32m    108\u001b[0m     blas_c,\n\u001b[1;32m    109\u001b[0m     blas_scipy,\n\u001b[1;32m    110\u001b[0m     xlogx,\n\u001b[1;32m    111\u001b[0m )\n\u001b[1;32m    112\u001b[0m \u001b[39mimport\u001b[39;00m \u001b[39mpytensor\u001b[39;00m\u001b[39m.\u001b[39;00m\u001b[39mtensor\u001b[39;00m\u001b[39m.\u001b[39;00m\u001b[39mrewriting\u001b[39;00m\n\u001b[1;32m    115\u001b[0m \u001b[39m# isort: off\u001b[39;00m\n",
      "File \u001b[0;32m/projectnb/stephenlab/jtauber/.conda/envs/sgc_env/lib/python3.10/site-packages/pytensor/tensor/blas.py:102\u001b[0m\n\u001b[1;32m    100\u001b[0m \u001b[39mfrom\u001b[39;00m \u001b[39mpytensor\u001b[39;00m\u001b[39m.\u001b[39;00m\u001b[39mscalar\u001b[39;00m \u001b[39mimport\u001b[39;00m \u001b[39mbool\u001b[39m \u001b[39mas\u001b[39;00m bool_t\n\u001b[1;32m    101\u001b[0m \u001b[39mfrom\u001b[39;00m \u001b[39mpytensor\u001b[39;00m\u001b[39m.\u001b[39;00m\u001b[39mtensor\u001b[39;00m \u001b[39mimport\u001b[39;00m basic \u001b[39mas\u001b[39;00m at\n\u001b[0;32m--> 102\u001b[0m \u001b[39mfrom\u001b[39;00m \u001b[39mpytensor\u001b[39;00m\u001b[39m.\u001b[39;00m\u001b[39mtensor\u001b[39;00m\u001b[39m.\u001b[39;00m\u001b[39mblas_headers\u001b[39;00m \u001b[39mimport\u001b[39;00m blas_header_text, blas_header_version\n\u001b[1;32m    103\u001b[0m \u001b[39mfrom\u001b[39;00m \u001b[39mpytensor\u001b[39;00m\u001b[39m.\u001b[39;00m\u001b[39mtensor\u001b[39;00m\u001b[39m.\u001b[39;00m\u001b[39melemwise\u001b[39;00m \u001b[39mimport\u001b[39;00m DimShuffle\n\u001b[1;32m    104\u001b[0m \u001b[39mfrom\u001b[39;00m \u001b[39mpytensor\u001b[39;00m\u001b[39m.\u001b[39;00m\u001b[39mtensor\u001b[39;00m\u001b[39m.\u001b[39;00m\u001b[39mmath\u001b[39;00m \u001b[39mimport\u001b[39;00m add, mul, neg, sub\n",
      "File \u001b[0;32m/projectnb/stephenlab/jtauber/.conda/envs/sgc_env/lib/python3.10/site-packages/pytensor/tensor/blas_headers.py:1015\u001b[0m\n\u001b[1;32m    997\u001b[0m             header \u001b[39m+\u001b[39m\u001b[39m=\u001b[39m textwrap\u001b[39m.\u001b[39mdedent(\n\u001b[1;32m    998\u001b[0m \u001b[39m                \u001b[39m\u001b[39m\"\"\"\\\u001b[39;00m\n\u001b[1;32m    999\u001b[0m \u001b[39m                    static float sdot_(int* Nx, float* x, int* Sx, float* y, int* Sy)\u001b[39;00m\n\u001b[0;32m   (...)\u001b[0m\n\u001b[1;32m   1009\u001b[0m \u001b[39m                    \"\"\"\u001b[39;00m\n\u001b[1;32m   1010\u001b[0m             )\n\u001b[1;32m   1012\u001b[0m     \u001b[39mreturn\u001b[39;00m header \u001b[39m+\u001b[39m blas_code\n\u001b[0;32m-> 1015\u001b[0m \u001b[39mif\u001b[39;00m \u001b[39mnot\u001b[39;00m config\u001b[39m.\u001b[39;49mblas__ldflags:\n\u001b[1;32m   1016\u001b[0m     _logger\u001b[39m.\u001b[39mwarning(\u001b[39m\"\u001b[39m\u001b[39mUsing NumPy C-API based implementation for BLAS functions.\u001b[39m\u001b[39m\"\u001b[39m)\n\u001b[1;32m   1019\u001b[0m \u001b[39mdef\u001b[39;00m \u001b[39mmkl_threads_text\u001b[39m():\n",
      "File \u001b[0;32m/projectnb/stephenlab/jtauber/.conda/envs/sgc_env/lib/python3.10/site-packages/pytensor/configparser.py:321\u001b[0m, in \u001b[0;36mConfigParam.__get__\u001b[0;34m(self, cls, type_, delete_key)\u001b[0m\n\u001b[1;32m    319\u001b[0m \u001b[39mexcept\u001b[39;00m \u001b[39mKeyError\u001b[39;00m:\n\u001b[1;32m    320\u001b[0m     \u001b[39mif\u001b[39;00m \u001b[39mcallable\u001b[39m(\u001b[39mself\u001b[39m\u001b[39m.\u001b[39mdefault):\n\u001b[0;32m--> 321\u001b[0m         val_str \u001b[39m=\u001b[39m \u001b[39mself\u001b[39;49m\u001b[39m.\u001b[39;49mdefault()\n\u001b[1;32m    322\u001b[0m     \u001b[39melse\u001b[39;00m:\n\u001b[1;32m    323\u001b[0m         val_str \u001b[39m=\u001b[39m \u001b[39mself\u001b[39m\u001b[39m.\u001b[39mdefault\n",
      "File \u001b[0;32m/projectnb/stephenlab/jtauber/.conda/envs/sgc_env/lib/python3.10/site-packages/pytensor/link/c/cmodule.py:2720\u001b[0m, in \u001b[0;36mdefault_blas_ldflags\u001b[0;34m()\u001b[0m\n\u001b[1;32m   2718\u001b[0m warn_record \u001b[39m=\u001b[39m []\n\u001b[1;32m   2719\u001b[0m \u001b[39mtry\u001b[39;00m:\n\u001b[0;32m-> 2720\u001b[0m     blas_info \u001b[39m=\u001b[39m np\u001b[39m.\u001b[39;49m__config__\u001b[39m.\u001b[39;49mget_info(\u001b[39m\"\u001b[39m\u001b[39mblas_opt\u001b[39m\u001b[39m\"\u001b[39m)\n\u001b[1;32m   2722\u001b[0m     \u001b[39m# If we are in a EPD installation, mkl is available\u001b[39;00m\n\u001b[1;32m   2723\u001b[0m     \u001b[39mif\u001b[39;00m \u001b[39m\"\u001b[39m\u001b[39mEPD\u001b[39m\u001b[39m\"\u001b[39m \u001b[39min\u001b[39;00m sys\u001b[39m.\u001b[39mversion:\n",
      "\u001b[0;31mAttributeError\u001b[0m: module 'numpy.__config__' has no attribute 'get_info'"
     ]
    }
   ],
   "source": [
    "import pymc as pm\n",
    "import aesara.tensor as at\n",
    "import numpy as np\n",
    "\n",
    "class ComplexMVN(pm.distributions.Distribution):\n",
    "    \"\"\"\n",
    "    Circular Complex Multivariate Normal:\n",
    "    z ~ CN(0, Γ) modeled as real-valued MVN over [Re(z); Im(z)].\n",
    "    \n",
    "    Assumes:\n",
    "    - zero mean\n",
    "    - circular symmetry\n",
    "    \"\"\"\n",
    "\n",
    "    def __init__(self, cov, **kwargs):\n",
    "        \"\"\"\n",
    "        Parameters\n",
    "        ----------\n",
    "        cov : tensor\n",
    "            Complex covariance matrix Γ (K x K), Hermitian and PSD\n",
    "        \"\"\"\n",
    "        self.K = cov.shape[-1]\n",
    "\n",
    "        # Build block covariance matrix\n",
    "        Re_Gamma = at.real(cov)\n",
    "        Im_Gamma = at.imag(cov)\n",
    "\n",
    "        # Circular assumption: real and imaginary parts independent, same variance\n",
    "        top = at.concatenate([Re_Gamma, -Im_Gamma], axis=-1)\n",
    "        bottom = at.concatenate([Im_Gamma, Re_Gamma], axis=-1)\n",
    "        block_cov = 0.5 * at.concatenate([top, bottom], axis=0)\n",
    "\n",
    "        # Register internal real-valued MVN\n",
    "        super().__init__(**kwargs)\n",
    "        self._mvn = pm.MvNormal.dist(mu=at.zeros(2 * self.K), cov=block_cov, **kwargs)\n",
    "\n",
    "    def logp(self, value):\n",
    "        # Convert complex-valued obs to stacked real vector\n",
    "        value_real = at.concatenate([at.real(value), at.imag(value)], axis=-1)\n",
    "        return self._mvn.logp(value_real)\n",
    "\n",
    "    def random(self, point=None, size=None):\n",
    "        samples_real = self._mvn.random(point=point, size=size)\n",
    "        re = samples_real[..., :self.K]\n",
    "        im = samples_real[..., self.K:]\n",
    "        return re + 1j * im"
   ]
  },
  {
   "attachments": {},
   "cell_type": "markdown",
   "metadata": {},
   "source": [
    "okie dokie... lets see if we can get a basic tutorial example from pymc to run at all"
   ]
  },
  {
   "cell_type": "code",
   "execution_count": 1,
   "metadata": {},
   "outputs": [
    {
     "name": "stderr",
     "output_type": "stream",
     "text": [
      "Matplotlib is building the font cache; this may take a moment.\n"
     ]
    }
   ],
   "source": [
    "import arviz as az\n",
    "import matplotlib.pyplot as plt\n",
    "import numpy as np\n",
    "import pandas as pd"
   ]
  },
  {
   "cell_type": "code",
   "execution_count": 2,
   "metadata": {},
   "outputs": [],
   "source": [
    "%config InlineBackend.figure_format = 'retina'\n",
    "# Initialize random number generator\n",
    "RANDOM_SEED = 8927\n",
    "rng = np.random.default_rng(RANDOM_SEED)\n",
    "az.style.use(\"arviz-darkgrid\")"
   ]
  },
  {
   "cell_type": "code",
   "execution_count": 3,
   "metadata": {},
   "outputs": [],
   "source": [
    "# True parameter values\n",
    "alpha, sigma = 1, 1\n",
    "beta = [1, 2.5]\n",
    "\n",
    "# Size of dataset\n",
    "size = 100\n",
    "\n",
    "# Predictor variable\n",
    "X1 = np.random.randn(size)\n",
    "X2 = np.random.randn(size) * 0.2\n",
    "\n",
    "# Simulate outcome variable\n",
    "Y = alpha + beta[0] * X1 + beta[1] * X2 + rng.normal(size=size) * sigma"
   ]
  },
  {
   "cell_type": "code",
   "execution_count": 4,
   "metadata": {},
   "outputs": [
    {
     "data": {
      "image/png": "[encoded data removed]",
      "text/plain": [
       "<Figure size 1000x400 with 2 Axes>"
      ]
     },
     "metadata": {
      "image/png": {
       "height": 411,
       "width": 1011
      }
     },
     "output_type": "display_data"
    }
   ],
   "source": [
    "fig, axes = plt.subplots(1, 2, sharex=True, figsize=(10, 4))\n",
    "axes[0].scatter(X1, Y, alpha=0.6)\n",
    "axes[1].scatter(X2, Y, alpha=0.6)\n",
    "axes[0].set_ylabel(\"Y\")\n",
    "axes[0].set_xlabel(\"X1\")\n",
    "axes[1].set_xlabel(\"X2\");"
   ]
  },
  {
   "cell_type": "code",
   "execution_count": 5,
   "metadata": {},
   "outputs": [
    {
     "name": "stdout",
     "output_type": "stream",
     "text": [
      "Running on PyMC v5.21.1\n"
     ]
    }
   ],
   "source": [
    "import pymc as pm\n",
    "\n",
    "print(f\"Running on PyMC v{pm.__version__}\")"
   ]
  },
  {
   "cell_type": "code",
   "execution_count": 27,
   "metadata": {},
   "outputs": [],
   "source": [
    "import pymc as pm\n",
    "import pytensor.tensor as pt\n",
    "import numpy as np\n",
    " \n",
    "def ComplexMVN(name, cov, observed=None):\n",
    "    \"\"\"\n",
    "    Factory for circular complex MVN likelihood.\n",
    "    Accepts real symmetric cov matrix Γ (K x K) and complex observations (L, K).\n",
    "    Internally converts observations to real.\n",
    "    \"\"\"\n",
    "    K = cov.shape[-1]\n",
    "\n",
    "    # Real and imag parts of Gamma (Im = 0 under circular symmetry)\n",
    "    Re_Gamma = cov\n",
    "    Im_Gamma = pt.zeros_like(cov)\n",
    "\n",
    "    top = pt.concatenate([Re_Gamma, -Im_Gamma], axis=-1)\n",
    "    bottom = pt.concatenate([Im_Gamma, Re_Gamma], axis=-1)\n",
    "    block_cov = 0.5 * pt.concatenate([top, bottom], axis=0)\n",
    "\n",
    "    if observed is not None:\n",
    "        # Convert complex obs to stacked real array: shape (L, 2K)\n",
    "        obs_real = np.concatenate([np.real(observed), np.imag(observed)], axis=-1)\n",
    "        return pm.MvNormal(name, mu=pt.zeros(2 * K), cov=block_cov, observed=obs_real)\n",
    "    else:\n",
    "        return pm.MvNormal(name, mu=pt.zeros(2 * K), cov=block_cov, shape=(2 * K,))"
   ]
  },
  {
   "cell_type": "code",
   "execution_count": 28,
   "metadata": {},
   "outputs": [
    {
     "name": "stderr",
     "output_type": "stream",
     "text": [
      "Initializing NUTS using jitter+adapt_diag...\n",
      "Multiprocess sampling (2 chains in 2 jobs)\n",
      "NUTS: [chol]\n"
     ]
    },
    {
     "data": {
      "text/html": [
       "<pre style=\"white-space:pre;overflow-x:auto;line-height:normal;font-family:Menlo,'DejaVu Sans Mono',consolas,'Courier New',monospace\">/projectnb/stephenlab/jtauber/.conda/envs/pymc_env/lib/python3.13/site-packages/rich/live.py:231: UserWarning: \n",
       "install \"ipywidgets\" for Jupyter support\n",
       "  warnings.warn('install \"ipywidgets\" for Jupyter support')\n",
       "</pre>\n"
      ],
      "text/plain": [
       "/projectnb/stephenlab/jtauber/.conda/envs/pymc_env/lib/python3.13/site-packages/rich/live.py:231: UserWarning: \n",
       "install \"ipywidgets\" for Jupyter support\n",
       "  warnings.warn('install \"ipywidgets\" for Jupyter support')\n"
      ]
     },
     "metadata": {},
     "output_type": "display_data"
    },
    {
     "name": "stderr",
     "output_type": "stream",
     "text": [
      "/projectnb/stephenlab/jtauber/.conda/envs/pymc_env/lib/python3.13/site-packages/pytensor/compile/function/types.py:1037: RuntimeWarning: invalid value encountered in accumulate\n",
      "  outputs = vm() if output_subset is None else vm(output_subset=output_subset)\n",
      "/projectnb/stephenlab/jtauber/.conda/envs/pymc_env/lib/python3.13/site-packages/pytensor/compile/function/types.py:1037: RuntimeWarning: invalid value encountered in accumulate\n",
      "  outputs = vm() if output_subset is None else vm(output_subset=output_subset)\n",
      "/projectnb/stephenlab/jtauber/.conda/envs/pymc_env/lib/python3.13/site-packages/pytensor/tensor/subtensor.py:2585: RuntimeWarning: invalid value encountered in add\n",
      "  np.add.at(x, idx, y)\n"
     ]
    },
    {
     "data": {
      "text/html": [
       "<pre style=\"white-space:pre;overflow-x:auto;line-height:normal;font-family:Menlo,'DejaVu Sans Mono',consolas,'Courier New',monospace\"></pre>\n"
      ],
      "text/plain": []
     },
     "metadata": {},
     "output_type": "display_data"
    },
    {
     "name": "stderr",
     "output_type": "stream",
     "text": [
      "Sampling 2 chains for 1_000 tune and 1_000 draw iterations (2_000 + 2_000 draws total) took 8 seconds.\n",
      "We recommend running at least 4 chains for robust computation of convergence diagnostics\n"
     ]
    }
   ],
   "source": [
    "K = 3\n",
    "with pm.Model() as model:\n",
    "    chol, corr, stds = pm.LKJCholeskyCov(\n",
    "        \"chol\", eta=2.0, n=K, sd_dist=pm.HalfNormal.dist(1.0), compute_corr=True\n",
    "    )\n",
    "    Gamma_real = chol @ chol.T\n",
    "\n",
    "    # Complex-valued observations\n",
    "    z_obs = np.random.randn(100, K) + 1j * np.random.randn(100, K)\n",
    "\n",
    "    # ComplexMVN wrapper safely converts z_obs to real\n",
    "    z = ComplexMVN(\"z\", cov=Gamma_real, observed=z_obs)\n",
    "\n",
    "    trace = pm.sample(1000, tune=1000, chains=2, target_accept=0.9)\n"
   ]
  },
  {
   "cell_type": "code",
   "execution_count": 30,
   "metadata": {},
   "outputs": [
    {
     "data": {
      "text/html": [
       "<div><svg style=\"position: absolute; width: 0; height: 0; overflow: hidden\">\n",
       "<defs>\n",
       "<symbol id=\"icon-database\" viewBox=\"0 0 32 32\">\n",
       "<path d=\"M16 0c-8.837 0-16 2.239-16 5v4c0 2.761 7.163 5 16 5s16-2.239 16-5v-4c0-2.761-7.163-5-16-5z\"></path>\n",
       "<path d=\"M16 17c-8.837 0-16-2.239-16-5v6c0 2.761 7.163 5 16 5s16-2.239 16-5v-6c0 2.761-7.163 5-16 5z\"></path>\n",
       "<path d=\"M16 26c-8.837 0-16-2.239-16-5v6c0 2.761 7.163 5 16 5s16-2.239 16-5v-6c0 2.761-7.163 5-16 5z\"></path>\n",
       "</symbol>\n",
       "<symbol id=\"icon-file-text2\" viewBox=\"0 0 32 32\">\n",
       "<path d=\"M28.681 7.159c-0.694-0.947-1.662-2.053-2.724-3.116s-2.169-2.030-3.116-2.724c-1.612-1.182-2.393-1.319-2.841-1.319h-15.5c-1.378 0-2.5 1.121-2.5 2.5v27c0 1.378 1.122 2.5 2.5 2.5h23c1.378 0 2.5-1.122 2.5-2.5v-19.5c0-0.448-0.137-1.23-1.319-2.841zM24.543 5.457c0.959 0.959 1.712 1.825 2.268 2.543h-4.811v-4.811c0.718 0.556 1.584 1.309 2.543 2.268zM28 29.5c0 0.271-0.229 0.5-0.5 0.5h-23c-0.271 0-0.5-0.229-0.5-0.5v-27c0-0.271 0.229-0.5 0.5-0.5 0 0 15.499-0 15.5 0v7c0 0.552 0.448 1 1 1h7v19.5z\"></path>\n",
       "<path d=\"M23 26h-14c-0.552 0-1-0.448-1-1s0.448-1 1-1h14c0.552 0 1 0.448 1 1s-0.448 1-1 1z\"></path>\n",
       "<path d=\"M23 22h-14c-0.552 0-1-0.448-1-1s0.448-1 1-1h14c0.552 0 1 0.448 1 1s-0.448 1-1 1z\"></path>\n",
       "<path d=\"M23 18h-14c-0.552 0-1-0.448-1-1s0.448-1 1-1h14c0.552 0 1 0.448 1 1s-0.448 1-1 1z\"></path>\n",
       "</symbol>\n",
       "</defs>\n",
       "</svg>\n",
       "<style>/* CSS stylesheet for displaying xarray objects in jupyterlab.\n",
       " *\n",
       " */\n",
       "\n",
       ":root {\n",
       "  --xr-font-color0: var(--jp-content-font-color0, rgba(0, 0, 0, 1));\n",
       "  --xr-font-color2: var(--jp-content-font-color2, rgba(0, 0, 0, 0.54));\n",
       "  --xr-font-color3: var(--jp-content-font-color3, rgba(0, 0, 0, 0.38));\n",
       "  --xr-border-color: var(--jp-border-color2, #e0e0e0);\n",
       "  --xr-disabled-color: var(--jp-layout-color3, #bdbdbd);\n",
       "  --xr-background-color: var(--jp-layout-color0, white);\n",
       "  --xr-background-color-row-even: var(--jp-layout-color1, white);\n",
       "  --xr-background-color-row-odd: var(--jp-layout-color2, #eeeeee);\n",
       "}\n",
       "\n",
       "html[theme=\"dark\"],\n",
       "html[data-theme=\"dark\"],\n",
       "body[data-theme=\"dark\"],\n",
       "body.vscode-dark {\n",
       "  --xr-font-color0: rgba(255, 255, 255, 1);\n",
       "  --xr-font-color2: rgba(255, 255, 255, 0.54);\n",
       "  --xr-font-color3: rgba(255, 255, 255, 0.38);\n",
       "  --xr-border-color: #1f1f1f;\n",
       "  --xr-disabled-color: #515151;\n",
       "  --xr-background-color: #111111;\n",
       "  --xr-background-color-row-even: #111111;\n",
       "  --xr-background-color-row-odd: #313131;\n",
       "}\n",
       "\n",
       ".xr-wrap {\n",
       "  display: block !important;\n",
       "  min-width: 300px;\n",
       "  max-width: 700px;\n",
       "}\n",
       "\n",
       ".xr-text-repr-fallback {\n",
       "  /* fallback to plain text repr when CSS is not injected (untrusted notebook) */\n",
       "  display: none;\n",
       "}\n",
       "\n",
       ".xr-header {\n",
       "  padding-top: 6px;\n",
       "  padding-bottom: 6px;\n",
       "  margin-bottom: 4px;\n",
       "  border-bottom: solid 1px var(--xr-border-color);\n",
       "}\n",
       "\n",
       ".xr-header > div,\n",
       ".xr-header > ul {\n",
       "  display: inline;\n",
       "  margin-top: 0;\n",
       "  margin-bottom: 0;\n",
       "}\n",
       "\n",
       ".xr-obj-type,\n",
       ".xr-array-name {\n",
       "  margin-left: 2px;\n",
       "  margin-right: 10px;\n",
       "}\n",
       "\n",
       ".xr-obj-type {\n",
       "  color: var(--xr-font-color2);\n",
       "}\n",
       "\n",
       ".xr-sections {\n",
       "  padding-left: 0 !important;\n",
       "  display: grid;\n",
       "  grid-template-columns: 150px auto auto 1fr 0 20px 0 20px;\n",
       "}\n",
       "\n",
       ".xr-section-item {\n",
       "  display: contents;\n",
       "}\n",
       "\n",
       ".xr-section-item input {\n",
       "  display: inline-block;\n",
       "  opacity: 0;\n",
       "  height: 0;\n",
       "}\n",
       "\n",
       ".xr-section-item input + label {\n",
       "  color: var(--xr-disabled-color);\n",
       "}\n",
       "\n",
       ".xr-section-item input:enabled + label {\n",
       "  cursor: pointer;\n",
       "  color: var(--xr-font-color2);\n",
       "}\n",
       "\n",
       ".xr-section-item input:focus + label {\n",
       "  border: 2px solid var(--xr-font-color0);\n",
       "}\n",
       "\n",
       ".xr-section-item input:enabled + label:hover {\n",
       "  color: var(--xr-font-color0);\n",
       "}\n",
       "\n",
       ".xr-section-summary {\n",
       "  grid-column: 1;\n",
       "  color: var(--xr-font-color2);\n",
       "  font-weight: 500;\n",
       "}\n",
       "\n",
       ".xr-section-summary > span {\n",
       "  display: inline-block;\n",
       "  padding-left: 0.5em;\n",
       "}\n",
       "\n",
       ".xr-section-summary-in:disabled + label {\n",
       "  color: var(--xr-font-color2);\n",
       "}\n",
       "\n",
       ".xr-section-summary-in + label:before {\n",
       "  display: inline-block;\n",
       "  content: \"►\";\n",
       "  font-size: 11px;\n",
       "  width: 15px;\n",
       "  text-align: center;\n",
       "}\n",
       "\n",
       ".xr-section-summary-in:disabled + label:before {\n",
       "  color: var(--xr-disabled-color);\n",
       "}\n",
       "\n",
       ".xr-section-summary-in:checked + label:before {\n",
       "  content: \"▼\";\n",
       "}\n",
       "\n",
       ".xr-section-summary-in:checked + label > span {\n",
       "  display: none;\n",
       "}\n",
       "\n",
       ".xr-section-summary,\n",
       ".xr-section-inline-details {\n",
       "  padding-top: 4px;\n",
       "  padding-bottom: 4px;\n",
       "}\n",
       "\n",
       ".xr-section-inline-details {\n",
       "  grid-column: 2 / -1;\n",
       "}\n",
       "\n",
       ".xr-section-details {\n",
       "  display: none;\n",
       "  grid-column: 1 / -1;\n",
       "  margin-bottom: 5px;\n",
       "}\n",
       "\n",
       ".xr-section-summary-in:checked ~ .xr-section-details {\n",
       "  display: contents;\n",
       "}\n",
       "\n",
       ".xr-array-wrap {\n",
       "  grid-column: 1 / -1;\n",
       "  display: grid;\n",
       "  grid-template-columns: 20px auto;\n",
       "}\n",
       "\n",
       ".xr-array-wrap > label {\n",
       "  grid-column: 1;\n",
       "  vertical-align: top;\n",
       "}\n",
       "\n",
       ".xr-preview {\n",
       "  color: var(--xr-font-color3);\n",
       "}\n",
       "\n",
       ".xr-array-preview,\n",
       ".xr-array-data {\n",
       "  padding: 0 5px !important;\n",
       "  grid-column: 2;\n",
       "}\n",
       "\n",
       ".xr-array-data,\n",
       ".xr-array-in:checked ~ .xr-array-preview {\n",
       "  display: none;\n",
       "}\n",
       "\n",
       ".xr-array-in:checked ~ .xr-array-data,\n",
       ".xr-array-preview {\n",
       "  display: inline-block;\n",
       "}\n",
       "\n",
       ".xr-dim-list {\n",
       "  display: inline-block !important;\n",
       "  list-style: none;\n",
       "  padding: 0 !important;\n",
       "  margin: 0;\n",
       "}\n",
       "\n",
       ".xr-dim-list li {\n",
       "  display: inline-block;\n",
       "  padding: 0;\n",
       "  margin: 0;\n",
       "}\n",
       "\n",
       ".xr-dim-list:before {\n",
       "  content: \"(\";\n",
       "}\n",
       "\n",
       ".xr-dim-list:after {\n",
       "  content: \")\";\n",
       "}\n",
       "\n",
       ".xr-dim-list li:not(:last-child):after {\n",
       "  content: \",\";\n",
       "  padding-right: 5px;\n",
       "}\n",
       "\n",
       ".xr-has-index {\n",
       "  font-weight: bold;\n",
       "}\n",
       "\n",
       ".xr-var-list,\n",
       ".xr-var-item {\n",
       "  display: contents;\n",
       "}\n",
       "\n",
       ".xr-var-item > div,\n",
       ".xr-var-item label,\n",
       ".xr-var-item > .xr-var-name span {\n",
       "  background-color: var(--xr-background-color-row-even);\n",
       "  margin-bottom: 0;\n",
       "}\n",
       "\n",
       ".xr-var-item > .xr-var-name:hover span {\n",
       "  padding-right: 5px;\n",
       "}\n",
       "\n",
       ".xr-var-list > li:nth-child(odd) > div,\n",
       ".xr-var-list > li:nth-child(odd) > label,\n",
       ".xr-var-list > li:nth-child(odd) > .xr-var-name span {\n",
       "  background-color: var(--xr-background-color-row-odd);\n",
       "}\n",
       "\n",
       ".xr-var-name {\n",
       "  grid-column: 1;\n",
       "}\n",
       "\n",
       ".xr-var-dims {\n",
       "  grid-column: 2;\n",
       "}\n",
       "\n",
       ".xr-var-dtype {\n",
       "  grid-column: 3;\n",
       "  text-align: right;\n",
       "  color: var(--xr-font-color2);\n",
       "}\n",
       "\n",
       ".xr-var-preview {\n",
       "  grid-column: 4;\n",
       "}\n",
       "\n",
       ".xr-index-preview {\n",
       "  grid-column: 2 / 5;\n",
       "  color: var(--xr-font-color2);\n",
       "}\n",
       "\n",
       ".xr-var-name,\n",
       ".xr-var-dims,\n",
       ".xr-var-dtype,\n",
       ".xr-preview,\n",
       ".xr-attrs dt {\n",
       "  white-space: nowrap;\n",
       "  overflow: hidden;\n",
       "  text-overflow: ellipsis;\n",
       "  padding-right: 10px;\n",
       "}\n",
       "\n",
       ".xr-var-name:hover,\n",
       ".xr-var-dims:hover,\n",
       ".xr-var-dtype:hover,\n",
       ".xr-attrs dt:hover {\n",
       "  overflow: visible;\n",
       "  width: auto;\n",
       "  z-index: 1;\n",
       "}\n",
       "\n",
       ".xr-var-attrs,\n",
       ".xr-var-data,\n",
       ".xr-index-data {\n",
       "  display: none;\n",
       "  background-color: var(--xr-background-color) !important;\n",
       "  padding-bottom: 5px !important;\n",
       "}\n",
       "\n",
       ".xr-var-attrs-in:checked ~ .xr-var-attrs,\n",
       ".xr-var-data-in:checked ~ .xr-var-data,\n",
       ".xr-index-data-in:checked ~ .xr-index-data {\n",
       "  display: block;\n",
       "}\n",
       "\n",
       ".xr-var-data > table {\n",
       "  float: right;\n",
       "}\n",
       "\n",
       ".xr-var-name span,\n",
       ".xr-var-data,\n",
       ".xr-index-name div,\n",
       ".xr-index-data,\n",
       ".xr-attrs {\n",
       "  padding-left: 25px !important;\n",
       "}\n",
       "\n",
       ".xr-attrs,\n",
       ".xr-var-attrs,\n",
       ".xr-var-data,\n",
       ".xr-index-data {\n",
       "  grid-column: 1 / -1;\n",
       "}\n",
       "\n",
       "dl.xr-attrs {\n",
       "  padding: 0;\n",
       "  margin: 0;\n",
       "  display: grid;\n",
       "  grid-template-columns: 125px auto;\n",
       "}\n",
       "\n",
       ".xr-attrs dt,\n",
       ".xr-attrs dd {\n",
       "  padding: 0;\n",
       "  margin: 0;\n",
       "  float: left;\n",
       "  padding-right: 10px;\n",
       "  width: auto;\n",
       "}\n",
       "\n",
       ".xr-attrs dt {\n",
       "  font-weight: normal;\n",
       "  grid-column: 1;\n",
       "}\n",
       "\n",
       ".xr-attrs dt:hover span {\n",
       "  display: inline-block;\n",
       "  background: var(--xr-background-color);\n",
       "  padding-right: 10px;\n",
       "}\n",
       "\n",
       ".xr-attrs dd {\n",
       "  grid-column: 2;\n",
       "  white-space: pre-wrap;\n",
       "  word-break: break-all;\n",
       "}\n",
       "\n",
       ".xr-icon-database,\n",
       ".xr-icon-file-text2,\n",
       ".xr-no-icon {\n",
       "  display: inline-block;\n",
       "  vertical-align: middle;\n",
       "  width: 1em;\n",
       "  height: 1.5em !important;\n",
       "  stroke-width: 0;\n",
       "  stroke: currentColor;\n",
       "  fill: currentColor;\n",
       "}\n",
       "</style><pre class='xr-text-repr-fallback'>&lt;xarray.Dataset&gt; Size: 296kB\n",
       "Dimensions:          (chain: 2, draw: 1000, chol_dim_0: 6, chol_corr_dim_0: 3,\n",
       "                      chol_corr_dim_1: 3, chol_stds_dim_0: 3)\n",
       "Coordinates:\n",
       "  * chain            (chain) int64 16B 0 1\n",
       "  * draw             (draw) int64 8kB 0 1 2 3 4 5 6 ... 994 995 996 997 998 999\n",
       "  * chol_dim_0       (chol_dim_0) int64 48B 0 1 2 3 4 5\n",
       "  * chol_corr_dim_0  (chol_corr_dim_0) int64 24B 0 1 2\n",
       "  * chol_corr_dim_1  (chol_corr_dim_1) int64 24B 0 1 2\n",
       "  * chol_stds_dim_0  (chol_stds_dim_0) int64 24B 0 1 2\n",
       "Data variables:\n",
       "    chol             (chain, draw, chol_dim_0) float64 96kB 1.411 ... 1.564\n",
       "    chol_corr        (chain, draw, chol_corr_dim_0, chol_corr_dim_1) float64 144kB ...\n",
       "    chol_stds        (chain, draw, chol_stds_dim_0) float64 48kB 1.411 ... 1.572\n",
       "Attributes:\n",
       "    created_at:                 2025-03-31T20:08:56.749417+00:00\n",
       "    arviz_version:              0.21.0\n",
       "    inference_library:          pymc\n",
       "    inference_library_version:  5.21.1\n",
       "    sampling_time:              8.221095085144043\n",
       "    tuning_steps:               1000</pre><div class='xr-wrap' style='display:none'><div class='xr-header'><div class='xr-obj-type'>xarray.Dataset</div></div><ul class='xr-sections'><li class='xr-section-item'><input id='section-e47d1d93-8ff4-4e1a-86e0-82137aad5960' class='xr-section-summary-in' type='checkbox' disabled ><label for='section-e47d1d93-8ff4-4e1a-86e0-82137aad5960' class='xr-section-summary'  title='Expand/collapse section'>Dimensions:</label><div class='xr-section-inline-details'><ul class='xr-dim-list'><li><span class='xr-has-index'>chain</span>: 2</li><li><span class='xr-has-index'>draw</span>: 1000</li><li><span class='xr-has-index'>chol_dim_0</span>: 6</li><li><span class='xr-has-index'>chol_corr_dim_0</span>: 3</li><li><span class='xr-has-index'>chol_corr_dim_1</span>: 3</li><li><span class='xr-has-index'>chol_stds_dim_0</span>: 3</li></ul></div><div class='xr-section-details'></div></li><li class='xr-section-item'><input id='section-553a7a0f-5bc1-4b27-880d-a2ba4409d33d' class='xr-section-summary-in' type='checkbox'  checked><label for='section-553a7a0f-5bc1-4b27-880d-a2ba4409d33d' class='xr-section-summary' >Coordinates: <span>(6)</span></label><div class='xr-section-inline-details'></div><div class='xr-section-details'><ul class='xr-var-list'><li class='xr-var-item'><div class='xr-var-name'><span class='xr-has-index'>chain</span></div><div class='xr-var-dims'>(chain)</div><div class='xr-var-dtype'>int64</div><div class='xr-var-preview xr-preview'>0 1</div><input id='attrs-24c8c606-462a-4521-8f8d-f85739f2a3dd' class='xr-var-attrs-in' type='checkbox' disabled><label for='attrs-24c8c606-462a-4521-8f8d-f85739f2a3dd' title='Show/Hide attributes'><svg class='icon xr-icon-file-text2'><use xlink:href='#icon-file-text2'></use></svg></label><input id='data-a881e45f-4046-483d-b816-139b0241a1b9' class='xr-var-data-in' type='checkbox'><label for='data-a881e45f-4046-483d-b816-139b0241a1b9' title='Show/Hide data repr'><svg class='icon xr-icon-database'><use xlink:href='#icon-database'></use></svg></label><div class='xr-var-attrs'><dl class='xr-attrs'></dl></div><div class='xr-var-data'><pre>array([0, 1])</pre></div></li><li class='xr-var-item'><div class='xr-var-name'><span class='xr-has-index'>draw</span></div><div class='xr-var-dims'>(draw)</div><div class='xr-var-dtype'>int64</div><div class='xr-var-preview xr-preview'>0 1 2 3 4 5 ... 995 996 997 998 999</div><input id='attrs-d4093cc0-34bf-495d-8e8c-c64a05005878' class='xr-var-attrs-in' type='checkbox' disabled><label for='attrs-d4093cc0-34bf-495d-8e8c-c64a05005878' title='Show/Hide attributes'><svg class='icon xr-icon-file-text2'><use xlink:href='#icon-file-text2'></use></svg></label><input id='data-6e68a68b-ed43-4ef4-a059-f1f83e59c9d3' class='xr-var-data-in' type='checkbox'><label for='data-6e68a68b-ed43-4ef4-a059-f1f83e59c9d3' title='Show/Hide data repr'><svg class='icon xr-icon-database'><use xlink:href='#icon-database'></use></svg></label><div class='xr-var-attrs'><dl class='xr-attrs'></dl></div><div class='xr-var-data'><pre>array([  0,   1,   2, ..., 997, 998, 999], shape=(1000,))</pre></div></li><li class='xr-var-item'><div class='xr-var-name'><span class='xr-has-index'>chol_dim_0</span></div><div class='xr-var-dims'>(chol_dim_0)</div><div class='xr-var-dtype'>int64</div><div class='xr-var-preview xr-preview'>0 1 2 3 4 5</div><input id='attrs-199354b5-276a-4a4d-92e1-5b93a3f9837b' class='xr-var-attrs-in' type='checkbox' disabled><label for='attrs-199354b5-276a-4a4d-92e1-5b93a3f9837b' title='Show/Hide attributes'><svg class='icon xr-icon-file-text2'><use xlink:href='#icon-file-text2'></use></svg></label><input id='data-9384ecee-cf54-4b9e-8083-c6ae4c4a5f51' class='xr-var-data-in' type='checkbox'><label for='data-9384ecee-cf54-4b9e-8083-c6ae4c4a5f51' title='Show/Hide data repr'><svg class='icon xr-icon-database'><use xlink:href='#icon-database'></use></svg></label><div class='xr-var-attrs'><dl class='xr-attrs'></dl></div><div class='xr-var-data'><pre>array([0, 1, 2, 3, 4, 5])</pre></div></li><li class='xr-var-item'><div class='xr-var-name'><span class='xr-has-index'>chol_corr_dim_0</span></div><div class='xr-var-dims'>(chol_corr_dim_0)</div><div class='xr-var-dtype'>int64</div><div class='xr-var-preview xr-preview'>0 1 2</div><input id='attrs-b6196f78-d2cd-4b4b-a494-fb5b273e1e3a' class='xr-var-attrs-in' type='checkbox' disabled><label for='attrs-b6196f78-d2cd-4b4b-a494-fb5b273e1e3a' title='Show/Hide attributes'><svg class='icon xr-icon-file-text2'><use xlink:href='#icon-file-text2'></use></svg></label><input id='data-44ef89e9-617f-4ae0-90eb-e4c9b115277f' class='xr-var-data-in' type='checkbox'><label for='data-44ef89e9-617f-4ae0-90eb-e4c9b115277f' title='Show/Hide data repr'><svg class='icon xr-icon-database'><use xlink:href='#icon-database'></use></svg></label><div class='xr-var-attrs'><dl class='xr-attrs'></dl></div><div class='xr-var-data'><pre>array([0, 1, 2])</pre></div></li><li class='xr-var-item'><div class='xr-var-name'><span class='xr-has-index'>chol_corr_dim_1</span></div><div class='xr-var-dims'>(chol_corr_dim_1)</div><div class='xr-var-dtype'>int64</div><div class='xr-var-preview xr-preview'>0 1 2</div><input id='attrs-82583607-16a1-45f1-b8ea-91dd69ac7f06' class='xr-var-attrs-in' type='checkbox' disabled><label for='attrs-82583607-16a1-45f1-b8ea-91dd69ac7f06' title='Show/Hide attributes'><svg class='icon xr-icon-file-text2'><use xlink:href='#icon-file-text2'></use></svg></label><input id='data-b878048f-71a3-4177-bab3-e1fa1b55c858' class='xr-var-data-in' type='checkbox'><label for='data-b878048f-71a3-4177-bab3-e1fa1b55c858' title='Show/Hide data repr'><svg class='icon xr-icon-database'><use xlink:href='#icon-database'></use></svg></label><div class='xr-var-attrs'><dl class='xr-attrs'></dl></div><div class='xr-var-data'><pre>array([0, 1, 2])</pre></div></li><li class='xr-var-item'><div class='xr-var-name'><span class='xr-has-index'>chol_stds_dim_0</span></div><div class='xr-var-dims'>(chol_stds_dim_0)</div><div class='xr-var-dtype'>int64</div><div class='xr-var-preview xr-preview'>0 1 2</div><input id='attrs-facee458-8135-4796-bab9-985109fa55e6' class='xr-var-attrs-in' type='checkbox' disabled><label for='attrs-facee458-8135-4796-bab9-985109fa55e6' title='Show/Hide attributes'><svg class='icon xr-icon-file-text2'><use xlink:href='#icon-file-text2'></use></svg></label><input id='data-ae9d2228-a346-44a4-b779-c4b60305048d' class='xr-var-data-in' type='checkbox'><label for='data-ae9d2228-a346-44a4-b779-c4b60305048d' title='Show/Hide data repr'><svg class='icon xr-icon-database'><use xlink:href='#icon-database'></use></svg></label><div class='xr-var-attrs'><dl class='xr-attrs'></dl></div><div class='xr-var-data'><pre>array([0, 1, 2])</pre></div></li></ul></div></li><li class='xr-section-item'><input id='section-9b27b7a3-f75e-4cb6-90d1-5fcdca4f23b4' class='xr-section-summary-in' type='checkbox'  checked><label for='section-9b27b7a3-f75e-4cb6-90d1-5fcdca4f23b4' class='xr-section-summary' >Data variables: <span>(3)</span></label><div class='xr-section-inline-details'></div><div class='xr-section-details'><ul class='xr-var-list'><li class='xr-var-item'><div class='xr-var-name'><span>chol</span></div><div class='xr-var-dims'>(chain, draw, chol_dim_0)</div><div class='xr-var-dtype'>float64</div><div class='xr-var-preview xr-preview'>1.411 -0.02718 ... 0.1565 1.564</div><input id='attrs-1080b17a-c29d-4388-b621-446b11fde8e4' class='xr-var-attrs-in' type='checkbox' disabled><label for='attrs-1080b17a-c29d-4388-b621-446b11fde8e4' title='Show/Hide attributes'><svg class='icon xr-icon-file-text2'><use xlink:href='#icon-file-text2'></use></svg></label><input id='data-2cbba18b-0e07-415e-a085-ea2249ccaacb' class='xr-var-data-in' type='checkbox'><label for='data-2cbba18b-0e07-415e-a085-ea2249ccaacb' title='Show/Hide data repr'><svg class='icon xr-icon-database'><use xlink:href='#icon-database'></use></svg></label><div class='xr-var-attrs'><dl class='xr-attrs'></dl></div><div class='xr-var-data'><pre>array([[[ 1.41062119, -0.02717525,  1.42306772,  0.02959933,\n",
       "          0.30408087,  1.54472491],\n",
       "        [ 1.32349699,  0.00574054,  1.6085471 ,  0.02785442,\n",
       "          0.44713753,  1.59019874],\n",
       "        [ 1.36953749,  0.2076162 ,  1.43394297, -0.0335833 ,\n",
       "          0.16115579,  1.4308178 ],\n",
       "        ...,\n",
       "        [ 1.3681921 , -0.01466492,  1.45878509,  0.02019405,\n",
       "          0.27053763,  1.5032377 ],\n",
       "        [ 1.35812278, -0.15903828,  1.37635955, -0.06913515,\n",
       "          0.18351084,  1.49099738],\n",
       "        [ 1.43079226,  0.15316725,  1.59119152, -0.00285055,\n",
       "          0.14775855,  1.46717982]],\n",
       "\n",
       "       [[ 1.5122041 , -0.06836127,  1.6132961 , -0.06881505,\n",
       "          0.23360776,  1.4737546 ],\n",
       "        [ 1.49261381,  0.10667675,  1.41459724,  0.0251226 ,\n",
       "          0.17448851,  1.35882125],\n",
       "        [ 1.42822216,  0.1287956 ,  1.48054139,  0.18082277,\n",
       "          0.34874631,  1.4704502 ],\n",
       "        ...,\n",
       "        [ 1.31230455,  0.11938395,  1.51874761, -0.04448026,\n",
       "          0.1716815 ,  1.35576788],\n",
       "        [ 1.43190614, -0.11133733,  1.36763664,  0.08224103,\n",
       "          0.1735979 ,  1.58395533],\n",
       "        [ 1.36556025, -0.14986176,  1.46743984,  0.04118418,\n",
       "          0.15651605,  1.56399784]]], shape=(2, 1000, 6))</pre></div></li><li class='xr-var-item'><div class='xr-var-name'><span>chol_corr</span></div><div class='xr-var-dims'>(chain, draw, chol_corr_dim_0, chol_corr_dim_1)</div><div class='xr-var-dtype'>float64</div><div class='xr-var-preview xr-preview'>1.0 -0.01909 0.0188 ... 0.09637 1.0</div><input id='attrs-697ff4e3-f6a9-4a38-ac91-a15f3e7e3ded' class='xr-var-attrs-in' type='checkbox' disabled><label for='attrs-697ff4e3-f6a9-4a38-ac91-a15f3e7e3ded' title='Show/Hide attributes'><svg class='icon xr-icon-file-text2'><use xlink:href='#icon-file-text2'></use></svg></label><input id='data-0acb3c98-34c7-4f54-90af-7b4f5fe2e98d' class='xr-var-data-in' type='checkbox'><label for='data-0acb3c98-34c7-4f54-90af-7b4f5fe2e98d' title='Show/Hide data repr'><svg class='icon xr-icon-database'><use xlink:href='#icon-database'></use></svg></label><div class='xr-var-attrs'><dl class='xr-attrs'></dl></div><div class='xr-var-data'><pre>array([[[[ 1.        , -0.01909276,  0.01879743],\n",
       "         [-0.01909276,  1.        ,  0.19271628],\n",
       "         [ 0.01879743,  0.19271628,  1.        ]],\n",
       "\n",
       "        [[ 1.        ,  0.00356875,  0.01685999],\n",
       "         [ 0.00356875,  1.        ,  0.27070616],\n",
       "         [ 0.01685999,  0.27070616,  1.        ]],\n",
       "\n",
       "        [[ 1.        ,  0.14329278, -0.02331758],\n",
       "         [ 0.14329278,  1.        ,  0.10739787],\n",
       "         [-0.02331758,  0.10739787,  1.        ]],\n",
       "\n",
       "        ...,\n",
       "\n",
       "        [[ 1.        , -0.01005232,  0.01322014],\n",
       "         [-0.01005232,  1.        ,  0.17696704],\n",
       "         [ 0.01322014,  0.17696704,  1.        ]],\n",
       "\n",
       "        [[ 1.        , -0.11478619, -0.04597247],\n",
       "         [-0.11478619,  1.        ,  0.12649874],\n",
       "...\n",
       "         [ 0.07519787,  1.        ,  0.12836264],\n",
       "         [ 0.01833486,  0.12836264,  1.        ]],\n",
       "\n",
       "        [[ 1.        ,  0.08666492,  0.11880447],\n",
       "         [ 0.08666492,  1.        ,  0.23856793],\n",
       "         [ 0.11880447,  0.23856793,  1.        ]],\n",
       "\n",
       "        ...,\n",
       "\n",
       "        [[ 1.        ,  0.0783651 , -0.03253102],\n",
       "         [ 0.0783651 ,  1.        ,  0.1226253 ],\n",
       "         [-0.03253102,  0.1226253 ,  1.        ]],\n",
       "\n",
       "        [[ 1.        , -0.08114013,  0.05154365],\n",
       "         [-0.08114013,  1.        ,  0.10425955],\n",
       "         [ 0.05154365,  0.10425955,  1.        ]],\n",
       "\n",
       "        [[ 1.        , -0.10159621,  0.02619276],\n",
       "         [-0.10159621,  1.        ,  0.09636665],\n",
       "         [ 0.02619276,  0.09636665,  1.        ]]]], shape=(2, 1000, 3, 3))</pre></div></li><li class='xr-var-item'><div class='xr-var-name'><span>chol_stds</span></div><div class='xr-var-dims'>(chain, draw, chol_stds_dim_0)</div><div class='xr-var-dtype'>float64</div><div class='xr-var-preview xr-preview'>1.411 1.423 1.575 ... 1.475 1.572</div><input id='attrs-b05d5d7d-4fba-44cd-8222-88b80f17af63' class='xr-var-attrs-in' type='checkbox' disabled><label for='attrs-b05d5d7d-4fba-44cd-8222-88b80f17af63' title='Show/Hide attributes'><svg class='icon xr-icon-file-text2'><use xlink:href='#icon-file-text2'></use></svg></label><input id='data-1f9295cb-5b15-4055-be98-4766ccd05b5e' class='xr-var-data-in' type='checkbox'><label for='data-1f9295cb-5b15-4055-be98-4766ccd05b5e' title='Show/Hide data repr'><svg class='icon xr-icon-database'><use xlink:href='#icon-database'></use></svg></label><div class='xr-var-attrs'><dl class='xr-attrs'></dl></div><div class='xr-var-data'><pre>array([[[1.41062119, 1.42332716, 1.57464801],\n",
       "        [1.32349699, 1.60855734, 1.65210166],\n",
       "        [1.36953749, 1.44889508, 1.44025644],\n",
       "        ...,\n",
       "        [1.3681921 , 1.4588588 , 1.52752152],\n",
       "        [1.35812278, 1.38551752, 1.50383812],\n",
       "        [1.43079226, 1.59854643, 1.47460413]],\n",
       "\n",
       "       [[1.5122041 , 1.61474381, 1.49374051],\n",
       "        [1.49261381, 1.41861386, 1.37020895],\n",
       "        [1.42822216, 1.48613294, 1.52201992],\n",
       "        ...,\n",
       "        [1.31230455, 1.52343258, 1.36731839],\n",
       "        [1.43190614, 1.37216106, 1.59556081],\n",
       "        [1.36556025, 1.47507227, 1.57234941]]], shape=(2, 1000, 3))</pre></div></li></ul></div></li><li class='xr-section-item'><input id='section-33c2a72b-f2c5-4404-982e-197fb5831025' class='xr-section-summary-in' type='checkbox'  ><label for='section-33c2a72b-f2c5-4404-982e-197fb5831025' class='xr-section-summary' >Indexes: <span>(6)</span></label><div class='xr-section-inline-details'></div><div class='xr-section-details'><ul class='xr-var-list'><li class='xr-var-item'><div class='xr-index-name'><div>chain</div></div><div class='xr-index-preview'>PandasIndex</div><input type='checkbox' disabled/><label></label><input id='index-30248c3d-7a6f-48e9-8946-4d4c84a22d22' class='xr-index-data-in' type='checkbox'/><label for='index-30248c3d-7a6f-48e9-8946-4d4c84a22d22' title='Show/Hide index repr'><svg class='icon xr-icon-database'><use xlink:href='#icon-database'></use></svg></label><div class='xr-index-data'><pre>PandasIndex(Index([0, 1], dtype=&#x27;int64&#x27;, name=&#x27;chain&#x27;))</pre></div></li><li class='xr-var-item'><div class='xr-index-name'><div>draw</div></div><div class='xr-index-preview'>PandasIndex</div><input type='checkbox' disabled/><label></label><input id='index-bdfddefa-b86d-4362-a668-09702aaf4526' class='xr-index-data-in' type='checkbox'/><label for='index-bdfddefa-b86d-4362-a668-09702aaf4526' title='Show/Hide index repr'><svg class='icon xr-icon-database'><use xlink:href='#icon-database'></use></svg></label><div class='xr-index-data'><pre>PandasIndex(Index([  0,   1,   2,   3,   4,   5,   6,   7,   8,   9,\n",
       "       ...\n",
       "       990, 991, 992, 993, 994, 995, 996, 997, 998, 999],\n",
       "      dtype=&#x27;int64&#x27;, name=&#x27;draw&#x27;, length=1000))</pre></div></li><li class='xr-var-item'><div class='xr-index-name'><div>chol_dim_0</div></div><div class='xr-index-preview'>PandasIndex</div><input type='checkbox' disabled/><label></label><input id='index-cb1b2559-2c23-4325-a561-dfeafe004f1e' class='xr-index-data-in' type='checkbox'/><label for='index-cb1b2559-2c23-4325-a561-dfeafe004f1e' title='Show/Hide index repr'><svg class='icon xr-icon-database'><use xlink:href='#icon-database'></use></svg></label><div class='xr-index-data'><pre>PandasIndex(Index([0, 1, 2, 3, 4, 5], dtype=&#x27;int64&#x27;, name=&#x27;chol_dim_0&#x27;))</pre></div></li><li class='xr-var-item'><div class='xr-index-name'><div>chol_corr_dim_0</div></div><div class='xr-index-preview'>PandasIndex</div><input type='checkbox' disabled/><label></label><input id='index-509edb68-e7e6-4334-9d5c-f56c69b24a5b' class='xr-index-data-in' type='checkbox'/><label for='index-509edb68-e7e6-4334-9d5c-f56c69b24a5b' title='Show/Hide index repr'><svg class='icon xr-icon-database'><use xlink:href='#icon-database'></use></svg></label><div class='xr-index-data'><pre>PandasIndex(Index([0, 1, 2], dtype=&#x27;int64&#x27;, name=&#x27;chol_corr_dim_0&#x27;))</pre></div></li><li class='xr-var-item'><div class='xr-index-name'><div>chol_corr_dim_1</div></div><div class='xr-index-preview'>PandasIndex</div><input type='checkbox' disabled/><label></label><input id='index-41c0d2cd-6b8d-45bf-8a06-5e176f4c52ff' class='xr-index-data-in' type='checkbox'/><label for='index-41c0d2cd-6b8d-45bf-8a06-5e176f4c52ff' title='Show/Hide index repr'><svg class='icon xr-icon-database'><use xlink:href='#icon-database'></use></svg></label><div class='xr-index-data'><pre>PandasIndex(Index([0, 1, 2], dtype=&#x27;int64&#x27;, name=&#x27;chol_corr_dim_1&#x27;))</pre></div></li><li class='xr-var-item'><div class='xr-index-name'><div>chol_stds_dim_0</div></div><div class='xr-index-preview'>PandasIndex</div><input type='checkbox' disabled/><label></label><input id='index-58f7e34f-11b8-4bce-8290-552b608dcc04' class='xr-index-data-in' type='checkbox'/><label for='index-58f7e34f-11b8-4bce-8290-552b608dcc04' title='Show/Hide index repr'><svg class='icon xr-icon-database'><use xlink:href='#icon-database'></use></svg></label><div class='xr-index-data'><pre>PandasIndex(Index([0, 1, 2], dtype=&#x27;int64&#x27;, name=&#x27;chol_stds_dim_0&#x27;))</pre></div></li></ul></div></li><li class='xr-section-item'><input id='section-331fdc6a-f689-434a-922a-6620c84886aa' class='xr-section-summary-in' type='checkbox'  checked><label for='section-331fdc6a-f689-434a-922a-6620c84886aa' class='xr-section-summary' >Attributes: <span>(6)</span></label><div class='xr-section-inline-details'></div><div class='xr-section-details'><dl class='xr-attrs'><dt><span>created_at :</span></dt><dd>2025-03-31T20:08:56.749417+00:00</dd><dt><span>arviz_version :</span></dt><dd>0.21.0</dd><dt><span>inference_library :</span></dt><dd>pymc</dd><dt><span>inference_library_version :</span></dt><dd>5.21.1</dd><dt><span>sampling_time :</span></dt><dd>8.221095085144043</dd><dt><span>tuning_steps :</span></dt><dd>1000</dd></dl></div></li></ul></div></div>"
      ],
      "text/plain": [
       "<xarray.Dataset> Size: 296kB\n",
       "Dimensions:          (chain: 2, draw: 1000, chol_dim_0: 6, chol_corr_dim_0: 3,\n",
       "                      chol_corr_dim_1: 3, chol_stds_dim_0: 3)\n",
       "Coordinates:\n",
       "  * chain            (chain) int64 16B 0 1\n",
       "  * draw             (draw) int64 8kB 0 1 2 3 4 5 6 ... 994 995 996 997 998 999\n",
       "  * chol_dim_0       (chol_dim_0) int64 48B 0 1 2 3 4 5\n",
       "  * chol_corr_dim_0  (chol_corr_dim_0) int64 24B 0 1 2\n",
       "  * chol_corr_dim_1  (chol_corr_dim_1) int64 24B 0 1 2\n",
       "  * chol_stds_dim_0  (chol_stds_dim_0) int64 24B 0 1 2\n",
       "Data variables:\n",
       "    chol             (chain, draw, chol_dim_0) float64 96kB 1.411 ... 1.564\n",
       "    chol_corr        (chain, draw, chol_corr_dim_0, chol_corr_dim_1) float64 144kB ...\n",
       "    chol_stds        (chain, draw, chol_stds_dim_0) float64 48kB 1.411 ... 1.572\n",
       "Attributes:\n",
       "    created_at:                 2025-03-31T20:08:56.749417+00:00\n",
       "    arviz_version:              0.21.0\n",
       "    inference_library:          pymc\n",
       "    inference_library_version:  5.21.1\n",
       "    sampling_time:              8.221095085144043\n",
       "    tuning_steps:               1000"
      ]
     },
     "execution_count": 30,
     "metadata": {},
     "output_type": "execute_result"
    }
   ],
   "source": [
    "trace.posterior"
   ]
  },
  {
   "cell_type": "code",
   "execution_count": 34,
   "metadata": {},
   "outputs": [],
   "source": [
    "import arviz as az\n",
    "import numpy as np\n",
    "\n",
    "# We'll use ArviZ to stack the samples across chains\n",
    "packed_chol_samples = trace.posterior[\"chol\"].stack(sample=(\"chain\", \"draw\")).values  # shape: (n_samples, packed_len)\n"
   ]
  },
  {
   "cell_type": "code",
   "execution_count": 46,
   "metadata": {},
   "outputs": [
    {
     "name": "stdout",
     "output_type": "stream",
     "text": [
      "(6, 2000)\n"
     ]
    }
   ],
   "source": [
    "print(packed_chol_samples.shape)"
   ]
  },
  {
   "cell_type": "code",
   "execution_count": 36,
   "metadata": {},
   "outputs": [],
   "source": [
    "from pymc import expand_packed_triangular"
   ]
  },
  {
   "cell_type": "code",
   "execution_count": 55,
   "metadata": {},
   "outputs": [],
   "source": [
    "packed_chol_samples = np.array(\n",
    "    trace.posterior[\"chol\"].stack(sample=(\"chain\", \"draw\"))\n",
    ").T"
   ]
  },
  {
   "cell_type": "code",
   "execution_count": 56,
   "metadata": {},
   "outputs": [
    {
     "name": "stdout",
     "output_type": "stream",
     "text": [
      "<class 'numpy.ndarray'>\n",
      "(2000, 6)\n",
      "(6,)\n"
     ]
    }
   ],
   "source": [
    "print(type(packed_chol_samples))        # should be <class 'numpy.ndarray'>\n",
    "print(packed_chol_samples.shape)        # should be (n_samples, packed_dim)\n",
    "print(packed_chol_samples[0].shape)     # should be (6,) if K=3"
   ]
  },
  {
   "cell_type": "code",
   "execution_count": 59,
   "metadata": {},
   "outputs": [
    {
     "data": {
      "text/plain": [
       "array(AdvancedSetSubtensor.0, dtype=object)"
      ]
     },
     "execution_count": 59,
     "metadata": {},
     "output_type": "execute_result"
    }
   ],
   "source": [
    "L"
   ]
  },
  {
   "cell_type": "code",
   "execution_count": null,
   "metadata": {},
   "outputs": [],
   "source": []
  },
  {
   "cell_type": "code",
   "execution_count": 62,
   "metadata": {},
   "outputs": [
    {
     "name": "stdout",
     "output_type": "stream",
     "text": [
      "Sample 0 packed shape: (6,)\n",
      "Sample 0 unpacked L type: <class 'pytensor.tensor.variable.TensorVariable'>\n",
      "Sample 0 unpacked L shape (if possible): Shape.0\n",
      "L shape after asarray: ()\n"
     ]
    },
    {
     "ename": "ValueError",
     "evalue": "matmul: Input operand 0 does not have enough dimensions (has 0, gufunc core with signature (n?,k),(k,m?)->(n?,m?) requires 1)",
     "output_type": "error",
     "traceback": [
      "\u001b[31m---------------------------------------------------------------------------\u001b[39m",
      "\u001b[31mValueError\u001b[39m                                Traceback (most recent call last)",
      "\u001b[36mCell\u001b[39m\u001b[36m \u001b[39m\u001b[32mIn[62]\u001b[39m\u001b[32m, line 16\u001b[39m\n\u001b[32m     13\u001b[39m L = np.asarray(L)\n\u001b[32m     14\u001b[39m \u001b[38;5;28mprint\u001b[39m(\u001b[33m\"\u001b[39m\u001b[33mL shape after asarray:\u001b[39m\u001b[33m\"\u001b[39m, L.shape)\n\u001b[32m---> \u001b[39m\u001b[32m16\u001b[39m cov_matrices[i] = \u001b[43mL\u001b[49m\u001b[43m \u001b[49m\u001b[43m@\u001b[49m\u001b[43m \u001b[49m\u001b[43mL\u001b[49m\u001b[43m.\u001b[49m\u001b[43mT\u001b[49m\n\u001b[32m     17\u001b[39m \u001b[38;5;28;01mbreak\u001b[39;00m  \u001b[38;5;66;03m# just try the first one for now\u001b[39;00m\n",
      "\u001b[31mValueError\u001b[39m: matmul: Input operand 0 does not have enough dimensions (has 0, gufunc core with signature (n?,k),(k,m?)->(n?,m?) requires 1)"
     ]
    }
   ],
   "source": [
    "K = 3  # adjust to match your model\n",
    "n_samples = packed_chol_samples.shape[0]\n",
    "cov_matrices = np.zeros((n_samples, K, K))\n",
    "\n",
    "for i in range(n_samples):\n",
    "    packed = packed_chol_samples[i]\n",
    "    print(f\"Sample {i} packed shape:\", packed.shape)\n",
    "\n",
    "    L = expand_packed_triangular(K, packed)\n",
    "    print(f\"Sample {i} unpacked L type:\", type(L))\n",
    "    print(f\"Sample {i} unpacked L shape (if possible):\", getattr(L, \"shape\", \"not available\"))\n",
    "\n",
    "    L = np.asarray(L)\n",
    "    print(\"L shape after asarray:\", L.shape)\n",
    "\n",
    "    cov_matrices[i] = L @ L.T\n",
    "    break  # just try the first one for now"
   ]
  },
  {
   "cell_type": "code",
   "execution_count": 65,
   "metadata": {},
   "outputs": [
    {
     "name": "stdout",
     "output_type": "stream",
     "text": [
      "packed_chol_samples shape: (2000, 6)\n",
      "packed_chol_samples[0] shape: (6,)\n"
     ]
    }
   ],
   "source": [
    "packed_chol_samples = trace.posterior[\"chol\"].stack(sample=(\"chain\", \"draw\")).transpose(\"sample\", ...).values\n",
    "print(\"packed_chol_samples shape:\", packed_chol_samples.shape)  # should be (2000, 6) if K = 3\n",
    "print(\"packed_chol_samples[0] shape:\", packed_chol_samples[0].shape)  # should be (6,)\n",
    "\n",
    "def unpack_chol_manual(packed, K):\n",
    "    L = np.zeros((K, K))\n",
    "    idx = 0\n",
    "    for row in range(K):\n",
    "        for col in range(row + 1):\n",
    "            L[row, col] = packed[idx]\n",
    "            idx += 1\n",
    "    return L\n"
   ]
  },
  {
   "cell_type": "code",
   "execution_count": 66,
   "metadata": {},
   "outputs": [],
   "source": [
    "n_samples = packed_chol_samples.shape[0]\n",
    "K = 3\n",
    "cov_matrices = np.zeros((n_samples, K, K))\n",
    "\n",
    "for i in range(n_samples):\n",
    "    packed = packed_chol_samples[i]\n",
    "    L = unpack_chol_manual(packed, K)\n",
    "    cov_matrices[i] = L @ L.T"
   ]
  },
  {
   "cell_type": "code",
   "execution_count": 67,
   "metadata": {},
   "outputs": [
    {
     "data": {
      "text/plain": [
       "array([[[ 1.98985213, -0.03833398,  0.04175345],\n",
       "        [-0.03833398,  2.02586022,  0.4319233 ],\n",
       "        [ 0.04175345,  0.4319233 ,  2.47951636]],\n",
       "\n",
       "       [[ 1.75164429,  0.00759759,  0.03686524],\n",
       "        [ 0.00759759,  2.58745673,  0.71940168],\n",
       "        [ 0.03686524,  0.71940168,  2.72943988]],\n",
       "\n",
       "       [[ 1.87563294,  0.28433817, -0.04599359],\n",
       "        [ 0.28433817,  2.09929694,  0.22411578],\n",
       "        [-0.04599359,  0.22411578,  2.07433862]],\n",
       "\n",
       "       ...,\n",
       "\n",
       "       [[ 1.72214324,  0.1566681 , -0.05837165],\n",
       "        [ 0.1566681 ,  2.32084684,  0.25543064],\n",
       "        [-0.05837165,  0.25543064,  1.86955959]],\n",
       "\n",
       "       [[ 2.05035519, -0.1594246 ,  0.11776143],\n",
       "        [-0.1594246 ,  1.88282598,  0.22826235],\n",
       "        [ 0.11776143,  0.22826235,  2.54581431]],\n",
       "\n",
       "       [[ 1.86475479, -0.20464526,  0.05623948],\n",
       "        [-0.20464526,  2.17583822,  0.22350596],\n",
       "        [ 0.05623948,  0.22350596,  2.47228267]]], shape=(2000, 3, 3))"
      ]
     },
     "execution_count": 67,
     "metadata": {},
     "output_type": "execute_result"
    }
   ],
   "source": [
    "cov_matrices"
   ]
  },
  {
   "cell_type": "code",
   "execution_count": 68,
   "metadata": {},
   "outputs": [
    {
     "data": {
      "text/html": [
       "<div>\n",
       "<style scoped>\n",
       "    .dataframe tbody tr th:only-of-type {\n",
       "        vertical-align: middle;\n",
       "    }\n",
       "\n",
       "    .dataframe tbody tr th {\n",
       "        vertical-align: top;\n",
       "    }\n",
       "\n",
       "    .dataframe thead th {\n",
       "        text-align: right;\n",
       "    }\n",
       "</style>\n",
       "<table border=\"1\" class=\"dataframe\">\n",
       "  <thead>\n",
       "    <tr style=\"text-align: right;\">\n",
       "      <th></th>\n",
       "      <th>mean</th>\n",
       "      <th>sd</th>\n",
       "      <th>hdi_3%</th>\n",
       "      <th>hdi_97%</th>\n",
       "      <th>mcse_mean</th>\n",
       "      <th>mcse_sd</th>\n",
       "      <th>ess_bulk</th>\n",
       "      <th>ess_tail</th>\n",
       "      <th>r_hat</th>\n",
       "    </tr>\n",
       "  </thead>\n",
       "  <tbody>\n",
       "    <tr>\n",
       "      <th>chol[0]</th>\n",
       "      <td>1.373</td>\n",
       "      <td>0.069</td>\n",
       "      <td>1.246</td>\n",
       "      <td>1.499</td>\n",
       "      <td>0.001</td>\n",
       "      <td>0.001</td>\n",
       "      <td>2569.0</td>\n",
       "      <td>1662.0</td>\n",
       "      <td>1.0</td>\n",
       "    </tr>\n",
       "    <tr>\n",
       "      <th>chol[1]</th>\n",
       "      <td>-0.001</td>\n",
       "      <td>0.100</td>\n",
       "      <td>-0.178</td>\n",
       "      <td>0.195</td>\n",
       "      <td>0.002</td>\n",
       "      <td>0.002</td>\n",
       "      <td>2937.0</td>\n",
       "      <td>1818.0</td>\n",
       "      <td>1.0</td>\n",
       "    </tr>\n",
       "    <tr>\n",
       "      <th>chol[2]</th>\n",
       "      <td>1.487</td>\n",
       "      <td>0.078</td>\n",
       "      <td>1.344</td>\n",
       "      <td>1.632</td>\n",
       "      <td>0.002</td>\n",
       "      <td>0.002</td>\n",
       "      <td>2706.0</td>\n",
       "      <td>1259.0</td>\n",
       "      <td>1.0</td>\n",
       "    </tr>\n",
       "    <tr>\n",
       "      <th>chol[3]</th>\n",
       "      <td>0.025</td>\n",
       "      <td>0.103</td>\n",
       "      <td>-0.165</td>\n",
       "      <td>0.219</td>\n",
       "      <td>0.002</td>\n",
       "      <td>0.002</td>\n",
       "      <td>2599.0</td>\n",
       "      <td>1070.0</td>\n",
       "      <td>1.0</td>\n",
       "    </tr>\n",
       "    <tr>\n",
       "      <th>chol[4]</th>\n",
       "      <td>0.184</td>\n",
       "      <td>0.102</td>\n",
       "      <td>-0.001</td>\n",
       "      <td>0.373</td>\n",
       "      <td>0.002</td>\n",
       "      <td>0.002</td>\n",
       "      <td>2292.0</td>\n",
       "      <td>1433.0</td>\n",
       "      <td>1.0</td>\n",
       "    </tr>\n",
       "    <tr>\n",
       "      <th>chol[5]</th>\n",
       "      <td>1.478</td>\n",
       "      <td>0.076</td>\n",
       "      <td>1.320</td>\n",
       "      <td>1.606</td>\n",
       "      <td>0.002</td>\n",
       "      <td>0.002</td>\n",
       "      <td>2545.0</td>\n",
       "      <td>1193.0</td>\n",
       "      <td>1.0</td>\n",
       "    </tr>\n",
       "  </tbody>\n",
       "</table>\n",
       "</div>"
      ],
      "text/plain": [
       "          mean     sd  hdi_3%  hdi_97%  mcse_mean  mcse_sd  ess_bulk  \\\n",
       "chol[0]  1.373  0.069   1.246    1.499      0.001    0.001    2569.0   \n",
       "chol[1] -0.001  0.100  -0.178    0.195      0.002    0.002    2937.0   \n",
       "chol[2]  1.487  0.078   1.344    1.632      0.002    0.002    2706.0   \n",
       "chol[3]  0.025  0.103  -0.165    0.219      0.002    0.002    2599.0   \n",
       "chol[4]  0.184  0.102  -0.001    0.373      0.002    0.002    2292.0   \n",
       "chol[5]  1.478  0.076   1.320    1.606      0.002    0.002    2545.0   \n",
       "\n",
       "         ess_tail  r_hat  \n",
       "chol[0]    1662.0    1.0  \n",
       "chol[1]    1818.0    1.0  \n",
       "chol[2]    1259.0    1.0  \n",
       "chol[3]    1070.0    1.0  \n",
       "chol[4]    1433.0    1.0  \n",
       "chol[5]    1193.0    1.0  "
      ]
     },
     "execution_count": 68,
     "metadata": {},
     "output_type": "execute_result"
    }
   ],
   "source": [
    "import arviz as az\n",
    "\n",
    "az.summary(trace, var_names=[\"chol\"])"
   ]
  },
  {
   "cell_type": "code",
   "execution_count": 69,
   "metadata": {},
   "outputs": [],
   "source": [
    "mean_cov = cov_matrices.mean(axis=0)"
   ]
  },
  {
   "cell_type": "code",
   "execution_count": 70,
   "metadata": {},
   "outputs": [
    {
     "data": {
      "text/plain": [
       "array([[ 1.89000571e+00, -1.35540291e-03,  3.51985321e-02],\n",
       "       [-1.35540291e-03,  2.22786627e+00,  2.74903913e-01],\n",
       "       [ 3.51985321e-02,  2.74903913e-01,  2.24490571e+00]])"
      ]
     },
     "execution_count": 70,
     "metadata": {},
     "output_type": "execute_result"
    }
   ],
   "source": [
    "mean_cov"
   ]
  },
  {
   "cell_type": "code",
   "execution_count": 71,
   "metadata": {},
   "outputs": [
    {
     "ename": "AttributeError",
     "evalue": "'tuple' object has no attribute 'ndim'",
     "output_type": "error",
     "traceback": [
      "\u001b[31m---------------------------------------------------------------------------\u001b[39m",
      "\u001b[31mAttributeError\u001b[39m                            Traceback (most recent call last)",
      "\u001b[36mCell\u001b[39m\u001b[36m \u001b[39m\u001b[32mIn[71]\u001b[39m\u001b[32m, line 13\u001b[39m\n\u001b[32m      8\u001b[39m \u001b[38;5;28;01mwith\u001b[39;00m pm.Model() \u001b[38;5;28;01mas\u001b[39;00m model:\n\u001b[32m      9\u001b[39m     \u001b[38;5;66;03m# --- Real part of Gamma: A (symmetric) ---\u001b[39;00m\n\u001b[32m     10\u001b[39m     packed_A = pm.LKJCholeskyCov(\n\u001b[32m     11\u001b[39m         \u001b[33m\"\u001b[39m\u001b[33mpacked_A\u001b[39m\u001b[33m\"\u001b[39m, n=K, eta=\u001b[32m2.0\u001b[39m, sd_dist=pm.HalfNormal.dist(\u001b[32m1.0\u001b[39m)\n\u001b[32m     12\u001b[39m     )\n\u001b[32m---> \u001b[39m\u001b[32m13\u001b[39m     L_A = \u001b[43mpm\u001b[49m\u001b[43m.\u001b[49m\u001b[43mexpand_packed_triangular\u001b[49m\u001b[43m(\u001b[49m\u001b[43mK\u001b[49m\u001b[43m,\u001b[49m\u001b[43m \u001b[49m\u001b[43mpacked_A\u001b[49m\u001b[43m)\u001b[49m\n\u001b[32m     14\u001b[39m     A = pt.dot(L_A, L_A.T)  \u001b[38;5;66;03m# real symmetric\u001b[39;00m\n\u001b[32m     16\u001b[39m     \u001b[38;5;66;03m# --- Imag part of Gamma: B (skew-symmetric) ---\u001b[39;00m\n\u001b[32m     17\u001b[39m     \u001b[38;5;66;03m# Sample K*(K-1)/2 parameters for lower triangle\u001b[39;00m\n",
      "\u001b[36mFile \u001b[39m\u001b[32m/projectnb/stephenlab/jtauber/.conda/envs/pymc_env/lib/python3.13/site-packages/pymc/math.py:436\u001b[39m, in \u001b[36mexpand_packed_triangular\u001b[39m\u001b[34m(n, packed, lower, diagonal_only)\u001b[39m\n\u001b[32m    413\u001b[39m \u001b[38;5;28;01mdef\u001b[39;00m\u001b[38;5;250m \u001b[39m\u001b[34mexpand_packed_triangular\u001b[39m(n, packed, lower=\u001b[38;5;28;01mTrue\u001b[39;00m, diagonal_only=\u001b[38;5;28;01mFalse\u001b[39;00m):\n\u001b[32m    414\u001b[39m \u001b[38;5;250m    \u001b[39m\u001b[33mr\u001b[39m\u001b[33;03m\"\"\"Convert a packed triangular matrix into a two dimensional array.\u001b[39;00m\n\u001b[32m    415\u001b[39m \n\u001b[32m    416\u001b[39m \u001b[33;03m    Triangular matrices can be stored with better space efficiency by\u001b[39;00m\n\u001b[32m   (...)\u001b[39m\u001b[32m    434\u001b[39m \u001b[33;03m        If true, return only the diagonal of the matrix.\u001b[39;00m\n\u001b[32m    435\u001b[39m \u001b[33;03m    \"\"\"\u001b[39;00m\n\u001b[32m--> \u001b[39m\u001b[32m436\u001b[39m     \u001b[38;5;28;01mif\u001b[39;00m \u001b[43mpacked\u001b[49m\u001b[43m.\u001b[49m\u001b[43mndim\u001b[49m != \u001b[32m1\u001b[39m:\n\u001b[32m    437\u001b[39m         \u001b[38;5;28;01mraise\u001b[39;00m \u001b[38;5;167;01mValueError\u001b[39;00m(\u001b[33m\"\u001b[39m\u001b[33mPacked triangular is not one dimensional.\u001b[39m\u001b[33m\"\u001b[39m)\n\u001b[32m    438\u001b[39m     \u001b[38;5;28;01mif\u001b[39;00m \u001b[38;5;129;01mnot\u001b[39;00m \u001b[38;5;28misinstance\u001b[39m(n, \u001b[38;5;28mint\u001b[39m):\n",
      "\u001b[31mAttributeError\u001b[39m: 'tuple' object has no attribute 'ndim'"
     ]
    }
   ],
   "source": [
    "import pymc as pm\n",
    "import pytensor.tensor as pt\n",
    "import numpy as np\n",
    "\n",
    "K = 3\n",
    "z_obs = np.random.randn(100, K) + 1j * np.random.randn(100, K)  # complex data\n",
    "\n",
    "with pm.Model() as model:\n",
    "    # --- Real part of Gamma: A (symmetric) ---\n",
    "    packed_A = pm.LKJCholeskyCov(\n",
    "        \"packed_A\", n=K, eta=2.0, sd_dist=pm.HalfNormal.dist(1.0)\n",
    "    )\n",
    "    L_A = pm.expand_packed_triangular(K, packed_A)\n",
    "    A = pt.dot(L_A, L_A.T)  # real symmetric\n",
    "\n",
    "    # --- Imag part of Gamma: B (skew-symmetric) ---\n",
    "    # Sample K*(K-1)/2 parameters for lower triangle\n",
    "    b_idx = [(i, j) for i in range(1, K) for j in range(i)]\n",
    "    b_vals = pm.Normal(\"b_vals\", mu=0.0, sigma=1.0, shape=len(b_idx))\n",
    "\n",
    "    B = pt.zeros((K, K))\n",
    "    for idx, (i, j) in enumerate(b_idx):\n",
    "        B = pt.set_subtensor(B[i, j], b_vals[idx])\n",
    "        B = pt.set_subtensor(B[j, i], -b_vals[idx])\n",
    "\n",
    "    # --- Build real-valued 2Kx2K block covariance matrix ---\n",
    "    top = pt.concatenate([A, -B], axis=1)\n",
    "    bottom = pt.concatenate([B, A], axis=1)\n",
    "    Sigma = 0.5 * pt.concatenate([top, bottom], axis=0)\n",
    "\n",
    "    # --- Convert observations to real ---\n",
    "    z_real_obs = np.concatenate([np.real(z_obs), np.imag(z_obs)], axis=1)\n",
    "\n",
    "    # --- Likelihood ---\n",
    "    z = pm.MvNormal(\"z\", mu=pt.zeros(2 * K), cov=Sigma, observed=z_real_obs)\n",
    "\n",
    "    trace = pm.sample(1000, tune=1000, chains=2, target_accept=0.9)"
   ]
  },
  {
   "cell_type": "code",
   "execution_count": null,
   "metadata": {},
   "outputs": [],
   "source": []
  }
 ],
 "metadata": {
  "kernelspec": {
   "display_name": "sgc_env",
   "language": "python",
   "name": "python3"
  },
  "language_info": {
   "codemirror_mode": {
    "name": "ipython",
    "version": 3
   },
   "file_extension": ".py",
   "mimetype": "text/x-python",
   "name": "python",
   "nbconvert_exporter": "python",
   "pygments_lexer": "ipython3",
   "version": "3.10.13"
  },
  "orig_nbformat": 4
 },
 "nbformat": 4,
 "nbformat_minor": 2
}
