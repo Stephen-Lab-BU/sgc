{
 "cells": [
  {
   "cell_type": "code",
   "execution_count": 1,
   "metadata": {},
   "outputs": [],
   "source": [
    "%load_ext autoreload\n",
    "%autoreload 2"
   ]
  },
  {
   "cell_type": "code",
   "execution_count": 2,
   "metadata": {},
   "outputs": [
    {
     "data": {
      "text/plain": [
       "'/projectnb/stephenlab/jtauber/cohlib/hydra/gammas'"
      ]
     },
     "execution_count": 2,
     "metadata": {},
     "output_type": "execute_result"
    }
   ],
   "source": [
    "from cohlib.utils import gamma_root\n",
    "gamma_root()"
   ]
  },
  {
   "cell_type": "code",
   "execution_count": 3,
   "metadata": {},
   "outputs": [],
   "source": [
    "def plot_jvo(jax_output, old_output, k, pltlim, suptitle, showyx=True):\n",
    "    if pltlim is None:\n",
    "        all_output = jnp.concatenate([jax_output[:,k].real, jax_output[:,k].imag, \n",
    "            old_output[:,k].real, old_output[:,k].imag])\n",
    "        pltlim = all_output.max() * 1.2\n",
    "\n",
    "    yxline = jnp.linspace(-pltlim, pltlim, 100)\n",
    "    fig, ax = plt.subplots(1,2, figsize=(8,3))\n",
    "    ax[0].plot(jax_output[:,k].real, old_output[:,k].real, '.')\n",
    "    ax[0].set_title('Real')\n",
    "\n",
    "    ax[1].plot(jax_output[:,k].imag, old_output[:,k].imag, '.')\n",
    "    ax[1].set_title('Imag')\n",
    "\n",
    "    for i in range(2):\n",
    "        ax[i].set_xlim([-pltlim, pltlim])\n",
    "        ax[i].set_ylim([-pltlim, pltlim])\n",
    "        if showyx is True:\n",
    "            ax[i].plot(yxline, yxline, 'k')\n",
    "        ax[i].set_xlabel('Jax')\n",
    "        ax[i].set_ylabel('Old')\n",
    "\n",
    "    fig.suptitle(suptitle)\n",
    "    plt.tight_layout()"
   ]
  },
  {
   "cell_type": "code",
   "execution_count": 4,
   "metadata": {},
   "outputs": [],
   "source": [
    "import os\n",
    "import shutil\n",
    "from pathlib import Path\n",
    "import jax.numpy as jnp\n",
    "import jax.random as jr\n",
    "from cohlib.jax.dists import sample_from_gamma\n",
    "from cohlib.jax.observations import add0\n",
    "import matplotlib.pyplot as plt\n",
    "\n",
    "from cohlib.utils import  pickle_open\n",
    "\n",
    "from cohlib.jax.ts_gaussian import load_results"
   ]
  },
  {
   "cell_type": "code",
   "execution_count": 5,
   "metadata": {},
   "outputs": [],
   "source": [
    "def clean_dir(path):\n",
    "    paths_to_remove = []\n",
    "    _dir = Path(path)\n",
    "    for i, exp in enumerate(_dir.glob('*')):\n",
    "        exp_path = Path(exp)\n",
    "        contents = []\n",
    "        for f in exp_path.glob('*'):\n",
    "            contents.append(os.path.split(f)[1])\n",
    "        if 'res.pickle' not in contents: \n",
    "            shutil.rmtree(exp_path)\n",
    "            print('Removing unfinished experiment')"
   ]
  },
  {
   "attachments": {},
   "cell_type": "markdown",
   "metadata": {},
   "source": [
    "### Data setup"
   ]
  },
  {
   "cell_type": "code",
   "execution_count": 6,
   "metadata": {},
   "outputs": [],
   "source": [
    "# flow = 1\n",
    "# fhigh = 50\n",
    "# scale_power = 3\n",
    "\n",
    "# gamma_load = pickle_open(f'../gammas/k2-flat{flow}-{fhigh}-{scale_power}.pickle')\n",
    "# gamma_full = gamma_load['gamma']\n",
    "# freqs = gamma_load['freqs']\n",
    "# nz = gamma_load['nonzero_inds']\n",
    "# K = gamma_full.shape[1]"
   ]
  },
  {
   "cell_type": "code",
   "execution_count": 7,
   "metadata": {},
   "outputs": [],
   "source": [
    "res_paths = ['../debug_gaussian_obs/batch_submit/outputs/2024-10-10']\n",
    "# clean_dir(res_paths[0])\n",
    "# res_paths = ['/projectnb/stephenlab/jtauber/cohlib/hydra/batch_submit/outputs/2024-08-07']\n",
    "\n",
    "L = 50\n",
    "init = 'flat-init'\n",
    "emiters = 20\n",
    "scale_init = 100000\n",
    "ovs_sel = None\n",
    "K = 2\n",
    "\n",
    "supp = [0, 50]\n",
    "nz = jnp.arange(supp[0], supp[1])\n",
    "res_load = load_results(res_paths, ovs_sel, ts_flag=False, method=None, L=L, init=init, emiters=emiters, supp=supp, scale_init=scale_init)\n",
    "res_load_ts_jax = load_results(res_paths, ovs_sel, ts_flag=True, method='jax-deconmod', L=L, init=init, emiters=emiters, supp=supp, scale_init=scale_init)\n",
    "\n",
    "res_load_ts_old_scipy = load_results(res_paths, ovs_sel, ts_flag=True, method='scipy-old', L=L, init=init, emiters=emiters, supp=supp, scale_init=scale_init)\n",
    "res_load_ts_oldmod_scipy = load_results(res_paths, ovs_sel, ts_flag=True, method='scipy-oldmod', L=L, init=init, emiters=emiters, supp=supp, scale_init=scale_init)\n",
    "\n",
    "res_load_ts_old_deconmod = load_results(res_paths, ovs_sel, ts_flag=True, method='old-deconmod', L=L, init=init, emiters=emiters, supp=supp, scale_init=scale_init)\n",
    "res_load_ts_oldmod_deconmod = load_results(res_paths, ovs_sel, ts_flag=True, method='oldmod-deconmod', L=L, init=init, emiters=emiters, supp=supp, scale_init=scale_init)"
   ]
  },
  {
   "cell_type": "code",
   "execution_count": null,
   "metadata": {},
   "outputs": [],
   "source": [
    "# res_paths = ['outputs/2024-10-10']\n",
    "# new_res_load_ts_old_deconmod = load_results(res_paths, ovs_sel, ts_flag=True, method='old-deconmod', L=L, init=init, emiters=emiters, supp=supp, scale_init=scale_init)\n",
    "# new_res_load_ts_oldmod_deconmod = load_results(res_paths, ovs_sel, ts_flag=True, method='oldmod-deconmod', L=L, init=init, emiters=emiters, supp=supp, scale_init=scale_init)"
   ]
  },
  {
   "cell_type": "code",
   "execution_count": 43,
   "metadata": {},
   "outputs": [
    {
     "data": {
      "text/plain": [
       "dict_keys(['gamma', 'params', 'gamma_init', 'gamma_true_full', 'track', 'cfg'])"
      ]
     },
     "execution_count": 43,
     "metadata": {},
     "output_type": "execute_result"
    }
   ],
   "source": [
    "ov2 = 1\n",
    "gamma_true_full = res_load[ov2]['gamma_true_full']\n",
    "res_load[ov2].keys()"
   ]
  },
  {
   "cell_type": "code",
   "execution_count": 44,
   "metadata": {},
   "outputs": [
    {
     "data": {
      "text/plain": [
       "Array([[1000.+0.j,    0.+0.j],\n",
       "       [   0.+0.j, 1000.+0.j]], dtype=complex64)"
      ]
     },
     "execution_count": 44,
     "metadata": {},
     "output_type": "execute_result"
    }
   ],
   "source": [
    "gamma_true_full[8]"
   ]
  },
  {
   "cell_type": "code",
   "execution_count": 34,
   "metadata": {},
   "outputs": [
    {
     "data": {
      "text/plain": [
       "(500, 2, 2)"
      ]
     },
     "execution_count": 34,
     "metadata": {},
     "output_type": "execute_result"
    }
   ],
   "source": [
    "gamma_true_full.shape"
   ]
  },
  {
   "cell_type": "code",
   "execution_count": 35,
   "metadata": {},
   "outputs": [
    {
     "data": {
      "text/plain": [
       "(500, 2, 2)"
      ]
     },
     "execution_count": 35,
     "metadata": {},
     "output_type": "execute_result"
    }
   ],
   "source": [
    "scale_off_target = 0.01*jnp.array([jnp.eye(2) for j in range(gamma_true_full.shape[0])])\n",
    "scale_off_target.shape"
   ]
  },
  {
   "cell_type": "code",
   "execution_count": 78,
   "metadata": {},
   "outputs": [],
   "source": [
    "from cohlib.jax.dists import sample_obs, cif_alpha_relu\n",
    "from omegaconf import OmegaConf\n",
    "rk = jr.key(7)\n",
    "L = 25\n",
    "scale = 10000\n",
    "gamma_true_full_scaled = gamma_true_full*scale\n",
    "scale_off_target = 0.1*jnp.array([jnp.eye(2) for j in range(gamma_true_full.shape[0])])\n",
    "scale_off_target = scale_off_target.at[9,:,:].set(jnp.eye(2))\n",
    "# gamma_true_full_scaled = gamma_true_full_scaled*scale_off_target\n",
    "zs = sample_from_gamma(rk, gamma_true_full_scaled, L)\n",
    "\n",
    "zs_0dc = jnp.apply_along_axis(add0, 0, zs)\n",
    "xs = jnp.fft.irfft(zs_0dc, axis=0)\n",
    "\n",
    "\n",
    "\n",
    "cfg_path = '/projectnb/stephenlab/jtauber/cohlib/hydra/conf/obs/pp_relu.yaml'\n",
    "ocfg = OmegaConf.load(cfg_path)\n",
    "ork = jr.key(7)\n",
    "\n",
    "obs, params = sample_obs(ocfg, xs)\n",
    "\n",
    "alphas = jnp.array([ocfg.alpha for k in range(K)])\n",
    "cifs = cif_alpha_relu(alphas, xs)"
   ]
  },
  {
   "cell_type": "code",
   "execution_count": 79,
   "metadata": {},
   "outputs": [
    {
     "data": {
      "text/plain": [
       "{'alpha': 100, 'delta': 0.001}"
      ]
     },
     "execution_count": 79,
     "metadata": {},
     "output_type": "execute_result"
    }
   ],
   "source": [
    "params"
   ]
  },
  {
   "cell_type": "code",
   "execution_count": 80,
   "metadata": {},
   "outputs": [
    {
     "name": "stdout",
     "output_type": "stream",
     "text": [
      "[[1000.+0.j    0.+0.j]\n",
      " [   0.+0.j 1000.+0.j]]\n",
      "[[10000000.+0.j        0.+0.j]\n",
      " [       0.+0.j 10000000.+0.j]]\n"
     ]
    }
   ],
   "source": [
    "j = 8\n",
    "print(gamma_true_full[j])\n",
    "print(gamma_true_full_scaled[j])"
   ]
  },
  {
   "cell_type": "code",
   "execution_count": 81,
   "metadata": {},
   "outputs": [
    {
     "data": {
      "text/plain": [
       "Array([[10000000.+0.j,        0.+0.j],\n",
       "       [       0.+0.j, 10000000.+0.j]], dtype=complex64)"
      ]
     },
     "execution_count": 81,
     "metadata": {},
     "output_type": "execute_result"
    }
   ],
   "source": [
    "gamma_true_full_scaled[8]"
   ]
  },
  {
   "cell_type": "code",
   "execution_count": 82,
   "metadata": {},
   "outputs": [
    {
     "data": {
      "image/png": "[encoded data removed]",
      "text/plain": [
       "<Figure size 600x600 with 3 Axes>"
      ]
     },
     "metadata": {},
     "output_type": "display_data"
    }
   ],
   "source": [
    "fig, ax = plt.subplots(3,1,figsize=(6,6))\n",
    "trial = 1\n",
    "for l in range (trial,trial+1):\n",
    "    ax[0].plot(xs[:,0,l])\n",
    "    ax[1].plot(cifs[:,0,l])\n",
    "    ax[2].plot(obs[:,0,l])"
   ]
  },
  {
   "cell_type": "code",
   "execution_count": 33,
   "metadata": {},
   "outputs": [],
   "source": [
    "def load_old(ov2, mu=0.0, K=2, L=25, sample_length=1000, C=1, ov1=1.0, seed=8, etype=\"approx\", hess_mod=False):\n",
    "    exp_path = '/projectnb/stephenlab/jtauber/cohlib/experiments/gaussian_observations'\n",
    "    ov2 = float(ov2)\n",
    "    if hess_mod is True:\n",
    "        model_path = f'{exp_path}/saved/fitted_models/scale_hess_mod_jax_comp_simple_synthetic_gaussian_em20_{K}_{L}_{sample_length}_{C}_{mu}_{ov1}_{ov2}_{seed}_fitted_{etype}.pkl'\n",
    "        model_load = pickle_open(model_path)\n",
    "    else:\n",
    "        model_path = f'{exp_path}/saved/fitted_models/scale_mod_jax_comp_simple_synthetic_gaussian_em20_{K}_{L}_{sample_length}_{C}_{mu}_{ov1}_{ov2}_{seed}_fitted_{etype}.pkl'\n",
    "        model_load = pickle_open(model_path)\n",
    "\n",
    "    return model_load\n",
    "\n",
    "dummy = -1 \n",
    "old_model_load = load_old(dummy)\n",
    "Wv = old_model_load['Wv']"
   ]
  },
  {
   "cell_type": "code",
   "execution_count": 17,
   "metadata": {},
   "outputs": [
    {
     "data": {
      "text/plain": [
       "dict_keys([-1, 0, 2, 1])"
      ]
     },
     "execution_count": 17,
     "metadata": {},
     "output_type": "execute_result"
    }
   ],
   "source": [
    "# res_load_ts_oldmod_scipy.keys()\n",
    "res_load.keys()"
   ]
  },
  {
   "cell_type": "code",
   "execution_count": 18,
   "metadata": {},
   "outputs": [
    {
     "data": {
      "text/plain": [
       "array([[ 9875.08729613   +0.j        , -1836.56777639+2109.65611099j],\n",
       "       [-1836.56777639-2109.65611099j, 19540.66817424   +0.j        ]])"
      ]
     },
     "execution_count": 18,
     "metadata": {},
     "output_type": "execute_result"
    }
   ],
   "source": [
    "ov2 = 1\n",
    "r = 0\n",
    "j = 19 \n",
    "res_load_ts_oldmod_deconmod[ov2]['track'].track_em_data.keys()\n",
    "res_load_ts_oldmod_scipy[ov2]['track'][0][r]['Sig_complex'][0,j,:,:]"
   ]
  },
  {
   "cell_type": "code",
   "execution_count": null,
   "metadata": {},
   "outputs": [],
   "source": []
  },
  {
   "cell_type": "code",
   "execution_count": 19,
   "metadata": {},
   "outputs": [],
   "source": [
    "# res_load[ov2]['params']"
   ]
  },
  {
   "cell_type": "code",
   "execution_count": 20,
   "metadata": {},
   "outputs": [],
   "source": [
    "def sample_obs(gamma, result):\n",
    "    cfg = result['cfg']\n",
    "    lcfg = cfg['latent']\n",
    "    ocfg = cfg['obs']\n",
    "\n",
    "    lrk = jr.key(lcfg.seed)\n",
    "    ork = jr.key(ocfg.seed)\n",
    "    L = lcfg.L\n",
    "    ov1 = ocfg.ov1\n",
    "    ov2 = ocfg.ov2\n",
    "    obs_var = ov1 * 10**ov2\n",
    "\n",
    "    zs = sample_from_gamma(lrk, gamma, L)\n",
    "    zs_0dc = jnp.apply_along_axis(add0, 0, zs)\n",
    "    xs = jnp.fft.irfft(zs_0dc, axis=0)\n",
    "\n",
    "    obs = xs + jr.normal(ork, xs.shape)*jnp.sqrt(obs_var)\n",
    "\n",
    "    return obs\n",
    "\n",
    "def sample_obs_for_qfunc_mc(gamma_r, result, M, mc_ork=0):\n",
    "    \"assumes gamma is complex\"\n",
    "\n",
    "    \n",
    "    cfg = result['cfg']\n",
    "    lcfg = cfg['latent']\n",
    "    ocfg = cfg['obs']\n",
    "\n",
    "    lrk = jr.key(lcfg.seed)\n",
    "    L = lcfg.L\n",
    "    ov1 = ocfg.ov1\n",
    "    ov2 = ocfg.ov2\n",
    "    obs_var = ov1 * 10**ov2\n",
    "\n",
    "\n",
    "\n",
    "    if gamma_r.shape[0] < result['gamma_true_full'].shape[0]:\n",
    "        nz = result['params']['nonzero_inds']\n",
    "        gamma_temp = jnp.zeros_like(result['gamma_true_full'])\n",
    "        gamma_temp = gamma_temp.at[nz,:,:].set(gamma_r)\n",
    "        gamma_r = gamma_temp\n",
    "\n",
    "    zs = sample_from_gamma(lrk, gamma_r, L)\n",
    "    zs_0dc = jnp.apply_along_axis(add0, 0, zs)\n",
    "    xs = jnp.fft.irfft(zs_0dc, axis=0)\n",
    "\n",
    "    rk_split = jr.split(mc_ork, M)\n",
    "\n",
    "    obs_mc_samples = [xs + jr.normal(rk_split[i], xs.shape)*jnp.sqrt(obs_var) for i in range(M)]\n",
    "\n",
    "    return obs_mc_samples\n",
    "\n"
   ]
  },
  {
   "cell_type": "code",
   "execution_count": 21,
   "metadata": {},
   "outputs": [],
   "source": [
    "from cohlib.conv import reverse_rearrange_mat\n",
    "def transform_mat_c2r(complex_mat):\n",
    "    \"\"\"\n",
    "    Convert matariance matrix from complex-valued to real-valued.\n",
    "    \"\"\"\n",
    "    dim = complex_mat.shape[0]\n",
    "    A = jnp.real(complex_mat)\n",
    "    B = jnp.imag(complex_mat)\n",
    "    rmat = jnp.zeros((2 * dim, 2 * dim))\n",
    "\n",
    "    rmat = jnp.block([[A, -B], [B, A]])\n",
    "\n",
    "    return rmat \n",
    "\n",
    "def transform_cov_c2r(complex_cov):\n",
    "    return transform_mat_c2r(complex_cov) / 2\n",
    "\n",
    "def transform_inv_cov_c2r(complex_inv_cov):\n",
    "    return 2*transform_mat_c2r(complex_inv_cov)\n",
    "\n",
    "def quick_conv_cov_c2r(ccov, K):\n",
    "    return reverse_rearrange_mat(transform_cov_c2r(ccov), K)\n",
    "\n",
    "def quick_conv_inv_cov_c2r(ccov, K):\n",
    "    return reverse_rearrange_mat(transform_inv_cov_c2r(ccov), K)\n",
    "\n",
    "def transform_cov_r2c(real_cov):\n",
    "    \"\"\"\n",
    "    Convert covariance matrix from real-valued to complex-valued.\n",
    "    \"\"\"\n",
    "    dimR = real_cov.shape[0]\n",
    "    dimC = int(dimR / 2)\n",
    "    ccov = jnp.zeros((dimC, dimC), dtype=complex)\n",
    "\n",
    "    A = real_cov[:dimC, :dimC]\n",
    "    B = real_cov[:dimC, dimC:]\n",
    "    C = real_cov[dimC:, :dimC]\n",
    "    D = real_cov[dimC:, dimC:]\n",
    "\n",
    "    ccov = (A + D) + 1j * (C - B)\n",
    "\n",
    "    return ccov"
   ]
  },
  {
   "cell_type": "code",
   "execution_count": 22,
   "metadata": {},
   "outputs": [],
   "source": [
    "ov2 = 1\n",
    "r = 1\n",
    "track_jax = res_load[ov2]['track']\n",
    "mus_jax = track_jax['mus'][r]\n",
    "Upss_jax = track_jax['Upss'][r]\n",
    "gamma_jax = track_jax['gamma'][r]"
   ]
  },
  {
   "cell_type": "code",
   "execution_count": 23,
   "metadata": {},
   "outputs": [],
   "source": [
    "# len(track_oldfixts.track_em_data['mus'])"
   ]
  },
  {
   "cell_type": "code",
   "execution_count": 139,
   "metadata": {},
   "outputs": [],
   "source": [
    "track_oldfixts = res_load_ts_oldmod_deconmod[ov2]['track']\n",
    "mus_oldfixts = track_oldfixts.track_em_data['mus'][r]\n",
    "Upss_oldfixts = track_oldfixts.track_em_data['Upss'][r]\n",
    "gamma_oldfixts = track_oldfixts.track_em_data['gamma'][r]"
   ]
  },
  {
   "cell_type": "code",
   "execution_count": 140,
   "metadata": {},
   "outputs": [
    {
     "name": "stdout",
     "output_type": "stream",
     "text": [
      "[  28.595516  -0.2950152j    2.0436826 +5.607568j\n",
      "  -70.03599   +5.100563j  -106.2379   -29.794266j\n",
      "    2.1477633+52.855984j    47.145756  -3.8476298j\n",
      "    5.7600102+52.972378j    -2.2009122+60.10031j\n",
      "  -36.68454  -81.36293j     37.040028  +9.374402j ]\n",
      "[  28.809765  -0.21099554j    1.7175272 +5.607074j\n",
      "  -70.429436  +5.131944j   -105.34483  -29.390892j\n",
      "    4.4346337+53.373672j     48.3889    -3.8610663j\n",
      "    6.189449 +52.925236j     -1.5613447+57.57199j\n",
      "  -34.642788 -83.18519j      40.040436  +9.63187j   ]\n"
     ]
    }
   ],
   "source": [
    "k = 0\n",
    "l = 0\n",
    "print(mus_jax[:10,k,l])\n",
    "print(mus_oldfixts[:10,k,l])"
   ]
  },
  {
   "cell_type": "code",
   "execution_count": null,
   "metadata": {},
   "outputs": [],
   "source": [
    "Up"
   ]
  },
  {
   "cell_type": "code",
   "execution_count": 141,
   "metadata": {},
   "outputs": [
    {
     "name": "stdout",
     "output_type": "stream",
     "text": [
      "[2694.4502+1.2256460e-05j 2898.09  -1.8682513e-06j\n",
      " 2732.8394-2.2348588e-07j 2830.9165+1.8279137e-05j\n",
      " 2773.7341-3.7374550e-06j 2732.1409+1.1590610e-05j\n",
      " 2890.8264-4.7579792e-06j 3008.5017-7.1043371e-07j\n",
      " 3034.3667-7.5834696e-06j 2991.1726-8.3515861e-06j]\n",
      "[2705.7336+1.8627481e-05j 2907.2815-1.2679777e-06j\n",
      " 2745.1653-1.1248541e-06j 2846.7058-6.9766552e-06j\n",
      " 2789.0898-5.6451681e-06j 2736.725 -7.5722312e-07j\n",
      " 2901.2568-3.0007204e-06j 3011.4417+3.3065064e-06j\n",
      " 3048.268 -3.0423864e-06j 3009.482 +3.9961396e-06j]\n"
     ]
    }
   ],
   "source": [
    "print(Upss_jax[:10,k,k,l])\n",
    "print(Upss_oldfixts[:10,k,k,l])"
   ]
  },
  {
   "cell_type": "code",
   "execution_count": 117,
   "metadata": {},
   "outputs": [
    {
     "data": {
      "text/plain": [
       "(50, 2, 2, 50)"
      ]
     },
     "execution_count": 117,
     "metadata": {},
     "output_type": "execute_result"
    }
   ],
   "source": [
    "# jkkl\n",
    "Upss_jax.shape"
   ]
  },
  {
   "cell_type": "code",
   "execution_count": 118,
   "metadata": {},
   "outputs": [
    {
     "data": {
      "text/plain": [
       "(50, 200, 200)"
      ]
     },
     "execution_count": 118,
     "metadata": {},
     "output_type": "execute_result"
    }
   ],
   "source": [
    "#l,jk*jk\n",
    "track_scipy[0]['Ups_invs'].shape\n",
    "\n",
    "# so need block diag ([JxJ], [JxJ], ... [JxJ]) length K"
   ]
  },
  {
   "cell_type": "code",
   "execution_count": 124,
   "metadata": {},
   "outputs": [],
   "source": [
    "nJ = 100\n",
    "track_scipy = res_load_ts_old_scipy[ov2]['track'][0]\n",
    "mus_scipy = track_scipy[r]['mus']\n",
    "Ups_invs_scipy = track_scipy[r]['Ups_invs']\n"
   ]
  },
  {
   "cell_type": "code",
   "execution_count": 125,
   "metadata": {},
   "outputs": [],
   "source": [
    "k = 0\n",
    "l = 0"
   ]
  },
  {
   "cell_type": "code",
   "execution_count": null,
   "metadata": {},
   "outputs": [],
   "source": [
    "\n",
    "print(mus_scipy[l,k*nJ:k*nJ+nJ])\n",
    "print(mus_scipy[l,k*nJ:k*nJ+nJ])"
   ]
  },
  {
   "cell_type": "code",
   "execution_count": 126,
   "metadata": {},
   "outputs": [
    {
     "name": "stdout",
     "output_type": "stream",
     "text": [
      "[ 27.61513541  -7.79788233   1.28925808  -4.4442593  -55.35895964\n",
      " -15.73029165 -64.33779497 -23.2190428  -21.30972224  29.26788256\n",
      "  38.58611267   3.16068017   2.56397716  27.51277447   6.63481081\n",
      "  36.53065047 -11.91894446 -38.43477219  33.51971369  -2.02519922\n",
      "  51.33455767 -11.4340367   14.26427687  10.8451976    0.60841493\n",
      "  -1.66034865  29.88145473   4.89386185 -23.80702244  58.30080706\n",
      "   4.90921738 -38.02894132   7.4149016  -11.14190831  44.78464595\n",
      "  19.6381443  -25.38814686 -10.02999774  -8.89485523  -9.6379439\n",
      "  27.72488173  -2.49209767  54.01769653 -17.97445636  -5.009632\n",
      "   9.15556351 -21.18541944 -56.58350069  42.59605565  40.45981041\n",
      "   9.396753    24.43675487 -17.58404593  -1.59324527  -8.05961295\n",
      "  -7.78581777  18.15141831 -15.02218528  30.53435246  -5.55735197\n",
      " -42.79940284 -37.00710175 -35.40708598 -18.85459284   1.4395303\n",
      " -12.76309012  42.79080188  12.03641111   1.05708295  11.02056971\n",
      "  20.9637276   45.66785898 -58.18540757   0.7555104    6.83447801\n",
      "  -4.79080488  15.19157785 -19.65809871  48.03037716  16.89861105\n",
      " -16.83232987   4.33733782 -53.59939428  18.460369    31.41737575\n",
      "  25.72694978  62.68829784 -11.77830048 -21.45689338  10.89338464\n",
      "  -2.52427901  11.41513377   0.91880907  11.22000874  -3.62326273\n",
      "  15.91555628  17.58839097   9.16167066 -29.48892132   8.20431685]\n"
     ]
    }
   ],
   "source": [
    "\n",
    "print(mus_scipy[l,k*nJ:k*nJ+nJ])\n",
    "print(mus_scipy[l,k*nJ:k*nJ+nJ])"
   ]
  },
  {
   "cell_type": "code",
   "execution_count": 121,
   "metadata": {},
   "outputs": [
    {
     "name": "stdout",
     "output_type": "stream",
     "text": [
      "(258.07916+1.2520649e-06j)\n"
     ]
    },
    {
     "data": {
      "text/plain": [
       "Array([452.4467 , 450.8213 , 462.8892 , 461.18835, 453.96173, 452.32608,\n",
       "       457.16956, 455.5112 , 456.89975, 455.24387, 458.1792 , 456.51474,\n",
       "       456.82004, 455.1663 , 468.78564, 467.04532, 457.39783, 455.742  ,\n",
       "       461.8674 , 460.18042, 459.29492, 457.62793, 464.3733 , 462.67087,\n",
       "       455.97113, 454.3313 , 460.64307, 458.97128, 466.78958, 465.07486,\n",
       "       456.13837, 454.5029 , 460.06802, 458.4065 , 450.0228 , 448.435  ,\n",
       "       459.64108, 457.98734, 453.32556, 451.7193 , 453.7655 , 452.15878,\n",
       "       463.69702, 462.02216, 453.7616 , 452.16037, 456.7628 , 455.14343,\n",
       "       461.9765 , 460.3234 , 465.35226, 463.67816, 457.3645 , 455.7506 ,\n",
       "       448.1144 , 446.56842, 461.15298, 459.5196 , 457.2569 , 455.65463,\n",
       "       463.11923, 461.4796 , 463.60715, 461.96835, 457.3971 , 455.80585,\n",
       "       460.19077, 458.58432, 463.31372, 461.68994, 455.47397, 453.909  ,\n",
       "       461.47336, 459.8717 , 462.15912, 460.55753, 466.01416, 464.3907 ,\n",
       "       449.21527, 447.71136, 449.77176, 448.26898, 462.85483, 461.2688 ,\n",
       "       459.5036 , 457.94574, 465.97067, 464.3743 , 457.76358, 456.2284 ,\n",
       "       458.62982, 457.09445, 463.1157 , 461.55603, 455.74615, 454.2415 ,\n",
       "       462.5635 , 461.01968, 451.5279 , 450.06274, 465.3246 , 463.60553,\n",
       "       458.75488, 457.08423, 457.27786, 455.6183 , 454.91248, 453.2704 ,\n",
       "       457.63583, 455.97464, 446.75253, 445.16992, 458.8408 , 457.1724 ,\n",
       "       460.91382, 459.23132, 460.00717, 458.33243, 459.67316, 458.00214,\n",
       "       457.11838, 455.46713, 457.2623 , 455.6115 , 454.9769 , 453.34418,\n",
       "       459.88443, 458.2181 , 462.94156, 461.25497, 458.59094, 456.93787,\n",
       "       462.19446, 460.51755, 465.1348 , 463.43875, 454.17862, 452.56387,\n",
       "       457.98145, 456.34204, 464.6637 , 462.979  , 456.84143, 455.21564,\n",
       "       457.57904, 455.9508 , 457.4809 , 455.85645, 459.3097 , 457.6756 ,\n",
       "       463.6491 , 461.98724, 458.84174, 457.2174 , 459.49918, 457.87378,\n",
       "       464.81747, 463.15805, 456.50052, 454.90353, 458.81735, 457.208  ,\n",
       "       461.77063, 460.14478, 454.1283 , 452.55966, 458.51105, 456.9163 ,\n",
       "       459.59427, 457.99643, 458.02734, 456.44482, 461.85345, 460.24915,\n",
       "       461.01276, 459.41907, 462.6991 , 461.09857, 465.17227, 463.55984,\n",
       "       459.44308, 457.8751 , 457.5277 , 455.97794, 455.31866, 453.789  ,\n",
       "       462.48535, 460.91272, 455.92868, 454.40576, 465.00644, 463.42816,\n",
       "       462.01318, 460.46094, 459.69992, 458.1691 , 455.5015 , 454.0044 ,\n",
       "       461.13577, 459.6077 ], dtype=float32)"
      ]
     },
     "execution_count": 121,
     "metadata": {},
     "output_type": "execute_result"
    }
   ],
   "source": [
    "# Ups_invs_scipy[l,k*num_J_vars,k*num_J_vars]\n",
    "print(Upss_jax[0,k,k,l])\n",
    "1/jnp.diag(Ups_invs_scipy[l,:,:])"
   ]
  },
  {
   "cell_type": "code",
   "execution_count": null,
   "metadata": {},
   "outputs": [],
   "source": [
    "def get_Qs_real_jax(data, model_load, M, Wv):\n",
    "    Qs = []\n",
    "    # TODO option to add init as gamma_0\n",
    "    # gamma_init = model_load['gamma_init']\n",
    "\n",
    "    track = model_load['track'][0]\n",
    "    em_iters = len(track)\n",
    "\n",
    "    ocfg = model_load['cfg']['obs']\n",
    "    ov1 = ocfg.ov1\n",
    "    ov2 = ocfg.ov2\n",
    "    obs_var = ov1 * 10**ov2\n",
    "\n",
    "    As = []\n",
    "    Bs = []\n",
    "    for r in range(1, em_iters):\n",
    "        # print(r)\n",
    "        gamma_r = track[r-1]['gamma_rplus1']\n",
    "        J = gamma_r.shape[0]\n",
    "        # gamma_r_inv = jnp.stack([jnp.linalg.inv(gamma_r[j,:,:]) for j in range(gamma_r.shape[0])])\n",
    "        gamma_r_inv = jnp.linalg.inv(gamma_r)\n",
    "        sig_r = track[r]['Sig_complex']\n",
    "        mus_r = track[r]['mus']\n",
    "        Ups_invs_r = track[r]['Ups_invs']\n",
    "\n",
    "        gamma_real_r = jnp.stack([quick_conv_cov_c2r(gamma_r[j,:,:],K) for j in range(J)])\n",
    "        gamma_real_r_inv = jnp.stack([quick_conv_inv_cov_c2r(gamma_r_inv[j,:,:],K) for j in range(J)])\n",
    "\n",
    "        sig_real_r = jnp.zeros((L,J,2*K,2*K))\n",
    "        for l in range(L):\n",
    "            sig_real_rl = jnp.stack([quick_conv_cov_c2r(sig_r[l,j,:,:],K) for j in range(J)])\n",
    "            sig_real_r = sig_real_r.at[l,:,:,:].set(sig_real_rl)\n",
    "\n",
    "\n",
    "        # A, B, Q = Q_func_real(gamma_real_r, gamma_real_r_inv, sig_real_r)\n",
    "        A, B, Q = Q_func_jax(mus_jax_r, Ups_jax_r, M, gamma__r, gamma_real_r_inv, sig_real_r, Wv, obs_var, data)\n",
    "        Qs.append(Q)\n",
    "        As.append(A)\n",
    "        Bs.append(B)\n",
    "\n",
    "    # return jnp.array(Qs) \n",
    "    return As, Bs, jnp.array(Qs) \n"
   ]
  },
  {
   "cell_type": "code",
   "execution_count": 68,
   "metadata": {},
   "outputs": [],
   "source": [
    "def Q_func_mixed_scipy(mus_r, Ups_invs_r, M, Gamma_complex_r, Gamma_complex_r_inv, Sigmas_complex_r, Wv, obs_var, data):\n",
    "    num_J_vars = Wv.shape[1]\n",
    "    data = data.squeeze()\n",
    "    L = Sigmas_complex_r.shape[0]\n",
    "    K = data.shape[1]\n",
    "    # print(K)\n",
    "    # xs_post_samples = jnp.zeros((M, L, K, Wv.shape[0]))\n",
    "    T = Wv.shape[0]\n",
    "    xs_post_samples = jnp.zeros((T, K, L, M))\n",
    "\n",
    "    for l in range(L):\n",
    "        if l % 10 == 0:\n",
    "            print(l)\n",
    "        mu_l = mus_r[l,:]\n",
    "        Ups_inv_l = Ups_invs_r[l,:,:]\n",
    "        # Ups_l = jnp.diag(-1/jnp.diag(Ups_inv_l))\n",
    "        # TODO why was this negative earlier? fixed bad naming convention in code?\n",
    "        Ups_l = jnp.diag(1/jnp.diag(Ups_inv_l))\n",
    "        posterior_samples = jnp.stack([jr.multivariate_normal(jr.key(l + m), mu_l, Ups_l) for m in range(M)])\n",
    "        # print(posterior_samples.shape)\n",
    "        # print(posterior_samples.shape)\n",
    "        for m in range(M):\n",
    "            for k in range(K):\n",
    "                v_k = posterior_samples[m,k*num_J_vars:k*num_J_vars+num_J_vars]\n",
    "                # print(v_k.shape)\n",
    "                xs_post_samples = xs_post_samples.at[:,k,l,m].set(Wv @ v_k)\n",
    "\n",
    "    # data - tkl \n",
    "    # xs_ps - tklm\n",
    "    # A = suml sumk -2 y_kl.T @ invQ @ xs_kl\n",
    "    # B = suml sumk xs_kl.T @ invQ @ xs_kl\n",
    "    # then avg over M\n",
    "    Qxs_ps = (1/obs_var) * xs_post_samples #(tklm)\n",
    "    obsQ_sumA_mcsamps = -2 * jnp.einsum('tkl,tklm->klm', data, Qxs_ps).sum((0,1))\n",
    "    obsQ_sumB_mcsamps = jnp.einsum('tklm,tklm->klm', xs_post_samples, Qxs_ps).sum((0,1))\n",
    "\n",
    "\n",
    "    obsQ_mcsamps = obsQ_sumA_mcsamps + obsQ_sumB_mcsamps\n",
    "    obsQ_mcmean = obsQ_mcsamps.mean()\n",
    "\n",
    "    latentQ_sumA = L*( ((K)*jnp.log(jnp.pi) + jnp.log(jnp.linalg.det(Gamma_complex_r)))).sum()\n",
    "    # sum_A = L*jnp.log(2*jnp.pi**K * (1/jnp.linalg.det(Gamma_real_r_inv))).sum()\n",
    "    latentQ_sumB = jnp.trace(Gamma_complex_r_inv @ Sigmas_complex_r, axis1=2, axis2=3).sum()\n",
    "    latentQ = -(latentQ_sumA) + -(latentQ_sumB)\n",
    "\n",
    "    Q = obsQ_mcmean + latentQ\n",
    "\n",
    "    return obsQ_mcmean, latentQ, Q"
   ]
  },
  {
   "cell_type": "code",
   "execution_count": 65,
   "metadata": {},
   "outputs": [],
   "source": [
    "def get_Qs_mixed_scipy(data, model_load, M, Wv):\n",
    "    Qs = []\n",
    "    # TODO option to add init as gamma_0\n",
    "    # gamma_init = model_load['gamma_init']\n",
    "\n",
    "    track = model_load['track'][0]\n",
    "    em_iters = len(track)\n",
    "\n",
    "    ocfg = model_load['cfg']['obs']\n",
    "    ov1 = ocfg.ov1\n",
    "    ov2 = ocfg.ov2\n",
    "    obs_var = ov1 * 10**ov2\n",
    "\n",
    "    As = []\n",
    "    Bs = []\n",
    "    for r in range(1, em_iters):\n",
    "        # print(r)\n",
    "        gamma_r = track[r-1]['gamma_rplus1']\n",
    "        J = gamma_r.shape[0]\n",
    "        # gamma_r_inv = jnp.stack([jnp.linalg.inv(gamma_r[j,:,:]) for j in range(gamma_r.shape[0])])\n",
    "        gamma_r_inv = jnp.linalg.inv(gamma_r)\n",
    "        sig_r = track[r]['Sig_complex']\n",
    "        mus_r = track[r]['mus']\n",
    "        Ups_invs_r = track[r]['Ups_invs']\n",
    "\n",
    "        sig_real_r = jnp.zeros((L,J,2*K,2*K))\n",
    "        for l in range(L):\n",
    "            sig_real_rl = jnp.stack([quick_conv_cov_c2r(sig_r[l,j,:,:],K) for j in range(J)])\n",
    "            sig_real_r = sig_real_r.at[l,:,:,:].set(sig_real_rl)\n",
    "\n",
    "\n",
    "        # A, B, Q = Q_func_real(gamma_real_r, gamma_real_r_inv, sig_real_r)\n",
    "        A, B, Q = Q_func_mixed_scipy(mus_r, Ups_invs_r, M, gamma_r, gamma_r_inv, sig_r, Wv, obs_var, data)\n",
    "        Qs.append(Q)\n",
    "        As.append(A)\n",
    "        Bs.append(B)\n",
    "\n",
    "    # return jnp.array(Qs) \n",
    "    return As, Bs, jnp.array(Qs) \n"
   ]
  },
  {
   "cell_type": "code",
   "execution_count": 34,
   "metadata": {},
   "outputs": [],
   "source": [
    "def get_Qs_real_scipy(data, model_load, M, Wv):\n",
    "    Qs = []\n",
    "    # TODO option to add init as gamma_0\n",
    "    # gamma_init = model_load['gamma_init']\n",
    "\n",
    "    track = model_load['track'][0]\n",
    "    em_iters = len(track)\n",
    "\n",
    "    ocfg = model_load['cfg']['obs']\n",
    "    ov1 = ocfg.ov1\n",
    "    ov2 = ocfg.ov2\n",
    "    obs_var = ov1 * 10**ov2\n",
    "\n",
    "    As = []\n",
    "    Bs = []\n",
    "    for r in range(1, em_iters):\n",
    "        # print(r)\n",
    "        gamma_r = track[r-1]['gamma_rplus1']\n",
    "        J = gamma_r.shape[0]\n",
    "        # gamma_r_inv = jnp.stack([jnp.linalg.inv(gamma_r[j,:,:]) for j in range(gamma_r.shape[0])])\n",
    "        gamma_r_inv = jnp.linalg.inv(gamma_r)\n",
    "        sig_r = track[r]['Sig_complex']\n",
    "        mus_r = track[r]['mus']\n",
    "        Ups_invs_r = track[r]['Ups_invs']\n",
    "\n",
    "        gamma_real_r = jnp.stack([quick_conv_cov_c2r(gamma_r[j,:,:],K) for j in range(J)])\n",
    "        gamma_real_r_inv = jnp.stack([quick_conv_inv_cov_c2r(gamma_r_inv[j,:,:],K) for j in range(J)])\n",
    "\n",
    "        sig_real_r = jnp.zeros((L,J,2*K,2*K))\n",
    "        for l in range(L):\n",
    "            sig_real_rl = jnp.stack([quick_conv_cov_c2r(sig_r[l,j,:,:],K) for j in range(J)])\n",
    "            sig_real_r = sig_real_r.at[l,:,:,:].set(sig_real_rl)\n",
    "\n",
    "\n",
    "        # A, B, Q = Q_func_real(gamma_real_r, gamma_real_r_inv, sig_real_r)\n",
    "        A, B, Q = Q_func_real_new(mus_r, Ups_invs_r, M, gamma_real_r, gamma_real_r_inv, sig_real_r, Wv, obs_var, data)\n",
    "        Qs.append(Q)\n",
    "        As.append(A)\n",
    "        Bs.append(B)\n",
    "\n",
    "    # return jnp.array(Qs) \n",
    "    return As, Bs, jnp.array(Qs) \n"
   ]
  },
  {
   "cell_type": "code",
   "execution_count": null,
   "metadata": {},
   "outputs": [],
   "source": []
  },
  {
   "cell_type": "code",
   "execution_count": 69,
   "metadata": {},
   "outputs": [
    {
     "name": "stdout",
     "output_type": "stream",
     "text": [
      "0\n",
      "10\n",
      "20\n",
      "30\n",
      "40\n",
      "0\n",
      "10\n",
      "20\n",
      "30\n",
      "40\n",
      "0\n",
      "10\n",
      "20\n",
      "30\n",
      "40\n",
      "0\n",
      "10\n",
      "20\n",
      "30\n",
      "40\n",
      "0\n",
      "10\n",
      "20\n",
      "30\n",
      "40\n",
      "0\n",
      "10\n",
      "20\n",
      "30\n",
      "40\n",
      "0\n",
      "10\n",
      "20\n",
      "30\n",
      "40\n",
      "0\n",
      "10\n",
      "20\n",
      "30\n",
      "40\n",
      "0\n",
      "10\n",
      "20\n",
      "30\n",
      "40\n",
      "0\n",
      "10\n",
      "20\n",
      "30\n",
      "40\n",
      "0\n",
      "10\n",
      "20\n",
      "30\n",
      "40\n",
      "0\n",
      "10\n",
      "20\n",
      "30\n",
      "40\n",
      "0\n",
      "10\n",
      "20\n",
      "30\n",
      "40\n",
      "0\n",
      "10\n",
      "20\n",
      "30\n",
      "40\n",
      "0\n",
      "10\n",
      "20\n",
      "30\n",
      "40\n",
      "0\n",
      "10\n",
      "20\n",
      "30\n",
      "40\n",
      "0\n",
      "10\n",
      "20\n",
      "30\n",
      "40\n",
      "0\n",
      "10\n",
      "20\n",
      "30\n",
      "40\n",
      "0\n",
      "10\n",
      "20\n",
      "30\n",
      "40\n"
     ]
    }
   ],
   "source": [
    "ov2 = 2\n",
    "M = 20\n",
    "gamma_true = res_load_ts_old_scipy[ov2]['gamma_true_full']\n",
    "obs = sample_obs(gamma_true, res_load_ts_old_scipy[ov2])\n",
    "\n",
    "result = res_load_ts_old_scipy[ov2]\n",
    "test = get_Qs_mixed_scipy(obs, result, M, Wv)"
   ]
  },
  {
   "cell_type": "code",
   "execution_count": 70,
   "metadata": {},
   "outputs": [
    {
     "data": {
      "text/plain": [
       "[<matplotlib.lines.Line2D at 0x14fd24f14b80>]"
      ]
     },
     "execution_count": 70,
     "metadata": {},
     "output_type": "execute_result"
    },
    {
     "data": {
      "image/png": "[encoded data removed]",
      "text/plain": [
       "<Figure size 640x480 with 1 Axes>"
      ]
     },
     "metadata": {},
     "output_type": "display_data"
    }
   ],
   "source": [
    "plt.plot(test[2])"
   ]
  },
  {
   "cell_type": "code",
   "execution_count": 124,
   "metadata": {},
   "outputs": [
    {
     "data": {
      "text/plain": [
       "[<matplotlib.lines.Line2D at 0x1538451c6080>]"
      ]
     },
     "execution_count": 124,
     "metadata": {},
     "output_type": "execute_result"
    },
    {
     "data": {
      "image/png": "[encoded data removed]",
      "text/plain": [
       "<Figure size 640x480 with 1 Axes>"
      ]
     },
     "metadata": {},
     "output_type": "display_data"
    }
   ],
   "source": [
    "\n",
    "plt.plot(test[2])"
   ]
  },
  {
   "cell_type": "code",
   "execution_count": 125,
   "metadata": {},
   "outputs": [
    {
     "name": "stdout",
     "output_type": "stream",
     "text": [
      "0\n",
      "10\n",
      "20\n",
      "30\n",
      "40\n",
      "0\n",
      "10\n",
      "20\n",
      "30\n",
      "40\n",
      "0\n",
      "10\n",
      "20\n",
      "30\n",
      "40\n",
      "0\n",
      "10\n",
      "20\n",
      "30\n",
      "40\n",
      "0\n",
      "10\n",
      "20\n",
      "30\n",
      "40\n",
      "0\n",
      "10\n",
      "20\n",
      "30\n",
      "40\n",
      "0\n",
      "10\n",
      "20\n",
      "30\n",
      "40\n",
      "0\n",
      "10\n",
      "20\n",
      "30\n",
      "40\n",
      "0\n",
      "10\n",
      "20\n",
      "30\n",
      "40\n",
      "0\n",
      "10\n",
      "20\n",
      "30\n",
      "40\n",
      "0\n",
      "10\n",
      "20\n",
      "30\n",
      "40\n",
      "0\n",
      "10\n",
      "20\n",
      "30\n",
      "40\n",
      "0\n",
      "10\n",
      "20\n",
      "30\n",
      "40\n",
      "0\n",
      "10\n",
      "20\n",
      "30\n",
      "40\n",
      "0\n",
      "10\n",
      "20\n",
      "30\n",
      "40\n",
      "0\n",
      "10\n",
      "20\n",
      "30\n",
      "40\n",
      "0\n",
      "10\n",
      "20\n",
      "30\n",
      "40\n",
      "0\n",
      "10\n",
      "20\n",
      "30\n",
      "40\n",
      "0\n",
      "10\n",
      "20\n",
      "30\n",
      "40\n"
     ]
    }
   ],
   "source": [
    "M = 20\n",
    "gamma_true = res_load_ts_oldmod_scipy[ov2]['gamma_true_full']\n",
    "obs = sample_obs(gamma_true, res_load_ts_oldmod_scipy[ov2])\n",
    "\n",
    "result = res_load_ts_oldmod_scipy[ov2]\n",
    "test = get_Qs_real_scipy(obs, result, M, Wv)"
   ]
  },
  {
   "cell_type": "code",
   "execution_count": null,
   "metadata": {},
   "outputs": [],
   "source": []
  },
  {
   "cell_type": "code",
   "execution_count": 126,
   "metadata": {},
   "outputs": [
    {
     "data": {
      "text/plain": [
       "[<matplotlib.lines.Line2D at 0x15384523e5f0>]"
      ]
     },
     "execution_count": 126,
     "metadata": {},
     "output_type": "execute_result"
    },
    {
     "data": {
      "image/png": "[encoded data removed]",
      "text/plain": [
       "<Figure size 640x480 with 1 Axes>"
      ]
     },
     "metadata": {},
     "output_type": "display_data"
    }
   ],
   "source": [
    "plt.plot(test[2])"
   ]
  },
  {
   "attachments": {},
   "cell_type": "markdown",
   "metadata": {},
   "source": [
    "yesssss... next do:\n",
    "- jax - should be able to \n",
    "- repeat with single-target\n",
    "- do multi-target and compare cross-specs\n",
    "- identify bug / problem"
   ]
  }
 ],
 "metadata": {
  "kernelspec": {
   "display_name": "sgc_env",
   "language": "python",
   "name": "python3"
  },
  "language_info": {
   "codemirror_mode": {
    "name": "ipython",
    "version": 3
   },
   "file_extension": ".py",
   "mimetype": "text/x-python",
   "name": "python",
   "nbconvert_exporter": "python",
   "pygments_lexer": "ipython3",
   "version": "3.10.13"
  },
  "orig_nbformat": 4
 },
 "nbformat": 4,
 "nbformat_minor": 2
}
