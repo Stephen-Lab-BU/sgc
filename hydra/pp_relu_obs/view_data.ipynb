{
 "cells": [
  {
   "cell_type": "code",
   "execution_count": 1,
   "metadata": {},
   "outputs": [],
   "source": [
    "import os\n",
    "import shutil\n",
    "from pathlib import Path\n",
    "\n",
    "import jax.random as jr\n",
    "import jax.numpy as jnp\n",
    "from omegaconf import OmegaConf\n",
    "import matplotlib.pyplot as plt\n",
    "\n",
    "from cohlib.utils import pickle_open\n",
    "from cohlib.jax.dists import sample_from_gamma\n",
    "from cohlib.jax.observations import add0\n",
    "\n"
   ]
  },
  {
   "cell_type": "code",
   "execution_count": 2,
   "metadata": {},
   "outputs": [],
   "source": [
    "def load_results(paths, alphas_sel, **kwargs):\n",
    "    Lpaths = get_model_paths(paths, **kwargs)\n",
    "    results = {}\n",
    "    alphas = []\n",
    "    for path in Lpaths:\n",
    "        cfg_path = os.path.join(path, '.hydra/config.yaml')\n",
    "        cfg = OmegaConf.load(cfg_path)\n",
    "        alpha = cfg.obs.alpha\n",
    "        if alphas_sel is not None:\n",
    "            if alpha in alphas_sel:\n",
    "                alphas.append(alpha)\n",
    "        alphas = jnp.array(alphas)\n",
    "    assert len(Lpaths) > 0\n",
    "    if alphas.size == jnp.unique(alphas).size:\n",
    "\n",
    "        for path in Lpaths:\n",
    "            cfg_path = os.path.join(path, '.hydra/config.yaml')\n",
    "            cfg = OmegaConf.load(cfg_path)\n",
    "            alpha = cfg.obs.alpha\n",
    "\n",
    "            res = pickle_open(os.path.join(path, 'res.pickle'))\n",
    "            res['cfg'] = cfg\n",
    "            results[alpha] = res\n",
    "\n",
    "    else:\n",
    "        print('Duplicates found for alpha - returning empty dict.')\n",
    "\n",
    "    return results\n",
    "\n",
    "# def get_model_paths(paths, **kwargs):\n",
    "#     sel_paths = []\n",
    "#     for path in paths:\n",
    "#         _dir = Path(path)\n",
    "#         for i, exp in enumerate(_dir.glob('*')):\n",
    "#             cfg_path = os.path.join(exp, '.hydra/config.yaml')\n",
    "#             cfg = OmegaConf.load(cfg_path)\n",
    "#             # print(cfg.obs.obs_type)\n",
    "\n",
    "            # if cfg.latent.L == L:\n",
    "            #     if cfg.model.emiters == emiters:\n",
    "            #         if cfg.model.init == init:\n",
    "            #             if cfg.model.scale_init == scale_init:\n",
    "            #                 if supp is not None:\n",
    "            #                     if 'support' in list(cfg.model.keys()):\n",
    "            #                         if cfg.model.support == supp:\n",
    "            #                                 sel_paths.append(exp)\n",
    "            #                 else:\n",
    "            #                     if 'support' not in list(cfg.model.keys()):\n",
    "            #                         if cfg.model.emiters == emiters:\n",
    "            #                             sel_paths.append(exp)\n",
    "            #                     else:\n",
    "            #                         if cfg.model.support == supp:\n",
    "            #                                 sel_paths.append(exp)\n",
    "    # print(f'{len(sel_paths)} results found meeting criteria.')\n",
    "    # return sel_paths"
   ]
  },
  {
   "cell_type": "code",
   "execution_count": 3,
   "metadata": {},
   "outputs": [],
   "source": [
    "def clean_dir(path):\n",
    "    _dir = Path(path)\n",
    "    for i, exp in enumerate(_dir.glob('*')):\n",
    "        exp_path = Path(exp)\n",
    "        contents = []\n",
    "        for f in exp_path.glob('*'):\n",
    "            contents.append(os.path.split(f)[1])\n",
    "        if 'res.pickle' not in contents: \n",
    "            shutil.rmtree(exp_path)\n",
    "            print('Removing unfinished experiment')"
   ]
  },
  {
   "cell_type": "code",
   "execution_count": null,
   "metadata": {},
   "outputs": [],
   "source": []
  },
  {
   "cell_type": "code",
   "execution_count": 5,
   "metadata": {},
   "outputs": [],
   "source": [
    "def get_model_paths(paths, **kwargs):\n",
    "    sel_paths = []\n",
    "    for path in paths:\n",
    "        _dir = Path(path)\n",
    "        for i, exp in enumerate(_dir.glob('*')):\n",
    "            cfg_path = os.path.join(exp, '.hydra/config.yaml')\n",
    "            cfg = OmegaConf.load(cfg_path)\n",
    "\n",
    "            if cfg.obs.obs_type == 'pp_relu':\n",
    "                if cfg.model.init == 'true-init':\n",
    "                    if cfg.model.init_mod == 0.001:\n",
    "                        if 'true_to_flat' in cfg.model:\n",
    "                            if cfg.model.true_to_flat == 'target':\n",
    "                                if cfg.model.scale_init == 1e4:\n",
    "                                    if cfg.latent.scale == 1e4:\n",
    "                                        if cfg.model.emiters == 100:\n",
    "                                            sel_paths.append(exp)\n",
    "    print(f'{len(sel_paths)} paths found meeting critera')\n",
    "    return sel_paths\n",
    "\n",
    "res_paths = ['/projectnb/stephenlab/jtauber/cohlib/hydra/pp_relu_obs/outputs/2024-09-03-inits']\n",
    "for res_path in res_paths:\n",
    "    clean_dir(res_path)\n"
   ]
  },
  {
   "cell_type": "code",
   "execution_count": 6,
   "metadata": {},
   "outputs": [
    {
     "name": "stdout",
     "output_type": "stream",
     "text": [
      "1 paths found meeting critera\n"
     ]
    },
    {
     "data": {
      "text/plain": [
       "dict_keys([200])"
      ]
     },
     "execution_count": 6,
     "metadata": {},
     "output_type": "execute_result"
    }
   ],
   "source": [
    "res1 = load_results(res_paths, alphas_sel=None)\n",
    "# res1[100].keys()\n",
    "res1.keys()\n"
   ]
  },
  {
   "cell_type": "code",
   "execution_count": 55,
   "metadata": {},
   "outputs": [],
   "source": [
    "from cohlib.utils import gamma_root\n",
    "from cohlib.jax.dists import sample_obs, cif_alpha_relu\n",
    "res = res1[200]\n",
    "cfg = res['cfg']\n",
    "\n",
    "lcfg = cfg.latent\n",
    "ocfg = cfg.obs\n",
    "mcfg = cfg.model\n",
    "\n",
    "flow = lcfg.freq_low\n",
    "fhigh = lcfg.freq_high\n",
    "sp_target = lcfg.scale_power_target\n",
    "sp_offtarget = lcfg.scale_power_offtarget\n",
    "gamma_path = os.path.join(gamma_root(), f\"k2-full{flow}-{fhigh}-10-{sp_target}-{sp_offtarget}.pickle\")\n",
    "gamma_load = pickle_open(gamma_path)\n",
    "\n",
    "gamma_full = gamma_load['gamma']\n",
    "gamma_full = gamma_full * lcfg.scale\n",
    "freqs = gamma_load['freqs']\n",
    "N = freqs.size\n",
    "nz = gamma_load['nonzero_inds']\n",
    "nz_target = jnp.array([9])\n",
    "K = gamma_full.shape[-1]\n",
    "\n",
    "\n",
    "lrk = jr.key(lcfg.seed)\n",
    "zs = sample_from_gamma(lrk, gamma_full, lcfg.L)\n",
    "zs_0dc = jnp.apply_along_axis(add0, 0, zs)\n",
    "xs = jnp.fft.irfft(zs_0dc, axis=0)\n",
    "\n",
    "obs, obs_params = sample_obs(ocfg, xs)\n",
    "obs_type = ocfg.obs_type\n",
    "\n",
    "# alpha = ocfg.alpha\n",
    "alpha = 0\n",
    "alphas = jnp.ones(K)*alpha\n",
    "lams = cif_alpha_relu(alphas, xs)"
   ]
  },
  {
   "cell_type": "code",
   "execution_count": 57,
   "metadata": {},
   "outputs": [],
   "source": [
    "gamma_path = os.path.join(gamma_root(), f\"k2-full{flow}-{fhigh}-10-{sp_target}-{sp_offtarget}.pickle\")\n",
    "gamma_load = pickle_open(gamma_path)\n",
    "\n",
    "gamma_full = gamma_load['gamma']\n",
    "# gamma_full = gamma_full * lcfg.scale"
   ]
  },
  {
   "cell_type": "code",
   "execution_count": 63,
   "metadata": {},
   "outputs": [
    {
     "data": {
      "text/plain": [
       "Array([[ 2.1739129e-06-2.0863809e-15j, -4.3478263e-07+4.3478263e-07j],\n",
       "       [-4.3478261e-07-4.3478261e-07j,  2.1739131e-06-1.4084273e-15j]],      dtype=complex64)"
      ]
     },
     "execution_count": 63,
     "metadata": {},
     "output_type": "execute_result"
    }
   ],
   "source": [
    "jnp.linalg.inv(gamma_full[9,:,:])"
   ]
  },
  {
   "cell_type": "code",
   "execution_count": 64,
   "metadata": {},
   "outputs": [
    {
     "data": {
      "text/plain": [
       "Array([[ 7.1428576e-06+0.0000000e+00j, -4.2857146e-06+4.2857146e-06j],\n",
       "       [-4.2857146e-06-4.2857146e-06j,  7.1428576e-06+0.0000000e+00j]],      dtype=complex64)"
      ]
     },
     "execution_count": 64,
     "metadata": {},
     "output_type": "execute_result"
    }
   ],
   "source": [
    "odscale = 3\n",
    "temp = gamma_full[9,:,:].copy()\n",
    "temp = temp.at[0,1].set(temp[0,1]*odscale)\n",
    "temp = temp.at[1,0].set(temp[1,0]*odscale)\n",
    "jnp.linalg.inv(temp)\n"
   ]
  },
  {
   "cell_type": "code",
   "execution_count": 65,
   "metadata": {},
   "outputs": [
    {
     "data": {
      "text/plain": [
       "Array([[500000.     +0.j, 300000.-300000.j],\n",
       "       [300000.+300000.j, 500000.     +0.j]], dtype=complex64)"
      ]
     },
     "execution_count": 65,
     "metadata": {},
     "output_type": "execute_result"
    }
   ],
   "source": [
    "temp"
   ]
  },
  {
   "cell_type": "code",
   "execution_count": 62,
   "metadata": {},
   "outputs": [
    {
     "data": {
      "text/plain": [
       "Array(0.71999997, dtype=float32)"
      ]
     },
     "execution_count": 62,
     "metadata": {},
     "output_type": "execute_result"
    }
   ],
   "source": [
    "jnp.abs(gamma_full[9,0,1]*3)**2 / (gamma_full[9,0,0].real*gamma_full[9,1,1].real)"
   ]
  },
  {
   "cell_type": "code",
   "execution_count": 56,
   "metadata": {},
   "outputs": [
    {
     "data": {
      "image/png": "[encoded data removed]",
      "text/plain": [
       "<Figure size 500x400 with 3 Axes>"
      ]
     },
     "metadata": {},
     "output_type": "display_data"
    }
   ],
   "source": [
    "fig, ax = plt.subplots(3,1, figsize=(5,4))\n",
    "k = 0\n",
    "l = 0\n",
    "\n",
    "s = 3\n",
    "for l in range(s, s+3):\n",
    "    ax[0].plot(xs[:,k,l])\n",
    "    ax[0].set_title(r'$x^{k,\\ell}_t$')\n",
    "    ax[1].plot(lams[:,k,l])\n",
    "    ax[1].set_title(r'$\\lambda^{k,\\ell}_t$')\n",
    "    ax[2].plot(obs[:,k,l])\n",
    "    ax[2].set_title(r'$n^{k,\\ell}_t$')\n",
    "    ax[2].set_xlabel('Time (ms)')\n",
    "\n",
    "for i in range(3):\n",
    "    ax[i].set_xlim([0,200])\n",
    "\n",
    "plt.tight_layout()"
   ]
  },
  {
   "cell_type": "code",
   "execution_count": 35,
   "metadata": {},
   "outputs": [],
   "source": [
    "def transform(spec, dB=True):\n",
    "    if dB is True:\n",
    "        return 10*jnp.log10(spec+1e-15)\n",
    "    else:\n",
    "        return spec"
   ]
  },
  {
   "cell_type": "code",
   "execution_count": 40,
   "metadata": {},
   "outputs": [
    {
     "data": {
      "image/png": "[encoded data removed]",
      "text/plain": [
       "<Figure size 500x200 with 1 Axes>"
      ]
     },
     "metadata": {},
     "output_type": "display_data"
    }
   ],
   "source": [
    "dB = True\n",
    "fig, ax = plt.subplots(figsize=(5,2))\n",
    "S_true = transform(gamma_full[nz,k,k].real, dB=dB)\n",
    "ax.plot(S_true, color='k')\n",
    "ax.set_title('True Spectrum')\n",
    "ax.set_xlabel('Freq (Hz)')\n",
    "if dB is True:\n",
    "    ax.set_ylabel('Power (dB)')\n",
    "    ax.set_ylim([0,120])\n",
    "else:\n",
    "    ax.set_ylabel('Power')\n",
    "\n",
    "# plt.plot(gamma_est[:,k,k].real)\n",
    "# plt.plot(gamma_init[:,k,k].real)\n",
    "# plt.ylim([0,1e6])"
   ]
  },
  {
   "cell_type": "code",
   "execution_count": null,
   "metadata": {},
   "outputs": [],
   "source": []
  }
 ],
 "metadata": {
  "kernelspec": {
   "display_name": "sgc_env",
   "language": "python",
   "name": "python3"
  },
  "language_info": {
   "codemirror_mode": {
    "name": "ipython",
    "version": 3
   },
   "file_extension": ".py",
   "mimetype": "text/x-python",
   "name": "python",
   "nbconvert_exporter": "python",
   "pygments_lexer": "ipython3",
   "version": "3.10.13"
  },
  "orig_nbformat": 4
 },
 "nbformat": 4,
 "nbformat_minor": 2
}
