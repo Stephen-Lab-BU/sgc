{
 "cells": [
  {
   "cell_type": "code",
   "execution_count": 1,
   "metadata": {},
   "outputs": [],
   "source": [
    "import os\n",
    "import shutil\n",
    "from pathlib import Path\n",
    "\n",
    "import jax.random as jr\n",
    "import jax.numpy as jnp\n",
    "from omegaconf import OmegaConf\n",
    "import matplotlib.pyplot as plt\n",
    "\n",
    "from cohlib.utils import pickle_open\n",
    "from cohlib.jax.dists import sample_from_gamma\n",
    "from cohlib.jax.gaussian_obs import add0\n",
    "\n"
   ]
  },
  {
   "cell_type": "code",
   "execution_count": 2,
   "metadata": {},
   "outputs": [],
   "source": [
    "def clean_dir(path):\n",
    "    paths_to_remove = []\n",
    "    _dir = Path(path)\n",
    "    for i, exp in enumerate(_dir.glob('*')):\n",
    "        exp_path = Path(exp)\n",
    "        contents = []\n",
    "        for f in exp_path.glob('*'):\n",
    "            contents.append(os.path.split(f)[1])\n",
    "        if 'res.pickle' not in contents: \n",
    "            shutil.rmtree(exp_path)\n",
    "            print('Removing unfinished experiment')\n",
    "\n",
    "def clean_temp(path):\n",
    "    Lpaths = get_model_paths(10, 'true-init')\n",
    "    results = {}\n",
    "    for path in Lpaths:\n",
    "        cfg_path = os.path.join(path, '.hydra/config.yaml')\n",
    "        cfg = OmegaConf.load(cfg_path)\n",
    "        obs_var = cfg.obs.ov2\n",
    "        if 'support' not in list(cfg.model.keys()):\n",
    "            print(cfg)\n",
    "            # shutil.rmtree(path)\n",
    "            print('Removing old experiment')\n",
    "        # print(obs_var)\n",
    "        # print(cfg)\n",
    "\n",
    "        # res = pickle_open(os.path.join(path, 'res.pickle'))\n",
    "        # res['cfg'] = cfg\n",
    "        # results[obs_var] = res"
   ]
  },
  {
   "cell_type": "code",
   "execution_count": 3,
   "metadata": {},
   "outputs": [],
   "source": [
    "def load_results(paths, **kwargs):\n",
    "    Lpaths = get_model_paths(paths, **kwargs)\n",
    "    results = {}\n",
    "    for path in Lpaths:\n",
    "        cfg_path = os.path.join(path, '.hydra/config.yaml')\n",
    "        cfg = OmegaConf.load(cfg_path)\n",
    "        obs_var = cfg.obs.ov2\n",
    "\n",
    "        res = pickle_open(os.path.join(path, 'res.pickle'))\n",
    "        res['cfg'] = cfg\n",
    "        results[obs_var] = res\n",
    "    return results\n",
    "\n",
    "def get_model_paths(paths, **kwargs):\n",
    "    sel_paths = []\n",
    "    for path in paths:\n",
    "        _dir = Path(path)\n",
    "        for i, exp in enumerate(_dir.glob('*')):\n",
    "            cfg_path = os.path.join(exp, '.hydra/config.yaml')\n",
    "            cfg = OmegaConf.load(cfg_path)\n",
    "\n",
    "            if cfg.latent.L == L:\n",
    "                if cfg.model.emiters == emiters:\n",
    "                    if cfg.model.init == init:\n",
    "                        if supp is not None:\n",
    "                            if 'support' in list(cfg.model.keys()):\n",
    "                                if cfg.model.support == supp:\n",
    "                                        sel_paths.append(exp)\n",
    "                        else:\n",
    "                            if 'support' not in list(cfg.model.keys()):\n",
    "                                if cfg.model.emiters == emiters:\n",
    "                                    sel_paths.append(exp)\n",
    "                            else:\n",
    "                                if cfg.model.support == supp:\n",
    "                                        sel_paths.append(exp)\n",
    "    return sel_paths"
   ]
  },
  {
   "cell_type": "code",
   "execution_count": 4,
   "metadata": {},
   "outputs": [],
   "source": [
    "res_paths = ['/projectnb/stephenlab/jtauber/cohlib/hydra/outputs/2024-07-29', \n",
    "             '/projectnb/stephenlab/jtauber/cohlib/hydra/outputs/2024-07-30']"
   ]
  },
  {
   "cell_type": "code",
   "execution_count": 5,
   "metadata": {},
   "outputs": [],
   "source": [
    "from cohlib.utils import gamma_root\n",
    "def compute_naive_and_oracle(cfg):\n",
    "    lcfg = cfg.latent\n",
    "    ocfg = cfg.obs\n",
    "\n",
    "    gamma_path = os.path.join(gamma_root(), f\"{cfg.latent.gamma}.pickle\")\n",
    "    gamma_load = pickle_open(gamma_path)\n",
    "    gamma_full = gamma_load['gamma']\n",
    "    freqs = gamma_load['freqs']\n",
    "    N = freqs.size\n",
    "    nz = gamma_load['nonzero_inds']\n",
    "    K = gamma_full.shape[-1]\n",
    "\n",
    "    gamma_full *= lcfg.scale\n",
    "\n",
    "    lrk = jr.key(lcfg.seed)\n",
    "    zs = sample_from_gamma(lrk, gamma_full, lcfg.L)\n",
    "    gamma_est_oracle = jnp.einsum('nkl,nil->nkil', zs, zs.conj()).mean(-1)\n",
    "\n",
    "\n",
    "\n",
    "    zs_0dc = jnp.apply_along_axis(add0, 0, zs)\n",
    "    xs = jnp.fft.irfft(zs_0dc, axis=0)\n",
    "\n",
    "    ork = jr.key(ocfg.seed)\n",
    "\n",
    "\n",
    "    obs_var = ocfg.ov1 * 10**ocfg.ov2\n",
    "    obs = xs + jr.normal(ork, xs.shape)*jnp.sqrt(obs_var)\n",
    "\n",
    "    obs_mc = obs - obs.mean(0)[None,:,:]\n",
    "    obs_f = jnp.fft.rfft(obs_mc, axis=0)[1:,:,:]\n",
    "    gamma_est_naive = jnp.einsum('nkl,nil->nkil', obs_f, obs_f.conj()).mean(-1)\n",
    "\n",
    "    return gamma_est_oracle, gamma_est_naive"
   ]
  },
  {
   "cell_type": "code",
   "execution_count": 6,
   "metadata": {},
   "outputs": [],
   "source": [
    "def pow(gamma, k, db=False, freq_inds=None):\n",
    "    if freq_inds is None:\n",
    "        freq_inds = jnp.arange(gamma.shape[0])\n",
    "    S = gamma[freq_inds,k,k].real\n",
    "    if db is True:\n",
    "        S = 10*jnp.log10(S+1e-15)\n",
    "    return S"
   ]
  },
  {
   "cell_type": "code",
   "execution_count": 7,
   "metadata": {},
   "outputs": [],
   "source": [
    "gamma_name = 'k2-single-10'\n",
    "gamma_path = os.path.join(gamma_root(), f\"{gamma_name}.pickle\")\n",
    "gamma_load = pickle_open(gamma_path)\n",
    "gamma_raw = gamma_load['gamma']\n",
    "freqs = gamma_load['freqs']\n",
    "nz = gamma_load['nonzero_inds']\n",
    "\n",
    "supp_full = [0, 50]\n",
    "nz_fit50 = jnp.where((freqs >= supp_full[0]) & (freqs <= supp_full[1]))"
   ]
  },
  {
   "cell_type": "code",
   "execution_count": 8,
   "metadata": {},
   "outputs": [],
   "source": [
    "L = 1000\n",
    "init = 'flat-init'\n",
    "emiters = 20\n",
    "\n",
    "supp = [0, 50]\n",
    "res_fit50 = load_results(res_paths, L=L, init=init, emiters=emiters, supp=supp)\n",
    "supp = None\n",
    "res_single = load_results(res_paths, L=L, init=init, emiters=emiters, supp=supp)\n",
    "\n",
    "scale = res_single[0]['cfg'].latent.scale\n",
    "gamma_true = gamma_raw*scale\n",
    "ovs = sorted(res_fit50.keys())"
   ]
  },
  {
   "cell_type": "code",
   "execution_count": 9,
   "metadata": {},
   "outputs": [
    {
     "data": {
      "text/plain": [
       "array([0.06970828], dtype=float32)"
      ]
     },
     "execution_count": 9,
     "metadata": {},
     "output_type": "execute_result"
    }
   ],
   "source": [
    "g = res_single[-5]['gamma']\n",
    "from cohlib.mvcn import thr_coherence\n",
    "thr_coherence(g)"
   ]
  },
  {
   "cell_type": "code",
   "execution_count": 10,
   "metadata": {},
   "outputs": [
    {
     "data": {
      "text/plain": [
       "array([0.08], dtype=float32)"
      ]
     },
     "execution_count": 10,
     "metadata": {},
     "output_type": "execute_result"
    }
   ],
   "source": [
    "thr_coherence(gamma_raw[nz,:,:])"
   ]
  },
  {
   "cell_type": "code",
   "execution_count": 13,
   "metadata": {},
   "outputs": [],
   "source": [
    "emiters = 20\n",
    "L = 50\n",
    "db = True\n",
    "k = 0\n",
    "init = 'flat-init'\n",
    "\n",
    "supp = [0, 50]\n",
    "res_fit50 = load_results(res_paths, L=L, init=init, emiters=emiters, supp=supp)\n",
    "supp = None\n",
    "res_single = load_results(res_paths, L=L, init=init, emiters=emiters, supp=supp)\n",
    "\n",
    "\n",
    "fit50_targ = jnp.zeros(len(ovs))\n",
    "fit50_offtarg = jnp.zeros(len(ovs))\n",
    "single_targ = jnp.zeros(len(ovs))\n",
    "\n",
    "oracle_targ = jnp.zeros(len(ovs))\n",
    "oracle_offtarg = jnp.zeros(len(ovs))\n",
    "naive_targ = jnp.zeros(len(ovs))\n",
    "naive_offtarg = jnp.zeros(len(ovs))\n",
    "\n",
    "tind = jnp.array([9])\n",
    "otind = jnp.array([20])\n",
    "tind_single = jnp.array([0])\n",
    "\n",
    "true_targ = jnp.ones(len(ovs))*pow(gamma_true, k, db=db, freq_inds=tind)\n",
    "for i, ov in enumerate(ovs):\n",
    "    gamma_fit50_est = res_fit50[ov]['gamma']\n",
    "    gamma_single_est = res_single[ov]['gamma']\n",
    "\n",
    "    fit50_targ_power = pow(gamma_fit50_est, k, db=db, freq_inds=tind)\n",
    "    fit50_targ = fit50_targ.at[i,].set(fit50_targ_power[0])\n",
    "\n",
    "    fit50_offtarg_power = pow(gamma_fit50_est, k, db=db, freq_inds=otind)\n",
    "    fit50_offtarg = fit50_offtarg.at[i,].set(fit50_offtarg_power[0])\n",
    "\n",
    "    single_targ_power = pow(gamma_single_est, k, db=db, freq_inds=tind_single)\n",
    "    single_targ = single_targ.at[i,].set(single_targ_power[0])\n",
    "\n",
    "\n",
    "    gamma_oracle, gamma_naive = compute_naive_and_oracle(res_single[ov]['cfg'])\n",
    "\n",
    "    oracle_targ_power = pow(gamma_oracle, k, db=db, freq_inds=tind)\n",
    "    oracle_targ = oracle_targ.at[i,].set(oracle_targ_power[0])\n",
    "\n",
    "    oracle_offtarg_power = pow(gamma_oracle, k, db=db, freq_inds=otind)\n",
    "    oracle_offtarg = oracle_offtarg.at[i,].set(oracle_offtarg_power[0])\n",
    "\n",
    "    naive_targ_power = pow(gamma_naive, k, db=db, freq_inds=tind)\n",
    "    naive_targ = naive_targ.at[i,].set(naive_targ_power[0])\n",
    "\n",
    "    naive_offtarg_power = pow(gamma_naive, k, db=db, freq_inds=otind)\n",
    "    naive_offtarg = naive_offtarg.at[i,].set(naive_offtarg_power[0])\n"
   ]
  },
  {
   "cell_type": "code",
   "execution_count": 14,
   "metadata": {},
   "outputs": [
    {
     "data": {
      "text/plain": [
       "Text(0.5, 0, 'log10 obs var')"
      ]
     },
     "execution_count": 14,
     "metadata": {},
     "output_type": "execute_result"
    },
    {
     "data": {
      "image/png": "[encoded data removed]",
      "text/plain": [
       "<Figure size 600x200 with 2 Axes>"
      ]
     },
     "metadata": {},
     "output_type": "display_data"
    }
   ],
   "source": [
    "ylimu = 5000\n",
    "\n",
    "fig, ax = plt.subplots(1,2,figsize=(6,2), sharex=True, sharey=True)\n",
    "ax[0].plot(ovs, true_targ, 'x', color='k', linewidth=2, label='True')\n",
    "ax[0].plot(ovs, oracle_targ, '.', color='tab:grey', label='Oracle')\n",
    "ax[0].plot(ovs, single_targ, '.', color='tab:green', label='Model-single')\n",
    "ax[0].plot(ovs, naive_targ, '.', color='tab:red', label='Naive')\n",
    "ax[0].plot(ovs, fit50_targ, '.', color='tab:blue', label='Model-fit50')\n",
    "ax[0].set_title('Target Power')\n",
    "ax[1].set_title('Off Target Power')\n",
    "if db is True:\n",
    "    ax[0].set_ylabel('Power (dB)')\n",
    "else:\n",
    "    ax[0].set_ylabel('Power')\n",
    "ax[0].set_xlabel('log10 obs var')\n",
    "    \n",
    "\n",
    "ax[1].plot(ovs, naive_offtarg, '.', color='tab:red', label='Naive')\n",
    "ax[1].plot(ovs, fit50_offtarg, '.', color='tab:blue', label='Model-fit50')\n",
    "ax[1].set_xlabel('log10 obs var')\n",
    "\n",
    "\n",
    "# ax[0].set_ylim([-50,ylimu])\n",
    "# ax[1].set_ylim([-50,ylimu])\n",
    "\n"
   ]
  },
  {
   "cell_type": "code",
   "execution_count": 65,
   "metadata": {},
   "outputs": [
    {
     "data": {
      "text/plain": [
       "{'latent': {'gamma': 'k2-single-10', 'scale': 500, 'L': 1000, 'seed': 7}, 'obs': {'ov1': 1, 'ov2': -5, 'seed': 7}, 'model': {'init': 'true-init', 'maxiter': 5, 'emiters': 20, 'scale_init': 0.01, 'support': [0, 50]}}"
      ]
     },
     "execution_count": 65,
     "metadata": {},
     "output_type": "execute_result"
    }
   ],
   "source": [
    "res_fit50[-5]['cfg']"
   ]
  },
  {
   "cell_type": "code",
   "execution_count": 66,
   "metadata": {},
   "outputs": [
    {
     "data": {
      "text/plain": [
       "Array([[[ 4.7158942e-08+2.10536166e-21j,  9.5485375e-10+1.38905462e-13j],\n",
       "        [ 9.5485375e-10-1.38905462e-13j,  4.1388901e-08+1.02341326e-21j]],\n",
       "\n",
       "       [[ 3.6326597e-08+1.64807800e-21j,  1.8026443e-09-2.29580433e-13j],\n",
       "        [ 1.8026443e-09+2.29580461e-13j,  4.2316426e-08+1.63637843e-21j]],\n",
       "\n",
       "       [[ 4.5940499e-08+2.80944221e-21j, -3.8386050e-09+2.56380881e-13j],\n",
       "        [-3.8386050e-09-2.56380881e-13j,  4.1696186e-08+3.53476127e-21j]],\n",
       "\n",
       "       [[ 4.4119652e-08-1.38011491e-21j,  1.6110339e-09-2.16701978e-14j],\n",
       "        [ 1.6110340e-09+2.16701995e-14j,  3.8019252e-08-1.01492517e-21j]],\n",
       "\n",
       "       [[ 3.7180790e-08+2.50340760e-21j,  7.3234008e-10-1.97125289e-13j],\n",
       "        [ 7.3234013e-10+1.97125302e-13j,  3.7932605e-08+2.85634210e-21j]],\n",
       "\n",
       "       [[ 4.0449901e-08+7.05877161e-21j,  1.3706063e-09+4.11693588e-14j],\n",
       "        [ 1.3706065e-09-4.11693554e-14j,  4.3757257e-08+8.14848513e-21j]],\n",
       "\n",
       "       [[ 4.1149551e-08-2.06854203e-21j, -2.2449689e-09+7.75109482e-14j],\n",
       "        [-2.2449691e-09-7.75109482e-14j,  3.8722941e-08-1.39159608e-21j]],\n",
       "\n",
       "       [[ 3.7774985e-08-1.73693873e-21j, -4.7341641e-11-9.58808702e-14j],\n",
       "        [-4.7341641e-11+9.58808770e-14j,  3.8567507e-08-1.83509171e-21j]],\n",
       "\n",
       "       [[ 4.1637250e-08+1.00483340e-21j,  1.0006441e-09-5.33084488e-14j],\n",
       "        [ 1.0006441e-09+5.33084454e-14j,  4.1269761e-08+1.07185735e-21j]],\n",
       "\n",
       "       [[ 2.5794004e+03+6.56773636e-07j,  4.8866910e+02-4.65148407e+02j],\n",
       "        [ 4.8866910e+02+4.65148407e+02j,  2.5314036e+03+2.40781355e-06j]],\n",
       "\n",
       "       [[ 4.3370562e-08-4.42274006e-21j, -4.7697973e-10-1.06881828e-14j],\n",
       "        [-4.7697984e-10+1.06881836e-14j,  4.1858208e-08-5.24680420e-21j]],\n",
       "\n",
       "       [[ 3.7976360e-08-3.83421680e-21j, -3.2664800e-09-2.01033987e-14j],\n",
       "        [-3.2664800e-09+2.01034020e-14j,  4.5151967e-08-5.30558492e-21j]],\n",
       "\n",
       "       [[ 4.3620137e-08-2.64000549e-21j,  2.9374434e-09-1.52529194e-13j],\n",
       "        [ 2.9374434e-09+1.52529194e-13j,  4.1995683e-08-2.54176911e-21j]],\n",
       "\n",
       "       [[ 3.0737844e-08-4.55507270e-22j, -6.2965699e-09+1.57195237e-14j],\n",
       "        [-6.2965699e-09-1.57195254e-14j,  4.7362196e-08-1.46120395e-21j]],\n",
       "\n",
       "       [[ 4.5522064e-08+4.77581532e-21j, -3.6581219e-10-1.20791371e-13j],\n",
       "        [-3.6581216e-10+1.20791357e-13j,  3.8850068e-08+2.92974105e-21j]],\n",
       "\n",
       "       [[ 3.5844650e-08+2.53287365e-23j, -1.5925644e-09-1.54188728e-13j],\n",
       "        [-1.5925644e-09+1.54188728e-13j,  3.9132935e-08-3.44436412e-22j]],\n",
       "\n",
       "       [[ 3.9043599e-08+1.37736053e-21j,  1.5930062e-09-1.46784745e-14j],\n",
       "        [ 1.5930064e-09+1.46784728e-14j,  3.6838436e-08+1.27400294e-21j]],\n",
       "\n",
       "       [[ 3.8024186e-08+8.15883216e-21j,  1.3786273e-09+1.59491954e-13j],\n",
       "        [ 1.3786273e-09-1.59491954e-13j,  4.0064073e-08+8.49899968e-21j]],\n",
       "\n",
       "       [[ 4.8155091e-08-2.27782539e-21j, -8.7313545e-10-3.22337616e-13j],\n",
       "        [-8.7313551e-10+3.22337616e-13j,  3.9910187e-08-2.33201965e-21j]],\n",
       "\n",
       "       [[ 4.2872834e-08+3.70675869e-21j,  3.1324658e-09+3.12789040e-14j],\n",
       "        [ 3.1324658e-09-3.12789040e-14j,  3.7890700e-08+2.64566752e-21j]],\n",
       "\n",
       "       [[ 4.3346024e-08+4.18022064e-21j,  5.7130195e-10-1.91232067e-13j],\n",
       "        [ 5.7130195e-10+1.91232081e-13j,  4.2567695e-08+3.90160456e-21j]],\n",
       "\n",
       "       [[ 3.9357868e-08-6.95948570e-21j,  1.1436844e-09+1.25561437e-14j],\n",
       "        [ 1.1436844e-09-1.25561454e-14j,  3.9620989e-08-7.62672157e-21j]],\n",
       "\n",
       "       [[ 3.9166004e-08-1.48811569e-21j, -2.1054194e-09-3.68537174e-15j],\n",
       "        [-2.1054194e-09+3.68537174e-15j,  4.2965365e-08-1.69373278e-21j]],\n",
       "\n",
       "       [[ 4.7423686e-08-8.61844327e-21j,  8.9052327e-10+1.01651814e-13j],\n",
       "        [ 8.9052327e-10-1.01651841e-13j,  3.9530796e-08-5.93781223e-21j]],\n",
       "\n",
       "       [[ 3.9612310e-08+9.31965070e-22j, -4.9969562e-09-2.00520170e-13j],\n",
       "        [-4.9969562e-09+2.00520170e-13j,  3.5137909e-08-2.29056631e-22j]],\n",
       "\n",
       "       [[ 3.8848292e-08+1.15565704e-21j, -3.1768059e-09-1.99786531e-13j],\n",
       "        [-3.1768057e-09+1.99786531e-13j,  3.9120248e-08+2.78759791e-22j]],\n",
       "\n",
       "       [[ 4.5096847e-08+1.58393277e-20j, -8.2209245e-10-4.06950102e-14j],\n",
       "        [-8.2209239e-10+4.06950102e-14j,  4.1813699e-08+1.37317168e-20j]],\n",
       "\n",
       "       [[ 4.2940421e-08-3.81715014e-21j,  7.6277046e-10+1.72473797e-13j],\n",
       "        [ 7.6277051e-10-1.72473797e-13j,  4.2429978e-08-3.75035854e-21j]],\n",
       "\n",
       "       [[ 4.0751200e-08+3.21757728e-21j,  1.7062090e-09-3.47752527e-14j],\n",
       "        [ 1.7062092e-09+3.47752527e-14j,  3.6919630e-08+2.99188461e-21j]],\n",
       "\n",
       "       [[ 4.1642053e-08+7.81897240e-21j,  1.7288285e-10-1.82811164e-13j],\n",
       "        [ 1.7288283e-10+1.82811164e-13j,  3.6864918e-08+5.81494480e-21j]],\n",
       "\n",
       "       [[ 4.6029960e-08-9.24031749e-21j,  2.2935316e-09+1.00706246e-14j],\n",
       "        [ 2.2935316e-09-1.00706271e-14j,  3.6253560e-08-5.58900010e-21j]],\n",
       "\n",
       "       [[ 4.2617796e-08+5.21571586e-21j, -1.0038934e-09+1.60897744e-13j],\n",
       "        [-1.0038934e-09-1.60897744e-13j,  4.4682739e-08+6.21922852e-21j]],\n",
       "\n",
       "       [[ 4.2448097e-08-2.93803608e-21j,  5.1048321e-09-2.81566339e-14j],\n",
       "        [ 5.1048321e-09+2.81566305e-14j,  3.8326426e-08-2.43859893e-21j]],\n",
       "\n",
       "       [[ 4.6275130e-08+4.67138457e-21j,  1.1124718e-09+2.20157839e-14j],\n",
       "        [ 1.1124718e-09-2.20157822e-14j,  4.1806089e-08+3.59520442e-21j]],\n",
       "\n",
       "       [[ 3.9175454e-08-8.48183326e-21j,  3.0645240e-09+8.02037066e-14j],\n",
       "        [ 3.0645240e-09-8.02037066e-14j,  4.5065345e-08-1.14409475e-20j]],\n",
       "\n",
       "       [[ 4.4642526e-08-4.17744183e-21j,  3.5826847e-10-3.77868072e-14j],\n",
       "        [ 3.5826850e-10+3.77868106e-14j,  3.6044302e-08-2.66505638e-21j]],\n",
       "\n",
       "       [[ 3.8162138e-08+1.71324352e-21j, -5.2256857e-09-1.42003068e-13j],\n",
       "        [-5.2256848e-09+1.42003068e-13j,  3.9601112e-08+4.12509882e-21j]],\n",
       "\n",
       "       [[ 3.8364981e-08+1.30446261e-21j,  3.2144249e-09-1.60479255e-13j],\n",
       "        [ 3.2144254e-09+1.60479282e-13j,  4.7360249e-08+1.50011920e-21j]],\n",
       "\n",
       "       [[ 4.6591293e-08-1.70422511e-21j, -2.9913183e-09+2.65892384e-14j],\n",
       "        [-2.9913181e-09-2.65892384e-14j,  4.0319197e-08-8.73405590e-22j]],\n",
       "\n",
       "       [[ 3.9952845e-08-7.53230343e-21j, -2.1486972e-09-2.54379766e-14j],\n",
       "        [-2.1486972e-09+2.54379749e-14j,  4.2286619e-08-8.87555104e-21j]],\n",
       "\n",
       "       [[ 4.4556746e-08-5.94354817e-22j, -3.6593997e-09-5.02946243e-14j],\n",
       "        [-3.6593997e-09+5.02946243e-14j,  3.8754866e-08-6.85813911e-22j]],\n",
       "\n",
       "       [[ 4.2272472e-08-3.60956618e-21j,  8.4231944e-10-1.43979785e-13j],\n",
       "        [ 8.4231944e-10+1.43979785e-13j,  3.5490864e-08-2.52325206e-21j]],\n",
       "\n",
       "       [[ 4.0279492e-08+4.35106575e-21j, -2.9842373e-09+3.05748706e-14j],\n",
       "        [-2.9842373e-09-3.05748672e-14j,  4.1838106e-08+4.57449498e-21j]],\n",
       "\n",
       "       [[ 4.5605312e-08-2.46217014e-21j,  1.4190689e-09+1.32988984e-13j],\n",
       "        [ 1.4190689e-09-1.32989011e-13j,  4.3993410e-08-1.49532879e-21j]],\n",
       "\n",
       "       [[ 4.0596603e-08+1.88954850e-21j,  4.2462709e-09-1.96420096e-13j],\n",
       "        [ 4.2462709e-09+1.96420110e-13j,  3.4434592e-08+2.15456720e-21j]],\n",
       "\n",
       "       [[ 3.6505266e-08+2.22823817e-21j, -7.7125517e-10-1.65121511e-13j],\n",
       "        [-7.7125517e-10+1.65121497e-13j,  3.9106745e-08+2.14876179e-21j]],\n",
       "\n",
       "       [[ 4.6782638e-08-2.48051554e-21j, -2.8012141e-09+6.72362150e-14j],\n",
       "        [-2.8012141e-09-6.72362217e-14j,  4.1183032e-08-2.23349247e-21j]],\n",
       "\n",
       "       [[ 4.0075598e-08-1.10849844e-20j,  3.2847640e-09+5.09373021e-14j],\n",
       "        [ 3.2847640e-09-5.09372987e-14j,  3.7648011e-08-9.82856650e-21j]],\n",
       "\n",
       "       [[ 3.5819955e-08+4.62930984e-21j, -5.1010746e-10-1.74943847e-14j],\n",
       "        [-5.1010740e-10+1.74943847e-14j,  4.5293305e-08+7.40268810e-21j]],\n",
       "\n",
       "       [[ 4.1304020e-08+4.91745586e-21j, -4.0508180e-10+1.47914240e-16j],\n",
       "        [-4.0508180e-10-1.47912070e-16j,  3.9944879e-08+4.41265031e-21j]]],      dtype=complex64)"
      ]
     },
     "execution_count": 66,
     "metadata": {},
     "output_type": "execute_result"
    }
   ],
   "source": [
    "res_fit50[-5]['gamma']"
   ]
  },
  {
   "cell_type": "code",
   "execution_count": null,
   "metadata": {},
   "outputs": [],
   "source": []
  }
 ],
 "metadata": {
  "kernelspec": {
   "display_name": "sgc_env",
   "language": "python",
   "name": "python3"
  },
  "language_info": {
   "codemirror_mode": {
    "name": "ipython",
    "version": 3
   },
   "file_extension": ".py",
   "mimetype": "text/x-python",
   "name": "python",
   "nbconvert_exporter": "python",
   "pygments_lexer": "ipython3",
   "version": "3.10.13"
  },
  "orig_nbformat": 4
 },
 "nbformat": 4,
 "nbformat_minor": 2
}
