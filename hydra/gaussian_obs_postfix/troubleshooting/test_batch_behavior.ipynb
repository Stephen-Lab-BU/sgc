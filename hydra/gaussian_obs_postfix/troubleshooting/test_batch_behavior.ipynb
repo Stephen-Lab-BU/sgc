{
 "cells": [
  {
   "cell_type": "code",
   "execution_count": 1,
   "metadata": {},
   "outputs": [],
   "source": [
    "%load_ext autoreload\n",
    "%autoreload 2"
   ]
  },
  {
   "cell_type": "code",
   "execution_count": 2,
   "metadata": {},
   "outputs": [],
   "source": [
    "import os\n",
    "import multiprocessing as mp\n",
    "\n",
    "os.environ[\"XLA_FLAGS\"] = f\"--xla_force_host_platform_device_count={mp.cpu_count()}\""
   ]
  },
  {
   "cell_type": "code",
   "execution_count": 3,
   "metadata": {},
   "outputs": [],
   "source": [
    "import jax\n",
    "import jax.numpy as jnp\n",
    "import jax.random as jr\n",
    "\n",
    "from cohlib.jax.dists import sample_from_gamma, sample_obs, sample_ccn_rank1\n",
    "from cohlib.jax.observations import add0\n",
    "from cohlib.jax.simtools import load_gamma, construct_gamma_init\n",
    "\n",
    "from cohlib.jax.models import ToyModel\n",
    "from cohlib.utils import pickle_open"
   ]
  },
  {
   "cell_type": "code",
   "execution_count": 4,
   "metadata": {},
   "outputs": [
    {
     "name": "stdout",
     "output_type": "stream",
     "text": [
      "Platform:  cpu\n",
      "28\n"
     ]
    }
   ],
   "source": [
    "jax.config.update('jax_platform_name', 'cpu')\n",
    "platform = jax.lib.xla_bridge.get_backend().platform.casefold()\n",
    "print(\"Platform: \", platform)\n",
    "print(len(jax.devices()))"
   ]
  },
  {
   "cell_type": "code",
   "execution_count": 5,
   "metadata": {},
   "outputs": [],
   "source": [
    "res = pickle_open('/projectnb/stephenlab/jtauber/cohlib/hydra/gaussian_obs_postfix/batch/outputs/2024-11-25-ch4prelim/12-29-46/res.pickle')\n",
    "cfg = res['cfg']"
   ]
  },
  {
   "cell_type": "code",
   "execution_count": null,
   "metadata": {},
   "outputs": [],
   "source": []
  },
  {
   "cell_type": "code",
   "execution_count": null,
   "metadata": {},
   "outputs": [],
   "source": []
  },
  {
   "cell_type": "code",
   "execution_count": 12,
   "metadata": {},
   "outputs": [
    {
     "name": "stdout",
     "output_type": "stream",
     "text": [
      "NUM_DEVICES=28\n",
      "Sampling 7 samples from gamma k3-chlg4-gaussian-rank1-nz9; seed = 7; scale = 1\n",
      "obs var = 1e-1\n",
      "Sampling Gaussian observations with variance 1e^-1\n",
      "EM initialization: 'flat-init'\n",
      "Setting model support to 9 Hz - 9 Hz\n",
      "Running EM for 50 iters. Newton iters = 10\n"
     ]
    }
   ],
   "source": [
    "lcfg = cfg.latent\n",
    "ocfg = cfg.obs\n",
    "mcfg = cfg.model\n",
    "\n",
    "# NOTE\n",
    "ocfg.ov2 = -1\n",
    "lcfg.L = 7\n",
    "\n",
    "num_devices = len(jax.devices())\n",
    "print(f\"NUM_DEVICES={num_devices}\")\n",
    "\n",
    "gamma_load = load_gamma(cfg)\n",
    "\n",
    "gamma_full = gamma_load['gamma']\n",
    "K = gamma_full.shape[-1]\n",
    "freqs = gamma_load['freqs']\n",
    "nz_true = gamma_load['nonzero_inds']\n",
    "nz_target = gamma_load['target_inds']\n",
    "eigvec = gamma_load['eigvec']\n",
    "eigval = gamma_load['eigval']\n",
    "\n",
    "\n",
    "# sample latent and observations according to gamma and observation distribution\n",
    "print(f\"Sampling {lcfg.L} samples from gamma {lcfg.gamma}; seed = {lcfg.seed}; scale = {lcfg.scale}\")\n",
    "if ocfg.obs_type == 'pp_relu' or ocfg.obs_type == 'pp_log':\n",
    "    print(f'alpha = {ocfg.alpha}')\n",
    "if ocfg.obs_type == 'gaussian':\n",
    "    print(f'obs var = {ocfg.ov1}e{ocfg.ov2}')\n",
    "lrk = jr.key(lcfg.seed)\n",
    "\n",
    "zs_target = sample_ccn_rank1(lrk, eigvec, eigval, K, lcfg.L)\n",
    "gamma_full_dummytarget = gamma_full.copy()\n",
    "gamma_full_dummytarget = gamma_full_dummytarget.at[nz_target,:,:].set(jnp.eye(K, dtype=complex))\n",
    "\n",
    "zs = sample_from_gamma(lrk, gamma_full_dummytarget, lcfg.L)\n",
    "zs = zs.at[nz_target,:,:].set(zs_target)\n",
    "\n",
    "zs_0dc = jnp.apply_along_axis(add0, 0, zs)\n",
    "xs = jnp.fft.irfft(zs_0dc, axis=0)\n",
    "\n",
    "obs, obs_params = sample_obs(xs, params)\n",
    "obs_type = ocfg.obs_type\n",
    "\n",
    "# initialize gamma\n",
    "gamma_init, nz_model = construct_gamma_init(cfg, obs, gamma_load)\n",
    "\n",
    "# instantiate model and run em\n",
    "print(f\"Running EM for {mcfg.emiters} iters. Newton iters = {mcfg.maxiter}\")\n",
    "\n",
    "# TODO: handle m_step options in better way\n",
    "# if mcfg.m_step_option == 'standard':\n",
    "#     m_step_params = None\n",
    "# elif mcfg.m_step_option == 'low-rank':\n",
    "#     m_step_params = {'rank': mcfg.m_step_rank}\n",
    "\n",
    "# NOTE\n",
    "m_step_option = 'standard'\n",
    "m_step_params = None\n",
    "\n",
    "model = ToyModel()\n",
    "model.initialize_latent(gamma_init, freqs, nz_model)\n",
    "model.initialize_observations(obs_params, obs_type)\n",
    "# model.fit_em(obs, mcfg.emiters, mcfg.maxiter, m_step_option=mcfg.m_step_option, m_step_params=m_step_params)"
   ]
  },
  {
   "cell_type": "code",
   "execution_count": 13,
   "metadata": {},
   "outputs": [],
   "source": [
    "from cohlib.jax.models import JaxOptim\n",
    "gamma_inv = jnp.zeros_like(gamma_init)\n",
    "gamma_inv_nz = jnp.linalg.inv(gamma_init[nz_model,:,:])\n",
    "data = obs\n",
    "obs_type = ocfg.obs_type\n",
    "num_newton_iters = mcfg.maxiter\n",
    "params = {'obs': obs_params,\n",
    "          'freqs': freqs,\n",
    "          'nonzero_inds': nz_model,\n",
    "          'K': K}\n",
    "\n",
    "optimizer = JaxOptim(data, gamma_inv, params, obs_type, num_iters=num_newton_iters)"
   ]
  },
  {
   "cell_type": "code",
   "execution_count": null,
   "metadata": {},
   "outputs": [],
   "source": []
  },
  {
   "cell_type": "code",
   "execution_count": 14,
   "metadata": {},
   "outputs": [
    {
     "name": "stdout",
     "output_type": "stream",
     "text": [
      "num_batches = 3\n",
      "batch shape: (1000, 3, 3)\n",
      "batch shape: (1000, 3, 3)\n",
      "batch shape: (1000, 3, 1)\n"
     ]
    }
   ],
   "source": [
    "mus_output, upss_output = optimizer.run_e_step_par_ts(obs, num_devices=3)"
   ]
  },
  {
   "cell_type": "code",
   "execution_count": 22,
   "metadata": {},
   "outputs": [
    {
     "name": "stdout",
     "output_type": "stream",
     "text": [
      "(3, 1, 3)\n",
      "(3, 1, 3)\n",
      "(1, 1, 3)\n"
     ]
    }
   ],
   "source": [
    "for b in range(len(mus_output)):\n",
    "    print(mus_output[b].shape)"
   ]
  },
  {
   "cell_type": "code",
   "execution_count": 26,
   "metadata": {},
   "outputs": [
    {
     "data": {
      "text/plain": [
       "Array([25.432165 +9.978339j,  6.633691+21.721048j, 10.168804+24.531487j],      dtype=complex64)"
      ]
     },
     "execution_count": 26,
     "metadata": {},
     "output_type": "execute_result"
    }
   ],
   "source": [
    "mus_output[1][0,0,:]"
   ]
  },
  {
   "cell_type": "code",
   "execution_count": null,
   "metadata": {},
   "outputs": [],
   "source": []
  }
 ],
 "metadata": {
  "kernelspec": {
   "display_name": "sgc_env",
   "language": "python",
   "name": "python3"
  },
  "language_info": {
   "codemirror_mode": {
    "name": "ipython",
    "version": 3
   },
   "file_extension": ".py",
   "mimetype": "text/x-python",
   "name": "python",
   "nbconvert_exporter": "python",
   "pygments_lexer": "ipython3",
   "version": "3.10.13"
  },
  "orig_nbformat": 4
 },
 "nbformat": 4,
 "nbformat_minor": 2
}
