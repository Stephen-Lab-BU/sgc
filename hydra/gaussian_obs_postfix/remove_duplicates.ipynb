{
 "cells": [
  {
   "cell_type": "code",
   "execution_count": 2,
   "metadata": {},
   "outputs": [],
   "source": [
    "%load_ext autoreload\n",
    "%autoreload "
   ]
  },
  {
   "cell_type": "code",
   "execution_count": 3,
   "metadata": {},
   "outputs": [
    {
     "name": "stdout",
     "output_type": "stream",
     "text": [
      "Searching for duplicate configs in directory /projectnb/stephenlab/jtauber/cohlib/hydra/gaussian_obs_postfix/batch/outputs/2024-12-16-fixed_u_oracle/k10-chlg4-rotate-gaussian-rank1-nz9/seed-7\n",
      "0 duplicate configs found in directory removed.\n",
      "Searching for duplicate configs in directory /projectnb/stephenlab/jtauber/cohlib/hydra/gaussian_obs_postfix/batch/outputs/2024-12-16-fixed_u_oracle/k10-chlg4-rotate-gaussian-rank1-nz9/seed-8\n",
      "0 duplicate configs found in directory removed.\n",
      "Searching for duplicate configs in directory /projectnb/stephenlab/jtauber/cohlib/hydra/gaussian_obs_postfix/batch/outputs/2024-12-16-fixed_u_oracle/k10-chlg4-rotate-gaussian-rank1-nz9/seed-9\n",
      "0 duplicate configs found in directory removed.\n"
     ]
    }
   ],
   "source": [
    "from cohlib.jax.wrangle import remove_duplicates\n",
    "K = 10\n",
    "seeds = [7,8,9]\n",
    "for seed in seeds:\n",
    "    path = f'/projectnb/stephenlab/jtauber/cohlib/hydra/gaussian_obs_postfix/batch/outputs/2024-12-16-fixed_u_oracle/k{K}-chlg4-rotate-gaussian-rank1-nz9/seed-{seed}'\n",
    "    remove_duplicates(path)"
   ]
  },
  {
   "attachments": {},
   "cell_type": "markdown",
   "metadata": {},
   "source": [
    "### Sort Seeds"
   ]
  },
  {
   "cell_type": "code",
   "execution_count": 6,
   "metadata": {},
   "outputs": [],
   "source": [
    "import os\n",
    "import shutil \n",
    "from pathlib import Path\n",
    "from omegaconf import OmegaConf\n",
    "import jax.numpy as jnp"
   ]
  },
  {
   "cell_type": "code",
   "execution_count": null,
   "metadata": {},
   "outputs": [],
   "source": []
  },
  {
   "cell_type": "code",
   "execution_count": 52,
   "metadata": {},
   "outputs": [],
   "source": [
    "path = 'path'\n",
    "\n",
    "def folder_seed_plots(path, seed):\n",
    "    _dir = Path(path)\n",
    "    save_dir = os.path.join(path, f'seed-{seed}')\n",
    "    if not os.path.exists(save_dir):\n",
    "        os.makedirs(save_dir)\n",
    "    for fig_path in _dir.glob('*.png'):\n",
    "        if f'seed{seed}' in str(fig_path):\n",
    "            fig_name = os.path.split(str(fig_path))[1]\n",
    "            shutil.move(str(fig_path), os.path.join(save_dir, fig_name))\n",
    "\n"
   ]
  },
  {
   "cell_type": "code",
   "execution_count": null,
   "metadata": {},
   "outputs": [],
   "source": []
  },
  {
   "cell_type": "code",
   "execution_count": 53,
   "metadata": {},
   "outputs": [],
   "source": [
    "for K in [3, 10]:\n",
    "    for init in ['empirical-init', 'flat-init']:\n",
    "        for seed in [7, 8, 9]:\n",
    "            test = folder_seed_plots(f'/projectnb/stephenlab/jtauber/cohlib/hydra/gaussian_obs_postfix/figs/batch_r1m_full/fixed-u-oracle/k{K}-chlg4-rotate-gaussian-rank1-nz9/{init}', seed)"
   ]
  },
  {
   "cell_type": "code",
   "execution_count": 39,
   "metadata": {},
   "outputs": [
    {
     "data": {
      "text/plain": [
       "\"(0, PosixPath('/projectnb/stephenlab/jtauber/cohlib/hydra/gaussian_obs_postfix/figs/batch_r1m_full/fixed-u-oracle/k3-chlg4-rotate-gaussian-rank1-nz9/empirical-init/eigvec-imag-dim0-k3-empirical-init-seed7_var_L_gaussian_2024-12-17.png'))\""
      ]
     },
     "execution_count": 39,
     "metadata": {},
     "output_type": "execute_result"
    }
   ],
   "source": [
    "str(test)"
   ]
  },
  {
   "cell_type": "code",
   "execution_count": null,
   "metadata": {},
   "outputs": [],
   "source": [
    "def remove_duplicates(path):\n",
    "    print(f'Searching for duplicate configs in directory {path}')\n",
    "    _dir = Path(path)\n",
    "    exp_times = []\n",
    "    config_list = []\n",
    "    for i, exp in enumerate(_dir.glob('*')):\n",
    "        exp_times.append(os.path.split(str(exp))[1])\n",
    "        config_path = os.path.join(exp, '.hydra/config.yaml')\n",
    "        config = OmegaConf.load(config_path)\n",
    "        config_list.append(config)\n",
    "\n",
    "        # if check_attrs(cfg, lcfg_attrs, mcfg_attrs, ocfg_attrs):\n",
    "        #     sel_paths.append(exp)\n",
    "\n",
    "    dupe_inds = []\n",
    "    for entry in range(len(config_list)):\n",
    "        for i in range(entry+1, len(config_list)):\n",
    "            if str(config_list[entry]) == str(config_list[i]):\n",
    "                dupe_inds.append(i)\n",
    "\n",
    "    dupe_inds = jnp.unique(jnp.array(dupe_inds))\n",
    "\n",
    "    for dupe_ind in dupe_inds:\n",
    "        exp_time = exp_times[dupe_ind]\n",
    "        del_path = os.path.join(path, exp_time)\n",
    "        shutil.rmtree(del_path)\n",
    "    print(f'{dupe_inds.size} duplicate configs found in directory removed.')"
   ]
  }
 ],
 "metadata": {
  "kernelspec": {
   "display_name": "sgc_env",
   "language": "python",
   "name": "python3"
  },
  "language_info": {
   "codemirror_mode": {
    "name": "ipython",
    "version": 3
   },
   "file_extension": ".py",
   "mimetype": "text/x-python",
   "name": "python",
   "nbconvert_exporter": "python",
   "pygments_lexer": "ipython3",
   "version": "3.10.13"
  },
  "orig_nbformat": 4
 },
 "nbformat": 4,
 "nbformat_minor": 2
}
