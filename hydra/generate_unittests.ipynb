{
 "cells": [
  {
   "cell_type": "code",
   "execution_count": null,
   "metadata": {},
   "outputs": [],
   "source": [
    "%load_ext autoreload\n",
    "%autoreload 2"
   ]
  },
  {
   "cell_type": "code",
   "execution_count": 2,
   "metadata": {},
   "outputs": [],
   "source": [
    "# import os\n",
    "# from hydra import initialize, initialize_config_module, initialize_config_dir, compose\n",
    "# from omegaconf import OmegaConf"
   ]
  },
  {
   "cell_type": "code",
   "execution_count": 3,
   "metadata": {},
   "outputs": [],
   "source": [
    "import sys\n",
    "sys.path.append(\"/projectnb/stephenlab/jtauber/cohlib/efax\")"
   ]
  },
  {
   "attachments": {},
   "cell_type": "markdown",
   "metadata": {},
   "source": [
    "### What did we do to generate latent data previously? let's look at that, then develop a better version with jax\n",
    "- once prototype works in here, set up as part of hydra app\n",
    "\n"
   ]
  },
  {
   "cell_type": "code",
   "execution_count": 4,
   "metadata": {},
   "outputs": [],
   "source": [
    "import jax.numpy as jnp\n",
    "import jax.random as jr\n",
    "from efax import ComplexCircularlySymmetricNormalEP, ComplexNormalEP"
   ]
  },
  {
   "cell_type": "code",
   "execution_count": 236,
   "metadata": {},
   "outputs": [
    {
     "data": {
      "text/plain": [
       "Array([[5.+0.j, 1.-1.j],\n",
       "       [1.+1.j, 5.+0.j]], dtype=complex64)"
      ]
     },
     "execution_count": 236,
     "metadata": {},
     "output_type": "execute_result"
    }
   ],
   "source": [
    "gamma = jnp.array([[5,1],[1,5]],dtype=complex) + jnp.array([[0,-1],[1,0]],dtype=complex)*1j\n",
    "gamma"
   ]
  },
  {
   "cell_type": "code",
   "execution_count": 237,
   "metadata": {},
   "outputs": [],
   "source": [
    "eigvals, eigvecs = jnp.linalg.eigh(gamma)\n",
    "A = eigvecs @ jnp.diag(jnp.sqrt(eigvals)) "
   ]
  },
  {
   "cell_type": "code",
   "execution_count": 239,
   "metadata": {},
   "outputs": [
    {
     "data": {
      "text/plain": [
       "Array(True, dtype=bool)"
      ]
     },
     "execution_count": 239,
     "metadata": {},
     "output_type": "execute_result"
    }
   ],
   "source": [
    "# confirm behaves as predicted\n",
    "from_svd = eigvecs @ jnp.diag(eigvals) @ eigvecs.conj().T\n",
    "jnp.all(jnp.isclose(gamma, from_svd))"
   ]
  },
  {
   "cell_type": "code",
   "execution_count": 243,
   "metadata": {},
   "outputs": [
    {
     "data": {
      "text/plain": [
       "(2, 2)"
      ]
     },
     "execution_count": 243,
     "metadata": {},
     "output_type": "execute_result"
    }
   ],
   "source": [
    "A.shape"
   ]
  },
  {
   "cell_type": "code",
   "execution_count": 256,
   "metadata": {},
   "outputs": [
    {
     "data": {
      "text/plain": [
       "Array([[ True,  True],\n",
       "       [ True,  True]], dtype=bool)"
      ]
     },
     "execution_count": 256,
     "metadata": {},
     "output_type": "execute_result"
    }
   ],
   "source": [
    "# confirm sampling via eigval decomp works\n",
    "rk = jr.key(5)\n",
    "L = 500000\n",
    "unit_samples = jr.normal(rk, (K,L), dtype=complex)\n",
    "samples = jnp.einsum('ik,kl->il', A, unit_samples)\n",
    "\n",
    "est = jnp.einsum('il,kl->ikl', samples, samples.conj()).mean(-1)\n",
    "\n",
    "jnp.isclose(est, gamma, atol=1e-1)"
   ]
  },
  {
   "cell_type": "code",
   "execution_count": 263,
   "metadata": {},
   "outputs": [
    {
     "data": {
      "text/plain": [
       "Array([[ True,  True],\n",
       "       [ True,  True]], dtype=bool)"
      ]
     },
     "execution_count": 263,
     "metadata": {},
     "output_type": "execute_result"
    }
   ],
   "source": [
    "# confirm sampling in efax works\n",
    "testccn = ComplexCircularlySymmetricNormalEP(variance=gamma)\n",
    "samples = testccn.sample(rk, (L,)).swapaxes(0,1)\n",
    "est = jnp.einsum('il,kl->ikl', samples, samples.conj()).mean(-1)\n",
    "jnp.isclose(est, gamma, atol=1e-2)"
   ]
  },
  {
   "attachments": {},
   "cell_type": "markdown",
   "metadata": {},
   "source": [
    "## Great - now let's handle sampling from multiple frequencies"
   ]
  },
  {
   "cell_type": "code",
   "execution_count": 267,
   "metadata": {},
   "outputs": [
    {
     "data": {
      "text/plain": [
       "Array(True, dtype=bool)"
      ]
     },
     "execution_count": 267,
     "metadata": {},
     "output_type": "execute_result"
    }
   ],
   "source": [
    "gamma1 = jnp.array([[5,1],[1,5]],dtype=complex) + jnp.array([[0,-1],[1,0]],dtype=complex)*1j\n",
    "gamma = jnp.stack([gamma1, gamma1.conj()+jnp.eye(2)*5, jnp.eye(2, dtype=complex)*2])\n",
    "eigvals, eigvecs = jnp.linalg.eigh(gamma)\n",
    "D = jnp.apply_along_axis(jnp.diag, 1, jnp.sqrt(eigvals))\n",
    "A = eigvecs @ D\n",
    "\n",
    "test1 = eigvecs @ D\n",
    "test2 = jnp.zeros_like(eigvecs, dtype=complex)\n",
    "for j in range(J):\n",
    "    test2 = test2.at[j,:,:].set(eigvecs[j,:,:] @ D[j,:,:])\n",
    "jnp.all(test1 == test2)"
   ]
  },
  {
   "cell_type": "code",
   "execution_count": 277,
   "metadata": {},
   "outputs": [
    {
     "data": {
      "text/plain": [
       "Array(True, dtype=bool)"
      ]
     },
     "execution_count": 277,
     "metadata": {},
     "output_type": "execute_result"
    }
   ],
   "source": [
    "# confirm sampling via eigval decomp works\n",
    "rk = jr.key(5)\n",
    "J = gamma.shape[0]\n",
    "K = gamma.shape[1]\n",
    "L = 500000\n",
    "unit_samples = jr.normal(rk, (J,K,L), dtype=complex)\n",
    "samples = jnp.einsum('jik,jkl->jil', A, unit_samples)\n",
    "est = jnp.einsum('jil,jkl->jikl', samples, samples.conj()).mean(-1)\n",
    "jnp.all(jnp.isclose(est, gamma, atol=1e-1))"
   ]
  },
  {
   "cell_type": "code",
   "execution_count": 278,
   "metadata": {},
   "outputs": [
    {
     "data": {
      "text/plain": [
       "Array(True, dtype=bool)"
      ]
     },
     "execution_count": 278,
     "metadata": {},
     "output_type": "execute_result"
    }
   ],
   "source": [
    "# double confirm\n",
    "est = jnp.zeros_like(gamma)\n",
    "for j in range(J):\n",
    "    j_samples = samples[j,:,:]\n",
    "    j_est = jnp.einsum('il,kl->ikl', j_samples, j_samples.conj()).mean(-1)\n",
    "    est = est.at[j,:,:].set(j_est)\n",
    "jnp.all(jnp.isclose(est, gamma, atol=1e-1))"
   ]
  },
  {
   "attachments": {},
   "cell_type": "markdown",
   "metadata": {},
   "source": [
    "### Now let's make a full 'z' array and embed non-zero coefficients and try to Fourier transform"
   ]
  },
  {
   "cell_type": "code",
   "execution_count": 281,
   "metadata": {},
   "outputs": [
    {
     "data": {
      "text/plain": [
       "Array(True, dtype=bool)"
      ]
     },
     "execution_count": 281,
     "metadata": {},
     "output_type": "execute_result"
    }
   ],
   "source": [
    "gamma1 = jnp.array([[5,1],[1,5]],dtype=complex) + jnp.array([[0,-1],[1,0]],dtype=complex)*1j\n",
    "gamma_nonzero = jnp.stack([gamma1, gamma1.conj()+jnp.eye(2)*5, jnp.eye(2, dtype=complex)*2])\n",
    "\n",
    "F = 50\n",
    "gamma_full = jnp.zeros((F,K,K), dtype=complex)\n",
    "nz_inds = jnp.array([5, 12, 18])\n",
    "freqs = jnp.arange(1,51)\n",
    "nz_filt = jnp.isin(freqs, nz_inds)\n",
    "gamma_full = gamma_full.at[nz_filt,:,:].set(gamma)\n",
    "\n",
    "jnp.all(gamma_full[nz_filt,:,:] == gamma)"
   ]
  },
  {
   "cell_type": "code",
   "execution_count": 282,
   "metadata": {},
   "outputs": [
    {
     "data": {
      "text/plain": [
       "Array(True, dtype=bool)"
      ]
     },
     "execution_count": 282,
     "metadata": {},
     "output_type": "execute_result"
    }
   ],
   "source": [
    "eigvals, eigvecs = jnp.linalg.eigh(gamma_full)\n",
    "D = jnp.apply_along_axis(jnp.diag, 1, jnp.sqrt(eigvals))\n",
    "A = eigvecs @ D\n",
    "\n",
    "test1 = eigvecs @ D\n",
    "test2 = jnp.zeros_like(eigvecs, dtype=complex)\n",
    "for j in range(F):\n",
    "    test2 = test2.at[j,:,:].set(eigvecs[j,:,:] @ D[j,:,:])\n",
    "jnp.all(test1 == test2)"
   ]
  },
  {
   "cell_type": "code",
   "execution_count": 283,
   "metadata": {},
   "outputs": [
    {
     "data": {
      "text/plain": [
       "Array(True, dtype=bool)"
      ]
     },
     "execution_count": 283,
     "metadata": {},
     "output_type": "execute_result"
    }
   ],
   "source": [
    "F = gamma_full.shape[0]\n",
    "K = gamma_full.shape[1]\n",
    "L = 500000\n",
    "unit_samples = jr.normal(rk, (F,K,L), dtype=complex)\n",
    "samples = jnp.einsum('jik,jkl->jil', A, unit_samples)\n",
    "est = jnp.einsum('jil,jkl->jikl', samples, samples.conj()).mean(-1)\n",
    "jnp.all(jnp.isclose(est, gamma_full, atol=1e-1))"
   ]
  },
  {
   "cell_type": "code",
   "execution_count": 287,
   "metadata": {},
   "outputs": [],
   "source": [
    "def add_dc(x, dc):\n",
    "    dc_arr = jnp.array([dc])\n",
    "    with_dc = jnp.concatenate([dc_arr, x])\n",
    "    return with_dc"
   ]
  },
  {
   "cell_type": "code",
   "execution_count": 303,
   "metadata": {},
   "outputs": [],
   "source": [
    "from functools import partial\n",
    "add0 = partial(add_dc, dc=0)\n",
    "zs_0dc = jnp.apply_along_axis(add0, 0, samples)\n"
   ]
  },
  {
   "cell_type": "code",
   "execution_count": 339,
   "metadata": {},
   "outputs": [],
   "source": [
    "zs_0dc = zs_0dc.at[10:,:,:].set(0)\n",
    "xs = jnp.fft.irfft(zs_0dc, axis=0)"
   ]
  },
  {
   "cell_type": "code",
   "execution_count": 340,
   "metadata": {},
   "outputs": [
    {
     "data": {
      "image/png": "[encoded data removed]",
      "text/plain": [
       "<Figure size 640x480 with 1 Axes>"
      ]
     },
     "metadata": {},
     "output_type": "display_data"
    }
   ],
   "source": [
    "import matplotlib.pyplot as plt\n",
    "for l in range(3):\n",
    "    plt.plot(xs[:,0,l])"
   ]
  },
  {
   "attachments": {},
   "cell_type": "markdown",
   "metadata": {},
   "source": [
    "so... now we add gaussian noise and we have observations and just need to write out cost function and we have a model to do experiments with!\n",
    "\n",
    "But, we'll want to set this up nicely with Hydra and separate latent state / observation generation "
   ]
  },
  {
   "cell_type": "code",
   "execution_count": 337,
   "metadata": {},
   "outputs": [],
   "source": [
    "zs_test = jnp.fft.rfft(xs, axis=0)"
   ]
  },
  {
   "cell_type": "code",
   "execution_count": 338,
   "metadata": {},
   "outputs": [
    {
     "data": {
      "text/plain": [
       "Array(True, dtype=bool)"
      ]
     },
     "execution_count": 338,
     "metadata": {},
     "output_type": "execute_result"
    }
   ],
   "source": [
    "jnp.all(jnp.isclose(zs_test, zs_0dc, atol=1e-5))"
   ]
  },
  {
   "cell_type": "code",
   "execution_count": 6,
   "metadata": {},
   "outputs": [],
   "source": [
    "xs = jnp.sqrt(sigma2)*jr.multivariate_normal(rk, (L,)) + jnp.array([alpha])"
   ]
  },
  {
   "cell_type": "code",
   "execution_count": 27,
   "metadata": {},
   "outputs": [],
   "source": [
    "mean = jnp.array([0,0],dtype=complex)\n",
    "cov = jnp.array([[5,1],[1,5]]) + jnp.array([[0,1],[1,0]])*1j"
   ]
  },
  {
   "cell_type": "code",
   "execution_count": 29,
   "metadata": {},
   "outputs": [
    {
     "ename": "ValueError",
     "evalue": "dtype argument to `multivariate_normal` must be a float dtype, got <class 'complex'>",
     "output_type": "error",
     "traceback": [
      "\u001b[0;31m---------------------------------------------------------------------------\u001b[0m",
      "\u001b[0;31mValueError\u001b[0m                                Traceback (most recent call last)",
      "Cell \u001b[0;32mIn[29], line 4\u001b[0m\n\u001b[1;32m      2\u001b[0m rk \u001b[39m=\u001b[39m jr\u001b[39m.\u001b[39mkey(\u001b[39m8\u001b[39m)\n\u001b[1;32m      3\u001b[0m \u001b[39m# test = jr.normal(rk, (L,), dtype=complex)\u001b[39;00m\n\u001b[0;32m----> 4\u001b[0m test \u001b[39m=\u001b[39m jr\u001b[39m.\u001b[39;49mmultivariate_normal(rk, mean, cov, dtype\u001b[39m=\u001b[39;49m\u001b[39mcomplex\u001b[39;49m)\n",
      "File \u001b[0;32m/projectnb/stephenlab/jtauber/.conda/envs/sgc_env/lib/python3.10/site-packages/jax/_src/random.py:773\u001b[0m, in \u001b[0;36mmultivariate_normal\u001b[0;34m(key, mean, cov, shape, dtype, method)\u001b[0m\n\u001b[1;32m    771\u001b[0m   dtype \u001b[39m=\u001b[39m mean\u001b[39m.\u001b[39mdtype\n\u001b[1;32m    772\u001b[0m \u001b[39mif\u001b[39;00m \u001b[39mnot\u001b[39;00m dtypes\u001b[39m.\u001b[39missubdtype(dtype, np\u001b[39m.\u001b[39mfloating):\n\u001b[0;32m--> 773\u001b[0m   \u001b[39mraise\u001b[39;00m \u001b[39mValueError\u001b[39;00m(\u001b[39mf\u001b[39m\u001b[39m\"\u001b[39m\u001b[39mdtype argument to `multivariate_normal` must be a float \u001b[39m\u001b[39m\"\u001b[39m\n\u001b[1;32m    774\u001b[0m                    \u001b[39mf\u001b[39m\u001b[39m\"\u001b[39m\u001b[39mdtype, got \u001b[39m\u001b[39m{\u001b[39;00mdtype\u001b[39m}\u001b[39;00m\u001b[39m\"\u001b[39m)\n\u001b[1;32m    775\u001b[0m \u001b[39mif\u001b[39;00m shape \u001b[39mis\u001b[39;00m \u001b[39mnot\u001b[39;00m \u001b[39mNone\u001b[39;00m:\n\u001b[1;32m    776\u001b[0m   shape \u001b[39m=\u001b[39m core\u001b[39m.\u001b[39mcanonicalize_shape(shape)\n",
      "\u001b[0;31mValueError\u001b[0m: dtype argument to `multivariate_normal` must be a float dtype, got <class 'complex'>"
     ]
    }
   ],
   "source": [
    "L = 5000\n",
    "rk = jr.key(8)\n",
    "# test = jr.normal(rk, (L,), dtype=complex)\n",
    "test = jr.multivariate_normal(rk, mean, cov, dtype=complex)"
   ]
  },
  {
   "cell_type": "code",
   "execution_count": 20,
   "metadata": {},
   "outputs": [
    {
     "data": {
      "text/plain": [
       "Array(0.49424648, dtype=float32)"
      ]
     },
     "execution_count": 20,
     "metadata": {},
     "output_type": "execute_result"
    }
   ],
   "source": [
    "test.real.var()"
   ]
  },
  {
   "cell_type": "code",
   "execution_count": 7,
   "metadata": {},
   "outputs": [
    {
     "name": "stdout",
     "output_type": "stream",
     "text": [
      "{'db': {'driver': 'mysql', 'user': 'omry', 'password': 'secret'}}\n"
     ]
    }
   ],
   "source": [
    "# abs_config_dir=os.path.abspath(\"conf\")\n",
    "# with initialize_config_dir(version_base=None, config_dir=abs_config_dir):\n",
    "#     cfg = compose(config_name=\"config.yaml\")\n",
    "#     print(cfg)"
   ]
  },
  {
   "cell_type": "code",
   "execution_count": 1,
   "metadata": {},
   "outputs": [],
   "source": [
    "# from omegaconf import DictConfig, OmegaConf\n",
    "# import hydra\n",
    "\n",
    "# @hydra.main(version_base=None, config_path=\"conf\", config_name=\"config\")\n",
    "# def hydra_run(cfg: DictConfig) -> None:\n",
    "#     print(OmegaConf.to_yaml(cfg))"
   ]
  }
 ],
 "metadata": {
  "kernelspec": {
   "display_name": "sgc_env",
   "language": "python",
   "name": "python3"
  },
  "language_info": {
   "codemirror_mode": {
    "name": "ipython",
    "version": 3
   },
   "file_extension": ".py",
   "mimetype": "text/x-python",
   "name": "python",
   "nbconvert_exporter": "python",
   "pygments_lexer": "ipython3",
   "version": "3.11.8"
  },
  "orig_nbformat": 4
 },
 "nbformat": 4,
 "nbformat_minor": 2
}
